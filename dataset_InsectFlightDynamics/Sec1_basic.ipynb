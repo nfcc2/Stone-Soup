{
 "cells": [
  {
   "cell_type": "markdown",
   "metadata": {},
   "source": [
    "Example: Windowed Gaussian Process transition model"
   ]
  },
  {
   "cell_type": "code",
   "execution_count": 71,
   "metadata": {},
   "outputs": [],
   "source": [
    "# define constants\n",
    "\n",
    "from sklearn.gaussian_process.kernels import RBF\n",
    "import numpy as np\n",
    "from datetime import datetime, timedelta\n",
    "\n",
    "PRIOR_SCALE = 10\n",
    "WINDOW_SIZE = 10\n",
    "TIME_INTERVAL = timedelta(seconds=1)\n",
    "\n",
    "KERNEL_LENGTH_SCALE = 10\n",
    "KERNEL_OUT_VAR = 30\n",
    "\n",
    "NOISE_COVAR = 5\n",
    "PRIOR_COVAR = 1\n",
    "num_steps = 100\n",
    "\n",
    "np.random.seed(0)"
   ]
  },
  {
   "cell_type": "code",
   "execution_count": 72,
   "metadata": {},
   "outputs": [
    {
     "name": "stdout",
     "output_type": "stream",
     "text": [
      "['.circleci', '.codecov.yml', '.flake8', '.git', '.gitattributes', '.github', '.gitignore', '.git_archival.txt', '.pytest_cache', '.readthedocs.yml', '01_KalmanFilterTutorial (1).ipynb', '06_DataAssociation-MultiTargetTutorial.ipynb', 'binder', 'CITATION.cff', 'dataset_InsectFlightDynamics', 'docs', 'example_IWGP.py', 'example_WGP.py', 'InsectFlightDynamics_Sec1.ipynb', 'LICENSE', 'MANIFEST.in', 'notebooks', 'pyproject.toml', 'README.md', 'sec1.ipynb', 'sec1_cattle.ipynb', 'sec1_extra.ipynb', 'sec1_gp_generated.ipynb', 'sec1_gp_generated_single.ipynb', 'sec1_gp_prior.ipynb', 'sec1_hyp_optim.ipynb', 'sec2_igp_generated copy.ipynb', 'sec2_random.ipynb', 'sec3_dynamic_gp.ipynb', 'stonesoup', 'tractmethod', 'X and Y.', '__pycache__']\n"
     ]
    }
   ],
   "source": [
    "# Define our 2D transition model\n",
    "import sys\n",
    "import os\n",
    "parent_dir = os.path.abspath(os.path.join(os.getcwd(), '..'))\n",
    "sys.path.append(parent_dir)\n",
    "print(os.listdir(parent_dir))\n",
    "from stonesoup.models.transition.linear import CombinedLinearGaussianTransitionModel, \\\n",
    "                                               SlidingWindowGaussianProcess\n",
    "\n",
    "# Sliding window GP with RBF kernel\n",
    "class RBFKernelGP(SlidingWindowGaussianProcess):\n",
    "    def kernel(self, x, y, **kwargs):\n",
    "        k = KERNEL_OUT_VAR*RBF(KERNEL_LENGTH_SCALE)\n",
    "        return k(x,y)\n",
    "\n",
    "transition_model = CombinedLinearGaussianTransitionModel([RBFKernelGP(window_size=WINDOW_SIZE),\n",
    "                                                          RBFKernelGP(window_size=WINDOW_SIZE)])"
   ]
  },
  {
   "cell_type": "code",
   "execution_count": 73,
   "metadata": {},
   "outputs": [],
   "source": [
    "# Obtain ground truth coordinates from insect walk data\n",
    "\n",
    "from get_coordinates import get_coordinates\n",
    "import pandas as pd\n",
    "\n",
    "# Load the CSV file into a DataFrame\n",
    "file_path = 'Coordinate_second.csv'  # Replace with the actual file path\n",
    "df = pd.read_csv(file_path)\n",
    "\n",
    "# Extract all coordinates\n",
    "type_name = 'Dmelanogaster'\n",
    "movie_number = 1\n",
    "fly_number = 5\n",
    "x, y = get_coordinates(df, type_name, movie_number, fly_number)"
   ]
  },
  {
   "cell_type": "code",
   "execution_count": 74,
   "metadata": {},
   "outputs": [],
   "source": [
    "# Convert raw coordiantes to ground truth path\n",
    "\n",
    "from stonesoup.types.groundtruth import GroundTruthPath, GroundTruthState\n",
    "from stonesoup.types.state import GaussianState, StateVector\n",
    "\n",
    "start_time = datetime.now().replace(microsecond=0) \n",
    "curr_time = start_time + (WINDOW_SIZE-1) * TIME_INTERVAL  # first prediction at t = 5\n",
    "# num_steps = (len(x) - WINDOW_SIZE)\n",
    "num_steps = 50\n",
    "\n",
    "truth = GroundTruthPath()\n",
    "\n",
    "# Generate path\n",
    "for k in range(num_steps+1):\n",
    "    truth.append(GroundTruthState(np.concatenate((np.flip(x[k:WINDOW_SIZE+k]), np.flip(y[k:WINDOW_SIZE+k]))), timestamp=curr_time))\n",
    "    curr_time += TIME_INTERVAL\n"
   ]
  },
  {
   "cell_type": "code",
   "execution_count": 75,
   "metadata": {},
   "outputs": [],
   "source": [
    "# Simulate gaussian noise measurements\n",
    "from stonesoup.types.detection import Detection\n",
    "from stonesoup.models.measurement.linear import LinearGaussian\n",
    "\n",
    "# Define measurement model\n",
    "measurement_model = LinearGaussian(\n",
    "    ndim_state=WINDOW_SIZE*2,\n",
    "    mapping=(0, WINDOW_SIZE),\n",
    "    noise_covar=np.array([[NOISE_COVAR, 0],\n",
    "                          [0, NOISE_COVAR]])\n",
    "    )\n",
    "\n",
    "\n",
    "\n",
    "# Generate measurements\n",
    "measurements = []\n",
    "for state in truth:\n",
    "    measurement = measurement_model.function(state, noise=True)\n",
    "    measurements.append(Detection(measurement,\n",
    "                                  timestamp=state.timestamp,\n",
    "                                  measurement_model=measurement_model))"
   ]
  },
  {
   "cell_type": "code",
   "execution_count": 76,
   "metadata": {},
   "outputs": [
    {
     "data": {
      "application/vnd.plotly.v1+json": {
       "config": {
        "plotlyServerURL": "https://plot.ly"
       },
       "data": [
        {
         "hoverinfo": "none",
         "legendgroup": "Ground Truth",
         "legendrank": 100,
         "line": {
          "color": "#EF553B",
          "dash": "dash"
         },
         "mode": "lines",
         "name": "Ground Truth",
         "showlegend": true,
         "type": "scatter",
         "x": [],
         "y": []
        },
        {
         "hoverinfo": "none",
         "legendgroup": "Ground Truth",
         "legendrank": 100,
         "line": {
          "color": "#EF553B",
          "dash": "dash"
         },
         "mode": "lines",
         "name": "Ground Truth",
         "showlegend": false,
         "type": "scatter",
         "x": [],
         "y": []
        },
        {
         "hoverinfo": "none",
         "legendgroup": "Measurements",
         "legendrank": 200,
         "marker": {
          "color": "#636EFA"
         },
         "mode": "markers",
         "name": "Measurements",
         "showlegend": true,
         "type": "scatter",
         "x": [],
         "y": []
        },
        {
         "hoverinfo": "none",
         "legendgroup": "Measurements",
         "legendrank": 200,
         "marker": {
          "color": "#636EFA"
         },
         "mode": "markers",
         "name": "Measurements",
         "showlegend": false,
         "type": "scatter",
         "x": [],
         "y": []
        }
       ],
       "frames": [
        {
         "data": [
          {
           "type": "scatter",
           "x": [
            0,
            0
           ],
           "y": [
            0,
            0
           ]
          },
          {
           "hovertemplate": "GroundTruthState<br>(%{x}, %{y})<br>Time: %{meta}",
           "meta": [],
           "type": "scatter",
           "x": [
            null
           ],
           "y": [
            null
           ]
          },
          {
           "type": "scatter",
           "x": [
            null,
            null
           ],
           "y": [
            null,
            null
           ]
          },
          {
           "hovertemplate": "Detection<br>(%{x}, %{y})<br>Time: %{meta}",
           "meta": [],
           "type": "scatter",
           "x": [
            null
           ],
           "y": [
            null
           ]
          }
         ],
         "name": "2025-01-09 14:44:15",
         "traces": [
          0,
          1,
          2,
          3
         ]
        },
        {
         "data": [
          {
           "type": "scatter",
           "x": [
            0,
            0
           ],
           "y": [
            0,
            0
           ]
          },
          {
           "hovertemplate": "GroundTruthState<br>(%{x}, %{y})<br>Time: %{meta}",
           "meta": [],
           "type": "scatter",
           "x": [
            null
           ],
           "y": [
            null
           ]
          },
          {
           "type": "scatter",
           "x": [
            null,
            null
           ],
           "y": [
            null,
            null
           ]
          },
          {
           "hovertemplate": "Detection<br>(%{x}, %{y})<br>Time: %{meta}",
           "meta": [],
           "type": "scatter",
           "x": [
            null
           ],
           "y": [
            null
           ]
          }
         ],
         "name": "2025-01-09 14:44:16",
         "traces": [
          0,
          1,
          2,
          3
         ]
        },
        {
         "data": [
          {
           "type": "scatter",
           "x": [
            0,
            0
           ],
           "y": [
            0,
            0
           ]
          },
          {
           "hovertemplate": "GroundTruthState<br>(%{x}, %{y})<br>Time: %{meta}",
           "meta": [],
           "type": "scatter",
           "x": [
            null
           ],
           "y": [
            null
           ]
          },
          {
           "type": "scatter",
           "x": [
            null,
            null
           ],
           "y": [
            null,
            null
           ]
          },
          {
           "hovertemplate": "Detection<br>(%{x}, %{y})<br>Time: %{meta}",
           "meta": [],
           "type": "scatter",
           "x": [
            null
           ],
           "y": [
            null
           ]
          }
         ],
         "name": "2025-01-09 14:44:17",
         "traces": [
          0,
          1,
          2,
          3
         ]
        },
        {
         "data": [
          {
           "type": "scatter",
           "x": [
            0,
            0
           ],
           "y": [
            0,
            0
           ]
          },
          {
           "hovertemplate": "GroundTruthState<br>(%{x}, %{y})<br>Time: %{meta}",
           "meta": [],
           "type": "scatter",
           "x": [
            null
           ],
           "y": [
            null
           ]
          },
          {
           "type": "scatter",
           "x": [
            null,
            null
           ],
           "y": [
            null,
            null
           ]
          },
          {
           "hovertemplate": "Detection<br>(%{x}, %{y})<br>Time: %{meta}",
           "meta": [],
           "type": "scatter",
           "x": [
            null
           ],
           "y": [
            null
           ]
          }
         ],
         "name": "2025-01-09 14:44:18",
         "traces": [
          0,
          1,
          2,
          3
         ]
        },
        {
         "data": [
          {
           "type": "scatter",
           "x": [
            0,
            0
           ],
           "y": [
            0,
            0
           ]
          },
          {
           "hovertemplate": "GroundTruthState<br>(%{x}, %{y})<br>Time: %{meta}",
           "meta": [],
           "type": "scatter",
           "x": [
            null
           ],
           "y": [
            null
           ]
          },
          {
           "type": "scatter",
           "x": [
            null,
            null
           ],
           "y": [
            null,
            null
           ]
          },
          {
           "hovertemplate": "Detection<br>(%{x}, %{y})<br>Time: %{meta}",
           "meta": [],
           "type": "scatter",
           "x": [
            null
           ],
           "y": [
            null
           ]
          }
         ],
         "name": "2025-01-09 14:44:19",
         "traces": [
          0,
          1,
          2,
          3
         ]
        },
        {
         "data": [
          {
           "type": "scatter",
           "x": [
            0,
            0
           ],
           "y": [
            0,
            0
           ]
          },
          {
           "hovertemplate": "GroundTruthState<br>(%{x}, %{y})<br>Time: %{meta}",
           "meta": [],
           "type": "scatter",
           "x": [
            null
           ],
           "y": [
            null
           ]
          },
          {
           "type": "scatter",
           "x": [
            null,
            null
           ],
           "y": [
            null,
            null
           ]
          },
          {
           "hovertemplate": "Detection<br>(%{x}, %{y})<br>Time: %{meta}",
           "meta": [],
           "type": "scatter",
           "x": [
            null
           ],
           "y": [
            null
           ]
          }
         ],
         "name": "2025-01-09 14:44:20",
         "traces": [
          0,
          1,
          2,
          3
         ]
        },
        {
         "data": [
          {
           "type": "scatter",
           "x": [
            0,
            0
           ],
           "y": [
            0,
            0
           ]
          },
          {
           "hovertemplate": "GroundTruthState<br>(%{x}, %{y})<br>Time: %{meta}",
           "meta": [],
           "type": "scatter",
           "x": [
            null
           ],
           "y": [
            null
           ]
          },
          {
           "type": "scatter",
           "x": [
            null,
            null
           ],
           "y": [
            null,
            null
           ]
          },
          {
           "hovertemplate": "Detection<br>(%{x}, %{y})<br>Time: %{meta}",
           "meta": [],
           "type": "scatter",
           "x": [
            null
           ],
           "y": [
            null
           ]
          }
         ],
         "name": "2025-01-09 14:44:21",
         "traces": [
          0,
          1,
          2,
          3
         ]
        },
        {
         "data": [
          {
           "type": "scatter",
           "x": [
            0,
            0
           ],
           "y": [
            0,
            0
           ]
          },
          {
           "hovertemplate": "GroundTruthState<br>(%{x}, %{y})<br>Time: %{meta}",
           "meta": [],
           "type": "scatter",
           "x": [
            null
           ],
           "y": [
            null
           ]
          },
          {
           "type": "scatter",
           "x": [
            null,
            null
           ],
           "y": [
            null,
            null
           ]
          },
          {
           "hovertemplate": "Detection<br>(%{x}, %{y})<br>Time: %{meta}",
           "meta": [],
           "type": "scatter",
           "x": [
            null
           ],
           "y": [
            null
           ]
          }
         ],
         "name": "2025-01-09 14:44:22",
         "traces": [
          0,
          1,
          2,
          3
         ]
        },
        {
         "data": [
          {
           "type": "scatter",
           "x": [
            0,
            0
           ],
           "y": [
            0,
            0
           ]
          },
          {
           "hovertemplate": "GroundTruthState<br>(%{x}, %{y})<br>Time: %{meta}",
           "meta": [],
           "type": "scatter",
           "x": [
            null
           ],
           "y": [
            null
           ]
          },
          {
           "type": "scatter",
           "x": [
            null,
            null
           ],
           "y": [
            null,
            null
           ]
          },
          {
           "hovertemplate": "Detection<br>(%{x}, %{y})<br>Time: %{meta}",
           "meta": [],
           "type": "scatter",
           "x": [
            null
           ],
           "y": [
            null
           ]
          }
         ],
         "name": "2025-01-09 14:44:23",
         "traces": [
          0,
          1,
          2,
          3
         ]
        },
        {
         "data": [
          {
           "type": "scatter",
           "x": [
            0,
            0
           ],
           "y": [
            0,
            0
           ]
          },
          {
           "hovertemplate": "GroundTruthState<br>(%{x}, %{y})<br>Time: %{meta}",
           "meta": [
            "2025-01-09 14:44:24"
           ],
           "type": "scatter",
           "x": [
            74.05276584,
            null
           ],
           "y": [
            132.8970804,
            null
           ]
          },
          {
           "type": "scatter",
           "x": [
            null,
            null
           ],
           "y": [
            null,
            null
           ]
          },
          {
           "hovertemplate": "Detection<br>(%{x}, %{y})<br>Time: %{meta}",
           "meta": [
            "2025-01-09 14:44:24"
           ],
           "type": "scatter",
           "x": [
            77.99730680145169,
            null
           ],
           "y": [
            133.79185911959564,
            null
           ]
          }
         ],
         "name": "2025-01-09 14:44:24",
         "traces": [
          0,
          1,
          2,
          3
         ]
        },
        {
         "data": [
          {
           "type": "scatter",
           "x": [
            0,
            0
           ],
           "y": [
            0,
            0
           ]
          },
          {
           "hovertemplate": "GroundTruthState<br>(%{x}, %{y})<br>Time: %{meta}",
           "meta": [
            "2025-01-09 14:44:24",
            "2025-01-09 14:44:25"
           ],
           "type": "scatter",
           "x": [
            74.05276584,
            87.13825267,
            null
           ],
           "y": [
            132.8970804,
            128.6567371,
            null
           ]
          },
          {
           "type": "scatter",
           "x": [
            null,
            null
           ],
           "y": [
            null,
            null
           ]
          },
          {
           "hovertemplate": "Detection<br>(%{x}, %{y})<br>Time: %{meta}",
           "meta": [
            "2025-01-09 14:44:24",
            "2025-01-09 14:44:25"
           ],
           "type": "scatter",
           "x": [
            77.99730680145169,
            89.32677733462154,
            null
           ],
           "y": [
            133.79185911959564,
            133.66752662373142,
            null
           ]
          }
         ],
         "name": "2025-01-09 14:44:25",
         "traces": [
          0,
          1,
          2,
          3
         ]
        },
        {
         "data": [
          {
           "type": "scatter",
           "x": [
            0,
            0
           ],
           "y": [
            0,
            0
           ]
          },
          {
           "hovertemplate": "GroundTruthState<br>(%{x}, %{y})<br>Time: %{meta}",
           "meta": [
            "2025-01-09 14:44:24",
            "2025-01-09 14:44:25",
            "2025-01-09 14:44:26"
           ],
           "type": "scatter",
           "x": [
            74.05276584,
            87.13825267,
            96.14701585,
            null
           ],
           "y": [
            132.8970804,
            128.6567371,
            114.5052243,
            null
           ]
          },
          {
           "type": "scatter",
           "x": [
            null,
            null
           ],
           "y": [
            null,
            null
           ]
          },
          {
           "hovertemplate": "Detection<br>(%{x}, %{y})<br>Time: %{meta}",
           "meta": [
            "2025-01-09 14:44:24",
            "2025-01-09 14:44:25",
            "2025-01-09 14:44:26"
           ],
           "type": "scatter",
           "x": [
            77.99730680145169,
            89.32677733462154,
            100.3230024678982,
            null
           ],
           "y": [
            133.79185911959564,
            133.66752662373142,
            112.31996452768946,
            null
           ]
          }
         ],
         "name": "2025-01-09 14:44:26",
         "traces": [
          0,
          1,
          2,
          3
         ]
        },
        {
         "data": [
          {
           "type": "scatter",
           "x": [
            0,
            0
           ],
           "y": [
            0,
            0
           ]
          },
          {
           "hovertemplate": "GroundTruthState<br>(%{x}, %{y})<br>Time: %{meta}",
           "meta": [
            "2025-01-09 14:44:24",
            "2025-01-09 14:44:25",
            "2025-01-09 14:44:26",
            "2025-01-09 14:44:27"
           ],
           "type": "scatter",
           "x": [
            74.05276584,
            87.13825267,
            96.14701585,
            108.2505623,
            null
           ],
           "y": [
            132.8970804,
            128.6567371,
            114.5052243,
            121.7846509,
            null
           ]
          },
          {
           "type": "scatter",
           "x": [
            null,
            null
           ],
           "y": [
            null,
            null
           ]
          },
          {
           "hovertemplate": "Detection<br>(%{x}, %{y})<br>Time: %{meta}",
           "meta": [
            "2025-01-09 14:44:24",
            "2025-01-09 14:44:25",
            "2025-01-09 14:44:26",
            "2025-01-09 14:44:27"
           ],
           "type": "scatter",
           "x": [
            77.99730680145169,
            89.32677733462154,
            100.3230024678982,
            110.37502458622242,
            null
           ],
           "y": [
            133.79185911959564,
            133.66752662373142,
            112.31996452768946,
            121.44620589336175,
            null
           ]
          }
         ],
         "name": "2025-01-09 14:44:27",
         "traces": [
          0,
          1,
          2,
          3
         ]
        },
        {
         "data": [
          {
           "type": "scatter",
           "x": [
            0,
            0
           ],
           "y": [
            0,
            0
           ]
          },
          {
           "hovertemplate": "GroundTruthState<br>(%{x}, %{y})<br>Time: %{meta}",
           "meta": [
            "2025-01-09 14:44:24",
            "2025-01-09 14:44:25",
            "2025-01-09 14:44:26",
            "2025-01-09 14:44:27",
            "2025-01-09 14:44:28"
           ],
           "type": "scatter",
           "x": [
            74.05276584,
            87.13825267,
            96.14701585,
            108.2505623,
            112.7455582,
            null
           ],
           "y": [
            132.8970804,
            128.6567371,
            114.5052243,
            121.7846509,
            122.6648195,
            null
           ]
          },
          {
           "type": "scatter",
           "x": [
            null,
            null
           ],
           "y": [
            null,
            null
           ]
          },
          {
           "hovertemplate": "Detection<br>(%{x}, %{y})<br>Time: %{meta}",
           "meta": [
            "2025-01-09 14:44:24",
            "2025-01-09 14:44:25",
            "2025-01-09 14:44:26",
            "2025-01-09 14:44:27",
            "2025-01-09 14:44:28"
           ],
           "type": "scatter",
           "x": [
            77.99730680145169,
            89.32677733462154,
            100.3230024678982,
            110.37502458622242,
            112.51475383083013,
            null
           ],
           "y": [
            133.79185911959564,
            133.66752662373142,
            112.31996452768946,
            121.44620589336175,
            123.58294566179377,
            null
           ]
          }
         ],
         "name": "2025-01-09 14:44:28",
         "traces": [
          0,
          1,
          2,
          3
         ]
        },
        {
         "data": [
          {
           "type": "scatter",
           "x": [
            0,
            0
           ],
           "y": [
            0,
            0
           ]
          },
          {
           "hovertemplate": "GroundTruthState<br>(%{x}, %{y})<br>Time: %{meta}",
           "meta": [
            "2025-01-09 14:44:24",
            "2025-01-09 14:44:25",
            "2025-01-09 14:44:26",
            "2025-01-09 14:44:27",
            "2025-01-09 14:44:28",
            "2025-01-09 14:44:29"
           ],
           "type": "scatter",
           "x": [
            74.05276584,
            87.13825267,
            96.14701585,
            108.2505623,
            112.7455582,
            117.6360986,
            null
           ],
           "y": [
            132.8970804,
            128.6567371,
            114.5052243,
            121.7846509,
            122.6648195,
            117.0363673,
            null
           ]
          },
          {
           "type": "scatter",
           "x": [
            null,
            null
           ],
           "y": [
            null,
            null
           ]
          },
          {
           "hovertemplate": "Detection<br>(%{x}, %{y})<br>Time: %{meta}",
           "meta": [
            "2025-01-09 14:44:24",
            "2025-01-09 14:44:25",
            "2025-01-09 14:44:26",
            "2025-01-09 14:44:27",
            "2025-01-09 14:44:28",
            "2025-01-09 14:44:29"
           ],
           "type": "scatter",
           "x": [
            77.99730680145169,
            89.32677733462154,
            100.3230024678982,
            110.37502458622242,
            112.51475383083013,
            117.95818981683755,
            null
           ],
           "y": [
            133.79185911959564,
            133.66752662373142,
            112.31996452768946,
            121.44620589336175,
            123.58294566179377,
            120.28822171944623,
            null
           ]
          }
         ],
         "name": "2025-01-09 14:44:29",
         "traces": [
          0,
          1,
          2,
          3
         ]
        },
        {
         "data": [
          {
           "type": "scatter",
           "x": [
            0,
            0
           ],
           "y": [
            0,
            0
           ]
          },
          {
           "hovertemplate": "GroundTruthState<br>(%{x}, %{y})<br>Time: %{meta}",
           "meta": [
            "2025-01-09 14:44:24",
            "2025-01-09 14:44:25",
            "2025-01-09 14:44:26",
            "2025-01-09 14:44:27",
            "2025-01-09 14:44:28",
            "2025-01-09 14:44:29",
            "2025-01-09 14:44:30"
           ],
           "type": "scatter",
           "x": [
            74.05276584,
            87.13825267,
            96.14701585,
            108.2505623,
            112.7455582,
            117.6360986,
            125.795539,
            null
           ],
           "y": [
            132.8970804,
            128.6567371,
            114.5052243,
            121.7846509,
            122.6648195,
            117.0363673,
            106.1069251,
            null
           ]
          },
          {
           "type": "scatter",
           "x": [
            null,
            null
           ],
           "y": [
            null,
            null
           ]
          },
          {
           "hovertemplate": "Detection<br>(%{x}, %{y})<br>Time: %{meta}",
           "meta": [
            "2025-01-09 14:44:24",
            "2025-01-09 14:44:25",
            "2025-01-09 14:44:26",
            "2025-01-09 14:44:27",
            "2025-01-09 14:44:28",
            "2025-01-09 14:44:29",
            "2025-01-09 14:44:30"
           ],
           "type": "scatter",
           "x": [
            77.99730680145169,
            89.32677733462154,
            100.3230024678982,
            110.37502458622242,
            112.51475383083013,
            117.95818981683755,
            127.49727108687048,
            null
           ],
           "y": [
            133.79185911959564,
            133.66752662373142,
            112.31996452768946,
            121.44620589336175,
            123.58294566179377,
            120.28822171944623,
            106.37899870804137,
            null
           ]
          }
         ],
         "name": "2025-01-09 14:44:30",
         "traces": [
          0,
          1,
          2,
          3
         ]
        },
        {
         "data": [
          {
           "type": "scatter",
           "x": [
            0,
            0
           ],
           "y": [
            0,
            0
           ]
          },
          {
           "hovertemplate": "GroundTruthState<br>(%{x}, %{y})<br>Time: %{meta}",
           "meta": [
            "2025-01-09 14:44:24",
            "2025-01-09 14:44:25",
            "2025-01-09 14:44:26",
            "2025-01-09 14:44:27",
            "2025-01-09 14:44:28",
            "2025-01-09 14:44:29",
            "2025-01-09 14:44:30",
            "2025-01-09 14:44:31"
           ],
           "type": "scatter",
           "x": [
            74.05276584,
            87.13825267,
            96.14701585,
            108.2505623,
            112.7455582,
            117.6360986,
            125.795539,
            130.0730637,
            null
           ],
           "y": [
            132.8970804,
            128.6567371,
            114.5052243,
            121.7846509,
            122.6648195,
            117.0363673,
            106.1069251,
            97.00907745,
            null
           ]
          },
          {
           "type": "scatter",
           "x": [
            null,
            null
           ],
           "y": [
            null,
            null
           ]
          },
          {
           "hovertemplate": "Detection<br>(%{x}, %{y})<br>Time: %{meta}",
           "meta": [
            "2025-01-09 14:44:24",
            "2025-01-09 14:44:25",
            "2025-01-09 14:44:26",
            "2025-01-09 14:44:27",
            "2025-01-09 14:44:28",
            "2025-01-09 14:44:29",
            "2025-01-09 14:44:30",
            "2025-01-09 14:44:31"
           ],
           "type": "scatter",
           "x": [
            77.99730680145169,
            89.32677733462154,
            100.3230024678982,
            110.37502458622242,
            112.51475383083013,
            117.95818981683755,
            127.49727108687048,
            131.06557206113158,
            null
           ],
           "y": [
            133.79185911959564,
            133.66752662373142,
            112.31996452768946,
            121.44620589336175,
            123.58294566179377,
            120.28822171944623,
            106.37899870804137,
            97.75519592835539,
            null
           ]
          }
         ],
         "name": "2025-01-09 14:44:31",
         "traces": [
          0,
          1,
          2,
          3
         ]
        },
        {
         "data": [
          {
           "type": "scatter",
           "x": [
            0,
            0
           ],
           "y": [
            0,
            0
           ]
          },
          {
           "hovertemplate": "GroundTruthState<br>(%{x}, %{y})<br>Time: %{meta}",
           "meta": [
            "2025-01-09 14:44:24",
            "2025-01-09 14:44:25",
            "2025-01-09 14:44:26",
            "2025-01-09 14:44:27",
            "2025-01-09 14:44:28",
            "2025-01-09 14:44:29",
            "2025-01-09 14:44:30",
            "2025-01-09 14:44:31",
            "2025-01-09 14:44:32"
           ],
           "type": "scatter",
           "x": [
            74.05276584,
            87.13825267,
            96.14701585,
            108.2505623,
            112.7455582,
            117.6360986,
            125.795539,
            130.0730637,
            126.9739371,
            null
           ],
           "y": [
            132.8970804,
            128.6567371,
            114.5052243,
            121.7846509,
            122.6648195,
            117.0363673,
            106.1069251,
            97.00907745,
            88.3605384,
            null
           ]
          },
          {
           "type": "scatter",
           "x": [
            null,
            null
           ],
           "y": [
            null,
            null
           ]
          },
          {
           "hovertemplate": "Detection<br>(%{x}, %{y})<br>Time: %{meta}",
           "meta": [
            "2025-01-09 14:44:24",
            "2025-01-09 14:44:25",
            "2025-01-09 14:44:26",
            "2025-01-09 14:44:27",
            "2025-01-09 14:44:28",
            "2025-01-09 14:44:29",
            "2025-01-09 14:44:30",
            "2025-01-09 14:44:31",
            "2025-01-09 14:44:32"
           ],
           "type": "scatter",
           "x": [
            77.99730680145169,
            89.32677733462154,
            100.3230024678982,
            110.37502458622242,
            112.51475383083013,
            117.95818981683755,
            127.49727108687048,
            131.06557206113158,
            130.31479947134028,
            null
           ],
           "y": [
            133.79185911959564,
            133.66752662373142,
            112.31996452768946,
            121.44620589336175,
            123.58294566179377,
            120.28822171944623,
            106.37899870804137,
            97.75519592835539,
            87.90179057607384,
            null
           ]
          }
         ],
         "name": "2025-01-09 14:44:32",
         "traces": [
          0,
          1,
          2,
          3
         ]
        },
        {
         "data": [
          {
           "type": "scatter",
           "x": [
            0,
            0
           ],
           "y": [
            0,
            0
           ]
          },
          {
           "hovertemplate": "GroundTruthState<br>(%{x}, %{y})<br>Time: %{meta}",
           "meta": [
            "2025-01-09 14:44:24",
            "2025-01-09 14:44:25",
            "2025-01-09 14:44:26",
            "2025-01-09 14:44:27",
            "2025-01-09 14:44:28",
            "2025-01-09 14:44:29",
            "2025-01-09 14:44:30",
            "2025-01-09 14:44:31",
            "2025-01-09 14:44:32",
            "2025-01-09 14:44:33"
           ],
           "type": "scatter",
           "x": [
            74.05276584,
            87.13825267,
            96.14701585,
            108.2505623,
            112.7455582,
            117.6360986,
            125.795539,
            130.0730637,
            126.9739371,
            132.4691139,
            null
           ],
           "y": [
            132.8970804,
            128.6567371,
            114.5052243,
            121.7846509,
            122.6648195,
            117.0363673,
            106.1069251,
            97.00907745,
            88.3605384,
            78.57480316,
            null
           ]
          },
          {
           "type": "scatter",
           "x": [
            null,
            null
           ],
           "y": [
            null,
            null
           ]
          },
          {
           "hovertemplate": "Detection<br>(%{x}, %{y})<br>Time: %{meta}",
           "meta": [
            "2025-01-09 14:44:24",
            "2025-01-09 14:44:25",
            "2025-01-09 14:44:26",
            "2025-01-09 14:44:27",
            "2025-01-09 14:44:28",
            "2025-01-09 14:44:29",
            "2025-01-09 14:44:30",
            "2025-01-09 14:44:31",
            "2025-01-09 14:44:32",
            "2025-01-09 14:44:33"
           ],
           "type": "scatter",
           "x": [
            77.99730680145169,
            89.32677733462154,
            100.3230024678982,
            110.37502458622242,
            112.51475383083013,
            117.95818981683755,
            127.49727108687048,
            131.06557206113158,
            130.31479947134028,
            133.16915456245104,
            null
           ],
           "y": [
            133.79185911959564,
            133.66752662373142,
            112.31996452768946,
            121.44620589336175,
            123.58294566179377,
            120.28822171944623,
            106.37899870804137,
            97.75519592835539,
            87.90179057607384,
            76.66498702762841,
            null
           ]
          }
         ],
         "name": "2025-01-09 14:44:33",
         "traces": [
          0,
          1,
          2,
          3
         ]
        },
        {
         "data": [
          {
           "type": "scatter",
           "x": [
            0,
            0
           ],
           "y": [
            0,
            0
           ]
          },
          {
           "hovertemplate": "GroundTruthState<br>(%{x}, %{y})<br>Time: %{meta}",
           "meta": [
            "2025-01-09 14:44:24",
            "2025-01-09 14:44:25",
            "2025-01-09 14:44:26",
            "2025-01-09 14:44:27",
            "2025-01-09 14:44:28",
            "2025-01-09 14:44:29",
            "2025-01-09 14:44:30",
            "2025-01-09 14:44:31",
            "2025-01-09 14:44:32",
            "2025-01-09 14:44:33",
            "2025-01-09 14:44:34"
           ],
           "type": "scatter",
           "x": [
            74.05276584,
            87.13825267,
            96.14701585,
            108.2505623,
            112.7455582,
            117.6360986,
            125.795539,
            130.0730637,
            126.9739371,
            132.4691139,
            130.8954086,
            null
           ],
           "y": [
            132.8970804,
            128.6567371,
            114.5052243,
            121.7846509,
            122.6648195,
            117.0363673,
            106.1069251,
            97.00907745,
            88.3605384,
            78.57480316,
            70.40838551,
            null
           ]
          },
          {
           "type": "scatter",
           "x": [
            null,
            null
           ],
           "y": [
            null,
            null
           ]
          },
          {
           "hovertemplate": "Detection<br>(%{x}, %{y})<br>Time: %{meta}",
           "meta": [
            "2025-01-09 14:44:24",
            "2025-01-09 14:44:25",
            "2025-01-09 14:44:26",
            "2025-01-09 14:44:27",
            "2025-01-09 14:44:28",
            "2025-01-09 14:44:29",
            "2025-01-09 14:44:30",
            "2025-01-09 14:44:31",
            "2025-01-09 14:44:32",
            "2025-01-09 14:44:33",
            "2025-01-09 14:44:34"
           ],
           "type": "scatter",
           "x": [
            77.99730680145169,
            89.32677733462154,
            100.3230024678982,
            110.37502458622242,
            112.51475383083013,
            117.95818981683755,
            127.49727108687048,
            131.06557206113158,
            130.31479947134028,
            133.16915456245104,
            125.18674982593032,
            null
           ],
           "y": [
            133.79185911959564,
            133.66752662373142,
            112.31996452768946,
            121.44620589336175,
            123.58294566179377,
            120.28822171944623,
            106.37899870804137,
            97.75519592835539,
            87.90179057607384,
            76.66498702762841,
            71.86992112076258,
            null
           ]
          }
         ],
         "name": "2025-01-09 14:44:34",
         "traces": [
          0,
          1,
          2,
          3
         ]
        },
        {
         "data": [
          {
           "type": "scatter",
           "x": [
            0,
            0
           ],
           "y": [
            0,
            0
           ]
          },
          {
           "hovertemplate": "GroundTruthState<br>(%{x}, %{y})<br>Time: %{meta}",
           "meta": [
            "2025-01-09 14:44:24",
            "2025-01-09 14:44:25",
            "2025-01-09 14:44:26",
            "2025-01-09 14:44:27",
            "2025-01-09 14:44:28",
            "2025-01-09 14:44:29",
            "2025-01-09 14:44:30",
            "2025-01-09 14:44:31",
            "2025-01-09 14:44:32",
            "2025-01-09 14:44:33",
            "2025-01-09 14:44:34",
            "2025-01-09 14:44:35"
           ],
           "type": "scatter",
           "x": [
            74.05276584,
            87.13825267,
            96.14701585,
            108.2505623,
            112.7455582,
            117.6360986,
            125.795539,
            130.0730637,
            126.9739371,
            132.4691139,
            130.8954086,
            129.9114421,
            null
           ],
           "y": [
            132.8970804,
            128.6567371,
            114.5052243,
            121.7846509,
            122.6648195,
            117.0363673,
            106.1069251,
            97.00907745,
            88.3605384,
            78.57480316,
            70.40838551,
            60.39347846,
            null
           ]
          },
          {
           "type": "scatter",
           "x": [
            null,
            null
           ],
           "y": [
            null,
            null
           ]
          },
          {
           "hovertemplate": "Detection<br>(%{x}, %{y})<br>Time: %{meta}",
           "meta": [
            "2025-01-09 14:44:24",
            "2025-01-09 14:44:25",
            "2025-01-09 14:44:26",
            "2025-01-09 14:44:27",
            "2025-01-09 14:44:28",
            "2025-01-09 14:44:29",
            "2025-01-09 14:44:30",
            "2025-01-09 14:44:31",
            "2025-01-09 14:44:32",
            "2025-01-09 14:44:33",
            "2025-01-09 14:44:34",
            "2025-01-09 14:44:35"
           ],
           "type": "scatter",
           "x": [
            77.99730680145169,
            89.32677733462154,
            100.3230024678982,
            110.37502458622242,
            112.51475383083013,
            117.95818981683755,
            127.49727108687048,
            131.06557206113158,
            130.31479947134028,
            133.16915456245104,
            125.18674982593032,
            131.84438020286137,
            null
           ],
           "y": [
            133.79185911959564,
            133.66752662373142,
            112.31996452768946,
            121.44620589336175,
            123.58294566179377,
            120.28822171944623,
            106.37899870804137,
            97.75519592835539,
            87.90179057607384,
            76.66498702762841,
            71.86992112076258,
            58.73394702384867,
            null
           ]
          }
         ],
         "name": "2025-01-09 14:44:35",
         "traces": [
          0,
          1,
          2,
          3
         ]
        },
        {
         "data": [
          {
           "type": "scatter",
           "x": [
            0,
            0
           ],
           "y": [
            0,
            0
           ]
          },
          {
           "hovertemplate": "GroundTruthState<br>(%{x}, %{y})<br>Time: %{meta}",
           "meta": [
            "2025-01-09 14:44:24",
            "2025-01-09 14:44:25",
            "2025-01-09 14:44:26",
            "2025-01-09 14:44:27",
            "2025-01-09 14:44:28",
            "2025-01-09 14:44:29",
            "2025-01-09 14:44:30",
            "2025-01-09 14:44:31",
            "2025-01-09 14:44:32",
            "2025-01-09 14:44:33",
            "2025-01-09 14:44:34",
            "2025-01-09 14:44:35",
            "2025-01-09 14:44:36"
           ],
           "type": "scatter",
           "x": [
            74.05276584,
            87.13825267,
            96.14701585,
            108.2505623,
            112.7455582,
            117.6360986,
            125.795539,
            130.0730637,
            126.9739371,
            132.4691139,
            130.8954086,
            129.9114421,
            126.9035985,
            null
           ],
           "y": [
            132.8970804,
            128.6567371,
            114.5052243,
            121.7846509,
            122.6648195,
            117.0363673,
            106.1069251,
            97.00907745,
            88.3605384,
            78.57480316,
            70.40838551,
            60.39347846,
            55.44546708,
            null
           ]
          },
          {
           "type": "scatter",
           "x": [
            null,
            null
           ],
           "y": [
            null,
            null
           ]
          },
          {
           "hovertemplate": "Detection<br>(%{x}, %{y})<br>Time: %{meta}",
           "meta": [
            "2025-01-09 14:44:24",
            "2025-01-09 14:44:25",
            "2025-01-09 14:44:26",
            "2025-01-09 14:44:27",
            "2025-01-09 14:44:28",
            "2025-01-09 14:44:29",
            "2025-01-09 14:44:30",
            "2025-01-09 14:44:31",
            "2025-01-09 14:44:32",
            "2025-01-09 14:44:33",
            "2025-01-09 14:44:34",
            "2025-01-09 14:44:35",
            "2025-01-09 14:44:36"
           ],
           "type": "scatter",
           "x": [
            77.99730680145169,
            89.32677733462154,
            100.3230024678982,
            110.37502458622242,
            112.51475383083013,
            117.95818981683755,
            127.49727108687048,
            131.06557206113158,
            130.31479947134028,
            133.16915456245104,
            125.18674982593032,
            131.84438020286137,
            131.97892413148077,
            null
           ],
           "y": [
            133.79185911959564,
            133.66752662373142,
            112.31996452768946,
            121.44620589336175,
            123.58294566179377,
            120.28822171944623,
            106.37899870804137,
            97.75519592835539,
            87.90179057607384,
            76.66498702762841,
            71.86992112076258,
            58.73394702384867,
            52.19340656745482,
            null
           ]
          }
         ],
         "name": "2025-01-09 14:44:36",
         "traces": [
          0,
          1,
          2,
          3
         ]
        },
        {
         "data": [
          {
           "type": "scatter",
           "x": [
            0,
            0
           ],
           "y": [
            0,
            0
           ]
          },
          {
           "hovertemplate": "GroundTruthState<br>(%{x}, %{y})<br>Time: %{meta}",
           "meta": [
            "2025-01-09 14:44:24",
            "2025-01-09 14:44:25",
            "2025-01-09 14:44:26",
            "2025-01-09 14:44:27",
            "2025-01-09 14:44:28",
            "2025-01-09 14:44:29",
            "2025-01-09 14:44:30",
            "2025-01-09 14:44:31",
            "2025-01-09 14:44:32",
            "2025-01-09 14:44:33",
            "2025-01-09 14:44:34",
            "2025-01-09 14:44:35",
            "2025-01-09 14:44:36",
            "2025-01-09 14:44:37"
           ],
           "type": "scatter",
           "x": [
            74.05276584,
            87.13825267,
            96.14701585,
            108.2505623,
            112.7455582,
            117.6360986,
            125.795539,
            130.0730637,
            126.9739371,
            132.4691139,
            130.8954086,
            129.9114421,
            126.9035985,
            120.0271193,
            null
           ],
           "y": [
            132.8970804,
            128.6567371,
            114.5052243,
            121.7846509,
            122.6648195,
            117.0363673,
            106.1069251,
            97.00907745,
            88.3605384,
            78.57480316,
            70.40838551,
            60.39347846,
            55.44546708,
            43.60712934,
            null
           ]
          },
          {
           "type": "scatter",
           "x": [
            null,
            null
           ],
           "y": [
            null,
            null
           ]
          },
          {
           "hovertemplate": "Detection<br>(%{x}, %{y})<br>Time: %{meta}",
           "meta": [
            "2025-01-09 14:44:24",
            "2025-01-09 14:44:25",
            "2025-01-09 14:44:26",
            "2025-01-09 14:44:27",
            "2025-01-09 14:44:28",
            "2025-01-09 14:44:29",
            "2025-01-09 14:44:30",
            "2025-01-09 14:44:31",
            "2025-01-09 14:44:32",
            "2025-01-09 14:44:33",
            "2025-01-09 14:44:34",
            "2025-01-09 14:44:35",
            "2025-01-09 14:44:36",
            "2025-01-09 14:44:37"
           ],
           "type": "scatter",
           "x": [
            77.99730680145169,
            89.32677733462154,
            100.3230024678982,
            110.37502458622242,
            112.51475383083013,
            117.95818981683755,
            127.49727108687048,
            131.06557206113158,
            130.31479947134028,
            133.16915456245104,
            125.18674982593032,
            131.84438020286137,
            131.97892413148077,
            120.12943845523563,
            null
           ],
           "y": [
            133.79185911959564,
            133.66752662373142,
            112.31996452768946,
            121.44620589336175,
            123.58294566179377,
            120.28822171944623,
            106.37899870804137,
            97.75519592835539,
            87.90179057607384,
            76.66498702762841,
            71.86992112076258,
            58.73394702384867,
            52.19340656745482,
            43.188573527052114,
            null
           ]
          }
         ],
         "name": "2025-01-09 14:44:37",
         "traces": [
          0,
          1,
          2,
          3
         ]
        },
        {
         "data": [
          {
           "type": "scatter",
           "x": [
            0,
            0
           ],
           "y": [
            0,
            0
           ]
          },
          {
           "hovertemplate": "GroundTruthState<br>(%{x}, %{y})<br>Time: %{meta}",
           "meta": [
            "2025-01-09 14:44:24",
            "2025-01-09 14:44:25",
            "2025-01-09 14:44:26",
            "2025-01-09 14:44:27",
            "2025-01-09 14:44:28",
            "2025-01-09 14:44:29",
            "2025-01-09 14:44:30",
            "2025-01-09 14:44:31",
            "2025-01-09 14:44:32",
            "2025-01-09 14:44:33",
            "2025-01-09 14:44:34",
            "2025-01-09 14:44:35",
            "2025-01-09 14:44:36",
            "2025-01-09 14:44:37",
            "2025-01-09 14:44:38"
           ],
           "type": "scatter",
           "x": [
            74.05276584,
            87.13825267,
            96.14701585,
            108.2505623,
            112.7455582,
            117.6360986,
            125.795539,
            130.0730637,
            126.9739371,
            132.4691139,
            130.8954086,
            129.9114421,
            126.9035985,
            120.0271193,
            114.1841258,
            null
           ],
           "y": [
            132.8970804,
            128.6567371,
            114.5052243,
            121.7846509,
            122.6648195,
            117.0363673,
            106.1069251,
            97.00907745,
            88.3605384,
            78.57480316,
            70.40838551,
            60.39347846,
            55.44546708,
            43.60712934,
            36.37874293,
            null
           ]
          },
          {
           "type": "scatter",
           "x": [
            null,
            null
           ],
           "y": [
            null,
            null
           ]
          },
          {
           "hovertemplate": "Detection<br>(%{x}, %{y})<br>Time: %{meta}",
           "meta": [
            "2025-01-09 14:44:24",
            "2025-01-09 14:44:25",
            "2025-01-09 14:44:26",
            "2025-01-09 14:44:27",
            "2025-01-09 14:44:28",
            "2025-01-09 14:44:29",
            "2025-01-09 14:44:30",
            "2025-01-09 14:44:31",
            "2025-01-09 14:44:32",
            "2025-01-09 14:44:33",
            "2025-01-09 14:44:34",
            "2025-01-09 14:44:35",
            "2025-01-09 14:44:36",
            "2025-01-09 14:44:37",
            "2025-01-09 14:44:38"
           ],
           "type": "scatter",
           "x": [
            77.99730680145169,
            89.32677733462154,
            100.3230024678982,
            110.37502458622242,
            112.51475383083013,
            117.95818981683755,
            127.49727108687048,
            131.06557206113158,
            130.31479947134028,
            133.16915456245104,
            125.18674982593032,
            131.84438020286137,
            131.97892413148077,
            120.12943845523563,
            117.61152431780424,
            null
           ],
           "y": [
            133.79185911959564,
            133.66752662373142,
            112.31996452768946,
            121.44620589336175,
            123.58294566179377,
            120.28822171944623,
            106.37899870804137,
            97.75519592835539,
            87.90179057607384,
            76.66498702762841,
            71.86992112076258,
            58.73394702384867,
            52.19340656745482,
            43.188573527052114,
            39.66432902283251,
            null
           ]
          }
         ],
         "name": "2025-01-09 14:44:38",
         "traces": [
          0,
          1,
          2,
          3
         ]
        },
        {
         "data": [
          {
           "type": "scatter",
           "x": [
            0,
            0
           ],
           "y": [
            0,
            0
           ]
          },
          {
           "hovertemplate": "GroundTruthState<br>(%{x}, %{y})<br>Time: %{meta}",
           "meta": [
            "2025-01-09 14:44:24",
            "2025-01-09 14:44:25",
            "2025-01-09 14:44:26",
            "2025-01-09 14:44:27",
            "2025-01-09 14:44:28",
            "2025-01-09 14:44:29",
            "2025-01-09 14:44:30",
            "2025-01-09 14:44:31",
            "2025-01-09 14:44:32",
            "2025-01-09 14:44:33",
            "2025-01-09 14:44:34",
            "2025-01-09 14:44:35",
            "2025-01-09 14:44:36",
            "2025-01-09 14:44:37",
            "2025-01-09 14:44:38",
            "2025-01-09 14:44:39"
           ],
           "type": "scatter",
           "x": [
            74.05276584,
            87.13825267,
            96.14701585,
            108.2505623,
            112.7455582,
            117.6360986,
            125.795539,
            130.0730637,
            126.9739371,
            132.4691139,
            130.8954086,
            129.9114421,
            126.9035985,
            120.0271193,
            114.1841258,
            108.5299902,
            null
           ],
           "y": [
            132.8970804,
            128.6567371,
            114.5052243,
            121.7846509,
            122.6648195,
            117.0363673,
            106.1069251,
            97.00907745,
            88.3605384,
            78.57480316,
            70.40838551,
            60.39347846,
            55.44546708,
            43.60712934,
            36.37874293,
            33.82592306,
            null
           ]
          },
          {
           "type": "scatter",
           "x": [
            null,
            null
           ],
           "y": [
            null,
            null
           ]
          },
          {
           "hovertemplate": "Detection<br>(%{x}, %{y})<br>Time: %{meta}",
           "meta": [
            "2025-01-09 14:44:24",
            "2025-01-09 14:44:25",
            "2025-01-09 14:44:26",
            "2025-01-09 14:44:27",
            "2025-01-09 14:44:28",
            "2025-01-09 14:44:29",
            "2025-01-09 14:44:30",
            "2025-01-09 14:44:31",
            "2025-01-09 14:44:32",
            "2025-01-09 14:44:33",
            "2025-01-09 14:44:34",
            "2025-01-09 14:44:35",
            "2025-01-09 14:44:36",
            "2025-01-09 14:44:37",
            "2025-01-09 14:44:38",
            "2025-01-09 14:44:39"
           ],
           "type": "scatter",
           "x": [
            77.99730680145169,
            89.32677733462154,
            100.3230024678982,
            110.37502458622242,
            112.51475383083013,
            117.95818981683755,
            127.49727108687048,
            131.06557206113158,
            130.31479947134028,
            133.16915456245104,
            125.18674982593032,
            131.84438020286137,
            131.97892413148077,
            120.12943845523563,
            117.61152431780424,
            108.8764631767969,
            null
           ],
           "y": [
            133.79185911959564,
            133.66752662373142,
            112.31996452768946,
            121.44620589336175,
            123.58294566179377,
            120.28822171944623,
            106.37899870804137,
            97.75519592835539,
            87.90179057607384,
            76.66498702762841,
            71.86992112076258,
            58.73394702384867,
            52.19340656745482,
            43.188573527052114,
            39.66432902283251,
            34.671520160373056,
            null
           ]
          }
         ],
         "name": "2025-01-09 14:44:39",
         "traces": [
          0,
          1,
          2,
          3
         ]
        },
        {
         "data": [
          {
           "type": "scatter",
           "x": [
            0,
            0
           ],
           "y": [
            0,
            0
           ]
          },
          {
           "hovertemplate": "GroundTruthState<br>(%{x}, %{y})<br>Time: %{meta}",
           "meta": [
            "2025-01-09 14:44:24",
            "2025-01-09 14:44:25",
            "2025-01-09 14:44:26",
            "2025-01-09 14:44:27",
            "2025-01-09 14:44:28",
            "2025-01-09 14:44:29",
            "2025-01-09 14:44:30",
            "2025-01-09 14:44:31",
            "2025-01-09 14:44:32",
            "2025-01-09 14:44:33",
            "2025-01-09 14:44:34",
            "2025-01-09 14:44:35",
            "2025-01-09 14:44:36",
            "2025-01-09 14:44:37",
            "2025-01-09 14:44:38",
            "2025-01-09 14:44:39",
            "2025-01-09 14:44:40"
           ],
           "type": "scatter",
           "x": [
            74.05276584,
            87.13825267,
            96.14701585,
            108.2505623,
            112.7455582,
            117.6360986,
            125.795539,
            130.0730637,
            126.9739371,
            132.4691139,
            130.8954086,
            129.9114421,
            126.9035985,
            120.0271193,
            114.1841258,
            108.5299902,
            100.3782574,
            null
           ],
           "y": [
            132.8970804,
            128.6567371,
            114.5052243,
            121.7846509,
            122.6648195,
            117.0363673,
            106.1069251,
            97.00907745,
            88.3605384,
            78.57480316,
            70.40838551,
            60.39347846,
            55.44546708,
            43.60712934,
            36.37874293,
            33.82592306,
            34.38583847,
            null
           ]
          },
          {
           "type": "scatter",
           "x": [
            null,
            null
           ],
           "y": [
            null,
            null
           ]
          },
          {
           "hovertemplate": "Detection<br>(%{x}, %{y})<br>Time: %{meta}",
           "meta": [
            "2025-01-09 14:44:24",
            "2025-01-09 14:44:25",
            "2025-01-09 14:44:26",
            "2025-01-09 14:44:27",
            "2025-01-09 14:44:28",
            "2025-01-09 14:44:29",
            "2025-01-09 14:44:30",
            "2025-01-09 14:44:31",
            "2025-01-09 14:44:32",
            "2025-01-09 14:44:33",
            "2025-01-09 14:44:34",
            "2025-01-09 14:44:35",
            "2025-01-09 14:44:36",
            "2025-01-09 14:44:37",
            "2025-01-09 14:44:38",
            "2025-01-09 14:44:39",
            "2025-01-09 14:44:40"
           ],
           "type": "scatter",
           "x": [
            77.99730680145169,
            89.32677733462154,
            100.3230024678982,
            110.37502458622242,
            112.51475383083013,
            117.95818981683755,
            127.49727108687048,
            131.06557206113158,
            130.31479947134028,
            133.16915456245104,
            125.18674982593032,
            131.84438020286137,
            131.97892413148077,
            120.12943845523563,
            117.61152431780424,
            108.8764631767969,
            98.39310811884359,
            null
           ],
           "y": [
            133.79185911959564,
            133.66752662373142,
            112.31996452768946,
            121.44620589336175,
            123.58294566179377,
            120.28822171944623,
            106.37899870804137,
            97.75519592835539,
            87.90179057607384,
            76.66498702762841,
            71.86992112076258,
            58.73394702384867,
            52.19340656745482,
            43.188573527052114,
            39.66432902283251,
            34.671520160373056,
            29.9566429174598,
            null
           ]
          }
         ],
         "name": "2025-01-09 14:44:40",
         "traces": [
          0,
          1,
          2,
          3
         ]
        },
        {
         "data": [
          {
           "type": "scatter",
           "x": [
            0,
            0
           ],
           "y": [
            0,
            0
           ]
          },
          {
           "hovertemplate": "GroundTruthState<br>(%{x}, %{y})<br>Time: %{meta}",
           "meta": [
            "2025-01-09 14:44:24",
            "2025-01-09 14:44:25",
            "2025-01-09 14:44:26",
            "2025-01-09 14:44:27",
            "2025-01-09 14:44:28",
            "2025-01-09 14:44:29",
            "2025-01-09 14:44:30",
            "2025-01-09 14:44:31",
            "2025-01-09 14:44:32",
            "2025-01-09 14:44:33",
            "2025-01-09 14:44:34",
            "2025-01-09 14:44:35",
            "2025-01-09 14:44:36",
            "2025-01-09 14:44:37",
            "2025-01-09 14:44:38",
            "2025-01-09 14:44:39",
            "2025-01-09 14:44:40",
            "2025-01-09 14:44:41"
           ],
           "type": "scatter",
           "x": [
            74.05276584,
            87.13825267,
            96.14701585,
            108.2505623,
            112.7455582,
            117.6360986,
            125.795539,
            130.0730637,
            126.9739371,
            132.4691139,
            130.8954086,
            129.9114421,
            126.9035985,
            120.0271193,
            114.1841258,
            108.5299902,
            100.3782574,
            84.34148807,
            null
           ],
           "y": [
            132.8970804,
            128.6567371,
            114.5052243,
            121.7846509,
            122.6648195,
            117.0363673,
            106.1069251,
            97.00907745,
            88.3605384,
            78.57480316,
            70.40838551,
            60.39347846,
            55.44546708,
            43.60712934,
            36.37874293,
            33.82592306,
            34.38583847,
            36.64467032,
            null
           ]
          },
          {
           "type": "scatter",
           "x": [
            null,
            null
           ],
           "y": [
            null,
            null
           ]
          },
          {
           "hovertemplate": "Detection<br>(%{x}, %{y})<br>Time: %{meta}",
           "meta": [
            "2025-01-09 14:44:24",
            "2025-01-09 14:44:25",
            "2025-01-09 14:44:26",
            "2025-01-09 14:44:27",
            "2025-01-09 14:44:28",
            "2025-01-09 14:44:29",
            "2025-01-09 14:44:30",
            "2025-01-09 14:44:31",
            "2025-01-09 14:44:32",
            "2025-01-09 14:44:33",
            "2025-01-09 14:44:34",
            "2025-01-09 14:44:35",
            "2025-01-09 14:44:36",
            "2025-01-09 14:44:37",
            "2025-01-09 14:44:38",
            "2025-01-09 14:44:39",
            "2025-01-09 14:44:40",
            "2025-01-09 14:44:41"
           ],
           "type": "scatter",
           "x": [
            77.99730680145169,
            89.32677733462154,
            100.3230024678982,
            110.37502458622242,
            112.51475383083013,
            117.95818981683755,
            127.49727108687048,
            131.06557206113158,
            130.31479947134028,
            133.16915456245104,
            125.18674982593032,
            131.84438020286137,
            131.97892413148077,
            120.12943845523563,
            117.61152431780424,
            108.8764631767969,
            98.39310811884359,
            83.56353285390867,
            null
           ],
           "y": [
            133.79185911959564,
            133.66752662373142,
            112.31996452768946,
            121.44620589336175,
            123.58294566179377,
            120.28822171944623,
            106.37899870804137,
            97.75519592835539,
            87.90179057607384,
            76.66498702762841,
            71.86992112076258,
            58.73394702384867,
            52.19340656745482,
            43.188573527052114,
            39.66432902283251,
            34.671520160373056,
            29.9566429174598,
            36.994277243128515,
            null
           ]
          }
         ],
         "name": "2025-01-09 14:44:41",
         "traces": [
          0,
          1,
          2,
          3
         ]
        },
        {
         "data": [
          {
           "type": "scatter",
           "x": [
            0,
            0
           ],
           "y": [
            0,
            0
           ]
          },
          {
           "hovertemplate": "GroundTruthState<br>(%{x}, %{y})<br>Time: %{meta}",
           "meta": [
            "2025-01-09 14:44:24",
            "2025-01-09 14:44:25",
            "2025-01-09 14:44:26",
            "2025-01-09 14:44:27",
            "2025-01-09 14:44:28",
            "2025-01-09 14:44:29",
            "2025-01-09 14:44:30",
            "2025-01-09 14:44:31",
            "2025-01-09 14:44:32",
            "2025-01-09 14:44:33",
            "2025-01-09 14:44:34",
            "2025-01-09 14:44:35",
            "2025-01-09 14:44:36",
            "2025-01-09 14:44:37",
            "2025-01-09 14:44:38",
            "2025-01-09 14:44:39",
            "2025-01-09 14:44:40",
            "2025-01-09 14:44:41",
            "2025-01-09 14:44:42"
           ],
           "type": "scatter",
           "x": [
            74.05276584,
            87.13825267,
            96.14701585,
            108.2505623,
            112.7455582,
            117.6360986,
            125.795539,
            130.0730637,
            126.9739371,
            132.4691139,
            130.8954086,
            129.9114421,
            126.9035985,
            120.0271193,
            114.1841258,
            108.5299902,
            100.3782574,
            84.34148807,
            68.87984912,
            null
           ],
           "y": [
            132.8970804,
            128.6567371,
            114.5052243,
            121.7846509,
            122.6648195,
            117.0363673,
            106.1069251,
            97.00907745,
            88.3605384,
            78.57480316,
            70.40838551,
            60.39347846,
            55.44546708,
            43.60712934,
            36.37874293,
            33.82592306,
            34.38583847,
            36.64467032,
            36.10426183,
            null
           ]
          },
          {
           "type": "scatter",
           "x": [
            null,
            null
           ],
           "y": [
            null,
            null
           ]
          },
          {
           "hovertemplate": "Detection<br>(%{x}, %{y})<br>Time: %{meta}",
           "meta": [
            "2025-01-09 14:44:24",
            "2025-01-09 14:44:25",
            "2025-01-09 14:44:26",
            "2025-01-09 14:44:27",
            "2025-01-09 14:44:28",
            "2025-01-09 14:44:29",
            "2025-01-09 14:44:30",
            "2025-01-09 14:44:31",
            "2025-01-09 14:44:32",
            "2025-01-09 14:44:33",
            "2025-01-09 14:44:34",
            "2025-01-09 14:44:35",
            "2025-01-09 14:44:36",
            "2025-01-09 14:44:37",
            "2025-01-09 14:44:38",
            "2025-01-09 14:44:39",
            "2025-01-09 14:44:40",
            "2025-01-09 14:44:41",
            "2025-01-09 14:44:42"
           ],
           "type": "scatter",
           "x": [
            77.99730680145169,
            89.32677733462154,
            100.3230024678982,
            110.37502458622242,
            112.51475383083013,
            117.95818981683755,
            127.49727108687048,
            131.06557206113158,
            130.31479947134028,
            133.16915456245104,
            125.18674982593032,
            131.84438020286137,
            131.97892413148077,
            120.12943845523563,
            117.61152431780424,
            108.8764631767969,
            98.39310811884359,
            83.56353285390867,
            71.63086271419168,
            null
           ],
           "y": [
            133.79185911959564,
            133.66752662373142,
            112.31996452768946,
            121.44620589336175,
            123.58294566179377,
            120.28822171944623,
            106.37899870804137,
            97.75519592835539,
            87.90179057607384,
            76.66498702762841,
            71.86992112076258,
            58.73394702384867,
            52.19340656745482,
            43.188573527052114,
            39.66432902283251,
            34.671520160373056,
            29.9566429174598,
            36.994277243128515,
            38.79286490665786,
            null
           ]
          }
         ],
         "name": "2025-01-09 14:44:42",
         "traces": [
          0,
          1,
          2,
          3
         ]
        },
        {
         "data": [
          {
           "type": "scatter",
           "x": [
            0,
            0
           ],
           "y": [
            0,
            0
           ]
          },
          {
           "hovertemplate": "GroundTruthState<br>(%{x}, %{y})<br>Time: %{meta}",
           "meta": [
            "2025-01-09 14:44:24",
            "2025-01-09 14:44:25",
            "2025-01-09 14:44:26",
            "2025-01-09 14:44:27",
            "2025-01-09 14:44:28",
            "2025-01-09 14:44:29",
            "2025-01-09 14:44:30",
            "2025-01-09 14:44:31",
            "2025-01-09 14:44:32",
            "2025-01-09 14:44:33",
            "2025-01-09 14:44:34",
            "2025-01-09 14:44:35",
            "2025-01-09 14:44:36",
            "2025-01-09 14:44:37",
            "2025-01-09 14:44:38",
            "2025-01-09 14:44:39",
            "2025-01-09 14:44:40",
            "2025-01-09 14:44:41",
            "2025-01-09 14:44:42",
            "2025-01-09 14:44:43"
           ],
           "type": "scatter",
           "x": [
            74.05276584,
            87.13825267,
            96.14701585,
            108.2505623,
            112.7455582,
            117.6360986,
            125.795539,
            130.0730637,
            126.9739371,
            132.4691139,
            130.8954086,
            129.9114421,
            126.9035985,
            120.0271193,
            114.1841258,
            108.5299902,
            100.3782574,
            84.34148807,
            68.87984912,
            52.48503054,
            null
           ],
           "y": [
            132.8970804,
            128.6567371,
            114.5052243,
            121.7846509,
            122.6648195,
            117.0363673,
            106.1069251,
            97.00907745,
            88.3605384,
            78.57480316,
            70.40838551,
            60.39347846,
            55.44546708,
            43.60712934,
            36.37874293,
            33.82592306,
            34.38583847,
            36.64467032,
            36.10426183,
            41.4307655,
            null
           ]
          },
          {
           "type": "scatter",
           "x": [
            null,
            null
           ],
           "y": [
            null,
            null
           ]
          },
          {
           "hovertemplate": "Detection<br>(%{x}, %{y})<br>Time: %{meta}",
           "meta": [
            "2025-01-09 14:44:24",
            "2025-01-09 14:44:25",
            "2025-01-09 14:44:26",
            "2025-01-09 14:44:27",
            "2025-01-09 14:44:28",
            "2025-01-09 14:44:29",
            "2025-01-09 14:44:30",
            "2025-01-09 14:44:31",
            "2025-01-09 14:44:32",
            "2025-01-09 14:44:33",
            "2025-01-09 14:44:34",
            "2025-01-09 14:44:35",
            "2025-01-09 14:44:36",
            "2025-01-09 14:44:37",
            "2025-01-09 14:44:38",
            "2025-01-09 14:44:39",
            "2025-01-09 14:44:40",
            "2025-01-09 14:44:41",
            "2025-01-09 14:44:42",
            "2025-01-09 14:44:43"
           ],
           "type": "scatter",
           "x": [
            77.99730680145169,
            89.32677733462154,
            100.3230024678982,
            110.37502458622242,
            112.51475383083013,
            117.95818981683755,
            127.49727108687048,
            131.06557206113158,
            130.31479947134028,
            133.16915456245104,
            125.18674982593032,
            131.84438020286137,
            131.97892413148077,
            120.12943845523563,
            117.61152431780424,
            108.8764631767969,
            98.39310811884359,
            83.56353285390867,
            71.63086271419168,
            51.61894144676717,
            null
           ],
           "y": [
            133.79185911959564,
            133.66752662373142,
            112.31996452768946,
            121.44620589336175,
            123.58294566179377,
            120.28822171944623,
            106.37899870804137,
            97.75519592835539,
            87.90179057607384,
            76.66498702762841,
            71.86992112076258,
            58.73394702384867,
            52.19340656745482,
            43.188573527052114,
            39.66432902283251,
            34.671520160373056,
            29.9566429174598,
            36.994277243128515,
            38.79286490665786,
            40.75479599992838,
            null
           ]
          }
         ],
         "name": "2025-01-09 14:44:43",
         "traces": [
          0,
          1,
          2,
          3
         ]
        },
        {
         "data": [
          {
           "type": "scatter",
           "x": [
            0,
            0
           ],
           "y": [
            0,
            0
           ]
          },
          {
           "hovertemplate": "GroundTruthState<br>(%{x}, %{y})<br>Time: %{meta}",
           "meta": [
            "2025-01-09 14:44:24",
            "2025-01-09 14:44:25",
            "2025-01-09 14:44:26",
            "2025-01-09 14:44:27",
            "2025-01-09 14:44:28",
            "2025-01-09 14:44:29",
            "2025-01-09 14:44:30",
            "2025-01-09 14:44:31",
            "2025-01-09 14:44:32",
            "2025-01-09 14:44:33",
            "2025-01-09 14:44:34",
            "2025-01-09 14:44:35",
            "2025-01-09 14:44:36",
            "2025-01-09 14:44:37",
            "2025-01-09 14:44:38",
            "2025-01-09 14:44:39",
            "2025-01-09 14:44:40",
            "2025-01-09 14:44:41",
            "2025-01-09 14:44:42",
            "2025-01-09 14:44:43",
            "2025-01-09 14:44:44"
           ],
           "type": "scatter",
           "x": [
            74.05276584,
            87.13825267,
            96.14701585,
            108.2505623,
            112.7455582,
            117.6360986,
            125.795539,
            130.0730637,
            126.9739371,
            132.4691139,
            130.8954086,
            129.9114421,
            126.9035985,
            120.0271193,
            114.1841258,
            108.5299902,
            100.3782574,
            84.34148807,
            68.87984912,
            52.48503054,
            47.06937061,
            null
           ],
           "y": [
            132.8970804,
            128.6567371,
            114.5052243,
            121.7846509,
            122.6648195,
            117.0363673,
            106.1069251,
            97.00907745,
            88.3605384,
            78.57480316,
            70.40838551,
            60.39347846,
            55.44546708,
            43.60712934,
            36.37874293,
            33.82592306,
            34.38583847,
            36.64467032,
            36.10426183,
            41.4307655,
            41.61411986,
            null
           ]
          },
          {
           "type": "scatter",
           "x": [
            null,
            null
           ],
           "y": [
            null,
            null
           ]
          },
          {
           "hovertemplate": "Detection<br>(%{x}, %{y})<br>Time: %{meta}",
           "meta": [
            "2025-01-09 14:44:24",
            "2025-01-09 14:44:25",
            "2025-01-09 14:44:26",
            "2025-01-09 14:44:27",
            "2025-01-09 14:44:28",
            "2025-01-09 14:44:29",
            "2025-01-09 14:44:30",
            "2025-01-09 14:44:31",
            "2025-01-09 14:44:32",
            "2025-01-09 14:44:33",
            "2025-01-09 14:44:34",
            "2025-01-09 14:44:35",
            "2025-01-09 14:44:36",
            "2025-01-09 14:44:37",
            "2025-01-09 14:44:38",
            "2025-01-09 14:44:39",
            "2025-01-09 14:44:40",
            "2025-01-09 14:44:41",
            "2025-01-09 14:44:42",
            "2025-01-09 14:44:43",
            "2025-01-09 14:44:44"
           ],
           "type": "scatter",
           "x": [
            77.99730680145169,
            89.32677733462154,
            100.3230024678982,
            110.37502458622242,
            112.51475383083013,
            117.95818981683755,
            127.49727108687048,
            131.06557206113158,
            130.31479947134028,
            133.16915456245104,
            125.18674982593032,
            131.84438020286137,
            131.97892413148077,
            120.12943845523563,
            117.61152431780424,
            108.8764631767969,
            98.39310811884359,
            83.56353285390867,
            71.63086271419168,
            51.61894144676717,
            44.72473490210102,
            null
           ],
           "y": [
            133.79185911959564,
            133.66752662373142,
            112.31996452768946,
            121.44620589336175,
            123.58294566179377,
            120.28822171944623,
            106.37899870804137,
            97.75519592835539,
            87.90179057607384,
            76.66498702762841,
            71.86992112076258,
            58.73394702384867,
            52.19340656745482,
            43.188573527052114,
            39.66432902283251,
            34.671520160373056,
            29.9566429174598,
            36.994277243128515,
            38.79286490665786,
            40.75479599992838,
            38.43886322319879,
            null
           ]
          }
         ],
         "name": "2025-01-09 14:44:44",
         "traces": [
          0,
          1,
          2,
          3
         ]
        },
        {
         "data": [
          {
           "type": "scatter",
           "x": [
            0,
            0
           ],
           "y": [
            0,
            0
           ]
          },
          {
           "hovertemplate": "GroundTruthState<br>(%{x}, %{y})<br>Time: %{meta}",
           "meta": [
            "2025-01-09 14:44:24",
            "2025-01-09 14:44:25",
            "2025-01-09 14:44:26",
            "2025-01-09 14:44:27",
            "2025-01-09 14:44:28",
            "2025-01-09 14:44:29",
            "2025-01-09 14:44:30",
            "2025-01-09 14:44:31",
            "2025-01-09 14:44:32",
            "2025-01-09 14:44:33",
            "2025-01-09 14:44:34",
            "2025-01-09 14:44:35",
            "2025-01-09 14:44:36",
            "2025-01-09 14:44:37",
            "2025-01-09 14:44:38",
            "2025-01-09 14:44:39",
            "2025-01-09 14:44:40",
            "2025-01-09 14:44:41",
            "2025-01-09 14:44:42",
            "2025-01-09 14:44:43",
            "2025-01-09 14:44:44",
            "2025-01-09 14:44:45"
           ],
           "type": "scatter",
           "x": [
            74.05276584,
            87.13825267,
            96.14701585,
            108.2505623,
            112.7455582,
            117.6360986,
            125.795539,
            130.0730637,
            126.9739371,
            132.4691139,
            130.8954086,
            129.9114421,
            126.9035985,
            120.0271193,
            114.1841258,
            108.5299902,
            100.3782574,
            84.34148807,
            68.87984912,
            52.48503054,
            47.06937061,
            47.12509769,
            null
           ],
           "y": [
            132.8970804,
            128.6567371,
            114.5052243,
            121.7846509,
            122.6648195,
            117.0363673,
            106.1069251,
            97.00907745,
            88.3605384,
            78.57480316,
            70.40838551,
            60.39347846,
            55.44546708,
            43.60712934,
            36.37874293,
            33.82592306,
            34.38583847,
            36.64467032,
            36.10426183,
            41.4307655,
            41.61411986,
            41.65051415,
            null
           ]
          },
          {
           "type": "scatter",
           "x": [
            null,
            null
           ],
           "y": [
            null,
            null
           ]
          },
          {
           "hovertemplate": "Detection<br>(%{x}, %{y})<br>Time: %{meta}",
           "meta": [
            "2025-01-09 14:44:24",
            "2025-01-09 14:44:25",
            "2025-01-09 14:44:26",
            "2025-01-09 14:44:27",
            "2025-01-09 14:44:28",
            "2025-01-09 14:44:29",
            "2025-01-09 14:44:30",
            "2025-01-09 14:44:31",
            "2025-01-09 14:44:32",
            "2025-01-09 14:44:33",
            "2025-01-09 14:44:34",
            "2025-01-09 14:44:35",
            "2025-01-09 14:44:36",
            "2025-01-09 14:44:37",
            "2025-01-09 14:44:38",
            "2025-01-09 14:44:39",
            "2025-01-09 14:44:40",
            "2025-01-09 14:44:41",
            "2025-01-09 14:44:42",
            "2025-01-09 14:44:43",
            "2025-01-09 14:44:44",
            "2025-01-09 14:44:45"
           ],
           "type": "scatter",
           "x": [
            77.99730680145169,
            89.32677733462154,
            100.3230024678982,
            110.37502458622242,
            112.51475383083013,
            117.95818981683755,
            127.49727108687048,
            131.06557206113158,
            130.31479947134028,
            133.16915456245104,
            125.18674982593032,
            131.84438020286137,
            131.97892413148077,
            120.12943845523563,
            117.61152431780424,
            108.8764631767969,
            98.39310811884359,
            83.56353285390867,
            71.63086271419168,
            51.61894144676717,
            44.72473490210102,
            43.309761555780945,
            null
           ],
           "y": [
            133.79185911959564,
            133.66752662373142,
            112.31996452768946,
            121.44620589336175,
            123.58294566179377,
            120.28822171944623,
            106.37899870804137,
            97.75519592835539,
            87.90179057607384,
            76.66498702762841,
            71.86992112076258,
            58.73394702384867,
            52.19340656745482,
            43.188573527052114,
            39.66432902283251,
            34.671520160373056,
            29.9566429174598,
            36.994277243128515,
            38.79286490665786,
            40.75479599992838,
            38.43886322319879,
            46.0125805425723,
            null
           ]
          }
         ],
         "name": "2025-01-09 14:44:45",
         "traces": [
          0,
          1,
          2,
          3
         ]
        },
        {
         "data": [
          {
           "type": "scatter",
           "x": [
            0,
            0
           ],
           "y": [
            0,
            0
           ]
          },
          {
           "hovertemplate": "GroundTruthState<br>(%{x}, %{y})<br>Time: %{meta}",
           "meta": [
            "2025-01-09 14:44:24",
            "2025-01-09 14:44:25",
            "2025-01-09 14:44:26",
            "2025-01-09 14:44:27",
            "2025-01-09 14:44:28",
            "2025-01-09 14:44:29",
            "2025-01-09 14:44:30",
            "2025-01-09 14:44:31",
            "2025-01-09 14:44:32",
            "2025-01-09 14:44:33",
            "2025-01-09 14:44:34",
            "2025-01-09 14:44:35",
            "2025-01-09 14:44:36",
            "2025-01-09 14:44:37",
            "2025-01-09 14:44:38",
            "2025-01-09 14:44:39",
            "2025-01-09 14:44:40",
            "2025-01-09 14:44:41",
            "2025-01-09 14:44:42",
            "2025-01-09 14:44:43",
            "2025-01-09 14:44:44",
            "2025-01-09 14:44:45",
            "2025-01-09 14:44:46"
           ],
           "type": "scatter",
           "x": [
            74.05276584,
            87.13825267,
            96.14701585,
            108.2505623,
            112.7455582,
            117.6360986,
            125.795539,
            130.0730637,
            126.9739371,
            132.4691139,
            130.8954086,
            129.9114421,
            126.9035985,
            120.0271193,
            114.1841258,
            108.5299902,
            100.3782574,
            84.34148807,
            68.87984912,
            52.48503054,
            47.06937061,
            47.12509769,
            40.59271857,
            null
           ],
           "y": [
            132.8970804,
            128.6567371,
            114.5052243,
            121.7846509,
            122.6648195,
            117.0363673,
            106.1069251,
            97.00907745,
            88.3605384,
            78.57480316,
            70.40838551,
            60.39347846,
            55.44546708,
            43.60712934,
            36.37874293,
            33.82592306,
            34.38583847,
            36.64467032,
            36.10426183,
            41.4307655,
            41.61411986,
            41.65051415,
            36.14508385,
            null
           ]
          },
          {
           "type": "scatter",
           "x": [
            null,
            null
           ],
           "y": [
            null,
            null
           ]
          },
          {
           "hovertemplate": "Detection<br>(%{x}, %{y})<br>Time: %{meta}",
           "meta": [
            "2025-01-09 14:44:24",
            "2025-01-09 14:44:25",
            "2025-01-09 14:44:26",
            "2025-01-09 14:44:27",
            "2025-01-09 14:44:28",
            "2025-01-09 14:44:29",
            "2025-01-09 14:44:30",
            "2025-01-09 14:44:31",
            "2025-01-09 14:44:32",
            "2025-01-09 14:44:33",
            "2025-01-09 14:44:34",
            "2025-01-09 14:44:35",
            "2025-01-09 14:44:36",
            "2025-01-09 14:44:37",
            "2025-01-09 14:44:38",
            "2025-01-09 14:44:39",
            "2025-01-09 14:44:40",
            "2025-01-09 14:44:41",
            "2025-01-09 14:44:42",
            "2025-01-09 14:44:43",
            "2025-01-09 14:44:44",
            "2025-01-09 14:44:45",
            "2025-01-09 14:44:46"
           ],
           "type": "scatter",
           "x": [
            77.99730680145169,
            89.32677733462154,
            100.3230024678982,
            110.37502458622242,
            112.51475383083013,
            117.95818981683755,
            127.49727108687048,
            131.06557206113158,
            130.31479947134028,
            133.16915456245104,
            125.18674982593032,
            131.84438020286137,
            131.97892413148077,
            120.12943845523563,
            117.61152431780424,
            108.8764631767969,
            98.39310811884359,
            83.56353285390867,
            71.63086271419168,
            51.61894144676717,
            44.72473490210102,
            43.309761555780945,
            39.453101646722224,
            null
           ],
           "y": [
            133.79185911959564,
            133.66752662373142,
            112.31996452768946,
            121.44620589336175,
            123.58294566179377,
            120.28822171944623,
            106.37899870804137,
            97.75519592835539,
            87.90179057607384,
            76.66498702762841,
            71.86992112076258,
            58.73394702384867,
            52.19340656745482,
            43.188573527052114,
            39.66432902283251,
            34.671520160373056,
            29.9566429174598,
            36.994277243128515,
            38.79286490665786,
            40.75479599992838,
            38.43886322319879,
            46.0125805425723,
            35.165519932401644,
            null
           ]
          }
         ],
         "name": "2025-01-09 14:44:46",
         "traces": [
          0,
          1,
          2,
          3
         ]
        },
        {
         "data": [
          {
           "type": "scatter",
           "x": [
            0,
            0
           ],
           "y": [
            0,
            0
           ]
          },
          {
           "hovertemplate": "GroundTruthState<br>(%{x}, %{y})<br>Time: %{meta}",
           "meta": [
            "2025-01-09 14:44:24",
            "2025-01-09 14:44:25",
            "2025-01-09 14:44:26",
            "2025-01-09 14:44:27",
            "2025-01-09 14:44:28",
            "2025-01-09 14:44:29",
            "2025-01-09 14:44:30",
            "2025-01-09 14:44:31",
            "2025-01-09 14:44:32",
            "2025-01-09 14:44:33",
            "2025-01-09 14:44:34",
            "2025-01-09 14:44:35",
            "2025-01-09 14:44:36",
            "2025-01-09 14:44:37",
            "2025-01-09 14:44:38",
            "2025-01-09 14:44:39",
            "2025-01-09 14:44:40",
            "2025-01-09 14:44:41",
            "2025-01-09 14:44:42",
            "2025-01-09 14:44:43",
            "2025-01-09 14:44:44",
            "2025-01-09 14:44:45",
            "2025-01-09 14:44:46",
            "2025-01-09 14:44:47"
           ],
           "type": "scatter",
           "x": [
            74.05276584,
            87.13825267,
            96.14701585,
            108.2505623,
            112.7455582,
            117.6360986,
            125.795539,
            130.0730637,
            126.9739371,
            132.4691139,
            130.8954086,
            129.9114421,
            126.9035985,
            120.0271193,
            114.1841258,
            108.5299902,
            100.3782574,
            84.34148807,
            68.87984912,
            52.48503054,
            47.06937061,
            47.12509769,
            40.59271857,
            36.74958975,
            null
           ],
           "y": [
            132.8970804,
            128.6567371,
            114.5052243,
            121.7846509,
            122.6648195,
            117.0363673,
            106.1069251,
            97.00907745,
            88.3605384,
            78.57480316,
            70.40838551,
            60.39347846,
            55.44546708,
            43.60712934,
            36.37874293,
            33.82592306,
            34.38583847,
            36.64467032,
            36.10426183,
            41.4307655,
            41.61411986,
            41.65051415,
            36.14508385,
            40.4275684,
            null
           ]
          },
          {
           "type": "scatter",
           "x": [
            null,
            null
           ],
           "y": [
            null,
            null
           ]
          },
          {
           "hovertemplate": "Detection<br>(%{x}, %{y})<br>Time: %{meta}",
           "meta": [
            "2025-01-09 14:44:24",
            "2025-01-09 14:44:25",
            "2025-01-09 14:44:26",
            "2025-01-09 14:44:27",
            "2025-01-09 14:44:28",
            "2025-01-09 14:44:29",
            "2025-01-09 14:44:30",
            "2025-01-09 14:44:31",
            "2025-01-09 14:44:32",
            "2025-01-09 14:44:33",
            "2025-01-09 14:44:34",
            "2025-01-09 14:44:35",
            "2025-01-09 14:44:36",
            "2025-01-09 14:44:37",
            "2025-01-09 14:44:38",
            "2025-01-09 14:44:39",
            "2025-01-09 14:44:40",
            "2025-01-09 14:44:41",
            "2025-01-09 14:44:42",
            "2025-01-09 14:44:43",
            "2025-01-09 14:44:44",
            "2025-01-09 14:44:45",
            "2025-01-09 14:44:46",
            "2025-01-09 14:44:47"
           ],
           "type": "scatter",
           "x": [
            77.99730680145169,
            89.32677733462154,
            100.3230024678982,
            110.37502458622242,
            112.51475383083013,
            117.95818981683755,
            127.49727108687048,
            131.06557206113158,
            130.31479947134028,
            133.16915456245104,
            125.18674982593032,
            131.84438020286137,
            131.97892413148077,
            120.12943845523563,
            117.61152431780424,
            108.8764631767969,
            98.39310811884359,
            83.56353285390867,
            71.63086271419168,
            51.61894144676717,
            44.72473490210102,
            43.309761555780945,
            39.453101646722224,
            33.94825416303204,
            null
           ],
           "y": [
            133.79185911959564,
            133.66752662373142,
            112.31996452768946,
            121.44620589336175,
            123.58294566179377,
            120.28822171944623,
            106.37899870804137,
            97.75519592835539,
            87.90179057607384,
            76.66498702762841,
            71.86992112076258,
            58.73394702384867,
            52.19340656745482,
            43.188573527052114,
            39.66432902283251,
            34.671520160373056,
            29.9566429174598,
            36.994277243128515,
            38.79286490665786,
            40.75479599992838,
            38.43886322319879,
            46.0125805425723,
            35.165519932401644,
            42.16608968749065,
            null
           ]
          }
         ],
         "name": "2025-01-09 14:44:47",
         "traces": [
          0,
          1,
          2,
          3
         ]
        },
        {
         "data": [
          {
           "type": "scatter",
           "x": [
            0,
            0
           ],
           "y": [
            0,
            0
           ]
          },
          {
           "hovertemplate": "GroundTruthState<br>(%{x}, %{y})<br>Time: %{meta}",
           "meta": [
            "2025-01-09 14:44:24",
            "2025-01-09 14:44:25",
            "2025-01-09 14:44:26",
            "2025-01-09 14:44:27",
            "2025-01-09 14:44:28",
            "2025-01-09 14:44:29",
            "2025-01-09 14:44:30",
            "2025-01-09 14:44:31",
            "2025-01-09 14:44:32",
            "2025-01-09 14:44:33",
            "2025-01-09 14:44:34",
            "2025-01-09 14:44:35",
            "2025-01-09 14:44:36",
            "2025-01-09 14:44:37",
            "2025-01-09 14:44:38",
            "2025-01-09 14:44:39",
            "2025-01-09 14:44:40",
            "2025-01-09 14:44:41",
            "2025-01-09 14:44:42",
            "2025-01-09 14:44:43",
            "2025-01-09 14:44:44",
            "2025-01-09 14:44:45",
            "2025-01-09 14:44:46",
            "2025-01-09 14:44:47",
            "2025-01-09 14:44:48"
           ],
           "type": "scatter",
           "x": [
            74.05276584,
            87.13825267,
            96.14701585,
            108.2505623,
            112.7455582,
            117.6360986,
            125.795539,
            130.0730637,
            126.9739371,
            132.4691139,
            130.8954086,
            129.9114421,
            126.9035985,
            120.0271193,
            114.1841258,
            108.5299902,
            100.3782574,
            84.34148807,
            68.87984912,
            52.48503054,
            47.06937061,
            47.12509769,
            40.59271857,
            36.74958975,
            30.20109178,
            null
           ],
           "y": [
            132.8970804,
            128.6567371,
            114.5052243,
            121.7846509,
            122.6648195,
            117.0363673,
            106.1069251,
            97.00907745,
            88.3605384,
            78.57480316,
            70.40838551,
            60.39347846,
            55.44546708,
            43.60712934,
            36.37874293,
            33.82592306,
            34.38583847,
            36.64467032,
            36.10426183,
            41.4307655,
            41.61411986,
            41.65051415,
            36.14508385,
            40.4275684,
            54.67701478,
            null
           ]
          },
          {
           "type": "scatter",
           "x": [
            null,
            null
           ],
           "y": [
            null,
            null
           ]
          },
          {
           "hovertemplate": "Detection<br>(%{x}, %{y})<br>Time: %{meta}",
           "meta": [
            "2025-01-09 14:44:24",
            "2025-01-09 14:44:25",
            "2025-01-09 14:44:26",
            "2025-01-09 14:44:27",
            "2025-01-09 14:44:28",
            "2025-01-09 14:44:29",
            "2025-01-09 14:44:30",
            "2025-01-09 14:44:31",
            "2025-01-09 14:44:32",
            "2025-01-09 14:44:33",
            "2025-01-09 14:44:34",
            "2025-01-09 14:44:35",
            "2025-01-09 14:44:36",
            "2025-01-09 14:44:37",
            "2025-01-09 14:44:38",
            "2025-01-09 14:44:39",
            "2025-01-09 14:44:40",
            "2025-01-09 14:44:41",
            "2025-01-09 14:44:42",
            "2025-01-09 14:44:43",
            "2025-01-09 14:44:44",
            "2025-01-09 14:44:45",
            "2025-01-09 14:44:46",
            "2025-01-09 14:44:47",
            "2025-01-09 14:44:48"
           ],
           "type": "scatter",
           "x": [
            77.99730680145169,
            89.32677733462154,
            100.3230024678982,
            110.37502458622242,
            112.51475383083013,
            117.95818981683755,
            127.49727108687048,
            131.06557206113158,
            130.31479947134028,
            133.16915456245104,
            125.18674982593032,
            131.84438020286137,
            131.97892413148077,
            120.12943845523563,
            117.61152431780424,
            108.8764631767969,
            98.39310811884359,
            83.56353285390867,
            71.63086271419168,
            51.61894144676717,
            44.72473490210102,
            43.309761555780945,
            39.453101646722224,
            33.94825416303204,
            26.592306484119824,
            null
           ],
           "y": [
            133.79185911959564,
            133.66752662373142,
            112.31996452768946,
            121.44620589336175,
            123.58294566179377,
            120.28822171944623,
            106.37899870804137,
            97.75519592835539,
            87.90179057607384,
            76.66498702762841,
            71.86992112076258,
            58.73394702384867,
            52.19340656745482,
            43.188573527052114,
            39.66432902283251,
            34.671520160373056,
            29.9566429174598,
            36.994277243128515,
            38.79286490665786,
            40.75479599992838,
            38.43886322319879,
            46.0125805425723,
            35.165519932401644,
            42.16608968749065,
            54.201313051889215,
            null
           ]
          }
         ],
         "name": "2025-01-09 14:44:48",
         "traces": [
          0,
          1,
          2,
          3
         ]
        },
        {
         "data": [
          {
           "type": "scatter",
           "x": [
            0,
            0
           ],
           "y": [
            0,
            0
           ]
          },
          {
           "hovertemplate": "GroundTruthState<br>(%{x}, %{y})<br>Time: %{meta}",
           "meta": [
            "2025-01-09 14:44:24",
            "2025-01-09 14:44:25",
            "2025-01-09 14:44:26",
            "2025-01-09 14:44:27",
            "2025-01-09 14:44:28",
            "2025-01-09 14:44:29",
            "2025-01-09 14:44:30",
            "2025-01-09 14:44:31",
            "2025-01-09 14:44:32",
            "2025-01-09 14:44:33",
            "2025-01-09 14:44:34",
            "2025-01-09 14:44:35",
            "2025-01-09 14:44:36",
            "2025-01-09 14:44:37",
            "2025-01-09 14:44:38",
            "2025-01-09 14:44:39",
            "2025-01-09 14:44:40",
            "2025-01-09 14:44:41",
            "2025-01-09 14:44:42",
            "2025-01-09 14:44:43",
            "2025-01-09 14:44:44",
            "2025-01-09 14:44:45",
            "2025-01-09 14:44:46",
            "2025-01-09 14:44:47",
            "2025-01-09 14:44:48",
            "2025-01-09 14:44:49"
           ],
           "type": "scatter",
           "x": [
            74.05276584,
            87.13825267,
            96.14701585,
            108.2505623,
            112.7455582,
            117.6360986,
            125.795539,
            130.0730637,
            126.9739371,
            132.4691139,
            130.8954086,
            129.9114421,
            126.9035985,
            120.0271193,
            114.1841258,
            108.5299902,
            100.3782574,
            84.34148807,
            68.87984912,
            52.48503054,
            47.06937061,
            47.12509769,
            40.59271857,
            36.74958975,
            30.20109178,
            22.12000086,
            null
           ],
           "y": [
            132.8970804,
            128.6567371,
            114.5052243,
            121.7846509,
            122.6648195,
            117.0363673,
            106.1069251,
            97.00907745,
            88.3605384,
            78.57480316,
            70.40838551,
            60.39347846,
            55.44546708,
            43.60712934,
            36.37874293,
            33.82592306,
            34.38583847,
            36.64467032,
            36.10426183,
            41.4307655,
            41.61411986,
            41.65051415,
            36.14508385,
            40.4275684,
            54.67701478,
            70.09919795,
            null
           ]
          },
          {
           "type": "scatter",
           "x": [
            null,
            null
           ],
           "y": [
            null,
            null
           ]
          },
          {
           "hovertemplate": "Detection<br>(%{x}, %{y})<br>Time: %{meta}",
           "meta": [
            "2025-01-09 14:44:24",
            "2025-01-09 14:44:25",
            "2025-01-09 14:44:26",
            "2025-01-09 14:44:27",
            "2025-01-09 14:44:28",
            "2025-01-09 14:44:29",
            "2025-01-09 14:44:30",
            "2025-01-09 14:44:31",
            "2025-01-09 14:44:32",
            "2025-01-09 14:44:33",
            "2025-01-09 14:44:34",
            "2025-01-09 14:44:35",
            "2025-01-09 14:44:36",
            "2025-01-09 14:44:37",
            "2025-01-09 14:44:38",
            "2025-01-09 14:44:39",
            "2025-01-09 14:44:40",
            "2025-01-09 14:44:41",
            "2025-01-09 14:44:42",
            "2025-01-09 14:44:43",
            "2025-01-09 14:44:44",
            "2025-01-09 14:44:45",
            "2025-01-09 14:44:46",
            "2025-01-09 14:44:47",
            "2025-01-09 14:44:48",
            "2025-01-09 14:44:49"
           ],
           "type": "scatter",
           "x": [
            77.99730680145169,
            89.32677733462154,
            100.3230024678982,
            110.37502458622242,
            112.51475383083013,
            117.95818981683755,
            127.49727108687048,
            131.06557206113158,
            130.31479947134028,
            133.16915456245104,
            125.18674982593032,
            131.84438020286137,
            131.97892413148077,
            120.12943845523563,
            117.61152431780424,
            108.8764631767969,
            98.39310811884359,
            83.56353285390867,
            71.63086271419168,
            51.61894144676717,
            44.72473490210102,
            43.309761555780945,
            39.453101646722224,
            33.94825416303204,
            26.592306484119824,
            20.117676757592967,
            null
           ],
           "y": [
            133.79185911959564,
            133.66752662373142,
            112.31996452768946,
            121.44620589336175,
            123.58294566179377,
            120.28822171944623,
            106.37899870804137,
            97.75519592835539,
            87.90179057607384,
            76.66498702762841,
            71.86992112076258,
            58.73394702384867,
            52.19340656745482,
            43.188573527052114,
            39.66432902283251,
            34.671520160373056,
            29.9566429174598,
            36.994277243128515,
            38.79286490665786,
            40.75479599992838,
            38.43886322319879,
            46.0125805425723,
            35.165519932401644,
            42.16608968749065,
            54.201313051889215,
            70.96433823587778,
            null
           ]
          }
         ],
         "name": "2025-01-09 14:44:49",
         "traces": [
          0,
          1,
          2,
          3
         ]
        },
        {
         "data": [
          {
           "type": "scatter",
           "x": [
            0,
            0
           ],
           "y": [
            0,
            0
           ]
          },
          {
           "hovertemplate": "GroundTruthState<br>(%{x}, %{y})<br>Time: %{meta}",
           "meta": [
            "2025-01-09 14:44:24",
            "2025-01-09 14:44:25",
            "2025-01-09 14:44:26",
            "2025-01-09 14:44:27",
            "2025-01-09 14:44:28",
            "2025-01-09 14:44:29",
            "2025-01-09 14:44:30",
            "2025-01-09 14:44:31",
            "2025-01-09 14:44:32",
            "2025-01-09 14:44:33",
            "2025-01-09 14:44:34",
            "2025-01-09 14:44:35",
            "2025-01-09 14:44:36",
            "2025-01-09 14:44:37",
            "2025-01-09 14:44:38",
            "2025-01-09 14:44:39",
            "2025-01-09 14:44:40",
            "2025-01-09 14:44:41",
            "2025-01-09 14:44:42",
            "2025-01-09 14:44:43",
            "2025-01-09 14:44:44",
            "2025-01-09 14:44:45",
            "2025-01-09 14:44:46",
            "2025-01-09 14:44:47",
            "2025-01-09 14:44:48",
            "2025-01-09 14:44:49",
            "2025-01-09 14:44:50"
           ],
           "type": "scatter",
           "x": [
            74.05276584,
            87.13825267,
            96.14701585,
            108.2505623,
            112.7455582,
            117.6360986,
            125.795539,
            130.0730637,
            126.9739371,
            132.4691139,
            130.8954086,
            129.9114421,
            126.9035985,
            120.0271193,
            114.1841258,
            108.5299902,
            100.3782574,
            84.34148807,
            68.87984912,
            52.48503054,
            47.06937061,
            47.12509769,
            40.59271857,
            36.74958975,
            30.20109178,
            22.12000086,
            29.00547817,
            null
           ],
           "y": [
            132.8970804,
            128.6567371,
            114.5052243,
            121.7846509,
            122.6648195,
            117.0363673,
            106.1069251,
            97.00907745,
            88.3605384,
            78.57480316,
            70.40838551,
            60.39347846,
            55.44546708,
            43.60712934,
            36.37874293,
            33.82592306,
            34.38583847,
            36.64467032,
            36.10426183,
            41.4307655,
            41.61411986,
            41.65051415,
            36.14508385,
            40.4275684,
            54.67701478,
            70.09919795,
            77.77602635,
            null
           ]
          },
          {
           "type": "scatter",
           "x": [
            null,
            null
           ],
           "y": [
            null,
            null
           ]
          },
          {
           "hovertemplate": "Detection<br>(%{x}, %{y})<br>Time: %{meta}",
           "meta": [
            "2025-01-09 14:44:24",
            "2025-01-09 14:44:25",
            "2025-01-09 14:44:26",
            "2025-01-09 14:44:27",
            "2025-01-09 14:44:28",
            "2025-01-09 14:44:29",
            "2025-01-09 14:44:30",
            "2025-01-09 14:44:31",
            "2025-01-09 14:44:32",
            "2025-01-09 14:44:33",
            "2025-01-09 14:44:34",
            "2025-01-09 14:44:35",
            "2025-01-09 14:44:36",
            "2025-01-09 14:44:37",
            "2025-01-09 14:44:38",
            "2025-01-09 14:44:39",
            "2025-01-09 14:44:40",
            "2025-01-09 14:44:41",
            "2025-01-09 14:44:42",
            "2025-01-09 14:44:43",
            "2025-01-09 14:44:44",
            "2025-01-09 14:44:45",
            "2025-01-09 14:44:46",
            "2025-01-09 14:44:47",
            "2025-01-09 14:44:48",
            "2025-01-09 14:44:49",
            "2025-01-09 14:44:50"
           ],
           "type": "scatter",
           "x": [
            77.99730680145169,
            89.32677733462154,
            100.3230024678982,
            110.37502458622242,
            112.51475383083013,
            117.95818981683755,
            127.49727108687048,
            131.06557206113158,
            130.31479947134028,
            133.16915456245104,
            125.18674982593032,
            131.84438020286137,
            131.97892413148077,
            120.12943845523563,
            117.61152431780424,
            108.8764631767969,
            98.39310811884359,
            83.56353285390867,
            71.63086271419168,
            51.61894144676717,
            44.72473490210102,
            43.309761555780945,
            39.453101646722224,
            33.94825416303204,
            26.592306484119824,
            20.117676757592967,
            27.86328315913987,
            null
           ],
           "y": [
            133.79185911959564,
            133.66752662373142,
            112.31996452768946,
            121.44620589336175,
            123.58294566179377,
            120.28822171944623,
            106.37899870804137,
            97.75519592835539,
            87.90179057607384,
            76.66498702762841,
            71.86992112076258,
            58.73394702384867,
            52.19340656745482,
            43.188573527052114,
            39.66432902283251,
            34.671520160373056,
            29.9566429174598,
            36.994277243128515,
            38.79286490665786,
            40.75479599992838,
            38.43886322319879,
            46.0125805425723,
            35.165519932401644,
            42.16608968749065,
            54.201313051889215,
            70.96433823587778,
            75.13605252987823,
            null
           ]
          }
         ],
         "name": "2025-01-09 14:44:50",
         "traces": [
          0,
          1,
          2,
          3
         ]
        },
        {
         "data": [
          {
           "type": "scatter",
           "x": [
            0,
            0
           ],
           "y": [
            0,
            0
           ]
          },
          {
           "hovertemplate": "GroundTruthState<br>(%{x}, %{y})<br>Time: %{meta}",
           "meta": [
            "2025-01-09 14:44:24",
            "2025-01-09 14:44:25",
            "2025-01-09 14:44:26",
            "2025-01-09 14:44:27",
            "2025-01-09 14:44:28",
            "2025-01-09 14:44:29",
            "2025-01-09 14:44:30",
            "2025-01-09 14:44:31",
            "2025-01-09 14:44:32",
            "2025-01-09 14:44:33",
            "2025-01-09 14:44:34",
            "2025-01-09 14:44:35",
            "2025-01-09 14:44:36",
            "2025-01-09 14:44:37",
            "2025-01-09 14:44:38",
            "2025-01-09 14:44:39",
            "2025-01-09 14:44:40",
            "2025-01-09 14:44:41",
            "2025-01-09 14:44:42",
            "2025-01-09 14:44:43",
            "2025-01-09 14:44:44",
            "2025-01-09 14:44:45",
            "2025-01-09 14:44:46",
            "2025-01-09 14:44:47",
            "2025-01-09 14:44:48",
            "2025-01-09 14:44:49",
            "2025-01-09 14:44:50",
            "2025-01-09 14:44:51"
           ],
           "type": "scatter",
           "x": [
            74.05276584,
            87.13825267,
            96.14701585,
            108.2505623,
            112.7455582,
            117.6360986,
            125.795539,
            130.0730637,
            126.9739371,
            132.4691139,
            130.8954086,
            129.9114421,
            126.9035985,
            120.0271193,
            114.1841258,
            108.5299902,
            100.3782574,
            84.34148807,
            68.87984912,
            52.48503054,
            47.06937061,
            47.12509769,
            40.59271857,
            36.74958975,
            30.20109178,
            22.12000086,
            29.00547817,
            29.88142975,
            null
           ],
           "y": [
            132.8970804,
            128.6567371,
            114.5052243,
            121.7846509,
            122.6648195,
            117.0363673,
            106.1069251,
            97.00907745,
            88.3605384,
            78.57480316,
            70.40838551,
            60.39347846,
            55.44546708,
            43.60712934,
            36.37874293,
            33.82592306,
            34.38583847,
            36.64467032,
            36.10426183,
            41.4307655,
            41.61411986,
            41.65051415,
            36.14508385,
            40.4275684,
            54.67701478,
            70.09919795,
            77.77602635,
            78.17718237,
            null
           ]
          },
          {
           "type": "scatter",
           "x": [
            null,
            null
           ],
           "y": [
            null,
            null
           ]
          },
          {
           "hovertemplate": "Detection<br>(%{x}, %{y})<br>Time: %{meta}",
           "meta": [
            "2025-01-09 14:44:24",
            "2025-01-09 14:44:25",
            "2025-01-09 14:44:26",
            "2025-01-09 14:44:27",
            "2025-01-09 14:44:28",
            "2025-01-09 14:44:29",
            "2025-01-09 14:44:30",
            "2025-01-09 14:44:31",
            "2025-01-09 14:44:32",
            "2025-01-09 14:44:33",
            "2025-01-09 14:44:34",
            "2025-01-09 14:44:35",
            "2025-01-09 14:44:36",
            "2025-01-09 14:44:37",
            "2025-01-09 14:44:38",
            "2025-01-09 14:44:39",
            "2025-01-09 14:44:40",
            "2025-01-09 14:44:41",
            "2025-01-09 14:44:42",
            "2025-01-09 14:44:43",
            "2025-01-09 14:44:44",
            "2025-01-09 14:44:45",
            "2025-01-09 14:44:46",
            "2025-01-09 14:44:47",
            "2025-01-09 14:44:48",
            "2025-01-09 14:44:49",
            "2025-01-09 14:44:50",
            "2025-01-09 14:44:51"
           ],
           "type": "scatter",
           "x": [
            77.99730680145169,
            89.32677733462154,
            100.3230024678982,
            110.37502458622242,
            112.51475383083013,
            117.95818981683755,
            127.49727108687048,
            131.06557206113158,
            130.31479947134028,
            133.16915456245104,
            125.18674982593032,
            131.84438020286137,
            131.97892413148077,
            120.12943845523563,
            117.61152431780424,
            108.8764631767969,
            98.39310811884359,
            83.56353285390867,
            71.63086271419168,
            51.61894144676717,
            44.72473490210102,
            43.309761555780945,
            39.453101646722224,
            33.94825416303204,
            26.592306484119824,
            20.117676757592967,
            27.86328315913987,
            29.818412371677347,
            null
           ],
           "y": [
            133.79185911959564,
            133.66752662373142,
            112.31996452768946,
            121.44620589336175,
            123.58294566179377,
            120.28822171944623,
            106.37899870804137,
            97.75519592835539,
            87.90179057607384,
            76.66498702762841,
            71.86992112076258,
            58.73394702384867,
            52.19340656745482,
            43.188573527052114,
            39.66432902283251,
            34.671520160373056,
            29.9566429174598,
            36.994277243128515,
            38.79286490665786,
            40.75479599992838,
            38.43886322319879,
            46.0125805425723,
            35.165519932401644,
            42.16608968749065,
            54.201313051889215,
            70.96433823587778,
            75.13605252987823,
            79.13496154943564,
            null
           ]
          }
         ],
         "name": "2025-01-09 14:44:51",
         "traces": [
          0,
          1,
          2,
          3
         ]
        },
        {
         "data": [
          {
           "type": "scatter",
           "x": [
            0,
            0
           ],
           "y": [
            0,
            0
           ]
          },
          {
           "hovertemplate": "GroundTruthState<br>(%{x}, %{y})<br>Time: %{meta}",
           "meta": [
            "2025-01-09 14:44:24",
            "2025-01-09 14:44:25",
            "2025-01-09 14:44:26",
            "2025-01-09 14:44:27",
            "2025-01-09 14:44:28",
            "2025-01-09 14:44:29",
            "2025-01-09 14:44:30",
            "2025-01-09 14:44:31",
            "2025-01-09 14:44:32",
            "2025-01-09 14:44:33",
            "2025-01-09 14:44:34",
            "2025-01-09 14:44:35",
            "2025-01-09 14:44:36",
            "2025-01-09 14:44:37",
            "2025-01-09 14:44:38",
            "2025-01-09 14:44:39",
            "2025-01-09 14:44:40",
            "2025-01-09 14:44:41",
            "2025-01-09 14:44:42",
            "2025-01-09 14:44:43",
            "2025-01-09 14:44:44",
            "2025-01-09 14:44:45",
            "2025-01-09 14:44:46",
            "2025-01-09 14:44:47",
            "2025-01-09 14:44:48",
            "2025-01-09 14:44:49",
            "2025-01-09 14:44:50",
            "2025-01-09 14:44:51",
            "2025-01-09 14:44:52"
           ],
           "type": "scatter",
           "x": [
            74.05276584,
            87.13825267,
            96.14701585,
            108.2505623,
            112.7455582,
            117.6360986,
            125.795539,
            130.0730637,
            126.9739371,
            132.4691139,
            130.8954086,
            129.9114421,
            126.9035985,
            120.0271193,
            114.1841258,
            108.5299902,
            100.3782574,
            84.34148807,
            68.87984912,
            52.48503054,
            47.06937061,
            47.12509769,
            40.59271857,
            36.74958975,
            30.20109178,
            22.12000086,
            29.00547817,
            29.88142975,
            28.19049856,
            null
           ],
           "y": [
            132.8970804,
            128.6567371,
            114.5052243,
            121.7846509,
            122.6648195,
            117.0363673,
            106.1069251,
            97.00907745,
            88.3605384,
            78.57480316,
            70.40838551,
            60.39347846,
            55.44546708,
            43.60712934,
            36.37874293,
            33.82592306,
            34.38583847,
            36.64467032,
            36.10426183,
            41.4307655,
            41.61411986,
            41.65051415,
            36.14508385,
            40.4275684,
            54.67701478,
            70.09919795,
            77.77602635,
            78.17718237,
            83.34510835,
            null
           ]
          },
          {
           "type": "scatter",
           "x": [
            null,
            null
           ],
           "y": [
            null,
            null
           ]
          },
          {
           "hovertemplate": "Detection<br>(%{x}, %{y})<br>Time: %{meta}",
           "meta": [
            "2025-01-09 14:44:24",
            "2025-01-09 14:44:25",
            "2025-01-09 14:44:26",
            "2025-01-09 14:44:27",
            "2025-01-09 14:44:28",
            "2025-01-09 14:44:29",
            "2025-01-09 14:44:30",
            "2025-01-09 14:44:31",
            "2025-01-09 14:44:32",
            "2025-01-09 14:44:33",
            "2025-01-09 14:44:34",
            "2025-01-09 14:44:35",
            "2025-01-09 14:44:36",
            "2025-01-09 14:44:37",
            "2025-01-09 14:44:38",
            "2025-01-09 14:44:39",
            "2025-01-09 14:44:40",
            "2025-01-09 14:44:41",
            "2025-01-09 14:44:42",
            "2025-01-09 14:44:43",
            "2025-01-09 14:44:44",
            "2025-01-09 14:44:45",
            "2025-01-09 14:44:46",
            "2025-01-09 14:44:47",
            "2025-01-09 14:44:48",
            "2025-01-09 14:44:49",
            "2025-01-09 14:44:50",
            "2025-01-09 14:44:51",
            "2025-01-09 14:44:52"
           ],
           "type": "scatter",
           "x": [
            77.99730680145169,
            89.32677733462154,
            100.3230024678982,
            110.37502458622242,
            112.51475383083013,
            117.95818981683755,
            127.49727108687048,
            131.06557206113158,
            130.31479947134028,
            133.16915456245104,
            125.18674982593032,
            131.84438020286137,
            131.97892413148077,
            120.12943845523563,
            117.61152431780424,
            108.8764631767969,
            98.39310811884359,
            83.56353285390867,
            71.63086271419168,
            51.61894144676717,
            44.72473490210102,
            43.309761555780945,
            39.453101646722224,
            33.94825416303204,
            26.592306484119824,
            20.117676757592967,
            27.86328315913987,
            29.818412371677347,
            28.339235590923234,
            null
           ],
           "y": [
            133.79185911959564,
            133.66752662373142,
            112.31996452768946,
            121.44620589336175,
            123.58294566179377,
            120.28822171944623,
            106.37899870804137,
            97.75519592835539,
            87.90179057607384,
            76.66498702762841,
            71.86992112076258,
            58.73394702384867,
            52.19340656745482,
            43.188573527052114,
            39.66432902283251,
            34.671520160373056,
            29.9566429174598,
            36.994277243128515,
            38.79286490665786,
            40.75479599992838,
            38.43886322319879,
            46.0125805425723,
            35.165519932401644,
            42.16608968749065,
            54.201313051889215,
            70.96433823587778,
            75.13605252987823,
            79.13496154943564,
            84.02145607462953,
            null
           ]
          }
         ],
         "name": "2025-01-09 14:44:52",
         "traces": [
          0,
          1,
          2,
          3
         ]
        },
        {
         "data": [
          {
           "type": "scatter",
           "x": [
            0,
            0
           ],
           "y": [
            0,
            0
           ]
          },
          {
           "hovertemplate": "GroundTruthState<br>(%{x}, %{y})<br>Time: %{meta}",
           "meta": [
            "2025-01-09 14:44:24",
            "2025-01-09 14:44:25",
            "2025-01-09 14:44:26",
            "2025-01-09 14:44:27",
            "2025-01-09 14:44:28",
            "2025-01-09 14:44:29",
            "2025-01-09 14:44:30",
            "2025-01-09 14:44:31",
            "2025-01-09 14:44:32",
            "2025-01-09 14:44:33",
            "2025-01-09 14:44:34",
            "2025-01-09 14:44:35",
            "2025-01-09 14:44:36",
            "2025-01-09 14:44:37",
            "2025-01-09 14:44:38",
            "2025-01-09 14:44:39",
            "2025-01-09 14:44:40",
            "2025-01-09 14:44:41",
            "2025-01-09 14:44:42",
            "2025-01-09 14:44:43",
            "2025-01-09 14:44:44",
            "2025-01-09 14:44:45",
            "2025-01-09 14:44:46",
            "2025-01-09 14:44:47",
            "2025-01-09 14:44:48",
            "2025-01-09 14:44:49",
            "2025-01-09 14:44:50",
            "2025-01-09 14:44:51",
            "2025-01-09 14:44:52",
            "2025-01-09 14:44:53"
           ],
           "type": "scatter",
           "x": [
            74.05276584,
            87.13825267,
            96.14701585,
            108.2505623,
            112.7455582,
            117.6360986,
            125.795539,
            130.0730637,
            126.9739371,
            132.4691139,
            130.8954086,
            129.9114421,
            126.9035985,
            120.0271193,
            114.1841258,
            108.5299902,
            100.3782574,
            84.34148807,
            68.87984912,
            52.48503054,
            47.06937061,
            47.12509769,
            40.59271857,
            36.74958975,
            30.20109178,
            22.12000086,
            29.00547817,
            29.88142975,
            28.19049856,
            25.30487882,
            null
           ],
           "y": [
            132.8970804,
            128.6567371,
            114.5052243,
            121.7846509,
            122.6648195,
            117.0363673,
            106.1069251,
            97.00907745,
            88.3605384,
            78.57480316,
            70.40838551,
            60.39347846,
            55.44546708,
            43.60712934,
            36.37874293,
            33.82592306,
            34.38583847,
            36.64467032,
            36.10426183,
            41.4307655,
            41.61411986,
            41.65051415,
            36.14508385,
            40.4275684,
            54.67701478,
            70.09919795,
            77.77602635,
            78.17718237,
            83.34510835,
            99.35497826,
            null
           ]
          },
          {
           "type": "scatter",
           "x": [
            null,
            null
           ],
           "y": [
            null,
            null
           ]
          },
          {
           "hovertemplate": "Detection<br>(%{x}, %{y})<br>Time: %{meta}",
           "meta": [
            "2025-01-09 14:44:24",
            "2025-01-09 14:44:25",
            "2025-01-09 14:44:26",
            "2025-01-09 14:44:27",
            "2025-01-09 14:44:28",
            "2025-01-09 14:44:29",
            "2025-01-09 14:44:30",
            "2025-01-09 14:44:31",
            "2025-01-09 14:44:32",
            "2025-01-09 14:44:33",
            "2025-01-09 14:44:34",
            "2025-01-09 14:44:35",
            "2025-01-09 14:44:36",
            "2025-01-09 14:44:37",
            "2025-01-09 14:44:38",
            "2025-01-09 14:44:39",
            "2025-01-09 14:44:40",
            "2025-01-09 14:44:41",
            "2025-01-09 14:44:42",
            "2025-01-09 14:44:43",
            "2025-01-09 14:44:44",
            "2025-01-09 14:44:45",
            "2025-01-09 14:44:46",
            "2025-01-09 14:44:47",
            "2025-01-09 14:44:48",
            "2025-01-09 14:44:49",
            "2025-01-09 14:44:50",
            "2025-01-09 14:44:51",
            "2025-01-09 14:44:52",
            "2025-01-09 14:44:53"
           ],
           "type": "scatter",
           "x": [
            77.99730680145169,
            89.32677733462154,
            100.3230024678982,
            110.37502458622242,
            112.51475383083013,
            117.95818981683755,
            127.49727108687048,
            131.06557206113158,
            130.31479947134028,
            133.16915456245104,
            125.18674982593032,
            131.84438020286137,
            131.97892413148077,
            120.12943845523563,
            117.61152431780424,
            108.8764631767969,
            98.39310811884359,
            83.56353285390867,
            71.63086271419168,
            51.61894144676717,
            44.72473490210102,
            43.309761555780945,
            39.453101646722224,
            33.94825416303204,
            26.592306484119824,
            20.117676757592967,
            27.86328315913987,
            29.818412371677347,
            28.339235590923234,
            23.886491498899375,
            null
           ],
           "y": [
            133.79185911959564,
            133.66752662373142,
            112.31996452768946,
            121.44620589336175,
            123.58294566179377,
            120.28822171944623,
            106.37899870804137,
            97.75519592835539,
            87.90179057607384,
            76.66498702762841,
            71.86992112076258,
            58.73394702384867,
            52.19340656745482,
            43.188573527052114,
            39.66432902283251,
            34.671520160373056,
            29.9566429174598,
            36.994277243128515,
            38.79286490665786,
            40.75479599992838,
            38.43886322319879,
            46.0125805425723,
            35.165519932401644,
            42.16608968749065,
            54.201313051889215,
            70.96433823587778,
            75.13605252987823,
            79.13496154943564,
            84.02145607462953,
            98.54386435461522,
            null
           ]
          }
         ],
         "name": "2025-01-09 14:44:53",
         "traces": [
          0,
          1,
          2,
          3
         ]
        },
        {
         "data": [
          {
           "type": "scatter",
           "x": [
            0,
            0
           ],
           "y": [
            0,
            0
           ]
          },
          {
           "hovertemplate": "GroundTruthState<br>(%{x}, %{y})<br>Time: %{meta}",
           "meta": [
            "2025-01-09 14:44:24",
            "2025-01-09 14:44:25",
            "2025-01-09 14:44:26",
            "2025-01-09 14:44:27",
            "2025-01-09 14:44:28",
            "2025-01-09 14:44:29",
            "2025-01-09 14:44:30",
            "2025-01-09 14:44:31",
            "2025-01-09 14:44:32",
            "2025-01-09 14:44:33",
            "2025-01-09 14:44:34",
            "2025-01-09 14:44:35",
            "2025-01-09 14:44:36",
            "2025-01-09 14:44:37",
            "2025-01-09 14:44:38",
            "2025-01-09 14:44:39",
            "2025-01-09 14:44:40",
            "2025-01-09 14:44:41",
            "2025-01-09 14:44:42",
            "2025-01-09 14:44:43",
            "2025-01-09 14:44:44",
            "2025-01-09 14:44:45",
            "2025-01-09 14:44:46",
            "2025-01-09 14:44:47",
            "2025-01-09 14:44:48",
            "2025-01-09 14:44:49",
            "2025-01-09 14:44:50",
            "2025-01-09 14:44:51",
            "2025-01-09 14:44:52",
            "2025-01-09 14:44:53",
            "2025-01-09 14:44:54"
           ],
           "type": "scatter",
           "x": [
            74.05276584,
            87.13825267,
            96.14701585,
            108.2505623,
            112.7455582,
            117.6360986,
            125.795539,
            130.0730637,
            126.9739371,
            132.4691139,
            130.8954086,
            129.9114421,
            126.9035985,
            120.0271193,
            114.1841258,
            108.5299902,
            100.3782574,
            84.34148807,
            68.87984912,
            52.48503054,
            47.06937061,
            47.12509769,
            40.59271857,
            36.74958975,
            30.20109178,
            22.12000086,
            29.00547817,
            29.88142975,
            28.19049856,
            25.30487882,
            39.32487529,
            null
           ],
           "y": [
            132.8970804,
            128.6567371,
            114.5052243,
            121.7846509,
            122.6648195,
            117.0363673,
            106.1069251,
            97.00907745,
            88.3605384,
            78.57480316,
            70.40838551,
            60.39347846,
            55.44546708,
            43.60712934,
            36.37874293,
            33.82592306,
            34.38583847,
            36.64467032,
            36.10426183,
            41.4307655,
            41.61411986,
            41.65051415,
            36.14508385,
            40.4275684,
            54.67701478,
            70.09919795,
            77.77602635,
            78.17718237,
            83.34510835,
            99.35497826,
            116.3818392,
            null
           ]
          },
          {
           "type": "scatter",
           "x": [
            null,
            null
           ],
           "y": [
            null,
            null
           ]
          },
          {
           "hovertemplate": "Detection<br>(%{x}, %{y})<br>Time: %{meta}",
           "meta": [
            "2025-01-09 14:44:24",
            "2025-01-09 14:44:25",
            "2025-01-09 14:44:26",
            "2025-01-09 14:44:27",
            "2025-01-09 14:44:28",
            "2025-01-09 14:44:29",
            "2025-01-09 14:44:30",
            "2025-01-09 14:44:31",
            "2025-01-09 14:44:32",
            "2025-01-09 14:44:33",
            "2025-01-09 14:44:34",
            "2025-01-09 14:44:35",
            "2025-01-09 14:44:36",
            "2025-01-09 14:44:37",
            "2025-01-09 14:44:38",
            "2025-01-09 14:44:39",
            "2025-01-09 14:44:40",
            "2025-01-09 14:44:41",
            "2025-01-09 14:44:42",
            "2025-01-09 14:44:43",
            "2025-01-09 14:44:44",
            "2025-01-09 14:44:45",
            "2025-01-09 14:44:46",
            "2025-01-09 14:44:47",
            "2025-01-09 14:44:48",
            "2025-01-09 14:44:49",
            "2025-01-09 14:44:50",
            "2025-01-09 14:44:51",
            "2025-01-09 14:44:52",
            "2025-01-09 14:44:53",
            "2025-01-09 14:44:54"
           ],
           "type": "scatter",
           "x": [
            77.99730680145169,
            89.32677733462154,
            100.3230024678982,
            110.37502458622242,
            112.51475383083013,
            117.95818981683755,
            127.49727108687048,
            131.06557206113158,
            130.31479947134028,
            133.16915456245104,
            125.18674982593032,
            131.84438020286137,
            131.97892413148077,
            120.12943845523563,
            117.61152431780424,
            108.8764631767969,
            98.39310811884359,
            83.56353285390867,
            71.63086271419168,
            51.61894144676717,
            44.72473490210102,
            43.309761555780945,
            39.453101646722224,
            33.94825416303204,
            26.592306484119824,
            20.117676757592967,
            27.86328315913987,
            29.818412371677347,
            28.339235590923234,
            23.886491498899375,
            37.821208016593026,
            null
           ],
           "y": [
            133.79185911959564,
            133.66752662373142,
            112.31996452768946,
            121.44620589336175,
            123.58294566179377,
            120.28822171944623,
            106.37899870804137,
            97.75519592835539,
            87.90179057607384,
            76.66498702762841,
            71.86992112076258,
            58.73394702384867,
            52.19340656745482,
            43.188573527052114,
            39.66432902283251,
            34.671520160373056,
            29.9566429174598,
            36.994277243128515,
            38.79286490665786,
            40.75479599992838,
            38.43886322319879,
            46.0125805425723,
            35.165519932401644,
            42.16608968749065,
            54.201313051889215,
            70.96433823587778,
            75.13605252987823,
            79.13496154943564,
            84.02145607462953,
            98.54386435461522,
            115.57785388927039,
            null
           ]
          }
         ],
         "name": "2025-01-09 14:44:54",
         "traces": [
          0,
          1,
          2,
          3
         ]
        },
        {
         "data": [
          {
           "type": "scatter",
           "x": [
            0,
            0
           ],
           "y": [
            0,
            0
           ]
          },
          {
           "hovertemplate": "GroundTruthState<br>(%{x}, %{y})<br>Time: %{meta}",
           "meta": [
            "2025-01-09 14:44:24",
            "2025-01-09 14:44:25",
            "2025-01-09 14:44:26",
            "2025-01-09 14:44:27",
            "2025-01-09 14:44:28",
            "2025-01-09 14:44:29",
            "2025-01-09 14:44:30",
            "2025-01-09 14:44:31",
            "2025-01-09 14:44:32",
            "2025-01-09 14:44:33",
            "2025-01-09 14:44:34",
            "2025-01-09 14:44:35",
            "2025-01-09 14:44:36",
            "2025-01-09 14:44:37",
            "2025-01-09 14:44:38",
            "2025-01-09 14:44:39",
            "2025-01-09 14:44:40",
            "2025-01-09 14:44:41",
            "2025-01-09 14:44:42",
            "2025-01-09 14:44:43",
            "2025-01-09 14:44:44",
            "2025-01-09 14:44:45",
            "2025-01-09 14:44:46",
            "2025-01-09 14:44:47",
            "2025-01-09 14:44:48",
            "2025-01-09 14:44:49",
            "2025-01-09 14:44:50",
            "2025-01-09 14:44:51",
            "2025-01-09 14:44:52",
            "2025-01-09 14:44:53",
            "2025-01-09 14:44:54",
            "2025-01-09 14:44:55"
           ],
           "type": "scatter",
           "x": [
            74.05276584,
            87.13825267,
            96.14701585,
            108.2505623,
            112.7455582,
            117.6360986,
            125.795539,
            130.0730637,
            126.9739371,
            132.4691139,
            130.8954086,
            129.9114421,
            126.9035985,
            120.0271193,
            114.1841258,
            108.5299902,
            100.3782574,
            84.34148807,
            68.87984912,
            52.48503054,
            47.06937061,
            47.12509769,
            40.59271857,
            36.74958975,
            30.20109178,
            22.12000086,
            29.00547817,
            29.88142975,
            28.19049856,
            25.30487882,
            39.32487529,
            48.63966392,
            null
           ],
           "y": [
            132.8970804,
            128.6567371,
            114.5052243,
            121.7846509,
            122.6648195,
            117.0363673,
            106.1069251,
            97.00907745,
            88.3605384,
            78.57480316,
            70.40838551,
            60.39347846,
            55.44546708,
            43.60712934,
            36.37874293,
            33.82592306,
            34.38583847,
            36.64467032,
            36.10426183,
            41.4307655,
            41.61411986,
            41.65051415,
            36.14508385,
            40.4275684,
            54.67701478,
            70.09919795,
            77.77602635,
            78.17718237,
            83.34510835,
            99.35497826,
            116.3818392,
            123.6971236,
            null
           ]
          },
          {
           "type": "scatter",
           "x": [
            null,
            null
           ],
           "y": [
            null,
            null
           ]
          },
          {
           "hovertemplate": "Detection<br>(%{x}, %{y})<br>Time: %{meta}",
           "meta": [
            "2025-01-09 14:44:24",
            "2025-01-09 14:44:25",
            "2025-01-09 14:44:26",
            "2025-01-09 14:44:27",
            "2025-01-09 14:44:28",
            "2025-01-09 14:44:29",
            "2025-01-09 14:44:30",
            "2025-01-09 14:44:31",
            "2025-01-09 14:44:32",
            "2025-01-09 14:44:33",
            "2025-01-09 14:44:34",
            "2025-01-09 14:44:35",
            "2025-01-09 14:44:36",
            "2025-01-09 14:44:37",
            "2025-01-09 14:44:38",
            "2025-01-09 14:44:39",
            "2025-01-09 14:44:40",
            "2025-01-09 14:44:41",
            "2025-01-09 14:44:42",
            "2025-01-09 14:44:43",
            "2025-01-09 14:44:44",
            "2025-01-09 14:44:45",
            "2025-01-09 14:44:46",
            "2025-01-09 14:44:47",
            "2025-01-09 14:44:48",
            "2025-01-09 14:44:49",
            "2025-01-09 14:44:50",
            "2025-01-09 14:44:51",
            "2025-01-09 14:44:52",
            "2025-01-09 14:44:53",
            "2025-01-09 14:44:54",
            "2025-01-09 14:44:55"
           ],
           "type": "scatter",
           "x": [
            77.99730680145169,
            89.32677733462154,
            100.3230024678982,
            110.37502458622242,
            112.51475383083013,
            117.95818981683755,
            127.49727108687048,
            131.06557206113158,
            130.31479947134028,
            133.16915456245104,
            125.18674982593032,
            131.84438020286137,
            131.97892413148077,
            120.12943845523563,
            117.61152431780424,
            108.8764631767969,
            98.39310811884359,
            83.56353285390867,
            71.63086271419168,
            51.61894144676717,
            44.72473490210102,
            43.309761555780945,
            39.453101646722224,
            33.94825416303204,
            26.592306484119824,
            20.117676757592967,
            27.86328315913987,
            29.818412371677347,
            28.339235590923234,
            23.886491498899375,
            37.821208016593026,
            46.82141355769738,
            null
           ],
           "y": [
            133.79185911959564,
            133.66752662373142,
            112.31996452768946,
            121.44620589336175,
            123.58294566179377,
            120.28822171944623,
            106.37899870804137,
            97.75519592835539,
            87.90179057607384,
            76.66498702762841,
            71.86992112076258,
            58.73394702384867,
            52.19340656745482,
            43.188573527052114,
            39.66432902283251,
            34.671520160373056,
            29.9566429174598,
            36.994277243128515,
            38.79286490665786,
            40.75479599992838,
            38.43886322319879,
            46.0125805425723,
            35.165519932401644,
            42.16608968749065,
            54.201313051889215,
            70.96433823587778,
            75.13605252987823,
            79.13496154943564,
            84.02145607462953,
            98.54386435461522,
            115.57785388927039,
            119.83703835281113,
            null
           ]
          }
         ],
         "name": "2025-01-09 14:44:55",
         "traces": [
          0,
          1,
          2,
          3
         ]
        },
        {
         "data": [
          {
           "type": "scatter",
           "x": [
            0,
            0
           ],
           "y": [
            0,
            0
           ]
          },
          {
           "hovertemplate": "GroundTruthState<br>(%{x}, %{y})<br>Time: %{meta}",
           "meta": [
            "2025-01-09 14:44:24",
            "2025-01-09 14:44:25",
            "2025-01-09 14:44:26",
            "2025-01-09 14:44:27",
            "2025-01-09 14:44:28",
            "2025-01-09 14:44:29",
            "2025-01-09 14:44:30",
            "2025-01-09 14:44:31",
            "2025-01-09 14:44:32",
            "2025-01-09 14:44:33",
            "2025-01-09 14:44:34",
            "2025-01-09 14:44:35",
            "2025-01-09 14:44:36",
            "2025-01-09 14:44:37",
            "2025-01-09 14:44:38",
            "2025-01-09 14:44:39",
            "2025-01-09 14:44:40",
            "2025-01-09 14:44:41",
            "2025-01-09 14:44:42",
            "2025-01-09 14:44:43",
            "2025-01-09 14:44:44",
            "2025-01-09 14:44:45",
            "2025-01-09 14:44:46",
            "2025-01-09 14:44:47",
            "2025-01-09 14:44:48",
            "2025-01-09 14:44:49",
            "2025-01-09 14:44:50",
            "2025-01-09 14:44:51",
            "2025-01-09 14:44:52",
            "2025-01-09 14:44:53",
            "2025-01-09 14:44:54",
            "2025-01-09 14:44:55",
            "2025-01-09 14:44:56"
           ],
           "type": "scatter",
           "x": [
            74.05276584,
            87.13825267,
            96.14701585,
            108.2505623,
            112.7455582,
            117.6360986,
            125.795539,
            130.0730637,
            126.9739371,
            132.4691139,
            130.8954086,
            129.9114421,
            126.9035985,
            120.0271193,
            114.1841258,
            108.5299902,
            100.3782574,
            84.34148807,
            68.87984912,
            52.48503054,
            47.06937061,
            47.12509769,
            40.59271857,
            36.74958975,
            30.20109178,
            22.12000086,
            29.00547817,
            29.88142975,
            28.19049856,
            25.30487882,
            39.32487529,
            48.63966392,
            49.31356593,
            null
           ],
           "y": [
            132.8970804,
            128.6567371,
            114.5052243,
            121.7846509,
            122.6648195,
            117.0363673,
            106.1069251,
            97.00907745,
            88.3605384,
            78.57480316,
            70.40838551,
            60.39347846,
            55.44546708,
            43.60712934,
            36.37874293,
            33.82592306,
            34.38583847,
            36.64467032,
            36.10426183,
            41.4307655,
            41.61411986,
            41.65051415,
            36.14508385,
            40.4275684,
            54.67701478,
            70.09919795,
            77.77602635,
            78.17718237,
            83.34510835,
            99.35497826,
            116.3818392,
            123.6971236,
            123.6238135,
            null
           ]
          },
          {
           "type": "scatter",
           "x": [
            null,
            null
           ],
           "y": [
            null,
            null
           ]
          },
          {
           "hovertemplate": "Detection<br>(%{x}, %{y})<br>Time: %{meta}",
           "meta": [
            "2025-01-09 14:44:24",
            "2025-01-09 14:44:25",
            "2025-01-09 14:44:26",
            "2025-01-09 14:44:27",
            "2025-01-09 14:44:28",
            "2025-01-09 14:44:29",
            "2025-01-09 14:44:30",
            "2025-01-09 14:44:31",
            "2025-01-09 14:44:32",
            "2025-01-09 14:44:33",
            "2025-01-09 14:44:34",
            "2025-01-09 14:44:35",
            "2025-01-09 14:44:36",
            "2025-01-09 14:44:37",
            "2025-01-09 14:44:38",
            "2025-01-09 14:44:39",
            "2025-01-09 14:44:40",
            "2025-01-09 14:44:41",
            "2025-01-09 14:44:42",
            "2025-01-09 14:44:43",
            "2025-01-09 14:44:44",
            "2025-01-09 14:44:45",
            "2025-01-09 14:44:46",
            "2025-01-09 14:44:47",
            "2025-01-09 14:44:48",
            "2025-01-09 14:44:49",
            "2025-01-09 14:44:50",
            "2025-01-09 14:44:51",
            "2025-01-09 14:44:52",
            "2025-01-09 14:44:53",
            "2025-01-09 14:44:54",
            "2025-01-09 14:44:55",
            "2025-01-09 14:44:56"
           ],
           "type": "scatter",
           "x": [
            77.99730680145169,
            89.32677733462154,
            100.3230024678982,
            110.37502458622242,
            112.51475383083013,
            117.95818981683755,
            127.49727108687048,
            131.06557206113158,
            130.31479947134028,
            133.16915456245104,
            125.18674982593032,
            131.84438020286137,
            131.97892413148077,
            120.12943845523563,
            117.61152431780424,
            108.8764631767969,
            98.39310811884359,
            83.56353285390867,
            71.63086271419168,
            51.61894144676717,
            44.72473490210102,
            43.309761555780945,
            39.453101646722224,
            33.94825416303204,
            26.592306484119824,
            20.117676757592967,
            27.86328315913987,
            29.818412371677347,
            28.339235590923234,
            23.886491498899375,
            37.821208016593026,
            46.82141355769738,
            49.710302845064945,
            null
           ],
           "y": [
            133.79185911959564,
            133.66752662373142,
            112.31996452768946,
            121.44620589336175,
            123.58294566179377,
            120.28822171944623,
            106.37899870804137,
            97.75519592835539,
            87.90179057607384,
            76.66498702762841,
            71.86992112076258,
            58.73394702384867,
            52.19340656745482,
            43.188573527052114,
            39.66432902283251,
            34.671520160373056,
            29.9566429174598,
            36.994277243128515,
            38.79286490665786,
            40.75479599992838,
            38.43886322319879,
            46.0125805425723,
            35.165519932401644,
            42.16608968749065,
            54.201313051889215,
            70.96433823587778,
            75.13605252987823,
            79.13496154943564,
            84.02145607462953,
            98.54386435461522,
            115.57785388927039,
            119.83703835281113,
            122.72540401457482,
            null
           ]
          }
         ],
         "name": "2025-01-09 14:44:56",
         "traces": [
          0,
          1,
          2,
          3
         ]
        },
        {
         "data": [
          {
           "type": "scatter",
           "x": [
            0,
            0
           ],
           "y": [
            0,
            0
           ]
          },
          {
           "hovertemplate": "GroundTruthState<br>(%{x}, %{y})<br>Time: %{meta}",
           "meta": [
            "2025-01-09 14:44:24",
            "2025-01-09 14:44:25",
            "2025-01-09 14:44:26",
            "2025-01-09 14:44:27",
            "2025-01-09 14:44:28",
            "2025-01-09 14:44:29",
            "2025-01-09 14:44:30",
            "2025-01-09 14:44:31",
            "2025-01-09 14:44:32",
            "2025-01-09 14:44:33",
            "2025-01-09 14:44:34",
            "2025-01-09 14:44:35",
            "2025-01-09 14:44:36",
            "2025-01-09 14:44:37",
            "2025-01-09 14:44:38",
            "2025-01-09 14:44:39",
            "2025-01-09 14:44:40",
            "2025-01-09 14:44:41",
            "2025-01-09 14:44:42",
            "2025-01-09 14:44:43",
            "2025-01-09 14:44:44",
            "2025-01-09 14:44:45",
            "2025-01-09 14:44:46",
            "2025-01-09 14:44:47",
            "2025-01-09 14:44:48",
            "2025-01-09 14:44:49",
            "2025-01-09 14:44:50",
            "2025-01-09 14:44:51",
            "2025-01-09 14:44:52",
            "2025-01-09 14:44:53",
            "2025-01-09 14:44:54",
            "2025-01-09 14:44:55",
            "2025-01-09 14:44:56",
            "2025-01-09 14:44:57"
           ],
           "type": "scatter",
           "x": [
            74.05276584,
            87.13825267,
            96.14701585,
            108.2505623,
            112.7455582,
            117.6360986,
            125.795539,
            130.0730637,
            126.9739371,
            132.4691139,
            130.8954086,
            129.9114421,
            126.9035985,
            120.0271193,
            114.1841258,
            108.5299902,
            100.3782574,
            84.34148807,
            68.87984912,
            52.48503054,
            47.06937061,
            47.12509769,
            40.59271857,
            36.74958975,
            30.20109178,
            22.12000086,
            29.00547817,
            29.88142975,
            28.19049856,
            25.30487882,
            39.32487529,
            48.63966392,
            49.31356593,
            49.40035937,
            null
           ],
           "y": [
            132.8970804,
            128.6567371,
            114.5052243,
            121.7846509,
            122.6648195,
            117.0363673,
            106.1069251,
            97.00907745,
            88.3605384,
            78.57480316,
            70.40838551,
            60.39347846,
            55.44546708,
            43.60712934,
            36.37874293,
            33.82592306,
            34.38583847,
            36.64467032,
            36.10426183,
            41.4307655,
            41.61411986,
            41.65051415,
            36.14508385,
            40.4275684,
            54.67701478,
            70.09919795,
            77.77602635,
            78.17718237,
            83.34510835,
            99.35497826,
            116.3818392,
            123.6971236,
            123.6238135,
            123.6091074,
            null
           ]
          },
          {
           "type": "scatter",
           "x": [
            null,
            null
           ],
           "y": [
            null,
            null
           ]
          },
          {
           "hovertemplate": "Detection<br>(%{x}, %{y})<br>Time: %{meta}",
           "meta": [
            "2025-01-09 14:44:24",
            "2025-01-09 14:44:25",
            "2025-01-09 14:44:26",
            "2025-01-09 14:44:27",
            "2025-01-09 14:44:28",
            "2025-01-09 14:44:29",
            "2025-01-09 14:44:30",
            "2025-01-09 14:44:31",
            "2025-01-09 14:44:32",
            "2025-01-09 14:44:33",
            "2025-01-09 14:44:34",
            "2025-01-09 14:44:35",
            "2025-01-09 14:44:36",
            "2025-01-09 14:44:37",
            "2025-01-09 14:44:38",
            "2025-01-09 14:44:39",
            "2025-01-09 14:44:40",
            "2025-01-09 14:44:41",
            "2025-01-09 14:44:42",
            "2025-01-09 14:44:43",
            "2025-01-09 14:44:44",
            "2025-01-09 14:44:45",
            "2025-01-09 14:44:46",
            "2025-01-09 14:44:47",
            "2025-01-09 14:44:48",
            "2025-01-09 14:44:49",
            "2025-01-09 14:44:50",
            "2025-01-09 14:44:51",
            "2025-01-09 14:44:52",
            "2025-01-09 14:44:53",
            "2025-01-09 14:44:54",
            "2025-01-09 14:44:55",
            "2025-01-09 14:44:56",
            "2025-01-09 14:44:57"
           ],
           "type": "scatter",
           "x": [
            77.99730680145169,
            89.32677733462154,
            100.3230024678982,
            110.37502458622242,
            112.51475383083013,
            117.95818981683755,
            127.49727108687048,
            131.06557206113158,
            130.31479947134028,
            133.16915456245104,
            125.18674982593032,
            131.84438020286137,
            131.97892413148077,
            120.12943845523563,
            117.61152431780424,
            108.8764631767969,
            98.39310811884359,
            83.56353285390867,
            71.63086271419168,
            51.61894144676717,
            44.72473490210102,
            43.309761555780945,
            39.453101646722224,
            33.94825416303204,
            26.592306484119824,
            20.117676757592967,
            27.86328315913987,
            29.818412371677347,
            28.339235590923234,
            23.886491498899375,
            37.821208016593026,
            46.82141355769738,
            49.710302845064945,
            45.75512504937613,
            null
           ],
           "y": [
            133.79185911959564,
            133.66752662373142,
            112.31996452768946,
            121.44620589336175,
            123.58294566179377,
            120.28822171944623,
            106.37899870804137,
            97.75519592835539,
            87.90179057607384,
            76.66498702762841,
            71.86992112076258,
            58.73394702384867,
            52.19340656745482,
            43.188573527052114,
            39.66432902283251,
            34.671520160373056,
            29.9566429174598,
            36.994277243128515,
            38.79286490665786,
            40.75479599992838,
            38.43886322319879,
            46.0125805425723,
            35.165519932401644,
            42.16608968749065,
            54.201313051889215,
            70.96433823587778,
            75.13605252987823,
            79.13496154943564,
            84.02145607462953,
            98.54386435461522,
            115.57785388927039,
            119.83703835281113,
            122.72540401457482,
            124.64391998213631,
            null
           ]
          }
         ],
         "name": "2025-01-09 14:44:57",
         "traces": [
          0,
          1,
          2,
          3
         ]
        },
        {
         "data": [
          {
           "type": "scatter",
           "x": [
            0,
            0
           ],
           "y": [
            0,
            0
           ]
          },
          {
           "hovertemplate": "GroundTruthState<br>(%{x}, %{y})<br>Time: %{meta}",
           "meta": [
            "2025-01-09 14:44:24",
            "2025-01-09 14:44:25",
            "2025-01-09 14:44:26",
            "2025-01-09 14:44:27",
            "2025-01-09 14:44:28",
            "2025-01-09 14:44:29",
            "2025-01-09 14:44:30",
            "2025-01-09 14:44:31",
            "2025-01-09 14:44:32",
            "2025-01-09 14:44:33",
            "2025-01-09 14:44:34",
            "2025-01-09 14:44:35",
            "2025-01-09 14:44:36",
            "2025-01-09 14:44:37",
            "2025-01-09 14:44:38",
            "2025-01-09 14:44:39",
            "2025-01-09 14:44:40",
            "2025-01-09 14:44:41",
            "2025-01-09 14:44:42",
            "2025-01-09 14:44:43",
            "2025-01-09 14:44:44",
            "2025-01-09 14:44:45",
            "2025-01-09 14:44:46",
            "2025-01-09 14:44:47",
            "2025-01-09 14:44:48",
            "2025-01-09 14:44:49",
            "2025-01-09 14:44:50",
            "2025-01-09 14:44:51",
            "2025-01-09 14:44:52",
            "2025-01-09 14:44:53",
            "2025-01-09 14:44:54",
            "2025-01-09 14:44:55",
            "2025-01-09 14:44:56",
            "2025-01-09 14:44:57",
            "2025-01-09 14:44:58"
           ],
           "type": "scatter",
           "x": [
            74.05276584,
            87.13825267,
            96.14701585,
            108.2505623,
            112.7455582,
            117.6360986,
            125.795539,
            130.0730637,
            126.9739371,
            132.4691139,
            130.8954086,
            129.9114421,
            126.9035985,
            120.0271193,
            114.1841258,
            108.5299902,
            100.3782574,
            84.34148807,
            68.87984912,
            52.48503054,
            47.06937061,
            47.12509769,
            40.59271857,
            36.74958975,
            30.20109178,
            22.12000086,
            29.00547817,
            29.88142975,
            28.19049856,
            25.30487882,
            39.32487529,
            48.63966392,
            49.31356593,
            49.40035937,
            54.37511668,
            null
           ],
           "y": [
            132.8970804,
            128.6567371,
            114.5052243,
            121.7846509,
            122.6648195,
            117.0363673,
            106.1069251,
            97.00907745,
            88.3605384,
            78.57480316,
            70.40838551,
            60.39347846,
            55.44546708,
            43.60712934,
            36.37874293,
            33.82592306,
            34.38583847,
            36.64467032,
            36.10426183,
            41.4307655,
            41.61411986,
            41.65051415,
            36.14508385,
            40.4275684,
            54.67701478,
            70.09919795,
            77.77602635,
            78.17718237,
            83.34510835,
            99.35497826,
            116.3818392,
            123.6971236,
            123.6238135,
            123.6091074,
            128.9042947,
            null
           ]
          },
          {
           "type": "scatter",
           "x": [
            null,
            null
           ],
           "y": [
            null,
            null
           ]
          },
          {
           "hovertemplate": "Detection<br>(%{x}, %{y})<br>Time: %{meta}",
           "meta": [
            "2025-01-09 14:44:24",
            "2025-01-09 14:44:25",
            "2025-01-09 14:44:26",
            "2025-01-09 14:44:27",
            "2025-01-09 14:44:28",
            "2025-01-09 14:44:29",
            "2025-01-09 14:44:30",
            "2025-01-09 14:44:31",
            "2025-01-09 14:44:32",
            "2025-01-09 14:44:33",
            "2025-01-09 14:44:34",
            "2025-01-09 14:44:35",
            "2025-01-09 14:44:36",
            "2025-01-09 14:44:37",
            "2025-01-09 14:44:38",
            "2025-01-09 14:44:39",
            "2025-01-09 14:44:40",
            "2025-01-09 14:44:41",
            "2025-01-09 14:44:42",
            "2025-01-09 14:44:43",
            "2025-01-09 14:44:44",
            "2025-01-09 14:44:45",
            "2025-01-09 14:44:46",
            "2025-01-09 14:44:47",
            "2025-01-09 14:44:48",
            "2025-01-09 14:44:49",
            "2025-01-09 14:44:50",
            "2025-01-09 14:44:51",
            "2025-01-09 14:44:52",
            "2025-01-09 14:44:53",
            "2025-01-09 14:44:54",
            "2025-01-09 14:44:55",
            "2025-01-09 14:44:56",
            "2025-01-09 14:44:57",
            "2025-01-09 14:44:58"
           ],
           "type": "scatter",
           "x": [
            77.99730680145169,
            89.32677733462154,
            100.3230024678982,
            110.37502458622242,
            112.51475383083013,
            117.95818981683755,
            127.49727108687048,
            131.06557206113158,
            130.31479947134028,
            133.16915456245104,
            125.18674982593032,
            131.84438020286137,
            131.97892413148077,
            120.12943845523563,
            117.61152431780424,
            108.8764631767969,
            98.39310811884359,
            83.56353285390867,
            71.63086271419168,
            51.61894144676717,
            44.72473490210102,
            43.309761555780945,
            39.453101646722224,
            33.94825416303204,
            26.592306484119824,
            20.117676757592967,
            27.86328315913987,
            29.818412371677347,
            28.339235590923234,
            23.886491498899375,
            37.821208016593026,
            46.82141355769738,
            49.710302845064945,
            45.75512504937613,
            52.34633586136469,
            null
           ],
           "y": [
            133.79185911959564,
            133.66752662373142,
            112.31996452768946,
            121.44620589336175,
            123.58294566179377,
            120.28822171944623,
            106.37899870804137,
            97.75519592835539,
            87.90179057607384,
            76.66498702762841,
            71.86992112076258,
            58.73394702384867,
            52.19340656745482,
            43.188573527052114,
            39.66432902283251,
            34.671520160373056,
            29.9566429174598,
            36.994277243128515,
            38.79286490665786,
            40.75479599992838,
            38.43886322319879,
            46.0125805425723,
            35.165519932401644,
            42.16608968749065,
            54.201313051889215,
            70.96433823587778,
            75.13605252987823,
            79.13496154943564,
            84.02145607462953,
            98.54386435461522,
            115.57785388927039,
            119.83703835281113,
            122.72540401457482,
            124.64391998213631,
            129.02044813611832,
            null
           ]
          }
         ],
         "name": "2025-01-09 14:44:58",
         "traces": [
          0,
          1,
          2,
          3
         ]
        },
        {
         "data": [
          {
           "type": "scatter",
           "x": [
            0,
            0
           ],
           "y": [
            0,
            0
           ]
          },
          {
           "hovertemplate": "GroundTruthState<br>(%{x}, %{y})<br>Time: %{meta}",
           "meta": [
            "2025-01-09 14:44:24",
            "2025-01-09 14:44:25",
            "2025-01-09 14:44:26",
            "2025-01-09 14:44:27",
            "2025-01-09 14:44:28",
            "2025-01-09 14:44:29",
            "2025-01-09 14:44:30",
            "2025-01-09 14:44:31",
            "2025-01-09 14:44:32",
            "2025-01-09 14:44:33",
            "2025-01-09 14:44:34",
            "2025-01-09 14:44:35",
            "2025-01-09 14:44:36",
            "2025-01-09 14:44:37",
            "2025-01-09 14:44:38",
            "2025-01-09 14:44:39",
            "2025-01-09 14:44:40",
            "2025-01-09 14:44:41",
            "2025-01-09 14:44:42",
            "2025-01-09 14:44:43",
            "2025-01-09 14:44:44",
            "2025-01-09 14:44:45",
            "2025-01-09 14:44:46",
            "2025-01-09 14:44:47",
            "2025-01-09 14:44:48",
            "2025-01-09 14:44:49",
            "2025-01-09 14:44:50",
            "2025-01-09 14:44:51",
            "2025-01-09 14:44:52",
            "2025-01-09 14:44:53",
            "2025-01-09 14:44:54",
            "2025-01-09 14:44:55",
            "2025-01-09 14:44:56",
            "2025-01-09 14:44:57",
            "2025-01-09 14:44:58",
            "2025-01-09 14:44:59"
           ],
           "type": "scatter",
           "x": [
            74.05276584,
            87.13825267,
            96.14701585,
            108.2505623,
            112.7455582,
            117.6360986,
            125.795539,
            130.0730637,
            126.9739371,
            132.4691139,
            130.8954086,
            129.9114421,
            126.9035985,
            120.0271193,
            114.1841258,
            108.5299902,
            100.3782574,
            84.34148807,
            68.87984912,
            52.48503054,
            47.06937061,
            47.12509769,
            40.59271857,
            36.74958975,
            30.20109178,
            22.12000086,
            29.00547817,
            29.88142975,
            28.19049856,
            25.30487882,
            39.32487529,
            48.63966392,
            49.31356593,
            49.40035937,
            54.37511668,
            69.77685527,
            null
           ],
           "y": [
            132.8970804,
            128.6567371,
            114.5052243,
            121.7846509,
            122.6648195,
            117.0363673,
            106.1069251,
            97.00907745,
            88.3605384,
            78.57480316,
            70.40838551,
            60.39347846,
            55.44546708,
            43.60712934,
            36.37874293,
            33.82592306,
            34.38583847,
            36.64467032,
            36.10426183,
            41.4307655,
            41.61411986,
            41.65051415,
            36.14508385,
            40.4275684,
            54.67701478,
            70.09919795,
            77.77602635,
            78.17718237,
            83.34510835,
            99.35497826,
            116.3818392,
            123.6971236,
            123.6238135,
            123.6091074,
            128.9042947,
            132.4448089,
            null
           ]
          },
          {
           "type": "scatter",
           "x": [
            null,
            null
           ],
           "y": [
            null,
            null
           ]
          },
          {
           "hovertemplate": "Detection<br>(%{x}, %{y})<br>Time: %{meta}",
           "meta": [
            "2025-01-09 14:44:24",
            "2025-01-09 14:44:25",
            "2025-01-09 14:44:26",
            "2025-01-09 14:44:27",
            "2025-01-09 14:44:28",
            "2025-01-09 14:44:29",
            "2025-01-09 14:44:30",
            "2025-01-09 14:44:31",
            "2025-01-09 14:44:32",
            "2025-01-09 14:44:33",
            "2025-01-09 14:44:34",
            "2025-01-09 14:44:35",
            "2025-01-09 14:44:36",
            "2025-01-09 14:44:37",
            "2025-01-09 14:44:38",
            "2025-01-09 14:44:39",
            "2025-01-09 14:44:40",
            "2025-01-09 14:44:41",
            "2025-01-09 14:44:42",
            "2025-01-09 14:44:43",
            "2025-01-09 14:44:44",
            "2025-01-09 14:44:45",
            "2025-01-09 14:44:46",
            "2025-01-09 14:44:47",
            "2025-01-09 14:44:48",
            "2025-01-09 14:44:49",
            "2025-01-09 14:44:50",
            "2025-01-09 14:44:51",
            "2025-01-09 14:44:52",
            "2025-01-09 14:44:53",
            "2025-01-09 14:44:54",
            "2025-01-09 14:44:55",
            "2025-01-09 14:44:56",
            "2025-01-09 14:44:57",
            "2025-01-09 14:44:58",
            "2025-01-09 14:44:59"
           ],
           "type": "scatter",
           "x": [
            77.99730680145169,
            89.32677733462154,
            100.3230024678982,
            110.37502458622242,
            112.51475383083013,
            117.95818981683755,
            127.49727108687048,
            131.06557206113158,
            130.31479947134028,
            133.16915456245104,
            125.18674982593032,
            131.84438020286137,
            131.97892413148077,
            120.12943845523563,
            117.61152431780424,
            108.8764631767969,
            98.39310811884359,
            83.56353285390867,
            71.63086271419168,
            51.61894144676717,
            44.72473490210102,
            43.309761555780945,
            39.453101646722224,
            33.94825416303204,
            26.592306484119824,
            20.117676757592967,
            27.86328315913987,
            29.818412371677347,
            28.339235590923234,
            23.886491498899375,
            37.821208016593026,
            46.82141355769738,
            49.710302845064945,
            45.75512504937613,
            52.34633586136469,
            71.4071513287825,
            null
           ],
           "y": [
            133.79185911959564,
            133.66752662373142,
            112.31996452768946,
            121.44620589336175,
            123.58294566179377,
            120.28822171944623,
            106.37899870804137,
            97.75519592835539,
            87.90179057607384,
            76.66498702762841,
            71.86992112076258,
            58.73394702384867,
            52.19340656745482,
            43.188573527052114,
            39.66432902283251,
            34.671520160373056,
            29.9566429174598,
            36.994277243128515,
            38.79286490665786,
            40.75479599992838,
            38.43886322319879,
            46.0125805425723,
            35.165519932401644,
            42.16608968749065,
            54.201313051889215,
            70.96433823587778,
            75.13605252987823,
            79.13496154943564,
            84.02145607462953,
            98.54386435461522,
            115.57785388927039,
            119.83703835281113,
            122.72540401457482,
            124.64391998213631,
            129.02044813611832,
            132.73322345638937,
            null
           ]
          }
         ],
         "name": "2025-01-09 14:44:59",
         "traces": [
          0,
          1,
          2,
          3
         ]
        },
        {
         "data": [
          {
           "type": "scatter",
           "x": [
            0,
            0
           ],
           "y": [
            0,
            0
           ]
          },
          {
           "hovertemplate": "GroundTruthState<br>(%{x}, %{y})<br>Time: %{meta}",
           "meta": [
            "2025-01-09 14:44:24",
            "2025-01-09 14:44:25",
            "2025-01-09 14:44:26",
            "2025-01-09 14:44:27",
            "2025-01-09 14:44:28",
            "2025-01-09 14:44:29",
            "2025-01-09 14:44:30",
            "2025-01-09 14:44:31",
            "2025-01-09 14:44:32",
            "2025-01-09 14:44:33",
            "2025-01-09 14:44:34",
            "2025-01-09 14:44:35",
            "2025-01-09 14:44:36",
            "2025-01-09 14:44:37",
            "2025-01-09 14:44:38",
            "2025-01-09 14:44:39",
            "2025-01-09 14:44:40",
            "2025-01-09 14:44:41",
            "2025-01-09 14:44:42",
            "2025-01-09 14:44:43",
            "2025-01-09 14:44:44",
            "2025-01-09 14:44:45",
            "2025-01-09 14:44:46",
            "2025-01-09 14:44:47",
            "2025-01-09 14:44:48",
            "2025-01-09 14:44:49",
            "2025-01-09 14:44:50",
            "2025-01-09 14:44:51",
            "2025-01-09 14:44:52",
            "2025-01-09 14:44:53",
            "2025-01-09 14:44:54",
            "2025-01-09 14:44:55",
            "2025-01-09 14:44:56",
            "2025-01-09 14:44:57",
            "2025-01-09 14:44:58",
            "2025-01-09 14:44:59",
            "2025-01-09 14:45:00"
           ],
           "type": "scatter",
           "x": [
            74.05276584,
            87.13825267,
            96.14701585,
            108.2505623,
            112.7455582,
            117.6360986,
            125.795539,
            130.0730637,
            126.9739371,
            132.4691139,
            130.8954086,
            129.9114421,
            126.9035985,
            120.0271193,
            114.1841258,
            108.5299902,
            100.3782574,
            84.34148807,
            68.87984912,
            52.48503054,
            47.06937061,
            47.12509769,
            40.59271857,
            36.74958975,
            30.20109178,
            22.12000086,
            29.00547817,
            29.88142975,
            28.19049856,
            25.30487882,
            39.32487529,
            48.63966392,
            49.31356593,
            49.40035937,
            54.37511668,
            69.77685527,
            85.72253517,
            null
           ],
           "y": [
            132.8970804,
            128.6567371,
            114.5052243,
            121.7846509,
            122.6648195,
            117.0363673,
            106.1069251,
            97.00907745,
            88.3605384,
            78.57480316,
            70.40838551,
            60.39347846,
            55.44546708,
            43.60712934,
            36.37874293,
            33.82592306,
            34.38583847,
            36.64467032,
            36.10426183,
            41.4307655,
            41.61411986,
            41.65051415,
            36.14508385,
            40.4275684,
            54.67701478,
            70.09919795,
            77.77602635,
            78.17718237,
            83.34510835,
            99.35497826,
            116.3818392,
            123.6971236,
            123.6238135,
            123.6091074,
            128.9042947,
            132.4448089,
            125.8094665,
            null
           ]
          },
          {
           "type": "scatter",
           "x": [
            null,
            null
           ],
           "y": [
            null,
            null
           ]
          },
          {
           "hovertemplate": "Detection<br>(%{x}, %{y})<br>Time: %{meta}",
           "meta": [
            "2025-01-09 14:44:24",
            "2025-01-09 14:44:25",
            "2025-01-09 14:44:26",
            "2025-01-09 14:44:27",
            "2025-01-09 14:44:28",
            "2025-01-09 14:44:29",
            "2025-01-09 14:44:30",
            "2025-01-09 14:44:31",
            "2025-01-09 14:44:32",
            "2025-01-09 14:44:33",
            "2025-01-09 14:44:34",
            "2025-01-09 14:44:35",
            "2025-01-09 14:44:36",
            "2025-01-09 14:44:37",
            "2025-01-09 14:44:38",
            "2025-01-09 14:44:39",
            "2025-01-09 14:44:40",
            "2025-01-09 14:44:41",
            "2025-01-09 14:44:42",
            "2025-01-09 14:44:43",
            "2025-01-09 14:44:44",
            "2025-01-09 14:44:45",
            "2025-01-09 14:44:46",
            "2025-01-09 14:44:47",
            "2025-01-09 14:44:48",
            "2025-01-09 14:44:49",
            "2025-01-09 14:44:50",
            "2025-01-09 14:44:51",
            "2025-01-09 14:44:52",
            "2025-01-09 14:44:53",
            "2025-01-09 14:44:54",
            "2025-01-09 14:44:55",
            "2025-01-09 14:44:56",
            "2025-01-09 14:44:57",
            "2025-01-09 14:44:58",
            "2025-01-09 14:44:59",
            "2025-01-09 14:45:00"
           ],
           "type": "scatter",
           "x": [
            77.99730680145169,
            89.32677733462154,
            100.3230024678982,
            110.37502458622242,
            112.51475383083013,
            117.95818981683755,
            127.49727108687048,
            131.06557206113158,
            130.31479947134028,
            133.16915456245104,
            125.18674982593032,
            131.84438020286137,
            131.97892413148077,
            120.12943845523563,
            117.61152431780424,
            108.8764631767969,
            98.39310811884359,
            83.56353285390867,
            71.63086271419168,
            51.61894144676717,
            44.72473490210102,
            43.309761555780945,
            39.453101646722224,
            33.94825416303204,
            26.592306484119824,
            20.117676757592967,
            27.86328315913987,
            29.818412371677347,
            28.339235590923234,
            23.886491498899375,
            37.821208016593026,
            46.82141355769738,
            49.710302845064945,
            45.75512504937613,
            52.34633586136469,
            71.4071513287825,
            88.27031255424862,
            null
           ],
           "y": [
            133.79185911959564,
            133.66752662373142,
            112.31996452768946,
            121.44620589336175,
            123.58294566179377,
            120.28822171944623,
            106.37899870804137,
            97.75519592835539,
            87.90179057607384,
            76.66498702762841,
            71.86992112076258,
            58.73394702384867,
            52.19340656745482,
            43.188573527052114,
            39.66432902283251,
            34.671520160373056,
            29.9566429174598,
            36.994277243128515,
            38.79286490665786,
            40.75479599992838,
            38.43886322319879,
            46.0125805425723,
            35.165519932401644,
            42.16608968749065,
            54.201313051889215,
            70.96433823587778,
            75.13605252987823,
            79.13496154943564,
            84.02145607462953,
            98.54386435461522,
            115.57785388927039,
            119.83703835281113,
            122.72540401457482,
            124.64391998213631,
            129.02044813611832,
            132.73322345638937,
            123.04831202531729,
            null
           ]
          }
         ],
         "name": "2025-01-09 14:45:00",
         "traces": [
          0,
          1,
          2,
          3
         ]
        },
        {
         "data": [
          {
           "type": "scatter",
           "x": [
            0,
            0
           ],
           "y": [
            0,
            0
           ]
          },
          {
           "hovertemplate": "GroundTruthState<br>(%{x}, %{y})<br>Time: %{meta}",
           "meta": [
            "2025-01-09 14:44:24",
            "2025-01-09 14:44:25",
            "2025-01-09 14:44:26",
            "2025-01-09 14:44:27",
            "2025-01-09 14:44:28",
            "2025-01-09 14:44:29",
            "2025-01-09 14:44:30",
            "2025-01-09 14:44:31",
            "2025-01-09 14:44:32",
            "2025-01-09 14:44:33",
            "2025-01-09 14:44:34",
            "2025-01-09 14:44:35",
            "2025-01-09 14:44:36",
            "2025-01-09 14:44:37",
            "2025-01-09 14:44:38",
            "2025-01-09 14:44:39",
            "2025-01-09 14:44:40",
            "2025-01-09 14:44:41",
            "2025-01-09 14:44:42",
            "2025-01-09 14:44:43",
            "2025-01-09 14:44:44",
            "2025-01-09 14:44:45",
            "2025-01-09 14:44:46",
            "2025-01-09 14:44:47",
            "2025-01-09 14:44:48",
            "2025-01-09 14:44:49",
            "2025-01-09 14:44:50",
            "2025-01-09 14:44:51",
            "2025-01-09 14:44:52",
            "2025-01-09 14:44:53",
            "2025-01-09 14:44:54",
            "2025-01-09 14:44:55",
            "2025-01-09 14:44:56",
            "2025-01-09 14:44:57",
            "2025-01-09 14:44:58",
            "2025-01-09 14:44:59",
            "2025-01-09 14:45:00",
            "2025-01-09 14:45:01"
           ],
           "type": "scatter",
           "x": [
            74.05276584,
            87.13825267,
            96.14701585,
            108.2505623,
            112.7455582,
            117.6360986,
            125.795539,
            130.0730637,
            126.9739371,
            132.4691139,
            130.8954086,
            129.9114421,
            126.9035985,
            120.0271193,
            114.1841258,
            108.5299902,
            100.3782574,
            84.34148807,
            68.87984912,
            52.48503054,
            47.06937061,
            47.12509769,
            40.59271857,
            36.74958975,
            30.20109178,
            22.12000086,
            29.00547817,
            29.88142975,
            28.19049856,
            25.30487882,
            39.32487529,
            48.63966392,
            49.31356593,
            49.40035937,
            54.37511668,
            69.77685527,
            85.72253517,
            99.71336332,
            null
           ],
           "y": [
            132.8970804,
            128.6567371,
            114.5052243,
            121.7846509,
            122.6648195,
            117.0363673,
            106.1069251,
            97.00907745,
            88.3605384,
            78.57480316,
            70.40838551,
            60.39347846,
            55.44546708,
            43.60712934,
            36.37874293,
            33.82592306,
            34.38583847,
            36.64467032,
            36.10426183,
            41.4307655,
            41.61411986,
            41.65051415,
            36.14508385,
            40.4275684,
            54.67701478,
            70.09919795,
            77.77602635,
            78.17718237,
            83.34510835,
            99.35497826,
            116.3818392,
            123.6971236,
            123.6238135,
            123.6091074,
            128.9042947,
            132.4448089,
            125.8094665,
            121.044838,
            null
           ]
          },
          {
           "type": "scatter",
           "x": [
            null,
            null
           ],
           "y": [
            null,
            null
           ]
          },
          {
           "hovertemplate": "Detection<br>(%{x}, %{y})<br>Time: %{meta}",
           "meta": [
            "2025-01-09 14:44:24",
            "2025-01-09 14:44:25",
            "2025-01-09 14:44:26",
            "2025-01-09 14:44:27",
            "2025-01-09 14:44:28",
            "2025-01-09 14:44:29",
            "2025-01-09 14:44:30",
            "2025-01-09 14:44:31",
            "2025-01-09 14:44:32",
            "2025-01-09 14:44:33",
            "2025-01-09 14:44:34",
            "2025-01-09 14:44:35",
            "2025-01-09 14:44:36",
            "2025-01-09 14:44:37",
            "2025-01-09 14:44:38",
            "2025-01-09 14:44:39",
            "2025-01-09 14:44:40",
            "2025-01-09 14:44:41",
            "2025-01-09 14:44:42",
            "2025-01-09 14:44:43",
            "2025-01-09 14:44:44",
            "2025-01-09 14:44:45",
            "2025-01-09 14:44:46",
            "2025-01-09 14:44:47",
            "2025-01-09 14:44:48",
            "2025-01-09 14:44:49",
            "2025-01-09 14:44:50",
            "2025-01-09 14:44:51",
            "2025-01-09 14:44:52",
            "2025-01-09 14:44:53",
            "2025-01-09 14:44:54",
            "2025-01-09 14:44:55",
            "2025-01-09 14:44:56",
            "2025-01-09 14:44:57",
            "2025-01-09 14:44:58",
            "2025-01-09 14:44:59",
            "2025-01-09 14:45:00",
            "2025-01-09 14:45:01"
           ],
           "type": "scatter",
           "x": [
            77.99730680145169,
            89.32677733462154,
            100.3230024678982,
            110.37502458622242,
            112.51475383083013,
            117.95818981683755,
            127.49727108687048,
            131.06557206113158,
            130.31479947134028,
            133.16915456245104,
            125.18674982593032,
            131.84438020286137,
            131.97892413148077,
            120.12943845523563,
            117.61152431780424,
            108.8764631767969,
            98.39310811884359,
            83.56353285390867,
            71.63086271419168,
            51.61894144676717,
            44.72473490210102,
            43.309761555780945,
            39.453101646722224,
            33.94825416303204,
            26.592306484119824,
            20.117676757592967,
            27.86328315913987,
            29.818412371677347,
            28.339235590923234,
            23.886491498899375,
            37.821208016593026,
            46.82141355769738,
            49.710302845064945,
            45.75512504937613,
            52.34633586136469,
            71.4071513287825,
            88.27031255424862,
            100.61302657985183,
            null
           ],
           "y": [
            133.79185911959564,
            133.66752662373142,
            112.31996452768946,
            121.44620589336175,
            123.58294566179377,
            120.28822171944623,
            106.37899870804137,
            97.75519592835539,
            87.90179057607384,
            76.66498702762841,
            71.86992112076258,
            58.73394702384867,
            52.19340656745482,
            43.188573527052114,
            39.66432902283251,
            34.671520160373056,
            29.9566429174598,
            36.994277243128515,
            38.79286490665786,
            40.75479599992838,
            38.43886322319879,
            46.0125805425723,
            35.165519932401644,
            42.16608968749065,
            54.201313051889215,
            70.96433823587778,
            75.13605252987823,
            79.13496154943564,
            84.02145607462953,
            98.54386435461522,
            115.57785388927039,
            119.83703835281113,
            122.72540401457482,
            124.64391998213631,
            129.02044813611832,
            132.73322345638937,
            123.04831202531729,
            119.51355608497964,
            null
           ]
          }
         ],
         "name": "2025-01-09 14:45:01",
         "traces": [
          0,
          1,
          2,
          3
         ]
        },
        {
         "data": [
          {
           "type": "scatter",
           "x": [
            0,
            0
           ],
           "y": [
            0,
            0
           ]
          },
          {
           "hovertemplate": "GroundTruthState<br>(%{x}, %{y})<br>Time: %{meta}",
           "meta": [
            "2025-01-09 14:44:24",
            "2025-01-09 14:44:25",
            "2025-01-09 14:44:26",
            "2025-01-09 14:44:27",
            "2025-01-09 14:44:28",
            "2025-01-09 14:44:29",
            "2025-01-09 14:44:30",
            "2025-01-09 14:44:31",
            "2025-01-09 14:44:32",
            "2025-01-09 14:44:33",
            "2025-01-09 14:44:34",
            "2025-01-09 14:44:35",
            "2025-01-09 14:44:36",
            "2025-01-09 14:44:37",
            "2025-01-09 14:44:38",
            "2025-01-09 14:44:39",
            "2025-01-09 14:44:40",
            "2025-01-09 14:44:41",
            "2025-01-09 14:44:42",
            "2025-01-09 14:44:43",
            "2025-01-09 14:44:44",
            "2025-01-09 14:44:45",
            "2025-01-09 14:44:46",
            "2025-01-09 14:44:47",
            "2025-01-09 14:44:48",
            "2025-01-09 14:44:49",
            "2025-01-09 14:44:50",
            "2025-01-09 14:44:51",
            "2025-01-09 14:44:52",
            "2025-01-09 14:44:53",
            "2025-01-09 14:44:54",
            "2025-01-09 14:44:55",
            "2025-01-09 14:44:56",
            "2025-01-09 14:44:57",
            "2025-01-09 14:44:58",
            "2025-01-09 14:44:59",
            "2025-01-09 14:45:00",
            "2025-01-09 14:45:01",
            "2025-01-09 14:45:02"
           ],
           "type": "scatter",
           "x": [
            74.05276584,
            87.13825267,
            96.14701585,
            108.2505623,
            112.7455582,
            117.6360986,
            125.795539,
            130.0730637,
            126.9739371,
            132.4691139,
            130.8954086,
            129.9114421,
            126.9035985,
            120.0271193,
            114.1841258,
            108.5299902,
            100.3782574,
            84.34148807,
            68.87984912,
            52.48503054,
            47.06937061,
            47.12509769,
            40.59271857,
            36.74958975,
            30.20109178,
            22.12000086,
            29.00547817,
            29.88142975,
            28.19049856,
            25.30487882,
            39.32487529,
            48.63966392,
            49.31356593,
            49.40035937,
            54.37511668,
            69.77685527,
            85.72253517,
            99.71336332,
            109.3859885,
            null
           ],
           "y": [
            132.8970804,
            128.6567371,
            114.5052243,
            121.7846509,
            122.6648195,
            117.0363673,
            106.1069251,
            97.00907745,
            88.3605384,
            78.57480316,
            70.40838551,
            60.39347846,
            55.44546708,
            43.60712934,
            36.37874293,
            33.82592306,
            34.38583847,
            36.64467032,
            36.10426183,
            41.4307655,
            41.61411986,
            41.65051415,
            36.14508385,
            40.4275684,
            54.67701478,
            70.09919795,
            77.77602635,
            78.17718237,
            83.34510835,
            99.35497826,
            116.3818392,
            123.6971236,
            123.6238135,
            123.6091074,
            128.9042947,
            132.4448089,
            125.8094665,
            121.044838,
            124.31573,
            null
           ]
          },
          {
           "type": "scatter",
           "x": [
            null,
            null
           ],
           "y": [
            null,
            null
           ]
          },
          {
           "hovertemplate": "Detection<br>(%{x}, %{y})<br>Time: %{meta}",
           "meta": [
            "2025-01-09 14:44:24",
            "2025-01-09 14:44:25",
            "2025-01-09 14:44:26",
            "2025-01-09 14:44:27",
            "2025-01-09 14:44:28",
            "2025-01-09 14:44:29",
            "2025-01-09 14:44:30",
            "2025-01-09 14:44:31",
            "2025-01-09 14:44:32",
            "2025-01-09 14:44:33",
            "2025-01-09 14:44:34",
            "2025-01-09 14:44:35",
            "2025-01-09 14:44:36",
            "2025-01-09 14:44:37",
            "2025-01-09 14:44:38",
            "2025-01-09 14:44:39",
            "2025-01-09 14:44:40",
            "2025-01-09 14:44:41",
            "2025-01-09 14:44:42",
            "2025-01-09 14:44:43",
            "2025-01-09 14:44:44",
            "2025-01-09 14:44:45",
            "2025-01-09 14:44:46",
            "2025-01-09 14:44:47",
            "2025-01-09 14:44:48",
            "2025-01-09 14:44:49",
            "2025-01-09 14:44:50",
            "2025-01-09 14:44:51",
            "2025-01-09 14:44:52",
            "2025-01-09 14:44:53",
            "2025-01-09 14:44:54",
            "2025-01-09 14:44:55",
            "2025-01-09 14:44:56",
            "2025-01-09 14:44:57",
            "2025-01-09 14:44:58",
            "2025-01-09 14:44:59",
            "2025-01-09 14:45:00",
            "2025-01-09 14:45:01",
            "2025-01-09 14:45:02"
           ],
           "type": "scatter",
           "x": [
            77.99730680145169,
            89.32677733462154,
            100.3230024678982,
            110.37502458622242,
            112.51475383083013,
            117.95818981683755,
            127.49727108687048,
            131.06557206113158,
            130.31479947134028,
            133.16915456245104,
            125.18674982593032,
            131.84438020286137,
            131.97892413148077,
            120.12943845523563,
            117.61152431780424,
            108.8764631767969,
            98.39310811884359,
            83.56353285390867,
            71.63086271419168,
            51.61894144676717,
            44.72473490210102,
            43.309761555780945,
            39.453101646722224,
            33.94825416303204,
            26.592306484119824,
            20.117676757592967,
            27.86328315913987,
            29.818412371677347,
            28.339235590923234,
            23.886491498899375,
            37.821208016593026,
            46.82141355769738,
            49.710302845064945,
            45.75512504937613,
            52.34633586136469,
            71.4071513287825,
            88.27031255424862,
            100.61302657985183,
            107.43882687981629,
            null
           ],
           "y": [
            133.79185911959564,
            133.66752662373142,
            112.31996452768946,
            121.44620589336175,
            123.58294566179377,
            120.28822171944623,
            106.37899870804137,
            97.75519592835539,
            87.90179057607384,
            76.66498702762841,
            71.86992112076258,
            58.73394702384867,
            52.19340656745482,
            43.188573527052114,
            39.66432902283251,
            34.671520160373056,
            29.9566429174598,
            36.994277243128515,
            38.79286490665786,
            40.75479599992838,
            38.43886322319879,
            46.0125805425723,
            35.165519932401644,
            42.16608968749065,
            54.201313051889215,
            70.96433823587778,
            75.13605252987823,
            79.13496154943564,
            84.02145607462953,
            98.54386435461522,
            115.57785388927039,
            119.83703835281113,
            122.72540401457482,
            124.64391998213631,
            129.02044813611832,
            132.73322345638937,
            123.04831202531729,
            119.51355608497964,
            123.0213828008338,
            null
           ]
          }
         ],
         "name": "2025-01-09 14:45:02",
         "traces": [
          0,
          1,
          2,
          3
         ]
        },
        {
         "data": [
          {
           "type": "scatter",
           "x": [
            0,
            0
           ],
           "y": [
            0,
            0
           ]
          },
          {
           "hovertemplate": "GroundTruthState<br>(%{x}, %{y})<br>Time: %{meta}",
           "meta": [
            "2025-01-09 14:44:24",
            "2025-01-09 14:44:25",
            "2025-01-09 14:44:26",
            "2025-01-09 14:44:27",
            "2025-01-09 14:44:28",
            "2025-01-09 14:44:29",
            "2025-01-09 14:44:30",
            "2025-01-09 14:44:31",
            "2025-01-09 14:44:32",
            "2025-01-09 14:44:33",
            "2025-01-09 14:44:34",
            "2025-01-09 14:44:35",
            "2025-01-09 14:44:36",
            "2025-01-09 14:44:37",
            "2025-01-09 14:44:38",
            "2025-01-09 14:44:39",
            "2025-01-09 14:44:40",
            "2025-01-09 14:44:41",
            "2025-01-09 14:44:42",
            "2025-01-09 14:44:43",
            "2025-01-09 14:44:44",
            "2025-01-09 14:44:45",
            "2025-01-09 14:44:46",
            "2025-01-09 14:44:47",
            "2025-01-09 14:44:48",
            "2025-01-09 14:44:49",
            "2025-01-09 14:44:50",
            "2025-01-09 14:44:51",
            "2025-01-09 14:44:52",
            "2025-01-09 14:44:53",
            "2025-01-09 14:44:54",
            "2025-01-09 14:44:55",
            "2025-01-09 14:44:56",
            "2025-01-09 14:44:57",
            "2025-01-09 14:44:58",
            "2025-01-09 14:44:59",
            "2025-01-09 14:45:00",
            "2025-01-09 14:45:01",
            "2025-01-09 14:45:02",
            "2025-01-09 14:45:03"
           ],
           "type": "scatter",
           "x": [
            74.05276584,
            87.13825267,
            96.14701585,
            108.2505623,
            112.7455582,
            117.6360986,
            125.795539,
            130.0730637,
            126.9739371,
            132.4691139,
            130.8954086,
            129.9114421,
            126.9035985,
            120.0271193,
            114.1841258,
            108.5299902,
            100.3782574,
            84.34148807,
            68.87984912,
            52.48503054,
            47.06937061,
            47.12509769,
            40.59271857,
            36.74958975,
            30.20109178,
            22.12000086,
            29.00547817,
            29.88142975,
            28.19049856,
            25.30487882,
            39.32487529,
            48.63966392,
            49.31356593,
            49.40035937,
            54.37511668,
            69.77685527,
            85.72253517,
            99.71336332,
            109.3859885,
            115.0053909,
            null
           ],
           "y": [
            132.8970804,
            128.6567371,
            114.5052243,
            121.7846509,
            122.6648195,
            117.0363673,
            106.1069251,
            97.00907745,
            88.3605384,
            78.57480316,
            70.40838551,
            60.39347846,
            55.44546708,
            43.60712934,
            36.37874293,
            33.82592306,
            34.38583847,
            36.64467032,
            36.10426183,
            41.4307655,
            41.61411986,
            41.65051415,
            36.14508385,
            40.4275684,
            54.67701478,
            70.09919795,
            77.77602635,
            78.17718237,
            83.34510835,
            99.35497826,
            116.3818392,
            123.6971236,
            123.6238135,
            123.6091074,
            128.9042947,
            132.4448089,
            125.8094665,
            121.044838,
            124.31573,
            117.4327358,
            null
           ]
          },
          {
           "type": "scatter",
           "x": [
            null,
            null
           ],
           "y": [
            null,
            null
           ]
          },
          {
           "hovertemplate": "Detection<br>(%{x}, %{y})<br>Time: %{meta}",
           "meta": [
            "2025-01-09 14:44:24",
            "2025-01-09 14:44:25",
            "2025-01-09 14:44:26",
            "2025-01-09 14:44:27",
            "2025-01-09 14:44:28",
            "2025-01-09 14:44:29",
            "2025-01-09 14:44:30",
            "2025-01-09 14:44:31",
            "2025-01-09 14:44:32",
            "2025-01-09 14:44:33",
            "2025-01-09 14:44:34",
            "2025-01-09 14:44:35",
            "2025-01-09 14:44:36",
            "2025-01-09 14:44:37",
            "2025-01-09 14:44:38",
            "2025-01-09 14:44:39",
            "2025-01-09 14:44:40",
            "2025-01-09 14:44:41",
            "2025-01-09 14:44:42",
            "2025-01-09 14:44:43",
            "2025-01-09 14:44:44",
            "2025-01-09 14:44:45",
            "2025-01-09 14:44:46",
            "2025-01-09 14:44:47",
            "2025-01-09 14:44:48",
            "2025-01-09 14:44:49",
            "2025-01-09 14:44:50",
            "2025-01-09 14:44:51",
            "2025-01-09 14:44:52",
            "2025-01-09 14:44:53",
            "2025-01-09 14:44:54",
            "2025-01-09 14:44:55",
            "2025-01-09 14:44:56",
            "2025-01-09 14:44:57",
            "2025-01-09 14:44:58",
            "2025-01-09 14:44:59",
            "2025-01-09 14:45:00",
            "2025-01-09 14:45:01",
            "2025-01-09 14:45:02",
            "2025-01-09 14:45:03"
           ],
           "type": "scatter",
           "x": [
            77.99730680145169,
            89.32677733462154,
            100.3230024678982,
            110.37502458622242,
            112.51475383083013,
            117.95818981683755,
            127.49727108687048,
            131.06557206113158,
            130.31479947134028,
            133.16915456245104,
            125.18674982593032,
            131.84438020286137,
            131.97892413148077,
            120.12943845523563,
            117.61152431780424,
            108.8764631767969,
            98.39310811884359,
            83.56353285390867,
            71.63086271419168,
            51.61894144676717,
            44.72473490210102,
            43.309761555780945,
            39.453101646722224,
            33.94825416303204,
            26.592306484119824,
            20.117676757592967,
            27.86328315913987,
            29.818412371677347,
            28.339235590923234,
            23.886491498899375,
            37.821208016593026,
            46.82141355769738,
            49.710302845064945,
            45.75512504937613,
            52.34633586136469,
            71.4071513287825,
            88.27031255424862,
            100.61302657985183,
            107.43882687981629,
            114.308738259601,
            null
           ],
           "y": [
            133.79185911959564,
            133.66752662373142,
            112.31996452768946,
            121.44620589336175,
            123.58294566179377,
            120.28822171944623,
            106.37899870804137,
            97.75519592835539,
            87.90179057607384,
            76.66498702762841,
            71.86992112076258,
            58.73394702384867,
            52.19340656745482,
            43.188573527052114,
            39.66432902283251,
            34.671520160373056,
            29.9566429174598,
            36.994277243128515,
            38.79286490665786,
            40.75479599992838,
            38.43886322319879,
            46.0125805425723,
            35.165519932401644,
            42.16608968749065,
            54.201313051889215,
            70.96433823587778,
            75.13605252987823,
            79.13496154943564,
            84.02145607462953,
            98.54386435461522,
            115.57785388927039,
            119.83703835281113,
            122.72540401457482,
            124.64391998213631,
            129.02044813611832,
            132.73322345638937,
            123.04831202531729,
            119.51355608497964,
            123.0213828008338,
            117.55832532320525,
            null
           ]
          }
         ],
         "name": "2025-01-09 14:45:03",
         "traces": [
          0,
          1,
          2,
          3
         ]
        },
        {
         "data": [
          {
           "type": "scatter",
           "x": [
            0,
            0
           ],
           "y": [
            0,
            0
           ]
          },
          {
           "hovertemplate": "GroundTruthState<br>(%{x}, %{y})<br>Time: %{meta}",
           "meta": [
            "2025-01-09 14:44:24",
            "2025-01-09 14:44:25",
            "2025-01-09 14:44:26",
            "2025-01-09 14:44:27",
            "2025-01-09 14:44:28",
            "2025-01-09 14:44:29",
            "2025-01-09 14:44:30",
            "2025-01-09 14:44:31",
            "2025-01-09 14:44:32",
            "2025-01-09 14:44:33",
            "2025-01-09 14:44:34",
            "2025-01-09 14:44:35",
            "2025-01-09 14:44:36",
            "2025-01-09 14:44:37",
            "2025-01-09 14:44:38",
            "2025-01-09 14:44:39",
            "2025-01-09 14:44:40",
            "2025-01-09 14:44:41",
            "2025-01-09 14:44:42",
            "2025-01-09 14:44:43",
            "2025-01-09 14:44:44",
            "2025-01-09 14:44:45",
            "2025-01-09 14:44:46",
            "2025-01-09 14:44:47",
            "2025-01-09 14:44:48",
            "2025-01-09 14:44:49",
            "2025-01-09 14:44:50",
            "2025-01-09 14:44:51",
            "2025-01-09 14:44:52",
            "2025-01-09 14:44:53",
            "2025-01-09 14:44:54",
            "2025-01-09 14:44:55",
            "2025-01-09 14:44:56",
            "2025-01-09 14:44:57",
            "2025-01-09 14:44:58",
            "2025-01-09 14:44:59",
            "2025-01-09 14:45:00",
            "2025-01-09 14:45:01",
            "2025-01-09 14:45:02",
            "2025-01-09 14:45:03",
            "2025-01-09 14:45:04"
           ],
           "type": "scatter",
           "x": [
            74.05276584,
            87.13825267,
            96.14701585,
            108.2505623,
            112.7455582,
            117.6360986,
            125.795539,
            130.0730637,
            126.9739371,
            132.4691139,
            130.8954086,
            129.9114421,
            126.9035985,
            120.0271193,
            114.1841258,
            108.5299902,
            100.3782574,
            84.34148807,
            68.87984912,
            52.48503054,
            47.06937061,
            47.12509769,
            40.59271857,
            36.74958975,
            30.20109178,
            22.12000086,
            29.00547817,
            29.88142975,
            28.19049856,
            25.30487882,
            39.32487529,
            48.63966392,
            49.31356593,
            49.40035937,
            54.37511668,
            69.77685527,
            85.72253517,
            99.71336332,
            109.3859885,
            115.0053909,
            115.2764287,
            null
           ],
           "y": [
            132.8970804,
            128.6567371,
            114.5052243,
            121.7846509,
            122.6648195,
            117.0363673,
            106.1069251,
            97.00907745,
            88.3605384,
            78.57480316,
            70.40838551,
            60.39347846,
            55.44546708,
            43.60712934,
            36.37874293,
            33.82592306,
            34.38583847,
            36.64467032,
            36.10426183,
            41.4307655,
            41.61411986,
            41.65051415,
            36.14508385,
            40.4275684,
            54.67701478,
            70.09919795,
            77.77602635,
            78.17718237,
            83.34510835,
            99.35497826,
            116.3818392,
            123.6971236,
            123.6238135,
            123.6091074,
            128.9042947,
            132.4448089,
            125.8094665,
            121.044838,
            124.31573,
            117.4327358,
            119.7933835,
            null
           ]
          },
          {
           "type": "scatter",
           "x": [
            null,
            null
           ],
           "y": [
            null,
            null
           ]
          },
          {
           "hovertemplate": "Detection<br>(%{x}, %{y})<br>Time: %{meta}",
           "meta": [
            "2025-01-09 14:44:24",
            "2025-01-09 14:44:25",
            "2025-01-09 14:44:26",
            "2025-01-09 14:44:27",
            "2025-01-09 14:44:28",
            "2025-01-09 14:44:29",
            "2025-01-09 14:44:30",
            "2025-01-09 14:44:31",
            "2025-01-09 14:44:32",
            "2025-01-09 14:44:33",
            "2025-01-09 14:44:34",
            "2025-01-09 14:44:35",
            "2025-01-09 14:44:36",
            "2025-01-09 14:44:37",
            "2025-01-09 14:44:38",
            "2025-01-09 14:44:39",
            "2025-01-09 14:44:40",
            "2025-01-09 14:44:41",
            "2025-01-09 14:44:42",
            "2025-01-09 14:44:43",
            "2025-01-09 14:44:44",
            "2025-01-09 14:44:45",
            "2025-01-09 14:44:46",
            "2025-01-09 14:44:47",
            "2025-01-09 14:44:48",
            "2025-01-09 14:44:49",
            "2025-01-09 14:44:50",
            "2025-01-09 14:44:51",
            "2025-01-09 14:44:52",
            "2025-01-09 14:44:53",
            "2025-01-09 14:44:54",
            "2025-01-09 14:44:55",
            "2025-01-09 14:44:56",
            "2025-01-09 14:44:57",
            "2025-01-09 14:44:58",
            "2025-01-09 14:44:59",
            "2025-01-09 14:45:00",
            "2025-01-09 14:45:01",
            "2025-01-09 14:45:02",
            "2025-01-09 14:45:03",
            "2025-01-09 14:45:04"
           ],
           "type": "scatter",
           "x": [
            77.99730680145169,
            89.32677733462154,
            100.3230024678982,
            110.37502458622242,
            112.51475383083013,
            117.95818981683755,
            127.49727108687048,
            131.06557206113158,
            130.31479947134028,
            133.16915456245104,
            125.18674982593032,
            131.84438020286137,
            131.97892413148077,
            120.12943845523563,
            117.61152431780424,
            108.8764631767969,
            98.39310811884359,
            83.56353285390867,
            71.63086271419168,
            51.61894144676717,
            44.72473490210102,
            43.309761555780945,
            39.453101646722224,
            33.94825416303204,
            26.592306484119824,
            20.117676757592967,
            27.86328315913987,
            29.818412371677347,
            28.339235590923234,
            23.886491498899375,
            37.821208016593026,
            46.82141355769738,
            49.710302845064945,
            45.75512504937613,
            52.34633586136469,
            71.4071513287825,
            88.27031255424862,
            100.61302657985183,
            107.43882687981629,
            114.308738259601,
            112.67107445203536,
            null
           ],
           "y": [
            133.79185911959564,
            133.66752662373142,
            112.31996452768946,
            121.44620589336175,
            123.58294566179377,
            120.28822171944623,
            106.37899870804137,
            97.75519592835539,
            87.90179057607384,
            76.66498702762841,
            71.86992112076258,
            58.73394702384867,
            52.19340656745482,
            43.188573527052114,
            39.66432902283251,
            34.671520160373056,
            29.9566429174598,
            36.994277243128515,
            38.79286490665786,
            40.75479599992838,
            38.43886322319879,
            46.0125805425723,
            35.165519932401644,
            42.16608968749065,
            54.201313051889215,
            70.96433823587778,
            75.13605252987823,
            79.13496154943564,
            84.02145607462953,
            98.54386435461522,
            115.57785388927039,
            119.83703835281113,
            122.72540401457482,
            124.64391998213631,
            129.02044813611832,
            132.73322345638937,
            123.04831202531729,
            119.51355608497964,
            123.0213828008338,
            117.55832532320525,
            121.8076927607619,
            null
           ]
          }
         ],
         "name": "2025-01-09 14:45:04",
         "traces": [
          0,
          1,
          2,
          3
         ]
        },
        {
         "data": [
          {
           "type": "scatter",
           "x": [
            0,
            0
           ],
           "y": [
            0,
            0
           ]
          },
          {
           "hovertemplate": "GroundTruthState<br>(%{x}, %{y})<br>Time: %{meta}",
           "meta": [
            "2025-01-09 14:44:24",
            "2025-01-09 14:44:25",
            "2025-01-09 14:44:26",
            "2025-01-09 14:44:27",
            "2025-01-09 14:44:28",
            "2025-01-09 14:44:29",
            "2025-01-09 14:44:30",
            "2025-01-09 14:44:31",
            "2025-01-09 14:44:32",
            "2025-01-09 14:44:33",
            "2025-01-09 14:44:34",
            "2025-01-09 14:44:35",
            "2025-01-09 14:44:36",
            "2025-01-09 14:44:37",
            "2025-01-09 14:44:38",
            "2025-01-09 14:44:39",
            "2025-01-09 14:44:40",
            "2025-01-09 14:44:41",
            "2025-01-09 14:44:42",
            "2025-01-09 14:44:43",
            "2025-01-09 14:44:44",
            "2025-01-09 14:44:45",
            "2025-01-09 14:44:46",
            "2025-01-09 14:44:47",
            "2025-01-09 14:44:48",
            "2025-01-09 14:44:49",
            "2025-01-09 14:44:50",
            "2025-01-09 14:44:51",
            "2025-01-09 14:44:52",
            "2025-01-09 14:44:53",
            "2025-01-09 14:44:54",
            "2025-01-09 14:44:55",
            "2025-01-09 14:44:56",
            "2025-01-09 14:44:57",
            "2025-01-09 14:44:58",
            "2025-01-09 14:44:59",
            "2025-01-09 14:45:00",
            "2025-01-09 14:45:01",
            "2025-01-09 14:45:02",
            "2025-01-09 14:45:03",
            "2025-01-09 14:45:04",
            "2025-01-09 14:45:05"
           ],
           "type": "scatter",
           "x": [
            74.05276584,
            87.13825267,
            96.14701585,
            108.2505623,
            112.7455582,
            117.6360986,
            125.795539,
            130.0730637,
            126.9739371,
            132.4691139,
            130.8954086,
            129.9114421,
            126.9035985,
            120.0271193,
            114.1841258,
            108.5299902,
            100.3782574,
            84.34148807,
            68.87984912,
            52.48503054,
            47.06937061,
            47.12509769,
            40.59271857,
            36.74958975,
            30.20109178,
            22.12000086,
            29.00547817,
            29.88142975,
            28.19049856,
            25.30487882,
            39.32487529,
            48.63966392,
            49.31356593,
            49.40035937,
            54.37511668,
            69.77685527,
            85.72253517,
            99.71336332,
            109.3859885,
            115.0053909,
            115.2764287,
            112.4255818,
            null
           ],
           "y": [
            132.8970804,
            128.6567371,
            114.5052243,
            121.7846509,
            122.6648195,
            117.0363673,
            106.1069251,
            97.00907745,
            88.3605384,
            78.57480316,
            70.40838551,
            60.39347846,
            55.44546708,
            43.60712934,
            36.37874293,
            33.82592306,
            34.38583847,
            36.64467032,
            36.10426183,
            41.4307655,
            41.61411986,
            41.65051415,
            36.14508385,
            40.4275684,
            54.67701478,
            70.09919795,
            77.77602635,
            78.17718237,
            83.34510835,
            99.35497826,
            116.3818392,
            123.6971236,
            123.6238135,
            123.6091074,
            128.9042947,
            132.4448089,
            125.8094665,
            121.044838,
            124.31573,
            117.4327358,
            119.7933835,
            122.8188661,
            null
           ]
          },
          {
           "type": "scatter",
           "x": [
            null,
            null
           ],
           "y": [
            null,
            null
           ]
          },
          {
           "hovertemplate": "Detection<br>(%{x}, %{y})<br>Time: %{meta}",
           "meta": [
            "2025-01-09 14:44:24",
            "2025-01-09 14:44:25",
            "2025-01-09 14:44:26",
            "2025-01-09 14:44:27",
            "2025-01-09 14:44:28",
            "2025-01-09 14:44:29",
            "2025-01-09 14:44:30",
            "2025-01-09 14:44:31",
            "2025-01-09 14:44:32",
            "2025-01-09 14:44:33",
            "2025-01-09 14:44:34",
            "2025-01-09 14:44:35",
            "2025-01-09 14:44:36",
            "2025-01-09 14:44:37",
            "2025-01-09 14:44:38",
            "2025-01-09 14:44:39",
            "2025-01-09 14:44:40",
            "2025-01-09 14:44:41",
            "2025-01-09 14:44:42",
            "2025-01-09 14:44:43",
            "2025-01-09 14:44:44",
            "2025-01-09 14:44:45",
            "2025-01-09 14:44:46",
            "2025-01-09 14:44:47",
            "2025-01-09 14:44:48",
            "2025-01-09 14:44:49",
            "2025-01-09 14:44:50",
            "2025-01-09 14:44:51",
            "2025-01-09 14:44:52",
            "2025-01-09 14:44:53",
            "2025-01-09 14:44:54",
            "2025-01-09 14:44:55",
            "2025-01-09 14:44:56",
            "2025-01-09 14:44:57",
            "2025-01-09 14:44:58",
            "2025-01-09 14:44:59",
            "2025-01-09 14:45:00",
            "2025-01-09 14:45:01",
            "2025-01-09 14:45:02",
            "2025-01-09 14:45:03",
            "2025-01-09 14:45:04",
            "2025-01-09 14:45:05"
           ],
           "type": "scatter",
           "x": [
            77.99730680145169,
            89.32677733462154,
            100.3230024678982,
            110.37502458622242,
            112.51475383083013,
            117.95818981683755,
            127.49727108687048,
            131.06557206113158,
            130.31479947134028,
            133.16915456245104,
            125.18674982593032,
            131.84438020286137,
            131.97892413148077,
            120.12943845523563,
            117.61152431780424,
            108.8764631767969,
            98.39310811884359,
            83.56353285390867,
            71.63086271419168,
            51.61894144676717,
            44.72473490210102,
            43.309761555780945,
            39.453101646722224,
            33.94825416303204,
            26.592306484119824,
            20.117676757592967,
            27.86328315913987,
            29.818412371677347,
            28.339235590923234,
            23.886491498899375,
            37.821208016593026,
            46.82141355769738,
            49.710302845064945,
            45.75512504937613,
            52.34633586136469,
            71.4071513287825,
            88.27031255424862,
            100.61302657985183,
            107.43882687981629,
            114.308738259601,
            112.67107445203536,
            113.4668346698057,
            null
           ],
           "y": [
            133.79185911959564,
            133.66752662373142,
            112.31996452768946,
            121.44620589336175,
            123.58294566179377,
            120.28822171944623,
            106.37899870804137,
            97.75519592835539,
            87.90179057607384,
            76.66498702762841,
            71.86992112076258,
            58.73394702384867,
            52.19340656745482,
            43.188573527052114,
            39.66432902283251,
            34.671520160373056,
            29.9566429174598,
            36.994277243128515,
            38.79286490665786,
            40.75479599992838,
            38.43886322319879,
            46.0125805425723,
            35.165519932401644,
            42.16608968749065,
            54.201313051889215,
            70.96433823587778,
            75.13605252987823,
            79.13496154943564,
            84.02145607462953,
            98.54386435461522,
            115.57785388927039,
            119.83703835281113,
            122.72540401457482,
            124.64391998213631,
            129.02044813611832,
            132.73322345638937,
            123.04831202531729,
            119.51355608497964,
            123.0213828008338,
            117.55832532320525,
            121.8076927607619,
            119.38372078747926,
            null
           ]
          }
         ],
         "name": "2025-01-09 14:45:05",
         "traces": [
          0,
          1,
          2,
          3
         ]
        },
        {
         "data": [
          {
           "type": "scatter",
           "x": [
            0,
            0
           ],
           "y": [
            0,
            0
           ]
          },
          {
           "hovertemplate": "GroundTruthState<br>(%{x}, %{y})<br>Time: %{meta}",
           "meta": [
            "2025-01-09 14:44:24",
            "2025-01-09 14:44:25",
            "2025-01-09 14:44:26",
            "2025-01-09 14:44:27",
            "2025-01-09 14:44:28",
            "2025-01-09 14:44:29",
            "2025-01-09 14:44:30",
            "2025-01-09 14:44:31",
            "2025-01-09 14:44:32",
            "2025-01-09 14:44:33",
            "2025-01-09 14:44:34",
            "2025-01-09 14:44:35",
            "2025-01-09 14:44:36",
            "2025-01-09 14:44:37",
            "2025-01-09 14:44:38",
            "2025-01-09 14:44:39",
            "2025-01-09 14:44:40",
            "2025-01-09 14:44:41",
            "2025-01-09 14:44:42",
            "2025-01-09 14:44:43",
            "2025-01-09 14:44:44",
            "2025-01-09 14:44:45",
            "2025-01-09 14:44:46",
            "2025-01-09 14:44:47",
            "2025-01-09 14:44:48",
            "2025-01-09 14:44:49",
            "2025-01-09 14:44:50",
            "2025-01-09 14:44:51",
            "2025-01-09 14:44:52",
            "2025-01-09 14:44:53",
            "2025-01-09 14:44:54",
            "2025-01-09 14:44:55",
            "2025-01-09 14:44:56",
            "2025-01-09 14:44:57",
            "2025-01-09 14:44:58",
            "2025-01-09 14:44:59",
            "2025-01-09 14:45:00",
            "2025-01-09 14:45:01",
            "2025-01-09 14:45:02",
            "2025-01-09 14:45:03",
            "2025-01-09 14:45:04",
            "2025-01-09 14:45:05",
            "2025-01-09 14:45:06"
           ],
           "type": "scatter",
           "x": [
            74.05276584,
            87.13825267,
            96.14701585,
            108.2505623,
            112.7455582,
            117.6360986,
            125.795539,
            130.0730637,
            126.9739371,
            132.4691139,
            130.8954086,
            129.9114421,
            126.9035985,
            120.0271193,
            114.1841258,
            108.5299902,
            100.3782574,
            84.34148807,
            68.87984912,
            52.48503054,
            47.06937061,
            47.12509769,
            40.59271857,
            36.74958975,
            30.20109178,
            22.12000086,
            29.00547817,
            29.88142975,
            28.19049856,
            25.30487882,
            39.32487529,
            48.63966392,
            49.31356593,
            49.40035937,
            54.37511668,
            69.77685527,
            85.72253517,
            99.71336332,
            109.3859885,
            115.0053909,
            115.2764287,
            112.4255818,
            109.4035053,
            null
           ],
           "y": [
            132.8970804,
            128.6567371,
            114.5052243,
            121.7846509,
            122.6648195,
            117.0363673,
            106.1069251,
            97.00907745,
            88.3605384,
            78.57480316,
            70.40838551,
            60.39347846,
            55.44546708,
            43.60712934,
            36.37874293,
            33.82592306,
            34.38583847,
            36.64467032,
            36.10426183,
            41.4307655,
            41.61411986,
            41.65051415,
            36.14508385,
            40.4275684,
            54.67701478,
            70.09919795,
            77.77602635,
            78.17718237,
            83.34510835,
            99.35497826,
            116.3818392,
            123.6971236,
            123.6238135,
            123.6091074,
            128.9042947,
            132.4448089,
            125.8094665,
            121.044838,
            124.31573,
            117.4327358,
            119.7933835,
            122.8188661,
            125.6874438,
            null
           ]
          },
          {
           "type": "scatter",
           "x": [
            null,
            null
           ],
           "y": [
            null,
            null
           ]
          },
          {
           "hovertemplate": "Detection<br>(%{x}, %{y})<br>Time: %{meta}",
           "meta": [
            "2025-01-09 14:44:24",
            "2025-01-09 14:44:25",
            "2025-01-09 14:44:26",
            "2025-01-09 14:44:27",
            "2025-01-09 14:44:28",
            "2025-01-09 14:44:29",
            "2025-01-09 14:44:30",
            "2025-01-09 14:44:31",
            "2025-01-09 14:44:32",
            "2025-01-09 14:44:33",
            "2025-01-09 14:44:34",
            "2025-01-09 14:44:35",
            "2025-01-09 14:44:36",
            "2025-01-09 14:44:37",
            "2025-01-09 14:44:38",
            "2025-01-09 14:44:39",
            "2025-01-09 14:44:40",
            "2025-01-09 14:44:41",
            "2025-01-09 14:44:42",
            "2025-01-09 14:44:43",
            "2025-01-09 14:44:44",
            "2025-01-09 14:44:45",
            "2025-01-09 14:44:46",
            "2025-01-09 14:44:47",
            "2025-01-09 14:44:48",
            "2025-01-09 14:44:49",
            "2025-01-09 14:44:50",
            "2025-01-09 14:44:51",
            "2025-01-09 14:44:52",
            "2025-01-09 14:44:53",
            "2025-01-09 14:44:54",
            "2025-01-09 14:44:55",
            "2025-01-09 14:44:56",
            "2025-01-09 14:44:57",
            "2025-01-09 14:44:58",
            "2025-01-09 14:44:59",
            "2025-01-09 14:45:00",
            "2025-01-09 14:45:01",
            "2025-01-09 14:45:02",
            "2025-01-09 14:45:03",
            "2025-01-09 14:45:04",
            "2025-01-09 14:45:05",
            "2025-01-09 14:45:06"
           ],
           "type": "scatter",
           "x": [
            77.99730680145169,
            89.32677733462154,
            100.3230024678982,
            110.37502458622242,
            112.51475383083013,
            117.95818981683755,
            127.49727108687048,
            131.06557206113158,
            130.31479947134028,
            133.16915456245104,
            125.18674982593032,
            131.84438020286137,
            131.97892413148077,
            120.12943845523563,
            117.61152431780424,
            108.8764631767969,
            98.39310811884359,
            83.56353285390867,
            71.63086271419168,
            51.61894144676717,
            44.72473490210102,
            43.309761555780945,
            39.453101646722224,
            33.94825416303204,
            26.592306484119824,
            20.117676757592967,
            27.86328315913987,
            29.818412371677347,
            28.339235590923234,
            23.886491498899375,
            37.821208016593026,
            46.82141355769738,
            49.710302845064945,
            45.75512504937613,
            52.34633586136469,
            71.4071513287825,
            88.27031255424862,
            100.61302657985183,
            107.43882687981629,
            114.308738259601,
            112.67107445203536,
            113.4668346698057,
            112.73133837299015,
            null
           ],
           "y": [
            133.79185911959564,
            133.66752662373142,
            112.31996452768946,
            121.44620589336175,
            123.58294566179377,
            120.28822171944623,
            106.37899870804137,
            97.75519592835539,
            87.90179057607384,
            76.66498702762841,
            71.86992112076258,
            58.73394702384867,
            52.19340656745482,
            43.188573527052114,
            39.66432902283251,
            34.671520160373056,
            29.9566429174598,
            36.994277243128515,
            38.79286490665786,
            40.75479599992838,
            38.43886322319879,
            46.0125805425723,
            35.165519932401644,
            42.16608968749065,
            54.201313051889215,
            70.96433823587778,
            75.13605252987823,
            79.13496154943564,
            84.02145607462953,
            98.54386435461522,
            115.57785388927039,
            119.83703835281113,
            122.72540401457482,
            124.64391998213631,
            129.02044813611832,
            132.73322345638937,
            123.04831202531729,
            119.51355608497964,
            123.0213828008338,
            117.55832532320525,
            121.8076927607619,
            119.38372078747926,
            129.92678087541046,
            null
           ]
          }
         ],
         "name": "2025-01-09 14:45:06",
         "traces": [
          0,
          1,
          2,
          3
         ]
        },
        {
         "data": [
          {
           "type": "scatter",
           "x": [
            0,
            0
           ],
           "y": [
            0,
            0
           ]
          },
          {
           "hovertemplate": "GroundTruthState<br>(%{x}, %{y})<br>Time: %{meta}",
           "meta": [
            "2025-01-09 14:44:24",
            "2025-01-09 14:44:25",
            "2025-01-09 14:44:26",
            "2025-01-09 14:44:27",
            "2025-01-09 14:44:28",
            "2025-01-09 14:44:29",
            "2025-01-09 14:44:30",
            "2025-01-09 14:44:31",
            "2025-01-09 14:44:32",
            "2025-01-09 14:44:33",
            "2025-01-09 14:44:34",
            "2025-01-09 14:44:35",
            "2025-01-09 14:44:36",
            "2025-01-09 14:44:37",
            "2025-01-09 14:44:38",
            "2025-01-09 14:44:39",
            "2025-01-09 14:44:40",
            "2025-01-09 14:44:41",
            "2025-01-09 14:44:42",
            "2025-01-09 14:44:43",
            "2025-01-09 14:44:44",
            "2025-01-09 14:44:45",
            "2025-01-09 14:44:46",
            "2025-01-09 14:44:47",
            "2025-01-09 14:44:48",
            "2025-01-09 14:44:49",
            "2025-01-09 14:44:50",
            "2025-01-09 14:44:51",
            "2025-01-09 14:44:52",
            "2025-01-09 14:44:53",
            "2025-01-09 14:44:54",
            "2025-01-09 14:44:55",
            "2025-01-09 14:44:56",
            "2025-01-09 14:44:57",
            "2025-01-09 14:44:58",
            "2025-01-09 14:44:59",
            "2025-01-09 14:45:00",
            "2025-01-09 14:45:01",
            "2025-01-09 14:45:02",
            "2025-01-09 14:45:03",
            "2025-01-09 14:45:04",
            "2025-01-09 14:45:05",
            "2025-01-09 14:45:06",
            "2025-01-09 14:45:07"
           ],
           "type": "scatter",
           "x": [
            74.05276584,
            87.13825267,
            96.14701585,
            108.2505623,
            112.7455582,
            117.6360986,
            125.795539,
            130.0730637,
            126.9739371,
            132.4691139,
            130.8954086,
            129.9114421,
            126.9035985,
            120.0271193,
            114.1841258,
            108.5299902,
            100.3782574,
            84.34148807,
            68.87984912,
            52.48503054,
            47.06937061,
            47.12509769,
            40.59271857,
            36.74958975,
            30.20109178,
            22.12000086,
            29.00547817,
            29.88142975,
            28.19049856,
            25.30487882,
            39.32487529,
            48.63966392,
            49.31356593,
            49.40035937,
            54.37511668,
            69.77685527,
            85.72253517,
            99.71336332,
            109.3859885,
            115.0053909,
            115.2764287,
            112.4255818,
            109.4035053,
            107.3416123,
            null
           ],
           "y": [
            132.8970804,
            128.6567371,
            114.5052243,
            121.7846509,
            122.6648195,
            117.0363673,
            106.1069251,
            97.00907745,
            88.3605384,
            78.57480316,
            70.40838551,
            60.39347846,
            55.44546708,
            43.60712934,
            36.37874293,
            33.82592306,
            34.38583847,
            36.64467032,
            36.10426183,
            41.4307655,
            41.61411986,
            41.65051415,
            36.14508385,
            40.4275684,
            54.67701478,
            70.09919795,
            77.77602635,
            78.17718237,
            83.34510835,
            99.35497826,
            116.3818392,
            123.6971236,
            123.6238135,
            123.6091074,
            128.9042947,
            132.4448089,
            125.8094665,
            121.044838,
            124.31573,
            117.4327358,
            119.7933835,
            122.8188661,
            125.6874438,
            119.5411869,
            null
           ]
          },
          {
           "type": "scatter",
           "x": [
            null,
            null
           ],
           "y": [
            null,
            null
           ]
          },
          {
           "hovertemplate": "Detection<br>(%{x}, %{y})<br>Time: %{meta}",
           "meta": [
            "2025-01-09 14:44:24",
            "2025-01-09 14:44:25",
            "2025-01-09 14:44:26",
            "2025-01-09 14:44:27",
            "2025-01-09 14:44:28",
            "2025-01-09 14:44:29",
            "2025-01-09 14:44:30",
            "2025-01-09 14:44:31",
            "2025-01-09 14:44:32",
            "2025-01-09 14:44:33",
            "2025-01-09 14:44:34",
            "2025-01-09 14:44:35",
            "2025-01-09 14:44:36",
            "2025-01-09 14:44:37",
            "2025-01-09 14:44:38",
            "2025-01-09 14:44:39",
            "2025-01-09 14:44:40",
            "2025-01-09 14:44:41",
            "2025-01-09 14:44:42",
            "2025-01-09 14:44:43",
            "2025-01-09 14:44:44",
            "2025-01-09 14:44:45",
            "2025-01-09 14:44:46",
            "2025-01-09 14:44:47",
            "2025-01-09 14:44:48",
            "2025-01-09 14:44:49",
            "2025-01-09 14:44:50",
            "2025-01-09 14:44:51",
            "2025-01-09 14:44:52",
            "2025-01-09 14:44:53",
            "2025-01-09 14:44:54",
            "2025-01-09 14:44:55",
            "2025-01-09 14:44:56",
            "2025-01-09 14:44:57",
            "2025-01-09 14:44:58",
            "2025-01-09 14:44:59",
            "2025-01-09 14:45:00",
            "2025-01-09 14:45:01",
            "2025-01-09 14:45:02",
            "2025-01-09 14:45:03",
            "2025-01-09 14:45:04",
            "2025-01-09 14:45:05",
            "2025-01-09 14:45:06",
            "2025-01-09 14:45:07"
           ],
           "type": "scatter",
           "x": [
            77.99730680145169,
            89.32677733462154,
            100.3230024678982,
            110.37502458622242,
            112.51475383083013,
            117.95818981683755,
            127.49727108687048,
            131.06557206113158,
            130.31479947134028,
            133.16915456245104,
            125.18674982593032,
            131.84438020286137,
            131.97892413148077,
            120.12943845523563,
            117.61152431780424,
            108.8764631767969,
            98.39310811884359,
            83.56353285390867,
            71.63086271419168,
            51.61894144676717,
            44.72473490210102,
            43.309761555780945,
            39.453101646722224,
            33.94825416303204,
            26.592306484119824,
            20.117676757592967,
            27.86328315913987,
            29.818412371677347,
            28.339235590923234,
            23.886491498899375,
            37.821208016593026,
            46.82141355769738,
            49.710302845064945,
            45.75512504937613,
            52.34633586136469,
            71.4071513287825,
            88.27031255424862,
            100.61302657985183,
            107.43882687981629,
            114.308738259601,
            112.67107445203536,
            113.4668346698057,
            112.73133837299015,
            109.97744355160103,
            null
           ],
           "y": [
            133.79185911959564,
            133.66752662373142,
            112.31996452768946,
            121.44620589336175,
            123.58294566179377,
            120.28822171944623,
            106.37899870804137,
            97.75519592835539,
            87.90179057607384,
            76.66498702762841,
            71.86992112076258,
            58.73394702384867,
            52.19340656745482,
            43.188573527052114,
            39.66432902283251,
            34.671520160373056,
            29.9566429174598,
            36.994277243128515,
            38.79286490665786,
            40.75479599992838,
            38.43886322319879,
            46.0125805425723,
            35.165519932401644,
            42.16608968749065,
            54.201313051889215,
            70.96433823587778,
            75.13605252987823,
            79.13496154943564,
            84.02145607462953,
            98.54386435461522,
            115.57785388927039,
            119.83703835281113,
            122.72540401457482,
            124.64391998213631,
            129.02044813611832,
            132.73322345638937,
            123.04831202531729,
            119.51355608497964,
            123.0213828008338,
            117.55832532320525,
            121.8076927607619,
            119.38372078747926,
            129.92678087541046,
            119.13886273628309,
            null
           ]
          }
         ],
         "name": "2025-01-09 14:45:07",
         "traces": [
          0,
          1,
          2,
          3
         ]
        },
        {
         "data": [
          {
           "type": "scatter",
           "x": [
            0,
            0
           ],
           "y": [
            0,
            0
           ]
          },
          {
           "hovertemplate": "GroundTruthState<br>(%{x}, %{y})<br>Time: %{meta}",
           "meta": [
            "2025-01-09 14:44:24",
            "2025-01-09 14:44:25",
            "2025-01-09 14:44:26",
            "2025-01-09 14:44:27",
            "2025-01-09 14:44:28",
            "2025-01-09 14:44:29",
            "2025-01-09 14:44:30",
            "2025-01-09 14:44:31",
            "2025-01-09 14:44:32",
            "2025-01-09 14:44:33",
            "2025-01-09 14:44:34",
            "2025-01-09 14:44:35",
            "2025-01-09 14:44:36",
            "2025-01-09 14:44:37",
            "2025-01-09 14:44:38",
            "2025-01-09 14:44:39",
            "2025-01-09 14:44:40",
            "2025-01-09 14:44:41",
            "2025-01-09 14:44:42",
            "2025-01-09 14:44:43",
            "2025-01-09 14:44:44",
            "2025-01-09 14:44:45",
            "2025-01-09 14:44:46",
            "2025-01-09 14:44:47",
            "2025-01-09 14:44:48",
            "2025-01-09 14:44:49",
            "2025-01-09 14:44:50",
            "2025-01-09 14:44:51",
            "2025-01-09 14:44:52",
            "2025-01-09 14:44:53",
            "2025-01-09 14:44:54",
            "2025-01-09 14:44:55",
            "2025-01-09 14:44:56",
            "2025-01-09 14:44:57",
            "2025-01-09 14:44:58",
            "2025-01-09 14:44:59",
            "2025-01-09 14:45:00",
            "2025-01-09 14:45:01",
            "2025-01-09 14:45:02",
            "2025-01-09 14:45:03",
            "2025-01-09 14:45:04",
            "2025-01-09 14:45:05",
            "2025-01-09 14:45:06",
            "2025-01-09 14:45:07",
            "2025-01-09 14:45:08"
           ],
           "type": "scatter",
           "x": [
            74.05276584,
            87.13825267,
            96.14701585,
            108.2505623,
            112.7455582,
            117.6360986,
            125.795539,
            130.0730637,
            126.9739371,
            132.4691139,
            130.8954086,
            129.9114421,
            126.9035985,
            120.0271193,
            114.1841258,
            108.5299902,
            100.3782574,
            84.34148807,
            68.87984912,
            52.48503054,
            47.06937061,
            47.12509769,
            40.59271857,
            36.74958975,
            30.20109178,
            22.12000086,
            29.00547817,
            29.88142975,
            28.19049856,
            25.30487882,
            39.32487529,
            48.63966392,
            49.31356593,
            49.40035937,
            54.37511668,
            69.77685527,
            85.72253517,
            99.71336332,
            109.3859885,
            115.0053909,
            115.2764287,
            112.4255818,
            109.4035053,
            107.3416123,
            111.0755005,
            null
           ],
           "y": [
            132.8970804,
            128.6567371,
            114.5052243,
            121.7846509,
            122.6648195,
            117.0363673,
            106.1069251,
            97.00907745,
            88.3605384,
            78.57480316,
            70.40838551,
            60.39347846,
            55.44546708,
            43.60712934,
            36.37874293,
            33.82592306,
            34.38583847,
            36.64467032,
            36.10426183,
            41.4307655,
            41.61411986,
            41.65051415,
            36.14508385,
            40.4275684,
            54.67701478,
            70.09919795,
            77.77602635,
            78.17718237,
            83.34510835,
            99.35497826,
            116.3818392,
            123.6971236,
            123.6238135,
            123.6091074,
            128.9042947,
            132.4448089,
            125.8094665,
            121.044838,
            124.31573,
            117.4327358,
            119.7933835,
            122.8188661,
            125.6874438,
            119.5411869,
            114.596615,
            null
           ]
          },
          {
           "type": "scatter",
           "x": [
            null,
            null
           ],
           "y": [
            null,
            null
           ]
          },
          {
           "hovertemplate": "Detection<br>(%{x}, %{y})<br>Time: %{meta}",
           "meta": [
            "2025-01-09 14:44:24",
            "2025-01-09 14:44:25",
            "2025-01-09 14:44:26",
            "2025-01-09 14:44:27",
            "2025-01-09 14:44:28",
            "2025-01-09 14:44:29",
            "2025-01-09 14:44:30",
            "2025-01-09 14:44:31",
            "2025-01-09 14:44:32",
            "2025-01-09 14:44:33",
            "2025-01-09 14:44:34",
            "2025-01-09 14:44:35",
            "2025-01-09 14:44:36",
            "2025-01-09 14:44:37",
            "2025-01-09 14:44:38",
            "2025-01-09 14:44:39",
            "2025-01-09 14:44:40",
            "2025-01-09 14:44:41",
            "2025-01-09 14:44:42",
            "2025-01-09 14:44:43",
            "2025-01-09 14:44:44",
            "2025-01-09 14:44:45",
            "2025-01-09 14:44:46",
            "2025-01-09 14:44:47",
            "2025-01-09 14:44:48",
            "2025-01-09 14:44:49",
            "2025-01-09 14:44:50",
            "2025-01-09 14:44:51",
            "2025-01-09 14:44:52",
            "2025-01-09 14:44:53",
            "2025-01-09 14:44:54",
            "2025-01-09 14:44:55",
            "2025-01-09 14:44:56",
            "2025-01-09 14:44:57",
            "2025-01-09 14:44:58",
            "2025-01-09 14:44:59",
            "2025-01-09 14:45:00",
            "2025-01-09 14:45:01",
            "2025-01-09 14:45:02",
            "2025-01-09 14:45:03",
            "2025-01-09 14:45:04",
            "2025-01-09 14:45:05",
            "2025-01-09 14:45:06",
            "2025-01-09 14:45:07",
            "2025-01-09 14:45:08"
           ],
           "type": "scatter",
           "x": [
            77.99730680145169,
            89.32677733462154,
            100.3230024678982,
            110.37502458622242,
            112.51475383083013,
            117.95818981683755,
            127.49727108687048,
            131.06557206113158,
            130.31479947134028,
            133.16915456245104,
            125.18674982593032,
            131.84438020286137,
            131.97892413148077,
            120.12943845523563,
            117.61152431780424,
            108.8764631767969,
            98.39310811884359,
            83.56353285390867,
            71.63086271419168,
            51.61894144676717,
            44.72473490210102,
            43.309761555780945,
            39.453101646722224,
            33.94825416303204,
            26.592306484119824,
            20.117676757592967,
            27.86328315913987,
            29.818412371677347,
            28.339235590923234,
            23.886491498899375,
            37.821208016593026,
            46.82141355769738,
            49.710302845064945,
            45.75512504937613,
            52.34633586136469,
            71.4071513287825,
            88.27031255424862,
            100.61302657985183,
            107.43882687981629,
            114.308738259601,
            112.67107445203536,
            113.4668346698057,
            112.73133837299015,
            109.97744355160103,
            108.68122485121633,
            null
           ],
           "y": [
            133.79185911959564,
            133.66752662373142,
            112.31996452768946,
            121.44620589336175,
            123.58294566179377,
            120.28822171944623,
            106.37899870804137,
            97.75519592835539,
            87.90179057607384,
            76.66498702762841,
            71.86992112076258,
            58.73394702384867,
            52.19340656745482,
            43.188573527052114,
            39.66432902283251,
            34.671520160373056,
            29.9566429174598,
            36.994277243128515,
            38.79286490665786,
            40.75479599992838,
            38.43886322319879,
            46.0125805425723,
            35.165519932401644,
            42.16608968749065,
            54.201313051889215,
            70.96433823587778,
            75.13605252987823,
            79.13496154943564,
            84.02145607462953,
            98.54386435461522,
            115.57785388927039,
            119.83703835281113,
            122.72540401457482,
            124.64391998213631,
            129.02044813611832,
            132.73322345638937,
            123.04831202531729,
            119.51355608497964,
            123.0213828008338,
            117.55832532320525,
            121.8076927607619,
            119.38372078747926,
            129.92678087541046,
            119.13886273628309,
            116.95444074041006,
            null
           ]
          }
         ],
         "name": "2025-01-09 14:45:08",
         "traces": [
          0,
          1,
          2,
          3
         ]
        },
        {
         "data": [
          {
           "type": "scatter",
           "x": [
            0,
            0
           ],
           "y": [
            0,
            0
           ]
          },
          {
           "hovertemplate": "GroundTruthState<br>(%{x}, %{y})<br>Time: %{meta}",
           "meta": [
            "2025-01-09 14:44:24",
            "2025-01-09 14:44:25",
            "2025-01-09 14:44:26",
            "2025-01-09 14:44:27",
            "2025-01-09 14:44:28",
            "2025-01-09 14:44:29",
            "2025-01-09 14:44:30",
            "2025-01-09 14:44:31",
            "2025-01-09 14:44:32",
            "2025-01-09 14:44:33",
            "2025-01-09 14:44:34",
            "2025-01-09 14:44:35",
            "2025-01-09 14:44:36",
            "2025-01-09 14:44:37",
            "2025-01-09 14:44:38",
            "2025-01-09 14:44:39",
            "2025-01-09 14:44:40",
            "2025-01-09 14:44:41",
            "2025-01-09 14:44:42",
            "2025-01-09 14:44:43",
            "2025-01-09 14:44:44",
            "2025-01-09 14:44:45",
            "2025-01-09 14:44:46",
            "2025-01-09 14:44:47",
            "2025-01-09 14:44:48",
            "2025-01-09 14:44:49",
            "2025-01-09 14:44:50",
            "2025-01-09 14:44:51",
            "2025-01-09 14:44:52",
            "2025-01-09 14:44:53",
            "2025-01-09 14:44:54",
            "2025-01-09 14:44:55",
            "2025-01-09 14:44:56",
            "2025-01-09 14:44:57",
            "2025-01-09 14:44:58",
            "2025-01-09 14:44:59",
            "2025-01-09 14:45:00",
            "2025-01-09 14:45:01",
            "2025-01-09 14:45:02",
            "2025-01-09 14:45:03",
            "2025-01-09 14:45:04",
            "2025-01-09 14:45:05",
            "2025-01-09 14:45:06",
            "2025-01-09 14:45:07",
            "2025-01-09 14:45:08",
            "2025-01-09 14:45:09"
           ],
           "type": "scatter",
           "x": [
            74.05276584,
            87.13825267,
            96.14701585,
            108.2505623,
            112.7455582,
            117.6360986,
            125.795539,
            130.0730637,
            126.9739371,
            132.4691139,
            130.8954086,
            129.9114421,
            126.9035985,
            120.0271193,
            114.1841258,
            108.5299902,
            100.3782574,
            84.34148807,
            68.87984912,
            52.48503054,
            47.06937061,
            47.12509769,
            40.59271857,
            36.74958975,
            30.20109178,
            22.12000086,
            29.00547817,
            29.88142975,
            28.19049856,
            25.30487882,
            39.32487529,
            48.63966392,
            49.31356593,
            49.40035937,
            54.37511668,
            69.77685527,
            85.72253517,
            99.71336332,
            109.3859885,
            115.0053909,
            115.2764287,
            112.4255818,
            109.4035053,
            107.3416123,
            111.0755005,
            116.9881901,
            null
           ],
           "y": [
            132.8970804,
            128.6567371,
            114.5052243,
            121.7846509,
            122.6648195,
            117.0363673,
            106.1069251,
            97.00907745,
            88.3605384,
            78.57480316,
            70.40838551,
            60.39347846,
            55.44546708,
            43.60712934,
            36.37874293,
            33.82592306,
            34.38583847,
            36.64467032,
            36.10426183,
            41.4307655,
            41.61411986,
            41.65051415,
            36.14508385,
            40.4275684,
            54.67701478,
            70.09919795,
            77.77602635,
            78.17718237,
            83.34510835,
            99.35497826,
            116.3818392,
            123.6971236,
            123.6238135,
            123.6091074,
            128.9042947,
            132.4448089,
            125.8094665,
            121.044838,
            124.31573,
            117.4327358,
            119.7933835,
            122.8188661,
            125.6874438,
            119.5411869,
            114.596615,
            118.6663965,
            null
           ]
          },
          {
           "type": "scatter",
           "x": [
            null,
            null
           ],
           "y": [
            null,
            null
           ]
          },
          {
           "hovertemplate": "Detection<br>(%{x}, %{y})<br>Time: %{meta}",
           "meta": [
            "2025-01-09 14:44:24",
            "2025-01-09 14:44:25",
            "2025-01-09 14:44:26",
            "2025-01-09 14:44:27",
            "2025-01-09 14:44:28",
            "2025-01-09 14:44:29",
            "2025-01-09 14:44:30",
            "2025-01-09 14:44:31",
            "2025-01-09 14:44:32",
            "2025-01-09 14:44:33",
            "2025-01-09 14:44:34",
            "2025-01-09 14:44:35",
            "2025-01-09 14:44:36",
            "2025-01-09 14:44:37",
            "2025-01-09 14:44:38",
            "2025-01-09 14:44:39",
            "2025-01-09 14:44:40",
            "2025-01-09 14:44:41",
            "2025-01-09 14:44:42",
            "2025-01-09 14:44:43",
            "2025-01-09 14:44:44",
            "2025-01-09 14:44:45",
            "2025-01-09 14:44:46",
            "2025-01-09 14:44:47",
            "2025-01-09 14:44:48",
            "2025-01-09 14:44:49",
            "2025-01-09 14:44:50",
            "2025-01-09 14:44:51",
            "2025-01-09 14:44:52",
            "2025-01-09 14:44:53",
            "2025-01-09 14:44:54",
            "2025-01-09 14:44:55",
            "2025-01-09 14:44:56",
            "2025-01-09 14:44:57",
            "2025-01-09 14:44:58",
            "2025-01-09 14:44:59",
            "2025-01-09 14:45:00",
            "2025-01-09 14:45:01",
            "2025-01-09 14:45:02",
            "2025-01-09 14:45:03",
            "2025-01-09 14:45:04",
            "2025-01-09 14:45:05",
            "2025-01-09 14:45:06",
            "2025-01-09 14:45:07",
            "2025-01-09 14:45:08",
            "2025-01-09 14:45:09"
           ],
           "type": "scatter",
           "x": [
            77.99730680145169,
            89.32677733462154,
            100.3230024678982,
            110.37502458622242,
            112.51475383083013,
            117.95818981683755,
            127.49727108687048,
            131.06557206113158,
            130.31479947134028,
            133.16915456245104,
            125.18674982593032,
            131.84438020286137,
            131.97892413148077,
            120.12943845523563,
            117.61152431780424,
            108.8764631767969,
            98.39310811884359,
            83.56353285390867,
            71.63086271419168,
            51.61894144676717,
            44.72473490210102,
            43.309761555780945,
            39.453101646722224,
            33.94825416303204,
            26.592306484119824,
            20.117676757592967,
            27.86328315913987,
            29.818412371677347,
            28.339235590923234,
            23.886491498899375,
            37.821208016593026,
            46.82141355769738,
            49.710302845064945,
            45.75512504937613,
            52.34633586136469,
            71.4071513287825,
            88.27031255424862,
            100.61302657985183,
            107.43882687981629,
            114.308738259601,
            112.67107445203536,
            113.4668346698057,
            112.73133837299015,
            109.97744355160103,
            108.68122485121633,
            116.08665903960714,
            null
           ],
           "y": [
            133.79185911959564,
            133.66752662373142,
            112.31996452768946,
            121.44620589336175,
            123.58294566179377,
            120.28822171944623,
            106.37899870804137,
            97.75519592835539,
            87.90179057607384,
            76.66498702762841,
            71.86992112076258,
            58.73394702384867,
            52.19340656745482,
            43.188573527052114,
            39.66432902283251,
            34.671520160373056,
            29.9566429174598,
            36.994277243128515,
            38.79286490665786,
            40.75479599992838,
            38.43886322319879,
            46.0125805425723,
            35.165519932401644,
            42.16608968749065,
            54.201313051889215,
            70.96433823587778,
            75.13605252987823,
            79.13496154943564,
            84.02145607462953,
            98.54386435461522,
            115.57785388927039,
            119.83703835281113,
            122.72540401457482,
            124.64391998213631,
            129.02044813611832,
            132.73322345638937,
            123.04831202531729,
            119.51355608497964,
            123.0213828008338,
            117.55832532320525,
            121.8076927607619,
            119.38372078747926,
            129.92678087541046,
            119.13886273628309,
            116.95444074041006,
            121.39986677613463,
            null
           ]
          }
         ],
         "name": "2025-01-09 14:45:09",
         "traces": [
          0,
          1,
          2,
          3
         ]
        },
        {
         "data": [
          {
           "type": "scatter",
           "x": [
            0,
            0
           ],
           "y": [
            0,
            0
           ]
          },
          {
           "hovertemplate": "GroundTruthState<br>(%{x}, %{y})<br>Time: %{meta}",
           "meta": [
            "2025-01-09 14:44:24",
            "2025-01-09 14:44:25",
            "2025-01-09 14:44:26",
            "2025-01-09 14:44:27",
            "2025-01-09 14:44:28",
            "2025-01-09 14:44:29",
            "2025-01-09 14:44:30",
            "2025-01-09 14:44:31",
            "2025-01-09 14:44:32",
            "2025-01-09 14:44:33",
            "2025-01-09 14:44:34",
            "2025-01-09 14:44:35",
            "2025-01-09 14:44:36",
            "2025-01-09 14:44:37",
            "2025-01-09 14:44:38",
            "2025-01-09 14:44:39",
            "2025-01-09 14:44:40",
            "2025-01-09 14:44:41",
            "2025-01-09 14:44:42",
            "2025-01-09 14:44:43",
            "2025-01-09 14:44:44",
            "2025-01-09 14:44:45",
            "2025-01-09 14:44:46",
            "2025-01-09 14:44:47",
            "2025-01-09 14:44:48",
            "2025-01-09 14:44:49",
            "2025-01-09 14:44:50",
            "2025-01-09 14:44:51",
            "2025-01-09 14:44:52",
            "2025-01-09 14:44:53",
            "2025-01-09 14:44:54",
            "2025-01-09 14:44:55",
            "2025-01-09 14:44:56",
            "2025-01-09 14:44:57",
            "2025-01-09 14:44:58",
            "2025-01-09 14:44:59",
            "2025-01-09 14:45:00",
            "2025-01-09 14:45:01",
            "2025-01-09 14:45:02",
            "2025-01-09 14:45:03",
            "2025-01-09 14:45:04",
            "2025-01-09 14:45:05",
            "2025-01-09 14:45:06",
            "2025-01-09 14:45:07",
            "2025-01-09 14:45:08",
            "2025-01-09 14:45:09",
            "2025-01-09 14:45:10"
           ],
           "type": "scatter",
           "x": [
            74.05276584,
            87.13825267,
            96.14701585,
            108.2505623,
            112.7455582,
            117.6360986,
            125.795539,
            130.0730637,
            126.9739371,
            132.4691139,
            130.8954086,
            129.9114421,
            126.9035985,
            120.0271193,
            114.1841258,
            108.5299902,
            100.3782574,
            84.34148807,
            68.87984912,
            52.48503054,
            47.06937061,
            47.12509769,
            40.59271857,
            36.74958975,
            30.20109178,
            22.12000086,
            29.00547817,
            29.88142975,
            28.19049856,
            25.30487882,
            39.32487529,
            48.63966392,
            49.31356593,
            49.40035937,
            54.37511668,
            69.77685527,
            85.72253517,
            99.71336332,
            109.3859885,
            115.0053909,
            115.2764287,
            112.4255818,
            109.4035053,
            107.3416123,
            111.0755005,
            116.9881901,
            120.7725,
            null
           ],
           "y": [
            132.8970804,
            128.6567371,
            114.5052243,
            121.7846509,
            122.6648195,
            117.0363673,
            106.1069251,
            97.00907745,
            88.3605384,
            78.57480316,
            70.40838551,
            60.39347846,
            55.44546708,
            43.60712934,
            36.37874293,
            33.82592306,
            34.38583847,
            36.64467032,
            36.10426183,
            41.4307655,
            41.61411986,
            41.65051415,
            36.14508385,
            40.4275684,
            54.67701478,
            70.09919795,
            77.77602635,
            78.17718237,
            83.34510835,
            99.35497826,
            116.3818392,
            123.6971236,
            123.6238135,
            123.6091074,
            128.9042947,
            132.4448089,
            125.8094665,
            121.044838,
            124.31573,
            117.4327358,
            119.7933835,
            122.8188661,
            125.6874438,
            119.5411869,
            114.596615,
            118.6663965,
            113.1797612,
            null
           ]
          },
          {
           "type": "scatter",
           "x": [
            null,
            null
           ],
           "y": [
            null,
            null
           ]
          },
          {
           "hovertemplate": "Detection<br>(%{x}, %{y})<br>Time: %{meta}",
           "meta": [
            "2025-01-09 14:44:24",
            "2025-01-09 14:44:25",
            "2025-01-09 14:44:26",
            "2025-01-09 14:44:27",
            "2025-01-09 14:44:28",
            "2025-01-09 14:44:29",
            "2025-01-09 14:44:30",
            "2025-01-09 14:44:31",
            "2025-01-09 14:44:32",
            "2025-01-09 14:44:33",
            "2025-01-09 14:44:34",
            "2025-01-09 14:44:35",
            "2025-01-09 14:44:36",
            "2025-01-09 14:44:37",
            "2025-01-09 14:44:38",
            "2025-01-09 14:44:39",
            "2025-01-09 14:44:40",
            "2025-01-09 14:44:41",
            "2025-01-09 14:44:42",
            "2025-01-09 14:44:43",
            "2025-01-09 14:44:44",
            "2025-01-09 14:44:45",
            "2025-01-09 14:44:46",
            "2025-01-09 14:44:47",
            "2025-01-09 14:44:48",
            "2025-01-09 14:44:49",
            "2025-01-09 14:44:50",
            "2025-01-09 14:44:51",
            "2025-01-09 14:44:52",
            "2025-01-09 14:44:53",
            "2025-01-09 14:44:54",
            "2025-01-09 14:44:55",
            "2025-01-09 14:44:56",
            "2025-01-09 14:44:57",
            "2025-01-09 14:44:58",
            "2025-01-09 14:44:59",
            "2025-01-09 14:45:00",
            "2025-01-09 14:45:01",
            "2025-01-09 14:45:02",
            "2025-01-09 14:45:03",
            "2025-01-09 14:45:04",
            "2025-01-09 14:45:05",
            "2025-01-09 14:45:06",
            "2025-01-09 14:45:07",
            "2025-01-09 14:45:08",
            "2025-01-09 14:45:09",
            "2025-01-09 14:45:10"
           ],
           "type": "scatter",
           "x": [
            77.99730680145169,
            89.32677733462154,
            100.3230024678982,
            110.37502458622242,
            112.51475383083013,
            117.95818981683755,
            127.49727108687048,
            131.06557206113158,
            130.31479947134028,
            133.16915456245104,
            125.18674982593032,
            131.84438020286137,
            131.97892413148077,
            120.12943845523563,
            117.61152431780424,
            108.8764631767969,
            98.39310811884359,
            83.56353285390867,
            71.63086271419168,
            51.61894144676717,
            44.72473490210102,
            43.309761555780945,
            39.453101646722224,
            33.94825416303204,
            26.592306484119824,
            20.117676757592967,
            27.86328315913987,
            29.818412371677347,
            28.339235590923234,
            23.886491498899375,
            37.821208016593026,
            46.82141355769738,
            49.710302845064945,
            45.75512504937613,
            52.34633586136469,
            71.4071513287825,
            88.27031255424862,
            100.61302657985183,
            107.43882687981629,
            114.308738259601,
            112.67107445203536,
            113.4668346698057,
            112.73133837299015,
            109.97744355160103,
            108.68122485121633,
            116.08665903960714,
            121.23821700899214,
            null
           ],
           "y": [
            133.79185911959564,
            133.66752662373142,
            112.31996452768946,
            121.44620589336175,
            123.58294566179377,
            120.28822171944623,
            106.37899870804137,
            97.75519592835539,
            87.90179057607384,
            76.66498702762841,
            71.86992112076258,
            58.73394702384867,
            52.19340656745482,
            43.188573527052114,
            39.66432902283251,
            34.671520160373056,
            29.9566429174598,
            36.994277243128515,
            38.79286490665786,
            40.75479599992838,
            38.43886322319879,
            46.0125805425723,
            35.165519932401644,
            42.16608968749065,
            54.201313051889215,
            70.96433823587778,
            75.13605252987823,
            79.13496154943564,
            84.02145607462953,
            98.54386435461522,
            115.57785388927039,
            119.83703835281113,
            122.72540401457482,
            124.64391998213631,
            129.02044813611832,
            132.73322345638937,
            123.04831202531729,
            119.51355608497964,
            123.0213828008338,
            117.55832532320525,
            121.8076927607619,
            119.38372078747926,
            129.92678087541046,
            119.13886273628309,
            116.95444074041006,
            121.39986677613463,
            115.36359247505749,
            null
           ]
          }
         ],
         "name": "2025-01-09 14:45:10",
         "traces": [
          0,
          1,
          2,
          3
         ]
        },
        {
         "data": [
          {
           "type": "scatter",
           "x": [
            0,
            0
           ],
           "y": [
            0,
            0
           ]
          },
          {
           "hovertemplate": "GroundTruthState<br>(%{x}, %{y})<br>Time: %{meta}",
           "meta": [
            "2025-01-09 14:44:24",
            "2025-01-09 14:44:25",
            "2025-01-09 14:44:26",
            "2025-01-09 14:44:27",
            "2025-01-09 14:44:28",
            "2025-01-09 14:44:29",
            "2025-01-09 14:44:30",
            "2025-01-09 14:44:31",
            "2025-01-09 14:44:32",
            "2025-01-09 14:44:33",
            "2025-01-09 14:44:34",
            "2025-01-09 14:44:35",
            "2025-01-09 14:44:36",
            "2025-01-09 14:44:37",
            "2025-01-09 14:44:38",
            "2025-01-09 14:44:39",
            "2025-01-09 14:44:40",
            "2025-01-09 14:44:41",
            "2025-01-09 14:44:42",
            "2025-01-09 14:44:43",
            "2025-01-09 14:44:44",
            "2025-01-09 14:44:45",
            "2025-01-09 14:44:46",
            "2025-01-09 14:44:47",
            "2025-01-09 14:44:48",
            "2025-01-09 14:44:49",
            "2025-01-09 14:44:50",
            "2025-01-09 14:44:51",
            "2025-01-09 14:44:52",
            "2025-01-09 14:44:53",
            "2025-01-09 14:44:54",
            "2025-01-09 14:44:55",
            "2025-01-09 14:44:56",
            "2025-01-09 14:44:57",
            "2025-01-09 14:44:58",
            "2025-01-09 14:44:59",
            "2025-01-09 14:45:00",
            "2025-01-09 14:45:01",
            "2025-01-09 14:45:02",
            "2025-01-09 14:45:03",
            "2025-01-09 14:45:04",
            "2025-01-09 14:45:05",
            "2025-01-09 14:45:06",
            "2025-01-09 14:45:07",
            "2025-01-09 14:45:08",
            "2025-01-09 14:45:09",
            "2025-01-09 14:45:10",
            "2025-01-09 14:45:11"
           ],
           "type": "scatter",
           "x": [
            74.05276584,
            87.13825267,
            96.14701585,
            108.2505623,
            112.7455582,
            117.6360986,
            125.795539,
            130.0730637,
            126.9739371,
            132.4691139,
            130.8954086,
            129.9114421,
            126.9035985,
            120.0271193,
            114.1841258,
            108.5299902,
            100.3782574,
            84.34148807,
            68.87984912,
            52.48503054,
            47.06937061,
            47.12509769,
            40.59271857,
            36.74958975,
            30.20109178,
            22.12000086,
            29.00547817,
            29.88142975,
            28.19049856,
            25.30487882,
            39.32487529,
            48.63966392,
            49.31356593,
            49.40035937,
            54.37511668,
            69.77685527,
            85.72253517,
            99.71336332,
            109.3859885,
            115.0053909,
            115.2764287,
            112.4255818,
            109.4035053,
            107.3416123,
            111.0755005,
            116.9881901,
            120.7725,
            127.0227062,
            null
           ],
           "y": [
            132.8970804,
            128.6567371,
            114.5052243,
            121.7846509,
            122.6648195,
            117.0363673,
            106.1069251,
            97.00907745,
            88.3605384,
            78.57480316,
            70.40838551,
            60.39347846,
            55.44546708,
            43.60712934,
            36.37874293,
            33.82592306,
            34.38583847,
            36.64467032,
            36.10426183,
            41.4307655,
            41.61411986,
            41.65051415,
            36.14508385,
            40.4275684,
            54.67701478,
            70.09919795,
            77.77602635,
            78.17718237,
            83.34510835,
            99.35497826,
            116.3818392,
            123.6971236,
            123.6238135,
            123.6091074,
            128.9042947,
            132.4448089,
            125.8094665,
            121.044838,
            124.31573,
            117.4327358,
            119.7933835,
            122.8188661,
            125.6874438,
            119.5411869,
            114.596615,
            118.6663965,
            113.1797612,
            103.3638665,
            null
           ]
          },
          {
           "type": "scatter",
           "x": [
            null,
            null
           ],
           "y": [
            null,
            null
           ]
          },
          {
           "hovertemplate": "Detection<br>(%{x}, %{y})<br>Time: %{meta}",
           "meta": [
            "2025-01-09 14:44:24",
            "2025-01-09 14:44:25",
            "2025-01-09 14:44:26",
            "2025-01-09 14:44:27",
            "2025-01-09 14:44:28",
            "2025-01-09 14:44:29",
            "2025-01-09 14:44:30",
            "2025-01-09 14:44:31",
            "2025-01-09 14:44:32",
            "2025-01-09 14:44:33",
            "2025-01-09 14:44:34",
            "2025-01-09 14:44:35",
            "2025-01-09 14:44:36",
            "2025-01-09 14:44:37",
            "2025-01-09 14:44:38",
            "2025-01-09 14:44:39",
            "2025-01-09 14:44:40",
            "2025-01-09 14:44:41",
            "2025-01-09 14:44:42",
            "2025-01-09 14:44:43",
            "2025-01-09 14:44:44",
            "2025-01-09 14:44:45",
            "2025-01-09 14:44:46",
            "2025-01-09 14:44:47",
            "2025-01-09 14:44:48",
            "2025-01-09 14:44:49",
            "2025-01-09 14:44:50",
            "2025-01-09 14:44:51",
            "2025-01-09 14:44:52",
            "2025-01-09 14:44:53",
            "2025-01-09 14:44:54",
            "2025-01-09 14:44:55",
            "2025-01-09 14:44:56",
            "2025-01-09 14:44:57",
            "2025-01-09 14:44:58",
            "2025-01-09 14:44:59",
            "2025-01-09 14:45:00",
            "2025-01-09 14:45:01",
            "2025-01-09 14:45:02",
            "2025-01-09 14:45:03",
            "2025-01-09 14:45:04",
            "2025-01-09 14:45:05",
            "2025-01-09 14:45:06",
            "2025-01-09 14:45:07",
            "2025-01-09 14:45:08",
            "2025-01-09 14:45:09",
            "2025-01-09 14:45:10",
            "2025-01-09 14:45:11"
           ],
           "type": "scatter",
           "x": [
            77.99730680145169,
            89.32677733462154,
            100.3230024678982,
            110.37502458622242,
            112.51475383083013,
            117.95818981683755,
            127.49727108687048,
            131.06557206113158,
            130.31479947134028,
            133.16915456245104,
            125.18674982593032,
            131.84438020286137,
            131.97892413148077,
            120.12943845523563,
            117.61152431780424,
            108.8764631767969,
            98.39310811884359,
            83.56353285390867,
            71.63086271419168,
            51.61894144676717,
            44.72473490210102,
            43.309761555780945,
            39.453101646722224,
            33.94825416303204,
            26.592306484119824,
            20.117676757592967,
            27.86328315913987,
            29.818412371677347,
            28.339235590923234,
            23.886491498899375,
            37.821208016593026,
            46.82141355769738,
            49.710302845064945,
            45.75512504937613,
            52.34633586136469,
            71.4071513287825,
            88.27031255424862,
            100.61302657985183,
            107.43882687981629,
            114.308738259601,
            112.67107445203536,
            113.4668346698057,
            112.73133837299015,
            109.97744355160103,
            108.68122485121633,
            116.08665903960714,
            121.23821700899214,
            127.81956568897866,
            null
           ],
           "y": [
            133.79185911959564,
            133.66752662373142,
            112.31996452768946,
            121.44620589336175,
            123.58294566179377,
            120.28822171944623,
            106.37899870804137,
            97.75519592835539,
            87.90179057607384,
            76.66498702762841,
            71.86992112076258,
            58.73394702384867,
            52.19340656745482,
            43.188573527052114,
            39.66432902283251,
            34.671520160373056,
            29.9566429174598,
            36.994277243128515,
            38.79286490665786,
            40.75479599992838,
            38.43886322319879,
            46.0125805425723,
            35.165519932401644,
            42.16608968749065,
            54.201313051889215,
            70.96433823587778,
            75.13605252987823,
            79.13496154943564,
            84.02145607462953,
            98.54386435461522,
            115.57785388927039,
            119.83703835281113,
            122.72540401457482,
            124.64391998213631,
            129.02044813611832,
            132.73322345638937,
            123.04831202531729,
            119.51355608497964,
            123.0213828008338,
            117.55832532320525,
            121.8076927607619,
            119.38372078747926,
            129.92678087541046,
            119.13886273628309,
            116.95444074041006,
            121.39986677613463,
            115.36359247505749,
            104.94381213515459,
            null
           ]
          }
         ],
         "name": "2025-01-09 14:45:11",
         "traces": [
          0,
          1,
          2,
          3
         ]
        },
        {
         "data": [
          {
           "type": "scatter",
           "x": [
            0,
            0
           ],
           "y": [
            0,
            0
           ]
          },
          {
           "hovertemplate": "GroundTruthState<br>(%{x}, %{y})<br>Time: %{meta}",
           "meta": [
            "2025-01-09 14:44:24",
            "2025-01-09 14:44:25",
            "2025-01-09 14:44:26",
            "2025-01-09 14:44:27",
            "2025-01-09 14:44:28",
            "2025-01-09 14:44:29",
            "2025-01-09 14:44:30",
            "2025-01-09 14:44:31",
            "2025-01-09 14:44:32",
            "2025-01-09 14:44:33",
            "2025-01-09 14:44:34",
            "2025-01-09 14:44:35",
            "2025-01-09 14:44:36",
            "2025-01-09 14:44:37",
            "2025-01-09 14:44:38",
            "2025-01-09 14:44:39",
            "2025-01-09 14:44:40",
            "2025-01-09 14:44:41",
            "2025-01-09 14:44:42",
            "2025-01-09 14:44:43",
            "2025-01-09 14:44:44",
            "2025-01-09 14:44:45",
            "2025-01-09 14:44:46",
            "2025-01-09 14:44:47",
            "2025-01-09 14:44:48",
            "2025-01-09 14:44:49",
            "2025-01-09 14:44:50",
            "2025-01-09 14:44:51",
            "2025-01-09 14:44:52",
            "2025-01-09 14:44:53",
            "2025-01-09 14:44:54",
            "2025-01-09 14:44:55",
            "2025-01-09 14:44:56",
            "2025-01-09 14:44:57",
            "2025-01-09 14:44:58",
            "2025-01-09 14:44:59",
            "2025-01-09 14:45:00",
            "2025-01-09 14:45:01",
            "2025-01-09 14:45:02",
            "2025-01-09 14:45:03",
            "2025-01-09 14:45:04",
            "2025-01-09 14:45:05",
            "2025-01-09 14:45:06",
            "2025-01-09 14:45:07",
            "2025-01-09 14:45:08",
            "2025-01-09 14:45:09",
            "2025-01-09 14:45:10",
            "2025-01-09 14:45:11",
            "2025-01-09 14:45:12"
           ],
           "type": "scatter",
           "x": [
            74.05276584,
            87.13825267,
            96.14701585,
            108.2505623,
            112.7455582,
            117.6360986,
            125.795539,
            130.0730637,
            126.9739371,
            132.4691139,
            130.8954086,
            129.9114421,
            126.9035985,
            120.0271193,
            114.1841258,
            108.5299902,
            100.3782574,
            84.34148807,
            68.87984912,
            52.48503054,
            47.06937061,
            47.12509769,
            40.59271857,
            36.74958975,
            30.20109178,
            22.12000086,
            29.00547817,
            29.88142975,
            28.19049856,
            25.30487882,
            39.32487529,
            48.63966392,
            49.31356593,
            49.40035937,
            54.37511668,
            69.77685527,
            85.72253517,
            99.71336332,
            109.3859885,
            115.0053909,
            115.2764287,
            112.4255818,
            109.4035053,
            107.3416123,
            111.0755005,
            116.9881901,
            120.7725,
            127.0227062,
            123.8443781,
            null
           ],
           "y": [
            132.8970804,
            128.6567371,
            114.5052243,
            121.7846509,
            122.6648195,
            117.0363673,
            106.1069251,
            97.00907745,
            88.3605384,
            78.57480316,
            70.40838551,
            60.39347846,
            55.44546708,
            43.60712934,
            36.37874293,
            33.82592306,
            34.38583847,
            36.64467032,
            36.10426183,
            41.4307655,
            41.61411986,
            41.65051415,
            36.14508385,
            40.4275684,
            54.67701478,
            70.09919795,
            77.77602635,
            78.17718237,
            83.34510835,
            99.35497826,
            116.3818392,
            123.6971236,
            123.6238135,
            123.6091074,
            128.9042947,
            132.4448089,
            125.8094665,
            121.044838,
            124.31573,
            117.4327358,
            119.7933835,
            122.8188661,
            125.6874438,
            119.5411869,
            114.596615,
            118.6663965,
            113.1797612,
            103.3638665,
            91.8687814,
            null
           ]
          },
          {
           "type": "scatter",
           "x": [
            null,
            null
           ],
           "y": [
            null,
            null
           ]
          },
          {
           "hovertemplate": "Detection<br>(%{x}, %{y})<br>Time: %{meta}",
           "meta": [
            "2025-01-09 14:44:24",
            "2025-01-09 14:44:25",
            "2025-01-09 14:44:26",
            "2025-01-09 14:44:27",
            "2025-01-09 14:44:28",
            "2025-01-09 14:44:29",
            "2025-01-09 14:44:30",
            "2025-01-09 14:44:31",
            "2025-01-09 14:44:32",
            "2025-01-09 14:44:33",
            "2025-01-09 14:44:34",
            "2025-01-09 14:44:35",
            "2025-01-09 14:44:36",
            "2025-01-09 14:44:37",
            "2025-01-09 14:44:38",
            "2025-01-09 14:44:39",
            "2025-01-09 14:44:40",
            "2025-01-09 14:44:41",
            "2025-01-09 14:44:42",
            "2025-01-09 14:44:43",
            "2025-01-09 14:44:44",
            "2025-01-09 14:44:45",
            "2025-01-09 14:44:46",
            "2025-01-09 14:44:47",
            "2025-01-09 14:44:48",
            "2025-01-09 14:44:49",
            "2025-01-09 14:44:50",
            "2025-01-09 14:44:51",
            "2025-01-09 14:44:52",
            "2025-01-09 14:44:53",
            "2025-01-09 14:44:54",
            "2025-01-09 14:44:55",
            "2025-01-09 14:44:56",
            "2025-01-09 14:44:57",
            "2025-01-09 14:44:58",
            "2025-01-09 14:44:59",
            "2025-01-09 14:45:00",
            "2025-01-09 14:45:01",
            "2025-01-09 14:45:02",
            "2025-01-09 14:45:03",
            "2025-01-09 14:45:04",
            "2025-01-09 14:45:05",
            "2025-01-09 14:45:06",
            "2025-01-09 14:45:07",
            "2025-01-09 14:45:08",
            "2025-01-09 14:45:09",
            "2025-01-09 14:45:10",
            "2025-01-09 14:45:11",
            "2025-01-09 14:45:12"
           ],
           "type": "scatter",
           "x": [
            77.99730680145169,
            89.32677733462154,
            100.3230024678982,
            110.37502458622242,
            112.51475383083013,
            117.95818981683755,
            127.49727108687048,
            131.06557206113158,
            130.31479947134028,
            133.16915456245104,
            125.18674982593032,
            131.84438020286137,
            131.97892413148077,
            120.12943845523563,
            117.61152431780424,
            108.8764631767969,
            98.39310811884359,
            83.56353285390867,
            71.63086271419168,
            51.61894144676717,
            44.72473490210102,
            43.309761555780945,
            39.453101646722224,
            33.94825416303204,
            26.592306484119824,
            20.117676757592967,
            27.86328315913987,
            29.818412371677347,
            28.339235590923234,
            23.886491498899375,
            37.821208016593026,
            46.82141355769738,
            49.710302845064945,
            45.75512504937613,
            52.34633586136469,
            71.4071513287825,
            88.27031255424862,
            100.61302657985183,
            107.43882687981629,
            114.308738259601,
            112.67107445203536,
            113.4668346698057,
            112.73133837299015,
            109.97744355160103,
            108.68122485121633,
            116.08665903960714,
            121.23821700899214,
            127.81956568897866,
            123.86785686009691,
            null
           ],
           "y": [
            133.79185911959564,
            133.66752662373142,
            112.31996452768946,
            121.44620589336175,
            123.58294566179377,
            120.28822171944623,
            106.37899870804137,
            97.75519592835539,
            87.90179057607384,
            76.66498702762841,
            71.86992112076258,
            58.73394702384867,
            52.19340656745482,
            43.188573527052114,
            39.66432902283251,
            34.671520160373056,
            29.9566429174598,
            36.994277243128515,
            38.79286490665786,
            40.75479599992838,
            38.43886322319879,
            46.0125805425723,
            35.165519932401644,
            42.16608968749065,
            54.201313051889215,
            70.96433823587778,
            75.13605252987823,
            79.13496154943564,
            84.02145607462953,
            98.54386435461522,
            115.57785388927039,
            119.83703835281113,
            122.72540401457482,
            124.64391998213631,
            129.02044813611832,
            132.73322345638937,
            123.04831202531729,
            119.51355608497964,
            123.0213828008338,
            117.55832532320525,
            121.8076927607619,
            119.38372078747926,
            129.92678087541046,
            119.13886273628309,
            116.95444074041006,
            121.39986677613463,
            115.36359247505749,
            104.94381213515459,
            95.86210922338458,
            null
           ]
          }
         ],
         "name": "2025-01-09 14:45:12",
         "traces": [
          0,
          1,
          2,
          3
         ]
        },
        {
         "data": [
          {
           "type": "scatter",
           "x": [
            0,
            0
           ],
           "y": [
            0,
            0
           ]
          },
          {
           "hovertemplate": "GroundTruthState<br>(%{x}, %{y})<br>Time: %{meta}",
           "meta": [
            "2025-01-09 14:44:24",
            "2025-01-09 14:44:25",
            "2025-01-09 14:44:26",
            "2025-01-09 14:44:27",
            "2025-01-09 14:44:28",
            "2025-01-09 14:44:29",
            "2025-01-09 14:44:30",
            "2025-01-09 14:44:31",
            "2025-01-09 14:44:32",
            "2025-01-09 14:44:33",
            "2025-01-09 14:44:34",
            "2025-01-09 14:44:35",
            "2025-01-09 14:44:36",
            "2025-01-09 14:44:37",
            "2025-01-09 14:44:38",
            "2025-01-09 14:44:39",
            "2025-01-09 14:44:40",
            "2025-01-09 14:44:41",
            "2025-01-09 14:44:42",
            "2025-01-09 14:44:43",
            "2025-01-09 14:44:44",
            "2025-01-09 14:44:45",
            "2025-01-09 14:44:46",
            "2025-01-09 14:44:47",
            "2025-01-09 14:44:48",
            "2025-01-09 14:44:49",
            "2025-01-09 14:44:50",
            "2025-01-09 14:44:51",
            "2025-01-09 14:44:52",
            "2025-01-09 14:44:53",
            "2025-01-09 14:44:54",
            "2025-01-09 14:44:55",
            "2025-01-09 14:44:56",
            "2025-01-09 14:44:57",
            "2025-01-09 14:44:58",
            "2025-01-09 14:44:59",
            "2025-01-09 14:45:00",
            "2025-01-09 14:45:01",
            "2025-01-09 14:45:02",
            "2025-01-09 14:45:03",
            "2025-01-09 14:45:04",
            "2025-01-09 14:45:05",
            "2025-01-09 14:45:06",
            "2025-01-09 14:45:07",
            "2025-01-09 14:45:08",
            "2025-01-09 14:45:09",
            "2025-01-09 14:45:10",
            "2025-01-09 14:45:11",
            "2025-01-09 14:45:12",
            "2025-01-09 14:45:13"
           ],
           "type": "scatter",
           "x": [
            74.05276584,
            87.13825267,
            96.14701585,
            108.2505623,
            112.7455582,
            117.6360986,
            125.795539,
            130.0730637,
            126.9739371,
            132.4691139,
            130.8954086,
            129.9114421,
            126.9035985,
            120.0271193,
            114.1841258,
            108.5299902,
            100.3782574,
            84.34148807,
            68.87984912,
            52.48503054,
            47.06937061,
            47.12509769,
            40.59271857,
            36.74958975,
            30.20109178,
            22.12000086,
            29.00547817,
            29.88142975,
            28.19049856,
            25.30487882,
            39.32487529,
            48.63966392,
            49.31356593,
            49.40035937,
            54.37511668,
            69.77685527,
            85.72253517,
            99.71336332,
            109.3859885,
            115.0053909,
            115.2764287,
            112.4255818,
            109.4035053,
            107.3416123,
            111.0755005,
            116.9881901,
            120.7725,
            127.0227062,
            123.8443781,
            133.4755578,
            null
           ],
           "y": [
            132.8970804,
            128.6567371,
            114.5052243,
            121.7846509,
            122.6648195,
            117.0363673,
            106.1069251,
            97.00907745,
            88.3605384,
            78.57480316,
            70.40838551,
            60.39347846,
            55.44546708,
            43.60712934,
            36.37874293,
            33.82592306,
            34.38583847,
            36.64467032,
            36.10426183,
            41.4307655,
            41.61411986,
            41.65051415,
            36.14508385,
            40.4275684,
            54.67701478,
            70.09919795,
            77.77602635,
            78.17718237,
            83.34510835,
            99.35497826,
            116.3818392,
            123.6971236,
            123.6238135,
            123.6091074,
            128.9042947,
            132.4448089,
            125.8094665,
            121.044838,
            124.31573,
            117.4327358,
            119.7933835,
            122.8188661,
            125.6874438,
            119.5411869,
            114.596615,
            118.6663965,
            113.1797612,
            103.3638665,
            91.8687814,
            84.57683953,
            null
           ]
          },
          {
           "type": "scatter",
           "x": [
            null,
            null
           ],
           "y": [
            null,
            null
           ]
          },
          {
           "hovertemplate": "Detection<br>(%{x}, %{y})<br>Time: %{meta}",
           "meta": [
            "2025-01-09 14:44:24",
            "2025-01-09 14:44:25",
            "2025-01-09 14:44:26",
            "2025-01-09 14:44:27",
            "2025-01-09 14:44:28",
            "2025-01-09 14:44:29",
            "2025-01-09 14:44:30",
            "2025-01-09 14:44:31",
            "2025-01-09 14:44:32",
            "2025-01-09 14:44:33",
            "2025-01-09 14:44:34",
            "2025-01-09 14:44:35",
            "2025-01-09 14:44:36",
            "2025-01-09 14:44:37",
            "2025-01-09 14:44:38",
            "2025-01-09 14:44:39",
            "2025-01-09 14:44:40",
            "2025-01-09 14:44:41",
            "2025-01-09 14:44:42",
            "2025-01-09 14:44:43",
            "2025-01-09 14:44:44",
            "2025-01-09 14:44:45",
            "2025-01-09 14:44:46",
            "2025-01-09 14:44:47",
            "2025-01-09 14:44:48",
            "2025-01-09 14:44:49",
            "2025-01-09 14:44:50",
            "2025-01-09 14:44:51",
            "2025-01-09 14:44:52",
            "2025-01-09 14:44:53",
            "2025-01-09 14:44:54",
            "2025-01-09 14:44:55",
            "2025-01-09 14:44:56",
            "2025-01-09 14:44:57",
            "2025-01-09 14:44:58",
            "2025-01-09 14:44:59",
            "2025-01-09 14:45:00",
            "2025-01-09 14:45:01",
            "2025-01-09 14:45:02",
            "2025-01-09 14:45:03",
            "2025-01-09 14:45:04",
            "2025-01-09 14:45:05",
            "2025-01-09 14:45:06",
            "2025-01-09 14:45:07",
            "2025-01-09 14:45:08",
            "2025-01-09 14:45:09",
            "2025-01-09 14:45:10",
            "2025-01-09 14:45:11",
            "2025-01-09 14:45:12",
            "2025-01-09 14:45:13"
           ],
           "type": "scatter",
           "x": [
            77.99730680145169,
            89.32677733462154,
            100.3230024678982,
            110.37502458622242,
            112.51475383083013,
            117.95818981683755,
            127.49727108687048,
            131.06557206113158,
            130.31479947134028,
            133.16915456245104,
            125.18674982593032,
            131.84438020286137,
            131.97892413148077,
            120.12943845523563,
            117.61152431780424,
            108.8764631767969,
            98.39310811884359,
            83.56353285390867,
            71.63086271419168,
            51.61894144676717,
            44.72473490210102,
            43.309761555780945,
            39.453101646722224,
            33.94825416303204,
            26.592306484119824,
            20.117676757592967,
            27.86328315913987,
            29.818412371677347,
            28.339235590923234,
            23.886491498899375,
            37.821208016593026,
            46.82141355769738,
            49.710302845064945,
            45.75512504937613,
            52.34633586136469,
            71.4071513287825,
            88.27031255424862,
            100.61302657985183,
            107.43882687981629,
            114.308738259601,
            112.67107445203536,
            113.4668346698057,
            112.73133837299015,
            109.97744355160103,
            108.68122485121633,
            116.08665903960714,
            121.23821700899214,
            127.81956568897866,
            123.86785686009691,
            133.75934186645205,
            null
           ],
           "y": [
            133.79185911959564,
            133.66752662373142,
            112.31996452768946,
            121.44620589336175,
            123.58294566179377,
            120.28822171944623,
            106.37899870804137,
            97.75519592835539,
            87.90179057607384,
            76.66498702762841,
            71.86992112076258,
            58.73394702384867,
            52.19340656745482,
            43.188573527052114,
            39.66432902283251,
            34.671520160373056,
            29.9566429174598,
            36.994277243128515,
            38.79286490665786,
            40.75479599992838,
            38.43886322319879,
            46.0125805425723,
            35.165519932401644,
            42.16608968749065,
            54.201313051889215,
            70.96433823587778,
            75.13605252987823,
            79.13496154943564,
            84.02145607462953,
            98.54386435461522,
            115.57785388927039,
            119.83703835281113,
            122.72540401457482,
            124.64391998213631,
            129.02044813611832,
            132.73322345638937,
            123.04831202531729,
            119.51355608497964,
            123.0213828008338,
            117.55832532320525,
            121.8076927607619,
            119.38372078747926,
            129.92678087541046,
            119.13886273628309,
            116.95444074041006,
            121.39986677613463,
            115.36359247505749,
            104.94381213515459,
            95.86210922338458,
            85.47571507289422,
            null
           ]
          }
         ],
         "name": "2025-01-09 14:45:13",
         "traces": [
          0,
          1,
          2,
          3
         ]
        },
        {
         "data": [
          {
           "type": "scatter",
           "x": [
            0,
            0
           ],
           "y": [
            0,
            0
           ]
          },
          {
           "hovertemplate": "GroundTruthState<br>(%{x}, %{y})<br>Time: %{meta}",
           "meta": [
            "2025-01-09 14:44:24",
            "2025-01-09 14:44:25",
            "2025-01-09 14:44:26",
            "2025-01-09 14:44:27",
            "2025-01-09 14:44:28",
            "2025-01-09 14:44:29",
            "2025-01-09 14:44:30",
            "2025-01-09 14:44:31",
            "2025-01-09 14:44:32",
            "2025-01-09 14:44:33",
            "2025-01-09 14:44:34",
            "2025-01-09 14:44:35",
            "2025-01-09 14:44:36",
            "2025-01-09 14:44:37",
            "2025-01-09 14:44:38",
            "2025-01-09 14:44:39",
            "2025-01-09 14:44:40",
            "2025-01-09 14:44:41",
            "2025-01-09 14:44:42",
            "2025-01-09 14:44:43",
            "2025-01-09 14:44:44",
            "2025-01-09 14:44:45",
            "2025-01-09 14:44:46",
            "2025-01-09 14:44:47",
            "2025-01-09 14:44:48",
            "2025-01-09 14:44:49",
            "2025-01-09 14:44:50",
            "2025-01-09 14:44:51",
            "2025-01-09 14:44:52",
            "2025-01-09 14:44:53",
            "2025-01-09 14:44:54",
            "2025-01-09 14:44:55",
            "2025-01-09 14:44:56",
            "2025-01-09 14:44:57",
            "2025-01-09 14:44:58",
            "2025-01-09 14:44:59",
            "2025-01-09 14:45:00",
            "2025-01-09 14:45:01",
            "2025-01-09 14:45:02",
            "2025-01-09 14:45:03",
            "2025-01-09 14:45:04",
            "2025-01-09 14:45:05",
            "2025-01-09 14:45:06",
            "2025-01-09 14:45:07",
            "2025-01-09 14:45:08",
            "2025-01-09 14:45:09",
            "2025-01-09 14:45:10",
            "2025-01-09 14:45:11",
            "2025-01-09 14:45:12",
            "2025-01-09 14:45:13",
            "2025-01-09 14:45:14"
           ],
           "type": "scatter",
           "x": [
            74.05276584,
            87.13825267,
            96.14701585,
            108.2505623,
            112.7455582,
            117.6360986,
            125.795539,
            130.0730637,
            126.9739371,
            132.4691139,
            130.8954086,
            129.9114421,
            126.9035985,
            120.0271193,
            114.1841258,
            108.5299902,
            100.3782574,
            84.34148807,
            68.87984912,
            52.48503054,
            47.06937061,
            47.12509769,
            40.59271857,
            36.74958975,
            30.20109178,
            22.12000086,
            29.00547817,
            29.88142975,
            28.19049856,
            25.30487882,
            39.32487529,
            48.63966392,
            49.31356593,
            49.40035937,
            54.37511668,
            69.77685527,
            85.72253517,
            99.71336332,
            109.3859885,
            115.0053909,
            115.2764287,
            112.4255818,
            109.4035053,
            107.3416123,
            111.0755005,
            116.9881901,
            120.7725,
            127.0227062,
            123.8443781,
            133.4755578,
            130.3314501,
            null
           ],
           "y": [
            132.8970804,
            128.6567371,
            114.5052243,
            121.7846509,
            122.6648195,
            117.0363673,
            106.1069251,
            97.00907745,
            88.3605384,
            78.57480316,
            70.40838551,
            60.39347846,
            55.44546708,
            43.60712934,
            36.37874293,
            33.82592306,
            34.38583847,
            36.64467032,
            36.10426183,
            41.4307655,
            41.61411986,
            41.65051415,
            36.14508385,
            40.4275684,
            54.67701478,
            70.09919795,
            77.77602635,
            78.17718237,
            83.34510835,
            99.35497826,
            116.3818392,
            123.6971236,
            123.6238135,
            123.6091074,
            128.9042947,
            132.4448089,
            125.8094665,
            121.044838,
            124.31573,
            117.4327358,
            119.7933835,
            122.8188661,
            125.6874438,
            119.5411869,
            114.596615,
            118.6663965,
            113.1797612,
            103.3638665,
            91.8687814,
            84.57683953,
            76.61135921,
            null
           ]
          },
          {
           "type": "scatter",
           "x": [
            null,
            null
           ],
           "y": [
            null,
            null
           ]
          },
          {
           "hovertemplate": "Detection<br>(%{x}, %{y})<br>Time: %{meta}",
           "meta": [
            "2025-01-09 14:44:24",
            "2025-01-09 14:44:25",
            "2025-01-09 14:44:26",
            "2025-01-09 14:44:27",
            "2025-01-09 14:44:28",
            "2025-01-09 14:44:29",
            "2025-01-09 14:44:30",
            "2025-01-09 14:44:31",
            "2025-01-09 14:44:32",
            "2025-01-09 14:44:33",
            "2025-01-09 14:44:34",
            "2025-01-09 14:44:35",
            "2025-01-09 14:44:36",
            "2025-01-09 14:44:37",
            "2025-01-09 14:44:38",
            "2025-01-09 14:44:39",
            "2025-01-09 14:44:40",
            "2025-01-09 14:44:41",
            "2025-01-09 14:44:42",
            "2025-01-09 14:44:43",
            "2025-01-09 14:44:44",
            "2025-01-09 14:44:45",
            "2025-01-09 14:44:46",
            "2025-01-09 14:44:47",
            "2025-01-09 14:44:48",
            "2025-01-09 14:44:49",
            "2025-01-09 14:44:50",
            "2025-01-09 14:44:51",
            "2025-01-09 14:44:52",
            "2025-01-09 14:44:53",
            "2025-01-09 14:44:54",
            "2025-01-09 14:44:55",
            "2025-01-09 14:44:56",
            "2025-01-09 14:44:57",
            "2025-01-09 14:44:58",
            "2025-01-09 14:44:59",
            "2025-01-09 14:45:00",
            "2025-01-09 14:45:01",
            "2025-01-09 14:45:02",
            "2025-01-09 14:45:03",
            "2025-01-09 14:45:04",
            "2025-01-09 14:45:05",
            "2025-01-09 14:45:06",
            "2025-01-09 14:45:07",
            "2025-01-09 14:45:08",
            "2025-01-09 14:45:09",
            "2025-01-09 14:45:10",
            "2025-01-09 14:45:11",
            "2025-01-09 14:45:12",
            "2025-01-09 14:45:13",
            "2025-01-09 14:45:14"
           ],
           "type": "scatter",
           "x": [
            77.99730680145169,
            89.32677733462154,
            100.3230024678982,
            110.37502458622242,
            112.51475383083013,
            117.95818981683755,
            127.49727108687048,
            131.06557206113158,
            130.31479947134028,
            133.16915456245104,
            125.18674982593032,
            131.84438020286137,
            131.97892413148077,
            120.12943845523563,
            117.61152431780424,
            108.8764631767969,
            98.39310811884359,
            83.56353285390867,
            71.63086271419168,
            51.61894144676717,
            44.72473490210102,
            43.309761555780945,
            39.453101646722224,
            33.94825416303204,
            26.592306484119824,
            20.117676757592967,
            27.86328315913987,
            29.818412371677347,
            28.339235590923234,
            23.886491498899375,
            37.821208016593026,
            46.82141355769738,
            49.710302845064945,
            45.75512504937613,
            52.34633586136469,
            71.4071513287825,
            88.27031255424862,
            100.61302657985183,
            107.43882687981629,
            114.308738259601,
            112.67107445203536,
            113.4668346698057,
            112.73133837299015,
            109.97744355160103,
            108.68122485121633,
            116.08665903960714,
            121.23821700899214,
            127.81956568897866,
            123.86785686009691,
            133.75934186645205,
            134.54230307049392,
            null
           ],
           "y": [
            133.79185911959564,
            133.66752662373142,
            112.31996452768946,
            121.44620589336175,
            123.58294566179377,
            120.28822171944623,
            106.37899870804137,
            97.75519592835539,
            87.90179057607384,
            76.66498702762841,
            71.86992112076258,
            58.73394702384867,
            52.19340656745482,
            43.188573527052114,
            39.66432902283251,
            34.671520160373056,
            29.9566429174598,
            36.994277243128515,
            38.79286490665786,
            40.75479599992838,
            38.43886322319879,
            46.0125805425723,
            35.165519932401644,
            42.16608968749065,
            54.201313051889215,
            70.96433823587778,
            75.13605252987823,
            79.13496154943564,
            84.02145607462953,
            98.54386435461522,
            115.57785388927039,
            119.83703835281113,
            122.72540401457482,
            124.64391998213631,
            129.02044813611832,
            132.73322345638937,
            123.04831202531729,
            119.51355608497964,
            123.0213828008338,
            117.55832532320525,
            121.8076927607619,
            119.38372078747926,
            129.92678087541046,
            119.13886273628309,
            116.95444074041006,
            121.39986677613463,
            115.36359247505749,
            104.94381213515459,
            95.86210922338458,
            85.47571507289422,
            73.5976783319942,
            null
           ]
          }
         ],
         "name": "2025-01-09 14:45:14",
         "traces": [
          0,
          1,
          2,
          3
         ]
        }
       ],
       "layout": {
        "autosize": true,
        "colorway": [
         "#EF553B",
         "#00CC96",
         "#AB63FA",
         "#FFA15A",
         "#19D3F3",
         "#FF6692",
         "#B6E880",
         "#FF97FF",
         "#FECB52"
        ],
        "height": 550,
        "sliders": [
         {
          "currentvalue": {
           "font": {
            "size": 16
           },
           "prefix": "Time: ",
           "visible": true,
           "xanchor": "right"
          },
          "len": 0.9,
          "pad": {
           "b": 10,
           "t": 50
          },
          "steps": [
           {
            "args": [
             [
              "2025-01-09 14:44:15"
             ],
             {
              "frame": {
               "duration": 1,
               "easing": "linear",
               "redraw": true
              },
              "transition": {
               "duration": 0,
               "easing": "linear"
              }
             }
            ],
            "label": "14:44:15",
            "method": "animate"
           },
           {
            "args": [
             [
              "2025-01-09 14:44:16"
             ],
             {
              "frame": {
               "duration": 1,
               "easing": "linear",
               "redraw": true
              },
              "transition": {
               "duration": 0,
               "easing": "linear"
              }
             }
            ],
            "label": "14:44:16",
            "method": "animate"
           },
           {
            "args": [
             [
              "2025-01-09 14:44:17"
             ],
             {
              "frame": {
               "duration": 1,
               "easing": "linear",
               "redraw": true
              },
              "transition": {
               "duration": 0,
               "easing": "linear"
              }
             }
            ],
            "label": "14:44:17",
            "method": "animate"
           },
           {
            "args": [
             [
              "2025-01-09 14:44:18"
             ],
             {
              "frame": {
               "duration": 1,
               "easing": "linear",
               "redraw": true
              },
              "transition": {
               "duration": 0,
               "easing": "linear"
              }
             }
            ],
            "label": "14:44:18",
            "method": "animate"
           },
           {
            "args": [
             [
              "2025-01-09 14:44:19"
             ],
             {
              "frame": {
               "duration": 1,
               "easing": "linear",
               "redraw": true
              },
              "transition": {
               "duration": 0,
               "easing": "linear"
              }
             }
            ],
            "label": "14:44:19",
            "method": "animate"
           },
           {
            "args": [
             [
              "2025-01-09 14:44:20"
             ],
             {
              "frame": {
               "duration": 1,
               "easing": "linear",
               "redraw": true
              },
              "transition": {
               "duration": 0,
               "easing": "linear"
              }
             }
            ],
            "label": "14:44:20",
            "method": "animate"
           },
           {
            "args": [
             [
              "2025-01-09 14:44:21"
             ],
             {
              "frame": {
               "duration": 1,
               "easing": "linear",
               "redraw": true
              },
              "transition": {
               "duration": 0,
               "easing": "linear"
              }
             }
            ],
            "label": "14:44:21",
            "method": "animate"
           },
           {
            "args": [
             [
              "2025-01-09 14:44:22"
             ],
             {
              "frame": {
               "duration": 1,
               "easing": "linear",
               "redraw": true
              },
              "transition": {
               "duration": 0,
               "easing": "linear"
              }
             }
            ],
            "label": "14:44:22",
            "method": "animate"
           },
           {
            "args": [
             [
              "2025-01-09 14:44:23"
             ],
             {
              "frame": {
               "duration": 1,
               "easing": "linear",
               "redraw": true
              },
              "transition": {
               "duration": 0,
               "easing": "linear"
              }
             }
            ],
            "label": "14:44:23",
            "method": "animate"
           },
           {
            "args": [
             [
              "2025-01-09 14:44:24"
             ],
             {
              "frame": {
               "duration": 1,
               "easing": "linear",
               "redraw": true
              },
              "transition": {
               "duration": 0,
               "easing": "linear"
              }
             }
            ],
            "label": "14:44:24",
            "method": "animate"
           },
           {
            "args": [
             [
              "2025-01-09 14:44:25"
             ],
             {
              "frame": {
               "duration": 1,
               "easing": "linear",
               "redraw": true
              },
              "transition": {
               "duration": 0,
               "easing": "linear"
              }
             }
            ],
            "label": "14:44:25",
            "method": "animate"
           },
           {
            "args": [
             [
              "2025-01-09 14:44:26"
             ],
             {
              "frame": {
               "duration": 1,
               "easing": "linear",
               "redraw": true
              },
              "transition": {
               "duration": 0,
               "easing": "linear"
              }
             }
            ],
            "label": "14:44:26",
            "method": "animate"
           },
           {
            "args": [
             [
              "2025-01-09 14:44:27"
             ],
             {
              "frame": {
               "duration": 1,
               "easing": "linear",
               "redraw": true
              },
              "transition": {
               "duration": 0,
               "easing": "linear"
              }
             }
            ],
            "label": "14:44:27",
            "method": "animate"
           },
           {
            "args": [
             [
              "2025-01-09 14:44:28"
             ],
             {
              "frame": {
               "duration": 1,
               "easing": "linear",
               "redraw": true
              },
              "transition": {
               "duration": 0,
               "easing": "linear"
              }
             }
            ],
            "label": "14:44:28",
            "method": "animate"
           },
           {
            "args": [
             [
              "2025-01-09 14:44:29"
             ],
             {
              "frame": {
               "duration": 1,
               "easing": "linear",
               "redraw": true
              },
              "transition": {
               "duration": 0,
               "easing": "linear"
              }
             }
            ],
            "label": "14:44:29",
            "method": "animate"
           },
           {
            "args": [
             [
              "2025-01-09 14:44:30"
             ],
             {
              "frame": {
               "duration": 1,
               "easing": "linear",
               "redraw": true
              },
              "transition": {
               "duration": 0,
               "easing": "linear"
              }
             }
            ],
            "label": "14:44:30",
            "method": "animate"
           },
           {
            "args": [
             [
              "2025-01-09 14:44:31"
             ],
             {
              "frame": {
               "duration": 1,
               "easing": "linear",
               "redraw": true
              },
              "transition": {
               "duration": 0,
               "easing": "linear"
              }
             }
            ],
            "label": "14:44:31",
            "method": "animate"
           },
           {
            "args": [
             [
              "2025-01-09 14:44:32"
             ],
             {
              "frame": {
               "duration": 1,
               "easing": "linear",
               "redraw": true
              },
              "transition": {
               "duration": 0,
               "easing": "linear"
              }
             }
            ],
            "label": "14:44:32",
            "method": "animate"
           },
           {
            "args": [
             [
              "2025-01-09 14:44:33"
             ],
             {
              "frame": {
               "duration": 1,
               "easing": "linear",
               "redraw": true
              },
              "transition": {
               "duration": 0,
               "easing": "linear"
              }
             }
            ],
            "label": "14:44:33",
            "method": "animate"
           },
           {
            "args": [
             [
              "2025-01-09 14:44:34"
             ],
             {
              "frame": {
               "duration": 1,
               "easing": "linear",
               "redraw": true
              },
              "transition": {
               "duration": 0,
               "easing": "linear"
              }
             }
            ],
            "label": "14:44:34",
            "method": "animate"
           },
           {
            "args": [
             [
              "2025-01-09 14:44:35"
             ],
             {
              "frame": {
               "duration": 1,
               "easing": "linear",
               "redraw": true
              },
              "transition": {
               "duration": 0,
               "easing": "linear"
              }
             }
            ],
            "label": "14:44:35",
            "method": "animate"
           },
           {
            "args": [
             [
              "2025-01-09 14:44:36"
             ],
             {
              "frame": {
               "duration": 1,
               "easing": "linear",
               "redraw": true
              },
              "transition": {
               "duration": 0,
               "easing": "linear"
              }
             }
            ],
            "label": "14:44:36",
            "method": "animate"
           },
           {
            "args": [
             [
              "2025-01-09 14:44:37"
             ],
             {
              "frame": {
               "duration": 1,
               "easing": "linear",
               "redraw": true
              },
              "transition": {
               "duration": 0,
               "easing": "linear"
              }
             }
            ],
            "label": "14:44:37",
            "method": "animate"
           },
           {
            "args": [
             [
              "2025-01-09 14:44:38"
             ],
             {
              "frame": {
               "duration": 1,
               "easing": "linear",
               "redraw": true
              },
              "transition": {
               "duration": 0,
               "easing": "linear"
              }
             }
            ],
            "label": "14:44:38",
            "method": "animate"
           },
           {
            "args": [
             [
              "2025-01-09 14:44:39"
             ],
             {
              "frame": {
               "duration": 1,
               "easing": "linear",
               "redraw": true
              },
              "transition": {
               "duration": 0,
               "easing": "linear"
              }
             }
            ],
            "label": "14:44:39",
            "method": "animate"
           },
           {
            "args": [
             [
              "2025-01-09 14:44:40"
             ],
             {
              "frame": {
               "duration": 1,
               "easing": "linear",
               "redraw": true
              },
              "transition": {
               "duration": 0,
               "easing": "linear"
              }
             }
            ],
            "label": "14:44:40",
            "method": "animate"
           },
           {
            "args": [
             [
              "2025-01-09 14:44:41"
             ],
             {
              "frame": {
               "duration": 1,
               "easing": "linear",
               "redraw": true
              },
              "transition": {
               "duration": 0,
               "easing": "linear"
              }
             }
            ],
            "label": "14:44:41",
            "method": "animate"
           },
           {
            "args": [
             [
              "2025-01-09 14:44:42"
             ],
             {
              "frame": {
               "duration": 1,
               "easing": "linear",
               "redraw": true
              },
              "transition": {
               "duration": 0,
               "easing": "linear"
              }
             }
            ],
            "label": "14:44:42",
            "method": "animate"
           },
           {
            "args": [
             [
              "2025-01-09 14:44:43"
             ],
             {
              "frame": {
               "duration": 1,
               "easing": "linear",
               "redraw": true
              },
              "transition": {
               "duration": 0,
               "easing": "linear"
              }
             }
            ],
            "label": "14:44:43",
            "method": "animate"
           },
           {
            "args": [
             [
              "2025-01-09 14:44:44"
             ],
             {
              "frame": {
               "duration": 1,
               "easing": "linear",
               "redraw": true
              },
              "transition": {
               "duration": 0,
               "easing": "linear"
              }
             }
            ],
            "label": "14:44:44",
            "method": "animate"
           },
           {
            "args": [
             [
              "2025-01-09 14:44:45"
             ],
             {
              "frame": {
               "duration": 1,
               "easing": "linear",
               "redraw": true
              },
              "transition": {
               "duration": 0,
               "easing": "linear"
              }
             }
            ],
            "label": "14:44:45",
            "method": "animate"
           },
           {
            "args": [
             [
              "2025-01-09 14:44:46"
             ],
             {
              "frame": {
               "duration": 1,
               "easing": "linear",
               "redraw": true
              },
              "transition": {
               "duration": 0,
               "easing": "linear"
              }
             }
            ],
            "label": "14:44:46",
            "method": "animate"
           },
           {
            "args": [
             [
              "2025-01-09 14:44:47"
             ],
             {
              "frame": {
               "duration": 1,
               "easing": "linear",
               "redraw": true
              },
              "transition": {
               "duration": 0,
               "easing": "linear"
              }
             }
            ],
            "label": "14:44:47",
            "method": "animate"
           },
           {
            "args": [
             [
              "2025-01-09 14:44:48"
             ],
             {
              "frame": {
               "duration": 1,
               "easing": "linear",
               "redraw": true
              },
              "transition": {
               "duration": 0,
               "easing": "linear"
              }
             }
            ],
            "label": "14:44:48",
            "method": "animate"
           },
           {
            "args": [
             [
              "2025-01-09 14:44:49"
             ],
             {
              "frame": {
               "duration": 1,
               "easing": "linear",
               "redraw": true
              },
              "transition": {
               "duration": 0,
               "easing": "linear"
              }
             }
            ],
            "label": "14:44:49",
            "method": "animate"
           },
           {
            "args": [
             [
              "2025-01-09 14:44:50"
             ],
             {
              "frame": {
               "duration": 1,
               "easing": "linear",
               "redraw": true
              },
              "transition": {
               "duration": 0,
               "easing": "linear"
              }
             }
            ],
            "label": "14:44:50",
            "method": "animate"
           },
           {
            "args": [
             [
              "2025-01-09 14:44:51"
             ],
             {
              "frame": {
               "duration": 1,
               "easing": "linear",
               "redraw": true
              },
              "transition": {
               "duration": 0,
               "easing": "linear"
              }
             }
            ],
            "label": "14:44:51",
            "method": "animate"
           },
           {
            "args": [
             [
              "2025-01-09 14:44:52"
             ],
             {
              "frame": {
               "duration": 1,
               "easing": "linear",
               "redraw": true
              },
              "transition": {
               "duration": 0,
               "easing": "linear"
              }
             }
            ],
            "label": "14:44:52",
            "method": "animate"
           },
           {
            "args": [
             [
              "2025-01-09 14:44:53"
             ],
             {
              "frame": {
               "duration": 1,
               "easing": "linear",
               "redraw": true
              },
              "transition": {
               "duration": 0,
               "easing": "linear"
              }
             }
            ],
            "label": "14:44:53",
            "method": "animate"
           },
           {
            "args": [
             [
              "2025-01-09 14:44:54"
             ],
             {
              "frame": {
               "duration": 1,
               "easing": "linear",
               "redraw": true
              },
              "transition": {
               "duration": 0,
               "easing": "linear"
              }
             }
            ],
            "label": "14:44:54",
            "method": "animate"
           },
           {
            "args": [
             [
              "2025-01-09 14:44:55"
             ],
             {
              "frame": {
               "duration": 1,
               "easing": "linear",
               "redraw": true
              },
              "transition": {
               "duration": 0,
               "easing": "linear"
              }
             }
            ],
            "label": "14:44:55",
            "method": "animate"
           },
           {
            "args": [
             [
              "2025-01-09 14:44:56"
             ],
             {
              "frame": {
               "duration": 1,
               "easing": "linear",
               "redraw": true
              },
              "transition": {
               "duration": 0,
               "easing": "linear"
              }
             }
            ],
            "label": "14:44:56",
            "method": "animate"
           },
           {
            "args": [
             [
              "2025-01-09 14:44:57"
             ],
             {
              "frame": {
               "duration": 1,
               "easing": "linear",
               "redraw": true
              },
              "transition": {
               "duration": 0,
               "easing": "linear"
              }
             }
            ],
            "label": "14:44:57",
            "method": "animate"
           },
           {
            "args": [
             [
              "2025-01-09 14:44:58"
             ],
             {
              "frame": {
               "duration": 1,
               "easing": "linear",
               "redraw": true
              },
              "transition": {
               "duration": 0,
               "easing": "linear"
              }
             }
            ],
            "label": "14:44:58",
            "method": "animate"
           },
           {
            "args": [
             [
              "2025-01-09 14:44:59"
             ],
             {
              "frame": {
               "duration": 1,
               "easing": "linear",
               "redraw": true
              },
              "transition": {
               "duration": 0,
               "easing": "linear"
              }
             }
            ],
            "label": "14:44:59",
            "method": "animate"
           },
           {
            "args": [
             [
              "2025-01-09 14:45:00"
             ],
             {
              "frame": {
               "duration": 1,
               "easing": "linear",
               "redraw": true
              },
              "transition": {
               "duration": 0,
               "easing": "linear"
              }
             }
            ],
            "label": "14:45:00",
            "method": "animate"
           },
           {
            "args": [
             [
              "2025-01-09 14:45:01"
             ],
             {
              "frame": {
               "duration": 1,
               "easing": "linear",
               "redraw": true
              },
              "transition": {
               "duration": 0,
               "easing": "linear"
              }
             }
            ],
            "label": "14:45:01",
            "method": "animate"
           },
           {
            "args": [
             [
              "2025-01-09 14:45:02"
             ],
             {
              "frame": {
               "duration": 1,
               "easing": "linear",
               "redraw": true
              },
              "transition": {
               "duration": 0,
               "easing": "linear"
              }
             }
            ],
            "label": "14:45:02",
            "method": "animate"
           },
           {
            "args": [
             [
              "2025-01-09 14:45:03"
             ],
             {
              "frame": {
               "duration": 1,
               "easing": "linear",
               "redraw": true
              },
              "transition": {
               "duration": 0,
               "easing": "linear"
              }
             }
            ],
            "label": "14:45:03",
            "method": "animate"
           },
           {
            "args": [
             [
              "2025-01-09 14:45:04"
             ],
             {
              "frame": {
               "duration": 1,
               "easing": "linear",
               "redraw": true
              },
              "transition": {
               "duration": 0,
               "easing": "linear"
              }
             }
            ],
            "label": "14:45:04",
            "method": "animate"
           },
           {
            "args": [
             [
              "2025-01-09 14:45:05"
             ],
             {
              "frame": {
               "duration": 1,
               "easing": "linear",
               "redraw": true
              },
              "transition": {
               "duration": 0,
               "easing": "linear"
              }
             }
            ],
            "label": "14:45:05",
            "method": "animate"
           },
           {
            "args": [
             [
              "2025-01-09 14:45:06"
             ],
             {
              "frame": {
               "duration": 1,
               "easing": "linear",
               "redraw": true
              },
              "transition": {
               "duration": 0,
               "easing": "linear"
              }
             }
            ],
            "label": "14:45:06",
            "method": "animate"
           },
           {
            "args": [
             [
              "2025-01-09 14:45:07"
             ],
             {
              "frame": {
               "duration": 1,
               "easing": "linear",
               "redraw": true
              },
              "transition": {
               "duration": 0,
               "easing": "linear"
              }
             }
            ],
            "label": "14:45:07",
            "method": "animate"
           },
           {
            "args": [
             [
              "2025-01-09 14:45:08"
             ],
             {
              "frame": {
               "duration": 1,
               "easing": "linear",
               "redraw": true
              },
              "transition": {
               "duration": 0,
               "easing": "linear"
              }
             }
            ],
            "label": "14:45:08",
            "method": "animate"
           },
           {
            "args": [
             [
              "2025-01-09 14:45:09"
             ],
             {
              "frame": {
               "duration": 1,
               "easing": "linear",
               "redraw": true
              },
              "transition": {
               "duration": 0,
               "easing": "linear"
              }
             }
            ],
            "label": "14:45:09",
            "method": "animate"
           },
           {
            "args": [
             [
              "2025-01-09 14:45:10"
             ],
             {
              "frame": {
               "duration": 1,
               "easing": "linear",
               "redraw": true
              },
              "transition": {
               "duration": 0,
               "easing": "linear"
              }
             }
            ],
            "label": "14:45:10",
            "method": "animate"
           },
           {
            "args": [
             [
              "2025-01-09 14:45:11"
             ],
             {
              "frame": {
               "duration": 1,
               "easing": "linear",
               "redraw": true
              },
              "transition": {
               "duration": 0,
               "easing": "linear"
              }
             }
            ],
            "label": "14:45:11",
            "method": "animate"
           },
           {
            "args": [
             [
              "2025-01-09 14:45:12"
             ],
             {
              "frame": {
               "duration": 1,
               "easing": "linear",
               "redraw": true
              },
              "transition": {
               "duration": 0,
               "easing": "linear"
              }
             }
            ],
            "label": "14:45:12",
            "method": "animate"
           },
           {
            "args": [
             [
              "2025-01-09 14:45:13"
             ],
             {
              "frame": {
               "duration": 1,
               "easing": "linear",
               "redraw": true
              },
              "transition": {
               "duration": 0,
               "easing": "linear"
              }
             }
            ],
            "label": "14:45:13",
            "method": "animate"
           },
           {
            "args": [
             [
              "2025-01-09 14:45:14"
             ],
             {
              "frame": {
               "duration": 1,
               "easing": "linear",
               "redraw": true
              },
              "transition": {
               "duration": 0,
               "easing": "linear"
              }
             }
            ],
            "label": "14:45:14",
            "method": "animate"
           }
          ],
          "transition": {
           "duration": 100,
           "easing": "linear"
          },
          "x": 0.1,
          "xanchor": "left",
          "y": 0,
          "yanchor": "top"
         }
        ],
        "template": {
         "data": {
          "bar": [
           {
            "error_x": {
             "color": "#2a3f5f"
            },
            "error_y": {
             "color": "#2a3f5f"
            },
            "marker": {
             "line": {
              "color": "#E5ECF6",
              "width": 0.5
             },
             "pattern": {
              "fillmode": "overlay",
              "size": 10,
              "solidity": 0.2
             }
            },
            "type": "bar"
           }
          ],
          "barpolar": [
           {
            "marker": {
             "line": {
              "color": "#E5ECF6",
              "width": 0.5
             },
             "pattern": {
              "fillmode": "overlay",
              "size": 10,
              "solidity": 0.2
             }
            },
            "type": "barpolar"
           }
          ],
          "carpet": [
           {
            "aaxis": {
             "endlinecolor": "#2a3f5f",
             "gridcolor": "white",
             "linecolor": "white",
             "minorgridcolor": "white",
             "startlinecolor": "#2a3f5f"
            },
            "baxis": {
             "endlinecolor": "#2a3f5f",
             "gridcolor": "white",
             "linecolor": "white",
             "minorgridcolor": "white",
             "startlinecolor": "#2a3f5f"
            },
            "type": "carpet"
           }
          ],
          "choropleth": [
           {
            "colorbar": {
             "outlinewidth": 0,
             "ticks": ""
            },
            "type": "choropleth"
           }
          ],
          "contour": [
           {
            "colorbar": {
             "outlinewidth": 0,
             "ticks": ""
            },
            "colorscale": [
             [
              0,
              "#0d0887"
             ],
             [
              0.1111111111111111,
              "#46039f"
             ],
             [
              0.2222222222222222,
              "#7201a8"
             ],
             [
              0.3333333333333333,
              "#9c179e"
             ],
             [
              0.4444444444444444,
              "#bd3786"
             ],
             [
              0.5555555555555556,
              "#d8576b"
             ],
             [
              0.6666666666666666,
              "#ed7953"
             ],
             [
              0.7777777777777778,
              "#fb9f3a"
             ],
             [
              0.8888888888888888,
              "#fdca26"
             ],
             [
              1,
              "#f0f921"
             ]
            ],
            "type": "contour"
           }
          ],
          "contourcarpet": [
           {
            "colorbar": {
             "outlinewidth": 0,
             "ticks": ""
            },
            "type": "contourcarpet"
           }
          ],
          "heatmap": [
           {
            "colorbar": {
             "outlinewidth": 0,
             "ticks": ""
            },
            "colorscale": [
             [
              0,
              "#0d0887"
             ],
             [
              0.1111111111111111,
              "#46039f"
             ],
             [
              0.2222222222222222,
              "#7201a8"
             ],
             [
              0.3333333333333333,
              "#9c179e"
             ],
             [
              0.4444444444444444,
              "#bd3786"
             ],
             [
              0.5555555555555556,
              "#d8576b"
             ],
             [
              0.6666666666666666,
              "#ed7953"
             ],
             [
              0.7777777777777778,
              "#fb9f3a"
             ],
             [
              0.8888888888888888,
              "#fdca26"
             ],
             [
              1,
              "#f0f921"
             ]
            ],
            "type": "heatmap"
           }
          ],
          "heatmapgl": [
           {
            "colorbar": {
             "outlinewidth": 0,
             "ticks": ""
            },
            "colorscale": [
             [
              0,
              "#0d0887"
             ],
             [
              0.1111111111111111,
              "#46039f"
             ],
             [
              0.2222222222222222,
              "#7201a8"
             ],
             [
              0.3333333333333333,
              "#9c179e"
             ],
             [
              0.4444444444444444,
              "#bd3786"
             ],
             [
              0.5555555555555556,
              "#d8576b"
             ],
             [
              0.6666666666666666,
              "#ed7953"
             ],
             [
              0.7777777777777778,
              "#fb9f3a"
             ],
             [
              0.8888888888888888,
              "#fdca26"
             ],
             [
              1,
              "#f0f921"
             ]
            ],
            "type": "heatmapgl"
           }
          ],
          "histogram": [
           {
            "marker": {
             "pattern": {
              "fillmode": "overlay",
              "size": 10,
              "solidity": 0.2
             }
            },
            "type": "histogram"
           }
          ],
          "histogram2d": [
           {
            "colorbar": {
             "outlinewidth": 0,
             "ticks": ""
            },
            "colorscale": [
             [
              0,
              "#0d0887"
             ],
             [
              0.1111111111111111,
              "#46039f"
             ],
             [
              0.2222222222222222,
              "#7201a8"
             ],
             [
              0.3333333333333333,
              "#9c179e"
             ],
             [
              0.4444444444444444,
              "#bd3786"
             ],
             [
              0.5555555555555556,
              "#d8576b"
             ],
             [
              0.6666666666666666,
              "#ed7953"
             ],
             [
              0.7777777777777778,
              "#fb9f3a"
             ],
             [
              0.8888888888888888,
              "#fdca26"
             ],
             [
              1,
              "#f0f921"
             ]
            ],
            "type": "histogram2d"
           }
          ],
          "histogram2dcontour": [
           {
            "colorbar": {
             "outlinewidth": 0,
             "ticks": ""
            },
            "colorscale": [
             [
              0,
              "#0d0887"
             ],
             [
              0.1111111111111111,
              "#46039f"
             ],
             [
              0.2222222222222222,
              "#7201a8"
             ],
             [
              0.3333333333333333,
              "#9c179e"
             ],
             [
              0.4444444444444444,
              "#bd3786"
             ],
             [
              0.5555555555555556,
              "#d8576b"
             ],
             [
              0.6666666666666666,
              "#ed7953"
             ],
             [
              0.7777777777777778,
              "#fb9f3a"
             ],
             [
              0.8888888888888888,
              "#fdca26"
             ],
             [
              1,
              "#f0f921"
             ]
            ],
            "type": "histogram2dcontour"
           }
          ],
          "mesh3d": [
           {
            "colorbar": {
             "outlinewidth": 0,
             "ticks": ""
            },
            "type": "mesh3d"
           }
          ],
          "parcoords": [
           {
            "line": {
             "colorbar": {
              "outlinewidth": 0,
              "ticks": ""
             }
            },
            "type": "parcoords"
           }
          ],
          "pie": [
           {
            "automargin": true,
            "type": "pie"
           }
          ],
          "scatter": [
           {
            "fillpattern": {
             "fillmode": "overlay",
             "size": 10,
             "solidity": 0.2
            },
            "type": "scatter"
           }
          ],
          "scatter3d": [
           {
            "line": {
             "colorbar": {
              "outlinewidth": 0,
              "ticks": ""
             }
            },
            "marker": {
             "colorbar": {
              "outlinewidth": 0,
              "ticks": ""
             }
            },
            "type": "scatter3d"
           }
          ],
          "scattercarpet": [
           {
            "marker": {
             "colorbar": {
              "outlinewidth": 0,
              "ticks": ""
             }
            },
            "type": "scattercarpet"
           }
          ],
          "scattergeo": [
           {
            "marker": {
             "colorbar": {
              "outlinewidth": 0,
              "ticks": ""
             }
            },
            "type": "scattergeo"
           }
          ],
          "scattergl": [
           {
            "marker": {
             "colorbar": {
              "outlinewidth": 0,
              "ticks": ""
             }
            },
            "type": "scattergl"
           }
          ],
          "scattermapbox": [
           {
            "marker": {
             "colorbar": {
              "outlinewidth": 0,
              "ticks": ""
             }
            },
            "type": "scattermapbox"
           }
          ],
          "scatterpolar": [
           {
            "marker": {
             "colorbar": {
              "outlinewidth": 0,
              "ticks": ""
             }
            },
            "type": "scatterpolar"
           }
          ],
          "scatterpolargl": [
           {
            "marker": {
             "colorbar": {
              "outlinewidth": 0,
              "ticks": ""
             }
            },
            "type": "scatterpolargl"
           }
          ],
          "scatterternary": [
           {
            "marker": {
             "colorbar": {
              "outlinewidth": 0,
              "ticks": ""
             }
            },
            "type": "scatterternary"
           }
          ],
          "surface": [
           {
            "colorbar": {
             "outlinewidth": 0,
             "ticks": ""
            },
            "colorscale": [
             [
              0,
              "#0d0887"
             ],
             [
              0.1111111111111111,
              "#46039f"
             ],
             [
              0.2222222222222222,
              "#7201a8"
             ],
             [
              0.3333333333333333,
              "#9c179e"
             ],
             [
              0.4444444444444444,
              "#bd3786"
             ],
             [
              0.5555555555555556,
              "#d8576b"
             ],
             [
              0.6666666666666666,
              "#ed7953"
             ],
             [
              0.7777777777777778,
              "#fb9f3a"
             ],
             [
              0.8888888888888888,
              "#fdca26"
             ],
             [
              1,
              "#f0f921"
             ]
            ],
            "type": "surface"
           }
          ],
          "table": [
           {
            "cells": {
             "fill": {
              "color": "#EBF0F8"
             },
             "line": {
              "color": "white"
             }
            },
            "header": {
             "fill": {
              "color": "#C8D4E3"
             },
             "line": {
              "color": "white"
             }
            },
            "type": "table"
           }
          ]
         },
         "layout": {
          "annotationdefaults": {
           "arrowcolor": "#2a3f5f",
           "arrowhead": 0,
           "arrowwidth": 1
          },
          "autotypenumbers": "strict",
          "coloraxis": {
           "colorbar": {
            "outlinewidth": 0,
            "ticks": ""
           }
          },
          "colorscale": {
           "diverging": [
            [
             0,
             "#8e0152"
            ],
            [
             0.1,
             "#c51b7d"
            ],
            [
             0.2,
             "#de77ae"
            ],
            [
             0.3,
             "#f1b6da"
            ],
            [
             0.4,
             "#fde0ef"
            ],
            [
             0.5,
             "#f7f7f7"
            ],
            [
             0.6,
             "#e6f5d0"
            ],
            [
             0.7,
             "#b8e186"
            ],
            [
             0.8,
             "#7fbc41"
            ],
            [
             0.9,
             "#4d9221"
            ],
            [
             1,
             "#276419"
            ]
           ],
           "sequential": [
            [
             0,
             "#0d0887"
            ],
            [
             0.1111111111111111,
             "#46039f"
            ],
            [
             0.2222222222222222,
             "#7201a8"
            ],
            [
             0.3333333333333333,
             "#9c179e"
            ],
            [
             0.4444444444444444,
             "#bd3786"
            ],
            [
             0.5555555555555556,
             "#d8576b"
            ],
            [
             0.6666666666666666,
             "#ed7953"
            ],
            [
             0.7777777777777778,
             "#fb9f3a"
            ],
            [
             0.8888888888888888,
             "#fdca26"
            ],
            [
             1,
             "#f0f921"
            ]
           ],
           "sequentialminus": [
            [
             0,
             "#0d0887"
            ],
            [
             0.1111111111111111,
             "#46039f"
            ],
            [
             0.2222222222222222,
             "#7201a8"
            ],
            [
             0.3333333333333333,
             "#9c179e"
            ],
            [
             0.4444444444444444,
             "#bd3786"
            ],
            [
             0.5555555555555556,
             "#d8576b"
            ],
            [
             0.6666666666666666,
             "#ed7953"
            ],
            [
             0.7777777777777778,
             "#fb9f3a"
            ],
            [
             0.8888888888888888,
             "#fdca26"
            ],
            [
             1,
             "#f0f921"
            ]
           ]
          },
          "colorway": [
           "#636efa",
           "#EF553B",
           "#00cc96",
           "#ab63fa",
           "#FFA15A",
           "#19d3f3",
           "#FF6692",
           "#B6E880",
           "#FF97FF",
           "#FECB52"
          ],
          "font": {
           "color": "#2a3f5f"
          },
          "geo": {
           "bgcolor": "white",
           "lakecolor": "white",
           "landcolor": "#E5ECF6",
           "showlakes": true,
           "showland": true,
           "subunitcolor": "white"
          },
          "hoverlabel": {
           "align": "left"
          },
          "hovermode": "closest",
          "mapbox": {
           "style": "light"
          },
          "paper_bgcolor": "white",
          "plot_bgcolor": "#E5ECF6",
          "polar": {
           "angularaxis": {
            "gridcolor": "white",
            "linecolor": "white",
            "ticks": ""
           },
           "bgcolor": "#E5ECF6",
           "radialaxis": {
            "gridcolor": "white",
            "linecolor": "white",
            "ticks": ""
           }
          },
          "scene": {
           "xaxis": {
            "backgroundcolor": "#E5ECF6",
            "gridcolor": "white",
            "gridwidth": 2,
            "linecolor": "white",
            "showbackground": true,
            "ticks": "",
            "zerolinecolor": "white"
           },
           "yaxis": {
            "backgroundcolor": "#E5ECF6",
            "gridcolor": "white",
            "gridwidth": 2,
            "linecolor": "white",
            "showbackground": true,
            "ticks": "",
            "zerolinecolor": "white"
           },
           "zaxis": {
            "backgroundcolor": "#E5ECF6",
            "gridcolor": "white",
            "gridwidth": 2,
            "linecolor": "white",
            "showbackground": true,
            "ticks": "",
            "zerolinecolor": "white"
           }
          },
          "shapedefaults": {
           "line": {
            "color": "#2a3f5f"
           }
          },
          "ternary": {
           "aaxis": {
            "gridcolor": "white",
            "linecolor": "white",
            "ticks": ""
           },
           "baxis": {
            "gridcolor": "white",
            "linecolor": "white",
            "ticks": ""
           },
           "bgcolor": "#E5ECF6",
           "caxis": {
            "gridcolor": "white",
            "linecolor": "white",
            "ticks": ""
           }
          },
          "title": {
           "x": 0.05
          },
          "xaxis": {
           "automargin": true,
           "gridcolor": "white",
           "linecolor": "white",
           "ticks": "",
           "title": {
            "standoff": 15
           },
           "zerolinecolor": "white",
           "zerolinewidth": 2
          },
          "yaxis": {
           "automargin": true,
           "gridcolor": "white",
           "linecolor": "white",
           "ticks": "",
           "title": {
            "standoff": 15
           },
           "zerolinecolor": "white",
           "zerolinewidth": 2
          }
         }
        },
        "updatemenus": [
         {
          "buttons": [
           {
            "args": [
             null,
             {
              "frame": {
               "duration": 100,
               "redraw": true
              },
              "fromcurrent": true,
              "transition": {
               "duration": 0
              }
             }
            ],
            "label": "Play",
            "method": "animate"
           },
           {
            "args": [
             [
              null
             ],
             {
              "frame": {
               "duration": 0,
               "redraw": true
              },
              "mode": "immediate",
              "transition": {
               "duration": 0
              }
             }
            ],
            "label": "Stop",
            "method": "animate"
           }
          ],
          "direction": "left",
          "pad": {
           "r": 10,
           "t": 75
          },
          "showactive": true,
          "type": "buttons",
          "x": 0.1,
          "xanchor": "right",
          "y": 0,
          "yanchor": "top"
         }
        ],
        "xaxis": {
         "range": [
          16.552223013000003,
          139.043335647
         ],
         "title": {
          "text": "<i>x</i>"
         }
        },
        "yaxis": {
         "range": [
          28.872365193,
          137.850638267
         ],
         "title": {
          "text": "<i>y</i>"
         }
        }
       }
      }
     },
     "metadata": {},
     "output_type": "display_data"
    }
   ],
   "source": [
    "# Plot ground truth and simulated measurements\n",
    "\n",
    "from stonesoup.plotter import AnimatedPlotterly\n",
    "\n",
    "timesteps = [start_time + TIME_INTERVAL * i for i in range(num_steps + WINDOW_SIZE)]\n",
    "\n",
    "plotter = AnimatedPlotterly(timesteps, tail_length=1)\n",
    "plotter.plot_ground_truths(truth, [0, WINDOW_SIZE])\n",
    "plotter.plot_measurements(measurements, [0, WINDOW_SIZE])\n",
    "plotter.fig"
   ]
  },
  {
   "cell_type": "code",
   "execution_count": 77,
   "metadata": {},
   "outputs": [],
   "source": [
    "# Initialise predictor and prior for kalman filtering\n",
    "\n",
    "from stonesoup.predictor.kalman import KalmanPredictor\n",
    "\n",
    "predictor = KalmanPredictor(transition_model)\n",
    "\n",
    "prior_state_vector = np.zeros(WINDOW_SIZE*2)\n",
    "prior_state_vector[:WINDOW_SIZE] += x[0]\n",
    "prior_state_vector[WINDOW_SIZE:] += y[0]\n",
    "prior = GaussianState(StateVector(prior_state_vector), np.identity(WINDOW_SIZE*2)*PRIOR_COVAR, timestamp=truth[0].timestamp)"
   ]
  },
  {
   "cell_type": "code",
   "execution_count": 78,
   "metadata": {},
   "outputs": [],
   "source": [
    "# Kalman filtering: Prediction and update steps\n",
    "\n",
    "from stonesoup.types.hypothesis import SingleHypothesis\n",
    "from stonesoup.types.track import Track\n",
    "from stonesoup.updater.kalman import KalmanUpdater\n",
    "\n",
    "updater = KalmanUpdater(measurement_model)\n",
    "track = Track()\n",
    "track.append(prior)\n",
    "\n",
    "for i in range(1, len(measurements)):\n",
    "    measurement = measurements[i]\n",
    "    prediction = predictor.predict(prior, timestamp=measurement.timestamp, pred_time=(measurement.timestamp-start_time))\n",
    "    hypothesis = SingleHypothesis(prediction, measurement)\n",
    "    post = updater.update(hypothesis)\n",
    "    track.append(post)\n",
    "    prior = track[-1]\n",
    "\n",
    "# zero division error if prior.timestamp == measurement.timestamp"
   ]
  },
  {
   "cell_type": "code",
   "execution_count": 79,
   "metadata": {},
   "outputs": [],
   "source": [
    "# Using Kalman Smoother is equivalent to using last elem in sliding window\n",
    "# Kalman update step smoothes previous states"
   ]
  },
  {
   "cell_type": "code",
   "execution_count": 80,
   "metadata": {},
   "outputs": [
    {
     "data": {
      "application/vnd.plotly.v1+json": {
       "config": {
        "plotlyServerURL": "https://plot.ly"
       },
       "data": [
        {
         "hoverinfo": "none",
         "legendgroup": "Ground Truth",
         "legendrank": 100,
         "line": {
          "color": "#EF553B",
          "dash": "dash"
         },
         "mode": "lines",
         "name": "Ground Truth",
         "showlegend": true,
         "type": "scatter",
         "x": [],
         "y": []
        },
        {
         "hoverinfo": "none",
         "legendgroup": "Ground Truth",
         "legendrank": 100,
         "line": {
          "color": "#EF553B",
          "dash": "dash"
         },
         "mode": "lines",
         "name": "Ground Truth",
         "showlegend": false,
         "type": "scatter",
         "x": [],
         "y": []
        },
        {
         "hoverinfo": "none",
         "legendgroup": "Measurements",
         "legendrank": 200,
         "marker": {
          "color": "#636EFA"
         },
         "mode": "markers",
         "name": "Measurements",
         "showlegend": true,
         "type": "scatter",
         "x": [],
         "y": []
        },
        {
         "hoverinfo": "none",
         "legendgroup": "Measurements",
         "legendrank": 200,
         "marker": {
          "color": "#636EFA"
         },
         "mode": "markers",
         "name": "Measurements",
         "showlegend": false,
         "type": "scatter",
         "x": [],
         "y": []
        },
        {
         "legendgroup": "Sliding window GP",
         "legendrank": 400,
         "line": {
          "color": "#AB63FA"
         },
         "mode": "markers+lines",
         "name": "Sliding window GP",
         "showlegend": true,
         "type": "scatter",
         "x": [],
         "y": []
        },
        {
         "legendgroup": "Sliding window GP",
         "legendrank": 400,
         "line": {
          "color": "#AB63FA"
         },
         "mode": "markers+lines",
         "name": "Sliding window GP",
         "showlegend": false,
         "type": "scatter",
         "x": [],
         "y": []
        }
       ],
       "frames": [
        {
         "data": [
          {
           "type": "scatter",
           "x": [
            0,
            0
           ],
           "y": [
            0,
            0
           ]
          },
          {
           "hovertemplate": "GroundTruthState<br>(%{x}, %{y})<br>Time: %{meta}",
           "meta": [],
           "type": "scatter",
           "x": [
            null
           ],
           "y": [
            null
           ]
          },
          {
           "type": "scatter",
           "x": [
            null,
            null
           ],
           "y": [
            null,
            null
           ]
          },
          {
           "hovertemplate": "Detection<br>(%{x}, %{y})<br>Time: %{meta}",
           "meta": [],
           "type": "scatter",
           "x": [
            null
           ],
           "y": [
            null
           ]
          },
          {
           "type": "scatter",
           "x": [
            null,
            null
           ],
           "y": [
            null,
            null
           ]
          },
          {
           "customdata": [],
           "hovertemplate": "%{meta}<br>(%{x}, %{y})<br>Time: %{customdata}",
           "meta": [],
           "type": "scatter",
           "x": [
            null
           ],
           "y": [
            null
           ]
          }
         ],
         "name": "2025-01-09 14:44:15",
         "traces": [
          0,
          1,
          2,
          3,
          4,
          5
         ]
        },
        {
         "data": [
          {
           "type": "scatter",
           "x": [
            0,
            0
           ],
           "y": [
            0,
            0
           ]
          },
          {
           "hovertemplate": "GroundTruthState<br>(%{x}, %{y})<br>Time: %{meta}",
           "meta": [],
           "type": "scatter",
           "x": [
            null
           ],
           "y": [
            null
           ]
          },
          {
           "type": "scatter",
           "x": [
            null,
            null
           ],
           "y": [
            null,
            null
           ]
          },
          {
           "hovertemplate": "Detection<br>(%{x}, %{y})<br>Time: %{meta}",
           "meta": [],
           "type": "scatter",
           "x": [
            null
           ],
           "y": [
            null
           ]
          },
          {
           "type": "scatter",
           "x": [
            null,
            null
           ],
           "y": [
            null,
            null
           ]
          },
          {
           "customdata": [],
           "hovertemplate": "%{meta}<br>(%{x}, %{y})<br>Time: %{customdata}",
           "meta": [],
           "type": "scatter",
           "x": [
            null
           ],
           "y": [
            null
           ]
          }
         ],
         "name": "2025-01-09 14:44:16",
         "traces": [
          0,
          1,
          2,
          3,
          4,
          5
         ]
        },
        {
         "data": [
          {
           "type": "scatter",
           "x": [
            0,
            0
           ],
           "y": [
            0,
            0
           ]
          },
          {
           "hovertemplate": "GroundTruthState<br>(%{x}, %{y})<br>Time: %{meta}",
           "meta": [],
           "type": "scatter",
           "x": [
            null
           ],
           "y": [
            null
           ]
          },
          {
           "type": "scatter",
           "x": [
            null,
            null
           ],
           "y": [
            null,
            null
           ]
          },
          {
           "hovertemplate": "Detection<br>(%{x}, %{y})<br>Time: %{meta}",
           "meta": [],
           "type": "scatter",
           "x": [
            null
           ],
           "y": [
            null
           ]
          },
          {
           "type": "scatter",
           "x": [
            null,
            null
           ],
           "y": [
            null,
            null
           ]
          },
          {
           "customdata": [],
           "hovertemplate": "%{meta}<br>(%{x}, %{y})<br>Time: %{customdata}",
           "meta": [],
           "type": "scatter",
           "x": [
            null
           ],
           "y": [
            null
           ]
          }
         ],
         "name": "2025-01-09 14:44:17",
         "traces": [
          0,
          1,
          2,
          3,
          4,
          5
         ]
        },
        {
         "data": [
          {
           "type": "scatter",
           "x": [
            0,
            0
           ],
           "y": [
            0,
            0
           ]
          },
          {
           "hovertemplate": "GroundTruthState<br>(%{x}, %{y})<br>Time: %{meta}",
           "meta": [],
           "type": "scatter",
           "x": [
            null
           ],
           "y": [
            null
           ]
          },
          {
           "type": "scatter",
           "x": [
            null,
            null
           ],
           "y": [
            null,
            null
           ]
          },
          {
           "hovertemplate": "Detection<br>(%{x}, %{y})<br>Time: %{meta}",
           "meta": [],
           "type": "scatter",
           "x": [
            null
           ],
           "y": [
            null
           ]
          },
          {
           "type": "scatter",
           "x": [
            null,
            null
           ],
           "y": [
            null,
            null
           ]
          },
          {
           "customdata": [],
           "hovertemplate": "%{meta}<br>(%{x}, %{y})<br>Time: %{customdata}",
           "meta": [],
           "type": "scatter",
           "x": [
            null
           ],
           "y": [
            null
           ]
          }
         ],
         "name": "2025-01-09 14:44:18",
         "traces": [
          0,
          1,
          2,
          3,
          4,
          5
         ]
        },
        {
         "data": [
          {
           "type": "scatter",
           "x": [
            0,
            0
           ],
           "y": [
            0,
            0
           ]
          },
          {
           "hovertemplate": "GroundTruthState<br>(%{x}, %{y})<br>Time: %{meta}",
           "meta": [],
           "type": "scatter",
           "x": [
            null
           ],
           "y": [
            null
           ]
          },
          {
           "type": "scatter",
           "x": [
            null,
            null
           ],
           "y": [
            null,
            null
           ]
          },
          {
           "hovertemplate": "Detection<br>(%{x}, %{y})<br>Time: %{meta}",
           "meta": [],
           "type": "scatter",
           "x": [
            null
           ],
           "y": [
            null
           ]
          },
          {
           "type": "scatter",
           "x": [
            null,
            null
           ],
           "y": [
            null,
            null
           ]
          },
          {
           "customdata": [],
           "hovertemplate": "%{meta}<br>(%{x}, %{y})<br>Time: %{customdata}",
           "meta": [],
           "type": "scatter",
           "x": [
            null
           ],
           "y": [
            null
           ]
          }
         ],
         "name": "2025-01-09 14:44:19",
         "traces": [
          0,
          1,
          2,
          3,
          4,
          5
         ]
        },
        {
         "data": [
          {
           "type": "scatter",
           "x": [
            0,
            0
           ],
           "y": [
            0,
            0
           ]
          },
          {
           "hovertemplate": "GroundTruthState<br>(%{x}, %{y})<br>Time: %{meta}",
           "meta": [],
           "type": "scatter",
           "x": [
            null
           ],
           "y": [
            null
           ]
          },
          {
           "type": "scatter",
           "x": [
            null,
            null
           ],
           "y": [
            null,
            null
           ]
          },
          {
           "hovertemplate": "Detection<br>(%{x}, %{y})<br>Time: %{meta}",
           "meta": [],
           "type": "scatter",
           "x": [
            null
           ],
           "y": [
            null
           ]
          },
          {
           "type": "scatter",
           "x": [
            null,
            null
           ],
           "y": [
            null,
            null
           ]
          },
          {
           "customdata": [],
           "hovertemplate": "%{meta}<br>(%{x}, %{y})<br>Time: %{customdata}",
           "meta": [],
           "type": "scatter",
           "x": [
            null
           ],
           "y": [
            null
           ]
          }
         ],
         "name": "2025-01-09 14:44:20",
         "traces": [
          0,
          1,
          2,
          3,
          4,
          5
         ]
        },
        {
         "data": [
          {
           "type": "scatter",
           "x": [
            0,
            0
           ],
           "y": [
            0,
            0
           ]
          },
          {
           "hovertemplate": "GroundTruthState<br>(%{x}, %{y})<br>Time: %{meta}",
           "meta": [],
           "type": "scatter",
           "x": [
            null
           ],
           "y": [
            null
           ]
          },
          {
           "type": "scatter",
           "x": [
            null,
            null
           ],
           "y": [
            null,
            null
           ]
          },
          {
           "hovertemplate": "Detection<br>(%{x}, %{y})<br>Time: %{meta}",
           "meta": [],
           "type": "scatter",
           "x": [
            null
           ],
           "y": [
            null
           ]
          },
          {
           "type": "scatter",
           "x": [
            null,
            null
           ],
           "y": [
            null,
            null
           ]
          },
          {
           "customdata": [],
           "hovertemplate": "%{meta}<br>(%{x}, %{y})<br>Time: %{customdata}",
           "meta": [],
           "type": "scatter",
           "x": [
            null
           ],
           "y": [
            null
           ]
          }
         ],
         "name": "2025-01-09 14:44:21",
         "traces": [
          0,
          1,
          2,
          3,
          4,
          5
         ]
        },
        {
         "data": [
          {
           "type": "scatter",
           "x": [
            0,
            0
           ],
           "y": [
            0,
            0
           ]
          },
          {
           "hovertemplate": "GroundTruthState<br>(%{x}, %{y})<br>Time: %{meta}",
           "meta": [],
           "type": "scatter",
           "x": [
            null
           ],
           "y": [
            null
           ]
          },
          {
           "type": "scatter",
           "x": [
            null,
            null
           ],
           "y": [
            null,
            null
           ]
          },
          {
           "hovertemplate": "Detection<br>(%{x}, %{y})<br>Time: %{meta}",
           "meta": [],
           "type": "scatter",
           "x": [
            null
           ],
           "y": [
            null
           ]
          },
          {
           "type": "scatter",
           "x": [
            null,
            null
           ],
           "y": [
            null,
            null
           ]
          },
          {
           "customdata": [],
           "hovertemplate": "%{meta}<br>(%{x}, %{y})<br>Time: %{customdata}",
           "meta": [],
           "type": "scatter",
           "x": [
            null
           ],
           "y": [
            null
           ]
          }
         ],
         "name": "2025-01-09 14:44:22",
         "traces": [
          0,
          1,
          2,
          3,
          4,
          5
         ]
        },
        {
         "data": [
          {
           "type": "scatter",
           "x": [
            0,
            0
           ],
           "y": [
            0,
            0
           ]
          },
          {
           "hovertemplate": "GroundTruthState<br>(%{x}, %{y})<br>Time: %{meta}",
           "meta": [],
           "type": "scatter",
           "x": [
            null
           ],
           "y": [
            null
           ]
          },
          {
           "type": "scatter",
           "x": [
            null,
            null
           ],
           "y": [
            null,
            null
           ]
          },
          {
           "hovertemplate": "Detection<br>(%{x}, %{y})<br>Time: %{meta}",
           "meta": [],
           "type": "scatter",
           "x": [
            null
           ],
           "y": [
            null
           ]
          },
          {
           "type": "scatter",
           "x": [
            null,
            null
           ],
           "y": [
            null,
            null
           ]
          },
          {
           "customdata": [],
           "hovertemplate": "%{meta}<br>(%{x}, %{y})<br>Time: %{customdata}",
           "meta": [],
           "type": "scatter",
           "x": [
            null
           ],
           "y": [
            null
           ]
          }
         ],
         "name": "2025-01-09 14:44:23",
         "traces": [
          0,
          1,
          2,
          3,
          4,
          5
         ]
        },
        {
         "data": [
          {
           "type": "scatter",
           "x": [
            0,
            0
           ],
           "y": [
            0,
            0
           ]
          },
          {
           "hovertemplate": "GroundTruthState<br>(%{x}, %{y})<br>Time: %{meta}",
           "meta": [
            "2025-01-09 14:44:24"
           ],
           "type": "scatter",
           "x": [
            74.05276584,
            null
           ],
           "y": [
            132.8970804,
            null
           ]
          },
          {
           "type": "scatter",
           "x": [
            null,
            null
           ],
           "y": [
            null,
            null
           ]
          },
          {
           "hovertemplate": "Detection<br>(%{x}, %{y})<br>Time: %{meta}",
           "meta": [
            "2025-01-09 14:44:24"
           ],
           "type": "scatter",
           "x": [
            77.99730680145169,
            null
           ],
           "y": [
            133.79185911959564,
            null
           ]
          },
          {
           "type": "scatter",
           "x": [
            null,
            null
           ],
           "y": [
            null,
            null
           ]
          },
          {
           "customdata": [
            "2025-01-09 14:44:24"
           ],
           "hovertemplate": "%{meta}<br>(%{x}, %{y})<br>Time: %{customdata}",
           "meta": [
            "GaussianState"
           ],
           "type": "scatter",
           "x": [
            74.22014502,
            null
           ],
           "y": [
            131.1193202,
            null
           ]
          }
         ],
         "name": "2025-01-09 14:44:24",
         "traces": [
          0,
          1,
          2,
          3,
          4,
          5
         ]
        },
        {
         "data": [
          {
           "type": "scatter",
           "x": [
            0,
            0
           ],
           "y": [
            0,
            0
           ]
          },
          {
           "hovertemplate": "GroundTruthState<br>(%{x}, %{y})<br>Time: %{meta}",
           "meta": [
            "2025-01-09 14:44:24",
            "2025-01-09 14:44:25"
           ],
           "type": "scatter",
           "x": [
            74.05276584,
            87.13825267,
            null
           ],
           "y": [
            132.8970804,
            128.6567371,
            null
           ]
          },
          {
           "type": "scatter",
           "x": [
            null,
            null
           ],
           "y": [
            null,
            null
           ]
          },
          {
           "hovertemplate": "Detection<br>(%{x}, %{y})<br>Time: %{meta}",
           "meta": [
            "2025-01-09 14:44:24",
            "2025-01-09 14:44:25"
           ],
           "type": "scatter",
           "x": [
            77.99730680145169,
            89.32677733462154,
            null
           ],
           "y": [
            133.79185911959564,
            133.66752662373142,
            null
           ]
          },
          {
           "type": "scatter",
           "x": [
            null,
            null
           ],
           "y": [
            null,
            null
           ]
          },
          {
           "customdata": [
            "2025-01-09 14:44:24",
            "2025-01-09 14:44:25"
           ],
           "hovertemplate": "%{meta}<br>(%{x}, %{y})<br>Time: %{customdata}",
           "meta": [
            "GaussianState",
            "GaussianStateUpdate"
           ],
           "type": "scatter",
           "x": [
            74.22014502,
            89.22992315256701,
            null
           ],
           "y": [
            131.1193202,
            133.65116665735812,
            null
           ]
          }
         ],
         "name": "2025-01-09 14:44:25",
         "traces": [
          0,
          1,
          2,
          3,
          4,
          5
         ]
        },
        {
         "data": [
          {
           "type": "scatter",
           "x": [
            0,
            0
           ],
           "y": [
            0,
            0
           ]
          },
          {
           "hovertemplate": "GroundTruthState<br>(%{x}, %{y})<br>Time: %{meta}",
           "meta": [
            "2025-01-09 14:44:24",
            "2025-01-09 14:44:25",
            "2025-01-09 14:44:26"
           ],
           "type": "scatter",
           "x": [
            74.05276584,
            87.13825267,
            96.14701585,
            null
           ],
           "y": [
            132.8970804,
            128.6567371,
            114.5052243,
            null
           ]
          },
          {
           "type": "scatter",
           "x": [
            null,
            null
           ],
           "y": [
            null,
            null
           ]
          },
          {
           "hovertemplate": "Detection<br>(%{x}, %{y})<br>Time: %{meta}",
           "meta": [
            "2025-01-09 14:44:24",
            "2025-01-09 14:44:25",
            "2025-01-09 14:44:26"
           ],
           "type": "scatter",
           "x": [
            77.99730680145169,
            89.32677733462154,
            100.3230024678982,
            null
           ],
           "y": [
            133.79185911959564,
            133.66752662373142,
            112.31996452768946,
            null
           ]
          },
          {
           "type": "scatter",
           "x": [
            null,
            null
           ],
           "y": [
            null,
            null
           ]
          },
          {
           "customdata": [
            "2025-01-09 14:44:24",
            "2025-01-09 14:44:25",
            "2025-01-09 14:44:26"
           ],
           "hovertemplate": "%{meta}<br>(%{x}, %{y})<br>Time: %{customdata}",
           "meta": [
            "GaussianState",
            "GaussianStateUpdate",
            "GaussianStateUpdate"
           ],
           "type": "scatter",
           "x": [
            74.22014502,
            89.22992315256701,
            100.77107487718641,
            null
           ],
           "y": [
            131.1193202,
            133.65116665735812,
            112.5795863318055,
            null
           ]
          }
         ],
         "name": "2025-01-09 14:44:26",
         "traces": [
          0,
          1,
          2,
          3,
          4,
          5
         ]
        },
        {
         "data": [
          {
           "type": "scatter",
           "x": [
            0,
            0
           ],
           "y": [
            0,
            0
           ]
          },
          {
           "hovertemplate": "GroundTruthState<br>(%{x}, %{y})<br>Time: %{meta}",
           "meta": [
            "2025-01-09 14:44:24",
            "2025-01-09 14:44:25",
            "2025-01-09 14:44:26",
            "2025-01-09 14:44:27"
           ],
           "type": "scatter",
           "x": [
            74.05276584,
            87.13825267,
            96.14701585,
            108.2505623,
            null
           ],
           "y": [
            132.8970804,
            128.6567371,
            114.5052243,
            121.7846509,
            null
           ]
          },
          {
           "type": "scatter",
           "x": [
            null,
            null
           ],
           "y": [
            null,
            null
           ]
          },
          {
           "hovertemplate": "Detection<br>(%{x}, %{y})<br>Time: %{meta}",
           "meta": [
            "2025-01-09 14:44:24",
            "2025-01-09 14:44:25",
            "2025-01-09 14:44:26",
            "2025-01-09 14:44:27"
           ],
           "type": "scatter",
           "x": [
            77.99730680145169,
            89.32677733462154,
            100.3230024678982,
            110.37502458622242,
            null
           ],
           "y": [
            133.79185911959564,
            133.66752662373142,
            112.31996452768946,
            121.44620589336175,
            null
           ]
          },
          {
           "type": "scatter",
           "x": [
            null,
            null
           ],
           "y": [
            null,
            null
           ]
          },
          {
           "customdata": [
            "2025-01-09 14:44:24",
            "2025-01-09 14:44:25",
            "2025-01-09 14:44:26",
            "2025-01-09 14:44:27"
           ],
           "hovertemplate": "%{meta}<br>(%{x}, %{y})<br>Time: %{customdata}",
           "meta": [
            "GaussianState",
            "GaussianStateUpdate",
            "GaussianStateUpdate",
            "GaussianStateUpdate"
           ],
           "type": "scatter",
           "x": [
            74.22014502,
            89.22992315256701,
            100.77107487718641,
            110.19651238288311,
            null
           ],
           "y": [
            131.1193202,
            133.65116665735812,
            112.5795863318055,
            120.62217559225633,
            null
           ]
          }
         ],
         "name": "2025-01-09 14:44:27",
         "traces": [
          0,
          1,
          2,
          3,
          4,
          5
         ]
        },
        {
         "data": [
          {
           "type": "scatter",
           "x": [
            0,
            0
           ],
           "y": [
            0,
            0
           ]
          },
          {
           "hovertemplate": "GroundTruthState<br>(%{x}, %{y})<br>Time: %{meta}",
           "meta": [
            "2025-01-09 14:44:24",
            "2025-01-09 14:44:25",
            "2025-01-09 14:44:26",
            "2025-01-09 14:44:27",
            "2025-01-09 14:44:28"
           ],
           "type": "scatter",
           "x": [
            74.05276584,
            87.13825267,
            96.14701585,
            108.2505623,
            112.7455582,
            null
           ],
           "y": [
            132.8970804,
            128.6567371,
            114.5052243,
            121.7846509,
            122.6648195,
            null
           ]
          },
          {
           "type": "scatter",
           "x": [
            null,
            null
           ],
           "y": [
            null,
            null
           ]
          },
          {
           "hovertemplate": "Detection<br>(%{x}, %{y})<br>Time: %{meta}",
           "meta": [
            "2025-01-09 14:44:24",
            "2025-01-09 14:44:25",
            "2025-01-09 14:44:26",
            "2025-01-09 14:44:27",
            "2025-01-09 14:44:28"
           ],
           "type": "scatter",
           "x": [
            77.99730680145169,
            89.32677733462154,
            100.3230024678982,
            110.37502458622242,
            112.51475383083013,
            null
           ],
           "y": [
            133.79185911959564,
            133.66752662373142,
            112.31996452768946,
            121.44620589336175,
            123.58294566179377,
            null
           ]
          },
          {
           "type": "scatter",
           "x": [
            null,
            null
           ],
           "y": [
            null,
            null
           ]
          },
          {
           "customdata": [
            "2025-01-09 14:44:24",
            "2025-01-09 14:44:25",
            "2025-01-09 14:44:26",
            "2025-01-09 14:44:27",
            "2025-01-09 14:44:28"
           ],
           "hovertemplate": "%{meta}<br>(%{x}, %{y})<br>Time: %{customdata}",
           "meta": [
            "GaussianState",
            "GaussianStateUpdate",
            "GaussianStateUpdate",
            "GaussianStateUpdate",
            "GaussianStateUpdate"
           ],
           "type": "scatter",
           "x": [
            74.22014502,
            89.22992315256701,
            100.77107487718641,
            110.19651238288311,
            111.90587167496986,
            null
           ],
           "y": [
            131.1193202,
            133.65116665735812,
            112.5795863318055,
            120.62217559225633,
            124.46905075207951,
            null
           ]
          }
         ],
         "name": "2025-01-09 14:44:28",
         "traces": [
          0,
          1,
          2,
          3,
          4,
          5
         ]
        },
        {
         "data": [
          {
           "type": "scatter",
           "x": [
            0,
            0
           ],
           "y": [
            0,
            0
           ]
          },
          {
           "hovertemplate": "GroundTruthState<br>(%{x}, %{y})<br>Time: %{meta}",
           "meta": [
            "2025-01-09 14:44:24",
            "2025-01-09 14:44:25",
            "2025-01-09 14:44:26",
            "2025-01-09 14:44:27",
            "2025-01-09 14:44:28",
            "2025-01-09 14:44:29"
           ],
           "type": "scatter",
           "x": [
            74.05276584,
            87.13825267,
            96.14701585,
            108.2505623,
            112.7455582,
            117.6360986,
            null
           ],
           "y": [
            132.8970804,
            128.6567371,
            114.5052243,
            121.7846509,
            122.6648195,
            117.0363673,
            null
           ]
          },
          {
           "type": "scatter",
           "x": [
            null,
            null
           ],
           "y": [
            null,
            null
           ]
          },
          {
           "hovertemplate": "Detection<br>(%{x}, %{y})<br>Time: %{meta}",
           "meta": [
            "2025-01-09 14:44:24",
            "2025-01-09 14:44:25",
            "2025-01-09 14:44:26",
            "2025-01-09 14:44:27",
            "2025-01-09 14:44:28",
            "2025-01-09 14:44:29"
           ],
           "type": "scatter",
           "x": [
            77.99730680145169,
            89.32677733462154,
            100.3230024678982,
            110.37502458622242,
            112.51475383083013,
            117.95818981683755,
            null
           ],
           "y": [
            133.79185911959564,
            133.66752662373142,
            112.31996452768946,
            121.44620589336175,
            123.58294566179377,
            120.28822171944623,
            null
           ]
          },
          {
           "type": "scatter",
           "x": [
            null,
            null
           ],
           "y": [
            null,
            null
           ]
          },
          {
           "customdata": [
            "2025-01-09 14:44:24",
            "2025-01-09 14:44:25",
            "2025-01-09 14:44:26",
            "2025-01-09 14:44:27",
            "2025-01-09 14:44:28",
            "2025-01-09 14:44:29"
           ],
           "hovertemplate": "%{meta}<br>(%{x}, %{y})<br>Time: %{customdata}",
           "meta": [
            "GaussianState",
            "GaussianStateUpdate",
            "GaussianStateUpdate",
            "GaussianStateUpdate",
            "GaussianStateUpdate",
            "GaussianStateUpdate"
           ],
           "type": "scatter",
           "x": [
            74.22014502,
            89.22992315256701,
            100.77107487718641,
            110.19651238288311,
            111.90587167496986,
            117.02210478270644,
            null
           ],
           "y": [
            131.1193202,
            133.65116665735812,
            112.5795863318055,
            120.62217559225633,
            124.46905075207951,
            121.1429694947251,
            null
           ]
          }
         ],
         "name": "2025-01-09 14:44:29",
         "traces": [
          0,
          1,
          2,
          3,
          4,
          5
         ]
        },
        {
         "data": [
          {
           "type": "scatter",
           "x": [
            0,
            0
           ],
           "y": [
            0,
            0
           ]
          },
          {
           "hovertemplate": "GroundTruthState<br>(%{x}, %{y})<br>Time: %{meta}",
           "meta": [
            "2025-01-09 14:44:24",
            "2025-01-09 14:44:25",
            "2025-01-09 14:44:26",
            "2025-01-09 14:44:27",
            "2025-01-09 14:44:28",
            "2025-01-09 14:44:29",
            "2025-01-09 14:44:30"
           ],
           "type": "scatter",
           "x": [
            74.05276584,
            87.13825267,
            96.14701585,
            108.2505623,
            112.7455582,
            117.6360986,
            125.795539,
            null
           ],
           "y": [
            132.8970804,
            128.6567371,
            114.5052243,
            121.7846509,
            122.6648195,
            117.0363673,
            106.1069251,
            null
           ]
          },
          {
           "type": "scatter",
           "x": [
            null,
            null
           ],
           "y": [
            null,
            null
           ]
          },
          {
           "hovertemplate": "Detection<br>(%{x}, %{y})<br>Time: %{meta}",
           "meta": [
            "2025-01-09 14:44:24",
            "2025-01-09 14:44:25",
            "2025-01-09 14:44:26",
            "2025-01-09 14:44:27",
            "2025-01-09 14:44:28",
            "2025-01-09 14:44:29",
            "2025-01-09 14:44:30"
           ],
           "type": "scatter",
           "x": [
            77.99730680145169,
            89.32677733462154,
            100.3230024678982,
            110.37502458622242,
            112.51475383083013,
            117.95818981683755,
            127.49727108687048,
            null
           ],
           "y": [
            133.79185911959564,
            133.66752662373142,
            112.31996452768946,
            121.44620589336175,
            123.58294566179377,
            120.28822171944623,
            106.37899870804137,
            null
           ]
          },
          {
           "type": "scatter",
           "x": [
            null,
            null
           ],
           "y": [
            null,
            null
           ]
          },
          {
           "customdata": [
            "2025-01-09 14:44:24",
            "2025-01-09 14:44:25",
            "2025-01-09 14:44:26",
            "2025-01-09 14:44:27",
            "2025-01-09 14:44:28",
            "2025-01-09 14:44:29",
            "2025-01-09 14:44:30"
           ],
           "hovertemplate": "%{meta}<br>(%{x}, %{y})<br>Time: %{customdata}",
           "meta": [
            "GaussianState",
            "GaussianStateUpdate",
            "GaussianStateUpdate",
            "GaussianStateUpdate",
            "GaussianStateUpdate",
            "GaussianStateUpdate",
            "GaussianStateUpdate"
           ],
           "type": "scatter",
           "x": [
            74.22014502,
            89.22992315256701,
            100.77107487718641,
            110.19651238288311,
            111.90587167496986,
            117.02210478270644,
            127.25365431551246,
            null
           ],
           "y": [
            131.1193202,
            133.65116665735812,
            112.5795863318055,
            120.62217559225633,
            124.46905075207951,
            121.1429694947251,
            106.43224124468414,
            null
           ]
          }
         ],
         "name": "2025-01-09 14:44:30",
         "traces": [
          0,
          1,
          2,
          3,
          4,
          5
         ]
        },
        {
         "data": [
          {
           "type": "scatter",
           "x": [
            0,
            0
           ],
           "y": [
            0,
            0
           ]
          },
          {
           "hovertemplate": "GroundTruthState<br>(%{x}, %{y})<br>Time: %{meta}",
           "meta": [
            "2025-01-09 14:44:24",
            "2025-01-09 14:44:25",
            "2025-01-09 14:44:26",
            "2025-01-09 14:44:27",
            "2025-01-09 14:44:28",
            "2025-01-09 14:44:29",
            "2025-01-09 14:44:30",
            "2025-01-09 14:44:31"
           ],
           "type": "scatter",
           "x": [
            74.05276584,
            87.13825267,
            96.14701585,
            108.2505623,
            112.7455582,
            117.6360986,
            125.795539,
            130.0730637,
            null
           ],
           "y": [
            132.8970804,
            128.6567371,
            114.5052243,
            121.7846509,
            122.6648195,
            117.0363673,
            106.1069251,
            97.00907745,
            null
           ]
          },
          {
           "type": "scatter",
           "x": [
            null,
            null
           ],
           "y": [
            null,
            null
           ]
          },
          {
           "hovertemplate": "Detection<br>(%{x}, %{y})<br>Time: %{meta}",
           "meta": [
            "2025-01-09 14:44:24",
            "2025-01-09 14:44:25",
            "2025-01-09 14:44:26",
            "2025-01-09 14:44:27",
            "2025-01-09 14:44:28",
            "2025-01-09 14:44:29",
            "2025-01-09 14:44:30",
            "2025-01-09 14:44:31"
           ],
           "type": "scatter",
           "x": [
            77.99730680145169,
            89.32677733462154,
            100.3230024678982,
            110.37502458622242,
            112.51475383083013,
            117.95818981683755,
            127.49727108687048,
            131.06557206113158,
            null
           ],
           "y": [
            133.79185911959564,
            133.66752662373142,
            112.31996452768946,
            121.44620589336175,
            123.58294566179377,
            120.28822171944623,
            106.37899870804137,
            97.75519592835539,
            null
           ]
          },
          {
           "type": "scatter",
           "x": [
            null,
            null
           ],
           "y": [
            null,
            null
           ]
          },
          {
           "customdata": [
            "2025-01-09 14:44:24",
            "2025-01-09 14:44:25",
            "2025-01-09 14:44:26",
            "2025-01-09 14:44:27",
            "2025-01-09 14:44:28",
            "2025-01-09 14:44:29",
            "2025-01-09 14:44:30",
            "2025-01-09 14:44:31"
           ],
           "hovertemplate": "%{meta}<br>(%{x}, %{y})<br>Time: %{customdata}",
           "meta": [
            "GaussianState",
            "GaussianStateUpdate",
            "GaussianStateUpdate",
            "GaussianStateUpdate",
            "GaussianStateUpdate",
            "GaussianStateUpdate",
            "GaussianStateUpdate",
            "GaussianStateUpdate"
           ],
           "type": "scatter",
           "x": [
            74.22014502,
            89.22992315256701,
            100.77107487718641,
            110.19651238288311,
            111.90587167496986,
            117.02210478270644,
            127.25365431551246,
            132.20295551989798,
            null
           ],
           "y": [
            131.1193202,
            133.65116665735812,
            112.5795863318055,
            120.62217559225633,
            124.46905075207951,
            121.1429694947251,
            106.43224124468414,
            96.32056275288147,
            null
           ]
          }
         ],
         "name": "2025-01-09 14:44:31",
         "traces": [
          0,
          1,
          2,
          3,
          4,
          5
         ]
        },
        {
         "data": [
          {
           "type": "scatter",
           "x": [
            0,
            0
           ],
           "y": [
            0,
            0
           ]
          },
          {
           "hovertemplate": "GroundTruthState<br>(%{x}, %{y})<br>Time: %{meta}",
           "meta": [
            "2025-01-09 14:44:24",
            "2025-01-09 14:44:25",
            "2025-01-09 14:44:26",
            "2025-01-09 14:44:27",
            "2025-01-09 14:44:28",
            "2025-01-09 14:44:29",
            "2025-01-09 14:44:30",
            "2025-01-09 14:44:31",
            "2025-01-09 14:44:32"
           ],
           "type": "scatter",
           "x": [
            74.05276584,
            87.13825267,
            96.14701585,
            108.2505623,
            112.7455582,
            117.6360986,
            125.795539,
            130.0730637,
            126.9739371,
            null
           ],
           "y": [
            132.8970804,
            128.6567371,
            114.5052243,
            121.7846509,
            122.6648195,
            117.0363673,
            106.1069251,
            97.00907745,
            88.3605384,
            null
           ]
          },
          {
           "type": "scatter",
           "x": [
            null,
            null
           ],
           "y": [
            null,
            null
           ]
          },
          {
           "hovertemplate": "Detection<br>(%{x}, %{y})<br>Time: %{meta}",
           "meta": [
            "2025-01-09 14:44:24",
            "2025-01-09 14:44:25",
            "2025-01-09 14:44:26",
            "2025-01-09 14:44:27",
            "2025-01-09 14:44:28",
            "2025-01-09 14:44:29",
            "2025-01-09 14:44:30",
            "2025-01-09 14:44:31",
            "2025-01-09 14:44:32"
           ],
           "type": "scatter",
           "x": [
            77.99730680145169,
            89.32677733462154,
            100.3230024678982,
            110.37502458622242,
            112.51475383083013,
            117.95818981683755,
            127.49727108687048,
            131.06557206113158,
            130.31479947134028,
            null
           ],
           "y": [
            133.79185911959564,
            133.66752662373142,
            112.31996452768946,
            121.44620589336175,
            123.58294566179377,
            120.28822171944623,
            106.37899870804137,
            97.75519592835539,
            87.90179057607384,
            null
           ]
          },
          {
           "type": "scatter",
           "x": [
            null,
            null
           ],
           "y": [
            null,
            null
           ]
          },
          {
           "customdata": [
            "2025-01-09 14:44:24",
            "2025-01-09 14:44:25",
            "2025-01-09 14:44:26",
            "2025-01-09 14:44:27",
            "2025-01-09 14:44:28",
            "2025-01-09 14:44:29",
            "2025-01-09 14:44:30",
            "2025-01-09 14:44:31",
            "2025-01-09 14:44:32"
           ],
           "hovertemplate": "%{meta}<br>(%{x}, %{y})<br>Time: %{customdata}",
           "meta": [
            "GaussianState",
            "GaussianStateUpdate",
            "GaussianStateUpdate",
            "GaussianStateUpdate",
            "GaussianStateUpdate",
            "GaussianStateUpdate",
            "GaussianStateUpdate",
            "GaussianStateUpdate",
            "GaussianStateUpdate"
           ],
           "type": "scatter",
           "x": [
            74.22014502,
            89.22992315256701,
            100.77107487718641,
            110.19651238288311,
            111.90587167496986,
            117.02210478270644,
            127.25365431551246,
            132.20295551989798,
            131.7673489167498,
            null
           ],
           "y": [
            131.1193202,
            133.65116665735812,
            112.5795863318055,
            120.62217559225633,
            124.46905075207951,
            121.1429694947251,
            106.43224124468414,
            96.32056275288147,
            86.85309014734673,
            null
           ]
          }
         ],
         "name": "2025-01-09 14:44:32",
         "traces": [
          0,
          1,
          2,
          3,
          4,
          5
         ]
        },
        {
         "data": [
          {
           "type": "scatter",
           "x": [
            0,
            0
           ],
           "y": [
            0,
            0
           ]
          },
          {
           "hovertemplate": "GroundTruthState<br>(%{x}, %{y})<br>Time: %{meta}",
           "meta": [
            "2025-01-09 14:44:24",
            "2025-01-09 14:44:25",
            "2025-01-09 14:44:26",
            "2025-01-09 14:44:27",
            "2025-01-09 14:44:28",
            "2025-01-09 14:44:29",
            "2025-01-09 14:44:30",
            "2025-01-09 14:44:31",
            "2025-01-09 14:44:32",
            "2025-01-09 14:44:33"
           ],
           "type": "scatter",
           "x": [
            74.05276584,
            87.13825267,
            96.14701585,
            108.2505623,
            112.7455582,
            117.6360986,
            125.795539,
            130.0730637,
            126.9739371,
            132.4691139,
            null
           ],
           "y": [
            132.8970804,
            128.6567371,
            114.5052243,
            121.7846509,
            122.6648195,
            117.0363673,
            106.1069251,
            97.00907745,
            88.3605384,
            78.57480316,
            null
           ]
          },
          {
           "type": "scatter",
           "x": [
            null,
            null
           ],
           "y": [
            null,
            null
           ]
          },
          {
           "hovertemplate": "Detection<br>(%{x}, %{y})<br>Time: %{meta}",
           "meta": [
            "2025-01-09 14:44:24",
            "2025-01-09 14:44:25",
            "2025-01-09 14:44:26",
            "2025-01-09 14:44:27",
            "2025-01-09 14:44:28",
            "2025-01-09 14:44:29",
            "2025-01-09 14:44:30",
            "2025-01-09 14:44:31",
            "2025-01-09 14:44:32",
            "2025-01-09 14:44:33"
           ],
           "type": "scatter",
           "x": [
            77.99730680145169,
            89.32677733462154,
            100.3230024678982,
            110.37502458622242,
            112.51475383083013,
            117.95818981683755,
            127.49727108687048,
            131.06557206113158,
            130.31479947134028,
            133.16915456245104,
            null
           ],
           "y": [
            133.79185911959564,
            133.66752662373142,
            112.31996452768946,
            121.44620589336175,
            123.58294566179377,
            120.28822171944623,
            106.37899870804137,
            97.75519592835539,
            87.90179057607384,
            76.66498702762841,
            null
           ]
          },
          {
           "type": "scatter",
           "x": [
            null,
            null
           ],
           "y": [
            null,
            null
           ]
          },
          {
           "customdata": [
            "2025-01-09 14:44:24",
            "2025-01-09 14:44:25",
            "2025-01-09 14:44:26",
            "2025-01-09 14:44:27",
            "2025-01-09 14:44:28",
            "2025-01-09 14:44:29",
            "2025-01-09 14:44:30",
            "2025-01-09 14:44:31",
            "2025-01-09 14:44:32",
            "2025-01-09 14:44:33"
           ],
           "hovertemplate": "%{meta}<br>(%{x}, %{y})<br>Time: %{customdata}",
           "meta": [
            "GaussianState",
            "GaussianStateUpdate",
            "GaussianStateUpdate",
            "GaussianStateUpdate",
            "GaussianStateUpdate",
            "GaussianStateUpdate",
            "GaussianStateUpdate",
            "GaussianStateUpdate",
            "GaussianStateUpdate",
            "GaussianStateUpdate"
           ],
           "type": "scatter",
           "x": [
            74.22014502,
            89.22992315256701,
            100.77107487718641,
            110.19651238288311,
            111.90587167496986,
            117.02210478270644,
            127.25365431551246,
            132.20295551989798,
            131.7673489167498,
            133.88777504563453,
            null
           ],
           "y": [
            131.1193202,
            133.65116665735812,
            112.5795863318055,
            120.62217559225633,
            124.46905075207951,
            121.1429694947251,
            106.43224124468414,
            96.32056275288147,
            86.85309014734673,
            76.36511888941192,
            null
           ]
          }
         ],
         "name": "2025-01-09 14:44:33",
         "traces": [
          0,
          1,
          2,
          3,
          4,
          5
         ]
        },
        {
         "data": [
          {
           "type": "scatter",
           "x": [
            0,
            0
           ],
           "y": [
            0,
            0
           ]
          },
          {
           "hovertemplate": "GroundTruthState<br>(%{x}, %{y})<br>Time: %{meta}",
           "meta": [
            "2025-01-09 14:44:24",
            "2025-01-09 14:44:25",
            "2025-01-09 14:44:26",
            "2025-01-09 14:44:27",
            "2025-01-09 14:44:28",
            "2025-01-09 14:44:29",
            "2025-01-09 14:44:30",
            "2025-01-09 14:44:31",
            "2025-01-09 14:44:32",
            "2025-01-09 14:44:33",
            "2025-01-09 14:44:34"
           ],
           "type": "scatter",
           "x": [
            74.05276584,
            87.13825267,
            96.14701585,
            108.2505623,
            112.7455582,
            117.6360986,
            125.795539,
            130.0730637,
            126.9739371,
            132.4691139,
            130.8954086,
            null
           ],
           "y": [
            132.8970804,
            128.6567371,
            114.5052243,
            121.7846509,
            122.6648195,
            117.0363673,
            106.1069251,
            97.00907745,
            88.3605384,
            78.57480316,
            70.40838551,
            null
           ]
          },
          {
           "type": "scatter",
           "x": [
            null,
            null
           ],
           "y": [
            null,
            null
           ]
          },
          {
           "hovertemplate": "Detection<br>(%{x}, %{y})<br>Time: %{meta}",
           "meta": [
            "2025-01-09 14:44:24",
            "2025-01-09 14:44:25",
            "2025-01-09 14:44:26",
            "2025-01-09 14:44:27",
            "2025-01-09 14:44:28",
            "2025-01-09 14:44:29",
            "2025-01-09 14:44:30",
            "2025-01-09 14:44:31",
            "2025-01-09 14:44:32",
            "2025-01-09 14:44:33",
            "2025-01-09 14:44:34"
           ],
           "type": "scatter",
           "x": [
            77.99730680145169,
            89.32677733462154,
            100.3230024678982,
            110.37502458622242,
            112.51475383083013,
            117.95818981683755,
            127.49727108687048,
            131.06557206113158,
            130.31479947134028,
            133.16915456245104,
            125.18674982593032,
            null
           ],
           "y": [
            133.79185911959564,
            133.66752662373142,
            112.31996452768946,
            121.44620589336175,
            123.58294566179377,
            120.28822171944623,
            106.37899870804137,
            97.75519592835539,
            87.90179057607384,
            76.66498702762841,
            71.86992112076258,
            null
           ]
          },
          {
           "type": "scatter",
           "x": [
            null,
            null
           ],
           "y": [
            null,
            null
           ]
          },
          {
           "customdata": [
            "2025-01-09 14:44:24",
            "2025-01-09 14:44:25",
            "2025-01-09 14:44:26",
            "2025-01-09 14:44:27",
            "2025-01-09 14:44:28",
            "2025-01-09 14:44:29",
            "2025-01-09 14:44:30",
            "2025-01-09 14:44:31",
            "2025-01-09 14:44:32",
            "2025-01-09 14:44:33",
            "2025-01-09 14:44:34"
           ],
           "hovertemplate": "%{meta}<br>(%{x}, %{y})<br>Time: %{customdata}",
           "meta": [
            "GaussianState",
            "GaussianStateUpdate",
            "GaussianStateUpdate",
            "GaussianStateUpdate",
            "GaussianStateUpdate",
            "GaussianStateUpdate",
            "GaussianStateUpdate",
            "GaussianStateUpdate",
            "GaussianStateUpdate",
            "GaussianStateUpdate",
            "GaussianStateUpdate"
           ],
           "type": "scatter",
           "x": [
            74.22014502,
            89.22992315256701,
            100.77107487718641,
            110.19651238288311,
            111.90587167496986,
            117.02210478270644,
            127.25365431551246,
            132.20295551989798,
            131.7673489167498,
            133.88777504563453,
            126.6191258457489,
            null
           ],
           "y": [
            131.1193202,
            133.65116665735812,
            112.5795863318055,
            120.62217559225633,
            124.46905075207951,
            121.1429694947251,
            106.43224124468414,
            96.32056275288147,
            86.85309014734673,
            76.36511888941192,
            71.75005913157042,
            null
           ]
          }
         ],
         "name": "2025-01-09 14:44:34",
         "traces": [
          0,
          1,
          2,
          3,
          4,
          5
         ]
        },
        {
         "data": [
          {
           "type": "scatter",
           "x": [
            0,
            0
           ],
           "y": [
            0,
            0
           ]
          },
          {
           "hovertemplate": "GroundTruthState<br>(%{x}, %{y})<br>Time: %{meta}",
           "meta": [
            "2025-01-09 14:44:24",
            "2025-01-09 14:44:25",
            "2025-01-09 14:44:26",
            "2025-01-09 14:44:27",
            "2025-01-09 14:44:28",
            "2025-01-09 14:44:29",
            "2025-01-09 14:44:30",
            "2025-01-09 14:44:31",
            "2025-01-09 14:44:32",
            "2025-01-09 14:44:33",
            "2025-01-09 14:44:34",
            "2025-01-09 14:44:35"
           ],
           "type": "scatter",
           "x": [
            74.05276584,
            87.13825267,
            96.14701585,
            108.2505623,
            112.7455582,
            117.6360986,
            125.795539,
            130.0730637,
            126.9739371,
            132.4691139,
            130.8954086,
            129.9114421,
            null
           ],
           "y": [
            132.8970804,
            128.6567371,
            114.5052243,
            121.7846509,
            122.6648195,
            117.0363673,
            106.1069251,
            97.00907745,
            88.3605384,
            78.57480316,
            70.40838551,
            60.39347846,
            null
           ]
          },
          {
           "type": "scatter",
           "x": [
            null,
            null
           ],
           "y": [
            null,
            null
           ]
          },
          {
           "hovertemplate": "Detection<br>(%{x}, %{y})<br>Time: %{meta}",
           "meta": [
            "2025-01-09 14:44:24",
            "2025-01-09 14:44:25",
            "2025-01-09 14:44:26",
            "2025-01-09 14:44:27",
            "2025-01-09 14:44:28",
            "2025-01-09 14:44:29",
            "2025-01-09 14:44:30",
            "2025-01-09 14:44:31",
            "2025-01-09 14:44:32",
            "2025-01-09 14:44:33",
            "2025-01-09 14:44:34",
            "2025-01-09 14:44:35"
           ],
           "type": "scatter",
           "x": [
            77.99730680145169,
            89.32677733462154,
            100.3230024678982,
            110.37502458622242,
            112.51475383083013,
            117.95818981683755,
            127.49727108687048,
            131.06557206113158,
            130.31479947134028,
            133.16915456245104,
            125.18674982593032,
            131.84438020286137,
            null
           ],
           "y": [
            133.79185911959564,
            133.66752662373142,
            112.31996452768946,
            121.44620589336175,
            123.58294566179377,
            120.28822171944623,
            106.37899870804137,
            97.75519592835539,
            87.90179057607384,
            76.66498702762841,
            71.86992112076258,
            58.73394702384867,
            null
           ]
          },
          {
           "type": "scatter",
           "x": [
            null,
            null
           ],
           "y": [
            null,
            null
           ]
          },
          {
           "customdata": [
            "2025-01-09 14:44:24",
            "2025-01-09 14:44:25",
            "2025-01-09 14:44:26",
            "2025-01-09 14:44:27",
            "2025-01-09 14:44:28",
            "2025-01-09 14:44:29",
            "2025-01-09 14:44:30",
            "2025-01-09 14:44:31",
            "2025-01-09 14:44:32",
            "2025-01-09 14:44:33",
            "2025-01-09 14:44:34",
            "2025-01-09 14:44:35"
           ],
           "hovertemplate": "%{meta}<br>(%{x}, %{y})<br>Time: %{customdata}",
           "meta": [
            "GaussianState",
            "GaussianStateUpdate",
            "GaussianStateUpdate",
            "GaussianStateUpdate",
            "GaussianStateUpdate",
            "GaussianStateUpdate",
            "GaussianStateUpdate",
            "GaussianStateUpdate",
            "GaussianStateUpdate",
            "GaussianStateUpdate",
            "GaussianStateUpdate",
            "GaussianStateUpdate"
           ],
           "type": "scatter",
           "x": [
            74.22014502,
            89.22992315256701,
            100.77107487718641,
            110.19651238288311,
            111.90587167496986,
            117.02210478270644,
            127.25365431551246,
            132.20295551989798,
            131.7673489167498,
            133.88777504563453,
            126.6191258457489,
            131.08148094981053,
            null
           ],
           "y": [
            131.1193202,
            133.65116665735812,
            112.5795863318055,
            120.62217559225633,
            124.46905075207951,
            121.1429694947251,
            106.43224124468414,
            96.32056275288147,
            86.85309014734673,
            76.36511888941192,
            71.75005913157042,
            60.23221901786741,
            null
           ]
          }
         ],
         "name": "2025-01-09 14:44:35",
         "traces": [
          0,
          1,
          2,
          3,
          4,
          5
         ]
        },
        {
         "data": [
          {
           "type": "scatter",
           "x": [
            0,
            0
           ],
           "y": [
            0,
            0
           ]
          },
          {
           "hovertemplate": "GroundTruthState<br>(%{x}, %{y})<br>Time: %{meta}",
           "meta": [
            "2025-01-09 14:44:24",
            "2025-01-09 14:44:25",
            "2025-01-09 14:44:26",
            "2025-01-09 14:44:27",
            "2025-01-09 14:44:28",
            "2025-01-09 14:44:29",
            "2025-01-09 14:44:30",
            "2025-01-09 14:44:31",
            "2025-01-09 14:44:32",
            "2025-01-09 14:44:33",
            "2025-01-09 14:44:34",
            "2025-01-09 14:44:35",
            "2025-01-09 14:44:36"
           ],
           "type": "scatter",
           "x": [
            74.05276584,
            87.13825267,
            96.14701585,
            108.2505623,
            112.7455582,
            117.6360986,
            125.795539,
            130.0730637,
            126.9739371,
            132.4691139,
            130.8954086,
            129.9114421,
            126.9035985,
            null
           ],
           "y": [
            132.8970804,
            128.6567371,
            114.5052243,
            121.7846509,
            122.6648195,
            117.0363673,
            106.1069251,
            97.00907745,
            88.3605384,
            78.57480316,
            70.40838551,
            60.39347846,
            55.44546708,
            null
           ]
          },
          {
           "type": "scatter",
           "x": [
            null,
            null
           ],
           "y": [
            null,
            null
           ]
          },
          {
           "hovertemplate": "Detection<br>(%{x}, %{y})<br>Time: %{meta}",
           "meta": [
            "2025-01-09 14:44:24",
            "2025-01-09 14:44:25",
            "2025-01-09 14:44:26",
            "2025-01-09 14:44:27",
            "2025-01-09 14:44:28",
            "2025-01-09 14:44:29",
            "2025-01-09 14:44:30",
            "2025-01-09 14:44:31",
            "2025-01-09 14:44:32",
            "2025-01-09 14:44:33",
            "2025-01-09 14:44:34",
            "2025-01-09 14:44:35",
            "2025-01-09 14:44:36"
           ],
           "type": "scatter",
           "x": [
            77.99730680145169,
            89.32677733462154,
            100.3230024678982,
            110.37502458622242,
            112.51475383083013,
            117.95818981683755,
            127.49727108687048,
            131.06557206113158,
            130.31479947134028,
            133.16915456245104,
            125.18674982593032,
            131.84438020286137,
            131.97892413148077,
            null
           ],
           "y": [
            133.79185911959564,
            133.66752662373142,
            112.31996452768946,
            121.44620589336175,
            123.58294566179377,
            120.28822171944623,
            106.37899870804137,
            97.75519592835539,
            87.90179057607384,
            76.66498702762841,
            71.86992112076258,
            58.73394702384867,
            52.19340656745482,
            null
           ]
          },
          {
           "type": "scatter",
           "x": [
            null,
            null
           ],
           "y": [
            null,
            null
           ]
          },
          {
           "customdata": [
            "2025-01-09 14:44:24",
            "2025-01-09 14:44:25",
            "2025-01-09 14:44:26",
            "2025-01-09 14:44:27",
            "2025-01-09 14:44:28",
            "2025-01-09 14:44:29",
            "2025-01-09 14:44:30",
            "2025-01-09 14:44:31",
            "2025-01-09 14:44:32",
            "2025-01-09 14:44:33",
            "2025-01-09 14:44:34",
            "2025-01-09 14:44:35",
            "2025-01-09 14:44:36"
           ],
           "hovertemplate": "%{meta}<br>(%{x}, %{y})<br>Time: %{customdata}",
           "meta": [
            "GaussianState",
            "GaussianStateUpdate",
            "GaussianStateUpdate",
            "GaussianStateUpdate",
            "GaussianStateUpdate",
            "GaussianStateUpdate",
            "GaussianStateUpdate",
            "GaussianStateUpdate",
            "GaussianStateUpdate",
            "GaussianStateUpdate",
            "GaussianStateUpdate",
            "GaussianStateUpdate",
            "GaussianStateUpdate"
           ],
           "type": "scatter",
           "x": [
            74.22014502,
            89.22992315256701,
            100.77107487718641,
            110.19651238288311,
            111.90587167496986,
            117.02210478270644,
            127.25365431551246,
            132.20295551989798,
            131.7673489167498,
            133.88777504563453,
            126.6191258457489,
            131.08148094981053,
            132.516111057558,
            null
           ],
           "y": [
            131.1193202,
            133.65116665735812,
            112.5795863318055,
            120.62217559225633,
            124.46905075207951,
            121.1429694947251,
            106.43224124468414,
            96.32056275288147,
            86.85309014734673,
            76.36511888941192,
            71.75005913157042,
            60.23221901786741,
            52.79028295813589,
            null
           ]
          }
         ],
         "name": "2025-01-09 14:44:36",
         "traces": [
          0,
          1,
          2,
          3,
          4,
          5
         ]
        },
        {
         "data": [
          {
           "type": "scatter",
           "x": [
            0,
            0
           ],
           "y": [
            0,
            0
           ]
          },
          {
           "hovertemplate": "GroundTruthState<br>(%{x}, %{y})<br>Time: %{meta}",
           "meta": [
            "2025-01-09 14:44:24",
            "2025-01-09 14:44:25",
            "2025-01-09 14:44:26",
            "2025-01-09 14:44:27",
            "2025-01-09 14:44:28",
            "2025-01-09 14:44:29",
            "2025-01-09 14:44:30",
            "2025-01-09 14:44:31",
            "2025-01-09 14:44:32",
            "2025-01-09 14:44:33",
            "2025-01-09 14:44:34",
            "2025-01-09 14:44:35",
            "2025-01-09 14:44:36",
            "2025-01-09 14:44:37"
           ],
           "type": "scatter",
           "x": [
            74.05276584,
            87.13825267,
            96.14701585,
            108.2505623,
            112.7455582,
            117.6360986,
            125.795539,
            130.0730637,
            126.9739371,
            132.4691139,
            130.8954086,
            129.9114421,
            126.9035985,
            120.0271193,
            null
           ],
           "y": [
            132.8970804,
            128.6567371,
            114.5052243,
            121.7846509,
            122.6648195,
            117.0363673,
            106.1069251,
            97.00907745,
            88.3605384,
            78.57480316,
            70.40838551,
            60.39347846,
            55.44546708,
            43.60712934,
            null
           ]
          },
          {
           "type": "scatter",
           "x": [
            null,
            null
           ],
           "y": [
            null,
            null
           ]
          },
          {
           "hovertemplate": "Detection<br>(%{x}, %{y})<br>Time: %{meta}",
           "meta": [
            "2025-01-09 14:44:24",
            "2025-01-09 14:44:25",
            "2025-01-09 14:44:26",
            "2025-01-09 14:44:27",
            "2025-01-09 14:44:28",
            "2025-01-09 14:44:29",
            "2025-01-09 14:44:30",
            "2025-01-09 14:44:31",
            "2025-01-09 14:44:32",
            "2025-01-09 14:44:33",
            "2025-01-09 14:44:34",
            "2025-01-09 14:44:35",
            "2025-01-09 14:44:36",
            "2025-01-09 14:44:37"
           ],
           "type": "scatter",
           "x": [
            77.99730680145169,
            89.32677733462154,
            100.3230024678982,
            110.37502458622242,
            112.51475383083013,
            117.95818981683755,
            127.49727108687048,
            131.06557206113158,
            130.31479947134028,
            133.16915456245104,
            125.18674982593032,
            131.84438020286137,
            131.97892413148077,
            120.12943845523563,
            null
           ],
           "y": [
            133.79185911959564,
            133.66752662373142,
            112.31996452768946,
            121.44620589336175,
            123.58294566179377,
            120.28822171944623,
            106.37899870804137,
            97.75519592835539,
            87.90179057607384,
            76.66498702762841,
            71.86992112076258,
            58.73394702384867,
            52.19340656745482,
            43.188573527052114,
            null
           ]
          },
          {
           "type": "scatter",
           "x": [
            null,
            null
           ],
           "y": [
            null,
            null
           ]
          },
          {
           "customdata": [
            "2025-01-09 14:44:24",
            "2025-01-09 14:44:25",
            "2025-01-09 14:44:26",
            "2025-01-09 14:44:27",
            "2025-01-09 14:44:28",
            "2025-01-09 14:44:29",
            "2025-01-09 14:44:30",
            "2025-01-09 14:44:31",
            "2025-01-09 14:44:32",
            "2025-01-09 14:44:33",
            "2025-01-09 14:44:34",
            "2025-01-09 14:44:35",
            "2025-01-09 14:44:36",
            "2025-01-09 14:44:37"
           ],
           "hovertemplate": "%{meta}<br>(%{x}, %{y})<br>Time: %{customdata}",
           "meta": [
            "GaussianState",
            "GaussianStateUpdate",
            "GaussianStateUpdate",
            "GaussianStateUpdate",
            "GaussianStateUpdate",
            "GaussianStateUpdate",
            "GaussianStateUpdate",
            "GaussianStateUpdate",
            "GaussianStateUpdate",
            "GaussianStateUpdate",
            "GaussianStateUpdate",
            "GaussianStateUpdate",
            "GaussianStateUpdate",
            "GaussianStateUpdate"
           ],
           "type": "scatter",
           "x": [
            74.22014502,
            89.22992315256701,
            100.77107487718641,
            110.19651238288311,
            111.90587167496986,
            117.02210478270644,
            127.25365431551246,
            132.20295551989798,
            131.7673489167498,
            133.88777504563453,
            126.6191258457489,
            131.08148094981053,
            132.516111057558,
            121.8925776961243,
            null
           ],
           "y": [
            131.1193202,
            133.65116665735812,
            112.5795863318055,
            120.62217559225633,
            124.46905075207951,
            121.1429694947251,
            106.43224124468414,
            96.32056275288147,
            86.85309014734673,
            76.36511888941192,
            71.75005913157042,
            60.23221901786741,
            52.79028295813589,
            44.12040575226839,
            null
           ]
          }
         ],
         "name": "2025-01-09 14:44:37",
         "traces": [
          0,
          1,
          2,
          3,
          4,
          5
         ]
        },
        {
         "data": [
          {
           "type": "scatter",
           "x": [
            0,
            0
           ],
           "y": [
            0,
            0
           ]
          },
          {
           "hovertemplate": "GroundTruthState<br>(%{x}, %{y})<br>Time: %{meta}",
           "meta": [
            "2025-01-09 14:44:24",
            "2025-01-09 14:44:25",
            "2025-01-09 14:44:26",
            "2025-01-09 14:44:27",
            "2025-01-09 14:44:28",
            "2025-01-09 14:44:29",
            "2025-01-09 14:44:30",
            "2025-01-09 14:44:31",
            "2025-01-09 14:44:32",
            "2025-01-09 14:44:33",
            "2025-01-09 14:44:34",
            "2025-01-09 14:44:35",
            "2025-01-09 14:44:36",
            "2025-01-09 14:44:37",
            "2025-01-09 14:44:38"
           ],
           "type": "scatter",
           "x": [
            74.05276584,
            87.13825267,
            96.14701585,
            108.2505623,
            112.7455582,
            117.6360986,
            125.795539,
            130.0730637,
            126.9739371,
            132.4691139,
            130.8954086,
            129.9114421,
            126.9035985,
            120.0271193,
            114.1841258,
            null
           ],
           "y": [
            132.8970804,
            128.6567371,
            114.5052243,
            121.7846509,
            122.6648195,
            117.0363673,
            106.1069251,
            97.00907745,
            88.3605384,
            78.57480316,
            70.40838551,
            60.39347846,
            55.44546708,
            43.60712934,
            36.37874293,
            null
           ]
          },
          {
           "type": "scatter",
           "x": [
            null,
            null
           ],
           "y": [
            null,
            null
           ]
          },
          {
           "hovertemplate": "Detection<br>(%{x}, %{y})<br>Time: %{meta}",
           "meta": [
            "2025-01-09 14:44:24",
            "2025-01-09 14:44:25",
            "2025-01-09 14:44:26",
            "2025-01-09 14:44:27",
            "2025-01-09 14:44:28",
            "2025-01-09 14:44:29",
            "2025-01-09 14:44:30",
            "2025-01-09 14:44:31",
            "2025-01-09 14:44:32",
            "2025-01-09 14:44:33",
            "2025-01-09 14:44:34",
            "2025-01-09 14:44:35",
            "2025-01-09 14:44:36",
            "2025-01-09 14:44:37",
            "2025-01-09 14:44:38"
           ],
           "type": "scatter",
           "x": [
            77.99730680145169,
            89.32677733462154,
            100.3230024678982,
            110.37502458622242,
            112.51475383083013,
            117.95818981683755,
            127.49727108687048,
            131.06557206113158,
            130.31479947134028,
            133.16915456245104,
            125.18674982593032,
            131.84438020286137,
            131.97892413148077,
            120.12943845523563,
            117.61152431780424,
            null
           ],
           "y": [
            133.79185911959564,
            133.66752662373142,
            112.31996452768946,
            121.44620589336175,
            123.58294566179377,
            120.28822171944623,
            106.37899870804137,
            97.75519592835539,
            87.90179057607384,
            76.66498702762841,
            71.86992112076258,
            58.73394702384867,
            52.19340656745482,
            43.188573527052114,
            39.66432902283251,
            null
           ]
          },
          {
           "type": "scatter",
           "x": [
            null,
            null
           ],
           "y": [
            null,
            null
           ]
          },
          {
           "customdata": [
            "2025-01-09 14:44:24",
            "2025-01-09 14:44:25",
            "2025-01-09 14:44:26",
            "2025-01-09 14:44:27",
            "2025-01-09 14:44:28",
            "2025-01-09 14:44:29",
            "2025-01-09 14:44:30",
            "2025-01-09 14:44:31",
            "2025-01-09 14:44:32",
            "2025-01-09 14:44:33",
            "2025-01-09 14:44:34",
            "2025-01-09 14:44:35",
            "2025-01-09 14:44:36",
            "2025-01-09 14:44:37",
            "2025-01-09 14:44:38"
           ],
           "hovertemplate": "%{meta}<br>(%{x}, %{y})<br>Time: %{customdata}",
           "meta": [
            "GaussianState",
            "GaussianStateUpdate",
            "GaussianStateUpdate",
            "GaussianStateUpdate",
            "GaussianStateUpdate",
            "GaussianStateUpdate",
            "GaussianStateUpdate",
            "GaussianStateUpdate",
            "GaussianStateUpdate",
            "GaussianStateUpdate",
            "GaussianStateUpdate",
            "GaussianStateUpdate",
            "GaussianStateUpdate",
            "GaussianStateUpdate",
            "GaussianStateUpdate"
           ],
           "type": "scatter",
           "x": [
            74.22014502,
            89.22992315256701,
            100.77107487718641,
            110.19651238288311,
            111.90587167496986,
            117.02210478270644,
            127.25365431551246,
            132.20295551989798,
            131.7673489167498,
            133.88777504563453,
            126.6191258457489,
            131.08148094981053,
            132.516111057558,
            121.8925776961243,
            116.22562071431086,
            null
           ],
           "y": [
            131.1193202,
            133.65116665735812,
            112.5795863318055,
            120.62217559225633,
            124.46905075207951,
            121.1429694947251,
            106.43224124468414,
            96.32056275288147,
            86.85309014734673,
            76.36511888941192,
            71.75005913157042,
            60.23221901786741,
            52.79028295813589,
            44.12040575226839,
            39.803591413697,
            null
           ]
          }
         ],
         "name": "2025-01-09 14:44:38",
         "traces": [
          0,
          1,
          2,
          3,
          4,
          5
         ]
        },
        {
         "data": [
          {
           "type": "scatter",
           "x": [
            0,
            0
           ],
           "y": [
            0,
            0
           ]
          },
          {
           "hovertemplate": "GroundTruthState<br>(%{x}, %{y})<br>Time: %{meta}",
           "meta": [
            "2025-01-09 14:44:24",
            "2025-01-09 14:44:25",
            "2025-01-09 14:44:26",
            "2025-01-09 14:44:27",
            "2025-01-09 14:44:28",
            "2025-01-09 14:44:29",
            "2025-01-09 14:44:30",
            "2025-01-09 14:44:31",
            "2025-01-09 14:44:32",
            "2025-01-09 14:44:33",
            "2025-01-09 14:44:34",
            "2025-01-09 14:44:35",
            "2025-01-09 14:44:36",
            "2025-01-09 14:44:37",
            "2025-01-09 14:44:38",
            "2025-01-09 14:44:39"
           ],
           "type": "scatter",
           "x": [
            74.05276584,
            87.13825267,
            96.14701585,
            108.2505623,
            112.7455582,
            117.6360986,
            125.795539,
            130.0730637,
            126.9739371,
            132.4691139,
            130.8954086,
            129.9114421,
            126.9035985,
            120.0271193,
            114.1841258,
            108.5299902,
            null
           ],
           "y": [
            132.8970804,
            128.6567371,
            114.5052243,
            121.7846509,
            122.6648195,
            117.0363673,
            106.1069251,
            97.00907745,
            88.3605384,
            78.57480316,
            70.40838551,
            60.39347846,
            55.44546708,
            43.60712934,
            36.37874293,
            33.82592306,
            null
           ]
          },
          {
           "type": "scatter",
           "x": [
            null,
            null
           ],
           "y": [
            null,
            null
           ]
          },
          {
           "hovertemplate": "Detection<br>(%{x}, %{y})<br>Time: %{meta}",
           "meta": [
            "2025-01-09 14:44:24",
            "2025-01-09 14:44:25",
            "2025-01-09 14:44:26",
            "2025-01-09 14:44:27",
            "2025-01-09 14:44:28",
            "2025-01-09 14:44:29",
            "2025-01-09 14:44:30",
            "2025-01-09 14:44:31",
            "2025-01-09 14:44:32",
            "2025-01-09 14:44:33",
            "2025-01-09 14:44:34",
            "2025-01-09 14:44:35",
            "2025-01-09 14:44:36",
            "2025-01-09 14:44:37",
            "2025-01-09 14:44:38",
            "2025-01-09 14:44:39"
           ],
           "type": "scatter",
           "x": [
            77.99730680145169,
            89.32677733462154,
            100.3230024678982,
            110.37502458622242,
            112.51475383083013,
            117.95818981683755,
            127.49727108687048,
            131.06557206113158,
            130.31479947134028,
            133.16915456245104,
            125.18674982593032,
            131.84438020286137,
            131.97892413148077,
            120.12943845523563,
            117.61152431780424,
            108.8764631767969,
            null
           ],
           "y": [
            133.79185911959564,
            133.66752662373142,
            112.31996452768946,
            121.44620589336175,
            123.58294566179377,
            120.28822171944623,
            106.37899870804137,
            97.75519592835539,
            87.90179057607384,
            76.66498702762841,
            71.86992112076258,
            58.73394702384867,
            52.19340656745482,
            43.188573527052114,
            39.66432902283251,
            34.671520160373056,
            null
           ]
          },
          {
           "type": "scatter",
           "x": [
            null,
            null
           ],
           "y": [
            null,
            null
           ]
          },
          {
           "customdata": [
            "2025-01-09 14:44:24",
            "2025-01-09 14:44:25",
            "2025-01-09 14:44:26",
            "2025-01-09 14:44:27",
            "2025-01-09 14:44:28",
            "2025-01-09 14:44:29",
            "2025-01-09 14:44:30",
            "2025-01-09 14:44:31",
            "2025-01-09 14:44:32",
            "2025-01-09 14:44:33",
            "2025-01-09 14:44:34",
            "2025-01-09 14:44:35",
            "2025-01-09 14:44:36",
            "2025-01-09 14:44:37",
            "2025-01-09 14:44:38",
            "2025-01-09 14:44:39"
           ],
           "hovertemplate": "%{meta}<br>(%{x}, %{y})<br>Time: %{customdata}",
           "meta": [
            "GaussianState",
            "GaussianStateUpdate",
            "GaussianStateUpdate",
            "GaussianStateUpdate",
            "GaussianStateUpdate",
            "GaussianStateUpdate",
            "GaussianStateUpdate",
            "GaussianStateUpdate",
            "GaussianStateUpdate",
            "GaussianStateUpdate",
            "GaussianStateUpdate",
            "GaussianStateUpdate",
            "GaussianStateUpdate",
            "GaussianStateUpdate",
            "GaussianStateUpdate",
            "GaussianStateUpdate"
           ],
           "type": "scatter",
           "x": [
            74.22014502,
            89.22992315256701,
            100.77107487718641,
            110.19651238288311,
            111.90587167496986,
            117.02210478270644,
            127.25365431551246,
            132.20295551989798,
            131.7673489167498,
            133.88777504563453,
            126.6191258457489,
            131.08148094981053,
            132.516111057558,
            121.8925776961243,
            116.22562071431086,
            107.38275445100885,
            null
           ],
           "y": [
            131.1193202,
            133.65116665735812,
            112.5795863318055,
            120.62217559225633,
            124.46905075207951,
            121.1429694947251,
            106.43224124468414,
            96.32056275288147,
            86.85309014734673,
            76.36511888941192,
            71.75005913157042,
            60.23221901786741,
            52.79028295813589,
            44.12040575226839,
            39.803591413697,
            35.40793902756456,
            null
           ]
          }
         ],
         "name": "2025-01-09 14:44:39",
         "traces": [
          0,
          1,
          2,
          3,
          4,
          5
         ]
        },
        {
         "data": [
          {
           "type": "scatter",
           "x": [
            0,
            0
           ],
           "y": [
            0,
            0
           ]
          },
          {
           "hovertemplate": "GroundTruthState<br>(%{x}, %{y})<br>Time: %{meta}",
           "meta": [
            "2025-01-09 14:44:24",
            "2025-01-09 14:44:25",
            "2025-01-09 14:44:26",
            "2025-01-09 14:44:27",
            "2025-01-09 14:44:28",
            "2025-01-09 14:44:29",
            "2025-01-09 14:44:30",
            "2025-01-09 14:44:31",
            "2025-01-09 14:44:32",
            "2025-01-09 14:44:33",
            "2025-01-09 14:44:34",
            "2025-01-09 14:44:35",
            "2025-01-09 14:44:36",
            "2025-01-09 14:44:37",
            "2025-01-09 14:44:38",
            "2025-01-09 14:44:39",
            "2025-01-09 14:44:40"
           ],
           "type": "scatter",
           "x": [
            74.05276584,
            87.13825267,
            96.14701585,
            108.2505623,
            112.7455582,
            117.6360986,
            125.795539,
            130.0730637,
            126.9739371,
            132.4691139,
            130.8954086,
            129.9114421,
            126.9035985,
            120.0271193,
            114.1841258,
            108.5299902,
            100.3782574,
            null
           ],
           "y": [
            132.8970804,
            128.6567371,
            114.5052243,
            121.7846509,
            122.6648195,
            117.0363673,
            106.1069251,
            97.00907745,
            88.3605384,
            78.57480316,
            70.40838551,
            60.39347846,
            55.44546708,
            43.60712934,
            36.37874293,
            33.82592306,
            34.38583847,
            null
           ]
          },
          {
           "type": "scatter",
           "x": [
            null,
            null
           ],
           "y": [
            null,
            null
           ]
          },
          {
           "hovertemplate": "Detection<br>(%{x}, %{y})<br>Time: %{meta}",
           "meta": [
            "2025-01-09 14:44:24",
            "2025-01-09 14:44:25",
            "2025-01-09 14:44:26",
            "2025-01-09 14:44:27",
            "2025-01-09 14:44:28",
            "2025-01-09 14:44:29",
            "2025-01-09 14:44:30",
            "2025-01-09 14:44:31",
            "2025-01-09 14:44:32",
            "2025-01-09 14:44:33",
            "2025-01-09 14:44:34",
            "2025-01-09 14:44:35",
            "2025-01-09 14:44:36",
            "2025-01-09 14:44:37",
            "2025-01-09 14:44:38",
            "2025-01-09 14:44:39",
            "2025-01-09 14:44:40"
           ],
           "type": "scatter",
           "x": [
            77.99730680145169,
            89.32677733462154,
            100.3230024678982,
            110.37502458622242,
            112.51475383083013,
            117.95818981683755,
            127.49727108687048,
            131.06557206113158,
            130.31479947134028,
            133.16915456245104,
            125.18674982593032,
            131.84438020286137,
            131.97892413148077,
            120.12943845523563,
            117.61152431780424,
            108.8764631767969,
            98.39310811884359,
            null
           ],
           "y": [
            133.79185911959564,
            133.66752662373142,
            112.31996452768946,
            121.44620589336175,
            123.58294566179377,
            120.28822171944623,
            106.37899870804137,
            97.75519592835539,
            87.90179057607384,
            76.66498702762841,
            71.86992112076258,
            58.73394702384867,
            52.19340656745482,
            43.188573527052114,
            39.66432902283251,
            34.671520160373056,
            29.9566429174598,
            null
           ]
          },
          {
           "type": "scatter",
           "x": [
            null,
            null
           ],
           "y": [
            null,
            null
           ]
          },
          {
           "customdata": [
            "2025-01-09 14:44:24",
            "2025-01-09 14:44:25",
            "2025-01-09 14:44:26",
            "2025-01-09 14:44:27",
            "2025-01-09 14:44:28",
            "2025-01-09 14:44:29",
            "2025-01-09 14:44:30",
            "2025-01-09 14:44:31",
            "2025-01-09 14:44:32",
            "2025-01-09 14:44:33",
            "2025-01-09 14:44:34",
            "2025-01-09 14:44:35",
            "2025-01-09 14:44:36",
            "2025-01-09 14:44:37",
            "2025-01-09 14:44:38",
            "2025-01-09 14:44:39",
            "2025-01-09 14:44:40"
           ],
           "hovertemplate": "%{meta}<br>(%{x}, %{y})<br>Time: %{customdata}",
           "meta": [
            "GaussianState",
            "GaussianStateUpdate",
            "GaussianStateUpdate",
            "GaussianStateUpdate",
            "GaussianStateUpdate",
            "GaussianStateUpdate",
            "GaussianStateUpdate",
            "GaussianStateUpdate",
            "GaussianStateUpdate",
            "GaussianStateUpdate",
            "GaussianStateUpdate",
            "GaussianStateUpdate",
            "GaussianStateUpdate",
            "GaussianStateUpdate",
            "GaussianStateUpdate",
            "GaussianStateUpdate",
            "GaussianStateUpdate"
           ],
           "type": "scatter",
           "x": [
            74.22014502,
            89.22992315256701,
            100.77107487718641,
            110.19651238288311,
            111.90587167496986,
            117.02210478270644,
            127.25365431551246,
            132.20295551989798,
            131.7673489167498,
            133.88777504563453,
            126.6191258457489,
            131.08148094981053,
            132.516111057558,
            121.8925776961243,
            116.22562071431086,
            107.38275445100885,
            95.64458980760368,
            null
           ],
           "y": [
            131.1193202,
            133.65116665735812,
            112.5795863318055,
            120.62217559225633,
            124.46905075207951,
            121.1429694947251,
            106.43224124468414,
            96.32056275288147,
            86.85309014734673,
            76.36511888941192,
            71.75005913157042,
            60.23221901786741,
            52.79028295813589,
            44.12040575226839,
            39.803591413697,
            35.40793902756456,
            31.102194231631856,
            null
           ]
          }
         ],
         "name": "2025-01-09 14:44:40",
         "traces": [
          0,
          1,
          2,
          3,
          4,
          5
         ]
        },
        {
         "data": [
          {
           "type": "scatter",
           "x": [
            0,
            0
           ],
           "y": [
            0,
            0
           ]
          },
          {
           "hovertemplate": "GroundTruthState<br>(%{x}, %{y})<br>Time: %{meta}",
           "meta": [
            "2025-01-09 14:44:24",
            "2025-01-09 14:44:25",
            "2025-01-09 14:44:26",
            "2025-01-09 14:44:27",
            "2025-01-09 14:44:28",
            "2025-01-09 14:44:29",
            "2025-01-09 14:44:30",
            "2025-01-09 14:44:31",
            "2025-01-09 14:44:32",
            "2025-01-09 14:44:33",
            "2025-01-09 14:44:34",
            "2025-01-09 14:44:35",
            "2025-01-09 14:44:36",
            "2025-01-09 14:44:37",
            "2025-01-09 14:44:38",
            "2025-01-09 14:44:39",
            "2025-01-09 14:44:40",
            "2025-01-09 14:44:41"
           ],
           "type": "scatter",
           "x": [
            74.05276584,
            87.13825267,
            96.14701585,
            108.2505623,
            112.7455582,
            117.6360986,
            125.795539,
            130.0730637,
            126.9739371,
            132.4691139,
            130.8954086,
            129.9114421,
            126.9035985,
            120.0271193,
            114.1841258,
            108.5299902,
            100.3782574,
            84.34148807,
            null
           ],
           "y": [
            132.8970804,
            128.6567371,
            114.5052243,
            121.7846509,
            122.6648195,
            117.0363673,
            106.1069251,
            97.00907745,
            88.3605384,
            78.57480316,
            70.40838551,
            60.39347846,
            55.44546708,
            43.60712934,
            36.37874293,
            33.82592306,
            34.38583847,
            36.64467032,
            null
           ]
          },
          {
           "type": "scatter",
           "x": [
            null,
            null
           ],
           "y": [
            null,
            null
           ]
          },
          {
           "hovertemplate": "Detection<br>(%{x}, %{y})<br>Time: %{meta}",
           "meta": [
            "2025-01-09 14:44:24",
            "2025-01-09 14:44:25",
            "2025-01-09 14:44:26",
            "2025-01-09 14:44:27",
            "2025-01-09 14:44:28",
            "2025-01-09 14:44:29",
            "2025-01-09 14:44:30",
            "2025-01-09 14:44:31",
            "2025-01-09 14:44:32",
            "2025-01-09 14:44:33",
            "2025-01-09 14:44:34",
            "2025-01-09 14:44:35",
            "2025-01-09 14:44:36",
            "2025-01-09 14:44:37",
            "2025-01-09 14:44:38",
            "2025-01-09 14:44:39",
            "2025-01-09 14:44:40",
            "2025-01-09 14:44:41"
           ],
           "type": "scatter",
           "x": [
            77.99730680145169,
            89.32677733462154,
            100.3230024678982,
            110.37502458622242,
            112.51475383083013,
            117.95818981683755,
            127.49727108687048,
            131.06557206113158,
            130.31479947134028,
            133.16915456245104,
            125.18674982593032,
            131.84438020286137,
            131.97892413148077,
            120.12943845523563,
            117.61152431780424,
            108.8764631767969,
            98.39310811884359,
            83.56353285390867,
            null
           ],
           "y": [
            133.79185911959564,
            133.66752662373142,
            112.31996452768946,
            121.44620589336175,
            123.58294566179377,
            120.28822171944623,
            106.37899870804137,
            97.75519592835539,
            87.90179057607384,
            76.66498702762841,
            71.86992112076258,
            58.73394702384867,
            52.19340656745482,
            43.188573527052114,
            39.66432902283251,
            34.671520160373056,
            29.9566429174598,
            36.994277243128515,
            null
           ]
          },
          {
           "type": "scatter",
           "x": [
            null,
            null
           ],
           "y": [
            null,
            null
           ]
          },
          {
           "customdata": [
            "2025-01-09 14:44:24",
            "2025-01-09 14:44:25",
            "2025-01-09 14:44:26",
            "2025-01-09 14:44:27",
            "2025-01-09 14:44:28",
            "2025-01-09 14:44:29",
            "2025-01-09 14:44:30",
            "2025-01-09 14:44:31",
            "2025-01-09 14:44:32",
            "2025-01-09 14:44:33",
            "2025-01-09 14:44:34",
            "2025-01-09 14:44:35",
            "2025-01-09 14:44:36",
            "2025-01-09 14:44:37",
            "2025-01-09 14:44:38",
            "2025-01-09 14:44:39",
            "2025-01-09 14:44:40",
            "2025-01-09 14:44:41"
           ],
           "hovertemplate": "%{meta}<br>(%{x}, %{y})<br>Time: %{customdata}",
           "meta": [
            "GaussianState",
            "GaussianStateUpdate",
            "GaussianStateUpdate",
            "GaussianStateUpdate",
            "GaussianStateUpdate",
            "GaussianStateUpdate",
            "GaussianStateUpdate",
            "GaussianStateUpdate",
            "GaussianStateUpdate",
            "GaussianStateUpdate",
            "GaussianStateUpdate",
            "GaussianStateUpdate",
            "GaussianStateUpdate",
            "GaussianStateUpdate",
            "GaussianStateUpdate",
            "GaussianStateUpdate",
            "GaussianStateUpdate",
            "GaussianStateUpdate"
           ],
           "type": "scatter",
           "x": [
            74.22014502,
            89.22992315256701,
            100.77107487718641,
            110.19651238288311,
            111.90587167496986,
            117.02210478270644,
            127.25365431551246,
            132.20295551989798,
            131.7673489167498,
            133.88777504563453,
            126.6191258457489,
            131.08148094981053,
            132.516111057558,
            121.8925776961243,
            116.22562071431086,
            107.38275445100885,
            95.64458980760368,
            69.74471675666138,
            null
           ],
           "y": [
            131.1193202,
            133.65116665735812,
            112.5795863318055,
            120.62217559225633,
            124.46905075207951,
            121.1429694947251,
            106.43224124468414,
            96.32056275288147,
            86.85309014734673,
            76.36511888941192,
            71.75005913157042,
            60.23221901786741,
            52.79028295813589,
            44.12040575226839,
            39.803591413697,
            35.40793902756456,
            31.102194231631856,
            34.25564863195609,
            null
           ]
          }
         ],
         "name": "2025-01-09 14:44:41",
         "traces": [
          0,
          1,
          2,
          3,
          4,
          5
         ]
        },
        {
         "data": [
          {
           "type": "scatter",
           "x": [
            0,
            0
           ],
           "y": [
            0,
            0
           ]
          },
          {
           "hovertemplate": "GroundTruthState<br>(%{x}, %{y})<br>Time: %{meta}",
           "meta": [
            "2025-01-09 14:44:24",
            "2025-01-09 14:44:25",
            "2025-01-09 14:44:26",
            "2025-01-09 14:44:27",
            "2025-01-09 14:44:28",
            "2025-01-09 14:44:29",
            "2025-01-09 14:44:30",
            "2025-01-09 14:44:31",
            "2025-01-09 14:44:32",
            "2025-01-09 14:44:33",
            "2025-01-09 14:44:34",
            "2025-01-09 14:44:35",
            "2025-01-09 14:44:36",
            "2025-01-09 14:44:37",
            "2025-01-09 14:44:38",
            "2025-01-09 14:44:39",
            "2025-01-09 14:44:40",
            "2025-01-09 14:44:41",
            "2025-01-09 14:44:42"
           ],
           "type": "scatter",
           "x": [
            74.05276584,
            87.13825267,
            96.14701585,
            108.2505623,
            112.7455582,
            117.6360986,
            125.795539,
            130.0730637,
            126.9739371,
            132.4691139,
            130.8954086,
            129.9114421,
            126.9035985,
            120.0271193,
            114.1841258,
            108.5299902,
            100.3782574,
            84.34148807,
            68.87984912,
            null
           ],
           "y": [
            132.8970804,
            128.6567371,
            114.5052243,
            121.7846509,
            122.6648195,
            117.0363673,
            106.1069251,
            97.00907745,
            88.3605384,
            78.57480316,
            70.40838551,
            60.39347846,
            55.44546708,
            43.60712934,
            36.37874293,
            33.82592306,
            34.38583847,
            36.64467032,
            36.10426183,
            null
           ]
          },
          {
           "type": "scatter",
           "x": [
            null,
            null
           ],
           "y": [
            null,
            null
           ]
          },
          {
           "hovertemplate": "Detection<br>(%{x}, %{y})<br>Time: %{meta}",
           "meta": [
            "2025-01-09 14:44:24",
            "2025-01-09 14:44:25",
            "2025-01-09 14:44:26",
            "2025-01-09 14:44:27",
            "2025-01-09 14:44:28",
            "2025-01-09 14:44:29",
            "2025-01-09 14:44:30",
            "2025-01-09 14:44:31",
            "2025-01-09 14:44:32",
            "2025-01-09 14:44:33",
            "2025-01-09 14:44:34",
            "2025-01-09 14:44:35",
            "2025-01-09 14:44:36",
            "2025-01-09 14:44:37",
            "2025-01-09 14:44:38",
            "2025-01-09 14:44:39",
            "2025-01-09 14:44:40",
            "2025-01-09 14:44:41",
            "2025-01-09 14:44:42"
           ],
           "type": "scatter",
           "x": [
            77.99730680145169,
            89.32677733462154,
            100.3230024678982,
            110.37502458622242,
            112.51475383083013,
            117.95818981683755,
            127.49727108687048,
            131.06557206113158,
            130.31479947134028,
            133.16915456245104,
            125.18674982593032,
            131.84438020286137,
            131.97892413148077,
            120.12943845523563,
            117.61152431780424,
            108.8764631767969,
            98.39310811884359,
            83.56353285390867,
            71.63086271419168,
            null
           ],
           "y": [
            133.79185911959564,
            133.66752662373142,
            112.31996452768946,
            121.44620589336175,
            123.58294566179377,
            120.28822171944623,
            106.37899870804137,
            97.75519592835539,
            87.90179057607384,
            76.66498702762841,
            71.86992112076258,
            58.73394702384867,
            52.19340656745482,
            43.188573527052114,
            39.66432902283251,
            34.671520160373056,
            29.9566429174598,
            36.994277243128515,
            38.79286490665786,
            null
           ]
          },
          {
           "type": "scatter",
           "x": [
            null,
            null
           ],
           "y": [
            null,
            null
           ]
          },
          {
           "customdata": [
            "2025-01-09 14:44:24",
            "2025-01-09 14:44:25",
            "2025-01-09 14:44:26",
            "2025-01-09 14:44:27",
            "2025-01-09 14:44:28",
            "2025-01-09 14:44:29",
            "2025-01-09 14:44:30",
            "2025-01-09 14:44:31",
            "2025-01-09 14:44:32",
            "2025-01-09 14:44:33",
            "2025-01-09 14:44:34",
            "2025-01-09 14:44:35",
            "2025-01-09 14:44:36",
            "2025-01-09 14:44:37",
            "2025-01-09 14:44:38",
            "2025-01-09 14:44:39",
            "2025-01-09 14:44:40",
            "2025-01-09 14:44:41",
            "2025-01-09 14:44:42"
           ],
           "hovertemplate": "%{meta}<br>(%{x}, %{y})<br>Time: %{customdata}",
           "meta": [
            "GaussianState",
            "GaussianStateUpdate",
            "GaussianStateUpdate",
            "GaussianStateUpdate",
            "GaussianStateUpdate",
            "GaussianStateUpdate",
            "GaussianStateUpdate",
            "GaussianStateUpdate",
            "GaussianStateUpdate",
            "GaussianStateUpdate",
            "GaussianStateUpdate",
            "GaussianStateUpdate",
            "GaussianStateUpdate",
            "GaussianStateUpdate",
            "GaussianStateUpdate",
            "GaussianStateUpdate",
            "GaussianStateUpdate",
            "GaussianStateUpdate",
            "GaussianStateUpdate"
           ],
           "type": "scatter",
           "x": [
            74.22014502,
            89.22992315256701,
            100.77107487718641,
            110.19651238288311,
            111.90587167496986,
            117.02210478270644,
            127.25365431551246,
            132.20295551989798,
            131.7673489167498,
            133.88777504563453,
            126.6191258457489,
            131.08148094981053,
            132.516111057558,
            121.8925776961243,
            116.22562071431086,
            107.38275445100885,
            95.64458980760368,
            69.74471675666138,
            75.19927001089755,
            null
           ],
           "y": [
            131.1193202,
            133.65116665735812,
            112.5795863318055,
            120.62217559225633,
            124.46905075207951,
            121.1429694947251,
            106.43224124468414,
            96.32056275288147,
            86.85309014734673,
            76.36511888941192,
            71.75005913157042,
            60.23221901786741,
            52.79028295813589,
            44.12040575226839,
            39.803591413697,
            35.40793902756456,
            31.102194231631856,
            34.25564863195609,
            39.04404228034326,
            null
           ]
          }
         ],
         "name": "2025-01-09 14:44:42",
         "traces": [
          0,
          1,
          2,
          3,
          4,
          5
         ]
        },
        {
         "data": [
          {
           "type": "scatter",
           "x": [
            0,
            0
           ],
           "y": [
            0,
            0
           ]
          },
          {
           "hovertemplate": "GroundTruthState<br>(%{x}, %{y})<br>Time: %{meta}",
           "meta": [
            "2025-01-09 14:44:24",
            "2025-01-09 14:44:25",
            "2025-01-09 14:44:26",
            "2025-01-09 14:44:27",
            "2025-01-09 14:44:28",
            "2025-01-09 14:44:29",
            "2025-01-09 14:44:30",
            "2025-01-09 14:44:31",
            "2025-01-09 14:44:32",
            "2025-01-09 14:44:33",
            "2025-01-09 14:44:34",
            "2025-01-09 14:44:35",
            "2025-01-09 14:44:36",
            "2025-01-09 14:44:37",
            "2025-01-09 14:44:38",
            "2025-01-09 14:44:39",
            "2025-01-09 14:44:40",
            "2025-01-09 14:44:41",
            "2025-01-09 14:44:42",
            "2025-01-09 14:44:43"
           ],
           "type": "scatter",
           "x": [
            74.05276584,
            87.13825267,
            96.14701585,
            108.2505623,
            112.7455582,
            117.6360986,
            125.795539,
            130.0730637,
            126.9739371,
            132.4691139,
            130.8954086,
            129.9114421,
            126.9035985,
            120.0271193,
            114.1841258,
            108.5299902,
            100.3782574,
            84.34148807,
            68.87984912,
            52.48503054,
            null
           ],
           "y": [
            132.8970804,
            128.6567371,
            114.5052243,
            121.7846509,
            122.6648195,
            117.0363673,
            106.1069251,
            97.00907745,
            88.3605384,
            78.57480316,
            70.40838551,
            60.39347846,
            55.44546708,
            43.60712934,
            36.37874293,
            33.82592306,
            34.38583847,
            36.64467032,
            36.10426183,
            41.4307655,
            null
           ]
          },
          {
           "type": "scatter",
           "x": [
            null,
            null
           ],
           "y": [
            null,
            null
           ]
          },
          {
           "hovertemplate": "Detection<br>(%{x}, %{y})<br>Time: %{meta}",
           "meta": [
            "2025-01-09 14:44:24",
            "2025-01-09 14:44:25",
            "2025-01-09 14:44:26",
            "2025-01-09 14:44:27",
            "2025-01-09 14:44:28",
            "2025-01-09 14:44:29",
            "2025-01-09 14:44:30",
            "2025-01-09 14:44:31",
            "2025-01-09 14:44:32",
            "2025-01-09 14:44:33",
            "2025-01-09 14:44:34",
            "2025-01-09 14:44:35",
            "2025-01-09 14:44:36",
            "2025-01-09 14:44:37",
            "2025-01-09 14:44:38",
            "2025-01-09 14:44:39",
            "2025-01-09 14:44:40",
            "2025-01-09 14:44:41",
            "2025-01-09 14:44:42",
            "2025-01-09 14:44:43"
           ],
           "type": "scatter",
           "x": [
            77.99730680145169,
            89.32677733462154,
            100.3230024678982,
            110.37502458622242,
            112.51475383083013,
            117.95818981683755,
            127.49727108687048,
            131.06557206113158,
            130.31479947134028,
            133.16915456245104,
            125.18674982593032,
            131.84438020286137,
            131.97892413148077,
            120.12943845523563,
            117.61152431780424,
            108.8764631767969,
            98.39310811884359,
            83.56353285390867,
            71.63086271419168,
            51.61894144676717,
            null
           ],
           "y": [
            133.79185911959564,
            133.66752662373142,
            112.31996452768946,
            121.44620589336175,
            123.58294566179377,
            120.28822171944623,
            106.37899870804137,
            97.75519592835539,
            87.90179057607384,
            76.66498702762841,
            71.86992112076258,
            58.73394702384867,
            52.19340656745482,
            43.188573527052114,
            39.66432902283251,
            34.671520160373056,
            29.9566429174598,
            36.994277243128515,
            38.79286490665786,
            40.75479599992838,
            null
           ]
          },
          {
           "type": "scatter",
           "x": [
            null,
            null
           ],
           "y": [
            null,
            null
           ]
          },
          {
           "customdata": [
            "2025-01-09 14:44:24",
            "2025-01-09 14:44:25",
            "2025-01-09 14:44:26",
            "2025-01-09 14:44:27",
            "2025-01-09 14:44:28",
            "2025-01-09 14:44:29",
            "2025-01-09 14:44:30",
            "2025-01-09 14:44:31",
            "2025-01-09 14:44:32",
            "2025-01-09 14:44:33",
            "2025-01-09 14:44:34",
            "2025-01-09 14:44:35",
            "2025-01-09 14:44:36",
            "2025-01-09 14:44:37",
            "2025-01-09 14:44:38",
            "2025-01-09 14:44:39",
            "2025-01-09 14:44:40",
            "2025-01-09 14:44:41",
            "2025-01-09 14:44:42",
            "2025-01-09 14:44:43"
           ],
           "hovertemplate": "%{meta}<br>(%{x}, %{y})<br>Time: %{customdata}",
           "meta": [
            "GaussianState",
            "GaussianStateUpdate",
            "GaussianStateUpdate",
            "GaussianStateUpdate",
            "GaussianStateUpdate",
            "GaussianStateUpdate",
            "GaussianStateUpdate",
            "GaussianStateUpdate",
            "GaussianStateUpdate",
            "GaussianStateUpdate",
            "GaussianStateUpdate",
            "GaussianStateUpdate",
            "GaussianStateUpdate",
            "GaussianStateUpdate",
            "GaussianStateUpdate",
            "GaussianStateUpdate",
            "GaussianStateUpdate",
            "GaussianStateUpdate",
            "GaussianStateUpdate",
            "GaussianStateUpdate"
           ],
           "type": "scatter",
           "x": [
            74.22014502,
            89.22992315256701,
            100.77107487718641,
            110.19651238288311,
            111.90587167496986,
            117.02210478270644,
            127.25365431551246,
            132.20295551989798,
            131.7673489167498,
            133.88777504563453,
            126.6191258457489,
            131.08148094981053,
            132.516111057558,
            121.8925776961243,
            116.22562071431086,
            107.38275445100885,
            95.64458980760368,
            69.74471675666138,
            75.19927001089755,
            54.19203036846665,
            null
           ],
           "y": [
            131.1193202,
            133.65116665735812,
            112.5795863318055,
            120.62217559225633,
            124.46905075207951,
            121.1429694947251,
            106.43224124468414,
            96.32056275288147,
            86.85309014734673,
            76.36511888941192,
            71.75005913157042,
            60.23221901786741,
            52.79028295813589,
            44.12040575226839,
            39.803591413697,
            35.40793902756456,
            31.102194231631856,
            34.25564863195609,
            39.04404228034326,
            41.056373855401205,
            null
           ]
          }
         ],
         "name": "2025-01-09 14:44:43",
         "traces": [
          0,
          1,
          2,
          3,
          4,
          5
         ]
        },
        {
         "data": [
          {
           "type": "scatter",
           "x": [
            0,
            0
           ],
           "y": [
            0,
            0
           ]
          },
          {
           "hovertemplate": "GroundTruthState<br>(%{x}, %{y})<br>Time: %{meta}",
           "meta": [
            "2025-01-09 14:44:24",
            "2025-01-09 14:44:25",
            "2025-01-09 14:44:26",
            "2025-01-09 14:44:27",
            "2025-01-09 14:44:28",
            "2025-01-09 14:44:29",
            "2025-01-09 14:44:30",
            "2025-01-09 14:44:31",
            "2025-01-09 14:44:32",
            "2025-01-09 14:44:33",
            "2025-01-09 14:44:34",
            "2025-01-09 14:44:35",
            "2025-01-09 14:44:36",
            "2025-01-09 14:44:37",
            "2025-01-09 14:44:38",
            "2025-01-09 14:44:39",
            "2025-01-09 14:44:40",
            "2025-01-09 14:44:41",
            "2025-01-09 14:44:42",
            "2025-01-09 14:44:43",
            "2025-01-09 14:44:44"
           ],
           "type": "scatter",
           "x": [
            74.05276584,
            87.13825267,
            96.14701585,
            108.2505623,
            112.7455582,
            117.6360986,
            125.795539,
            130.0730637,
            126.9739371,
            132.4691139,
            130.8954086,
            129.9114421,
            126.9035985,
            120.0271193,
            114.1841258,
            108.5299902,
            100.3782574,
            84.34148807,
            68.87984912,
            52.48503054,
            47.06937061,
            null
           ],
           "y": [
            132.8970804,
            128.6567371,
            114.5052243,
            121.7846509,
            122.6648195,
            117.0363673,
            106.1069251,
            97.00907745,
            88.3605384,
            78.57480316,
            70.40838551,
            60.39347846,
            55.44546708,
            43.60712934,
            36.37874293,
            33.82592306,
            34.38583847,
            36.64467032,
            36.10426183,
            41.4307655,
            41.61411986,
            null
           ]
          },
          {
           "type": "scatter",
           "x": [
            null,
            null
           ],
           "y": [
            null,
            null
           ]
          },
          {
           "hovertemplate": "Detection<br>(%{x}, %{y})<br>Time: %{meta}",
           "meta": [
            "2025-01-09 14:44:24",
            "2025-01-09 14:44:25",
            "2025-01-09 14:44:26",
            "2025-01-09 14:44:27",
            "2025-01-09 14:44:28",
            "2025-01-09 14:44:29",
            "2025-01-09 14:44:30",
            "2025-01-09 14:44:31",
            "2025-01-09 14:44:32",
            "2025-01-09 14:44:33",
            "2025-01-09 14:44:34",
            "2025-01-09 14:44:35",
            "2025-01-09 14:44:36",
            "2025-01-09 14:44:37",
            "2025-01-09 14:44:38",
            "2025-01-09 14:44:39",
            "2025-01-09 14:44:40",
            "2025-01-09 14:44:41",
            "2025-01-09 14:44:42",
            "2025-01-09 14:44:43",
            "2025-01-09 14:44:44"
           ],
           "type": "scatter",
           "x": [
            77.99730680145169,
            89.32677733462154,
            100.3230024678982,
            110.37502458622242,
            112.51475383083013,
            117.95818981683755,
            127.49727108687048,
            131.06557206113158,
            130.31479947134028,
            133.16915456245104,
            125.18674982593032,
            131.84438020286137,
            131.97892413148077,
            120.12943845523563,
            117.61152431780424,
            108.8764631767969,
            98.39310811884359,
            83.56353285390867,
            71.63086271419168,
            51.61894144676717,
            44.72473490210102,
            null
           ],
           "y": [
            133.79185911959564,
            133.66752662373142,
            112.31996452768946,
            121.44620589336175,
            123.58294566179377,
            120.28822171944623,
            106.37899870804137,
            97.75519592835539,
            87.90179057607384,
            76.66498702762841,
            71.86992112076258,
            58.73394702384867,
            52.19340656745482,
            43.188573527052114,
            39.66432902283251,
            34.671520160373056,
            29.9566429174598,
            36.994277243128515,
            38.79286490665786,
            40.75479599992838,
            38.43886322319879,
            null
           ]
          },
          {
           "type": "scatter",
           "x": [
            null,
            null
           ],
           "y": [
            null,
            null
           ]
          },
          {
           "customdata": [
            "2025-01-09 14:44:24",
            "2025-01-09 14:44:25",
            "2025-01-09 14:44:26",
            "2025-01-09 14:44:27",
            "2025-01-09 14:44:28",
            "2025-01-09 14:44:29",
            "2025-01-09 14:44:30",
            "2025-01-09 14:44:31",
            "2025-01-09 14:44:32",
            "2025-01-09 14:44:33",
            "2025-01-09 14:44:34",
            "2025-01-09 14:44:35",
            "2025-01-09 14:44:36",
            "2025-01-09 14:44:37",
            "2025-01-09 14:44:38",
            "2025-01-09 14:44:39",
            "2025-01-09 14:44:40",
            "2025-01-09 14:44:41",
            "2025-01-09 14:44:42",
            "2025-01-09 14:44:43",
            "2025-01-09 14:44:44"
           ],
           "hovertemplate": "%{meta}<br>(%{x}, %{y})<br>Time: %{customdata}",
           "meta": [
            "GaussianState",
            "GaussianStateUpdate",
            "GaussianStateUpdate",
            "GaussianStateUpdate",
            "GaussianStateUpdate",
            "GaussianStateUpdate",
            "GaussianStateUpdate",
            "GaussianStateUpdate",
            "GaussianStateUpdate",
            "GaussianStateUpdate",
            "GaussianStateUpdate",
            "GaussianStateUpdate",
            "GaussianStateUpdate",
            "GaussianStateUpdate",
            "GaussianStateUpdate",
            "GaussianStateUpdate",
            "GaussianStateUpdate",
            "GaussianStateUpdate",
            "GaussianStateUpdate",
            "GaussianStateUpdate",
            "GaussianStateUpdate"
           ],
           "type": "scatter",
           "x": [
            74.22014502,
            89.22992315256701,
            100.77107487718641,
            110.19651238288311,
            111.90587167496986,
            117.02210478270644,
            127.25365431551246,
            132.20295551989798,
            131.7673489167498,
            133.88777504563453,
            126.6191258457489,
            131.08148094981053,
            132.516111057558,
            121.8925776961243,
            116.22562071431086,
            107.38275445100885,
            95.64458980760368,
            69.74471675666138,
            75.19927001089755,
            54.19203036846665,
            45.51363648487457,
            null
           ],
           "y": [
            131.1193202,
            133.65116665735812,
            112.5795863318055,
            120.62217559225633,
            124.46905075207951,
            121.1429694947251,
            106.43224124468414,
            96.32056275288147,
            86.85309014734673,
            76.36511888941192,
            71.75005913157042,
            60.23221901786741,
            52.79028295813589,
            44.12040575226839,
            39.803591413697,
            35.40793902756456,
            31.102194231631856,
            34.25564863195609,
            39.04404228034326,
            41.056373855401205,
            38.86390603690417,
            null
           ]
          }
         ],
         "name": "2025-01-09 14:44:44",
         "traces": [
          0,
          1,
          2,
          3,
          4,
          5
         ]
        },
        {
         "data": [
          {
           "type": "scatter",
           "x": [
            0,
            0
           ],
           "y": [
            0,
            0
           ]
          },
          {
           "hovertemplate": "GroundTruthState<br>(%{x}, %{y})<br>Time: %{meta}",
           "meta": [
            "2025-01-09 14:44:24",
            "2025-01-09 14:44:25",
            "2025-01-09 14:44:26",
            "2025-01-09 14:44:27",
            "2025-01-09 14:44:28",
            "2025-01-09 14:44:29",
            "2025-01-09 14:44:30",
            "2025-01-09 14:44:31",
            "2025-01-09 14:44:32",
            "2025-01-09 14:44:33",
            "2025-01-09 14:44:34",
            "2025-01-09 14:44:35",
            "2025-01-09 14:44:36",
            "2025-01-09 14:44:37",
            "2025-01-09 14:44:38",
            "2025-01-09 14:44:39",
            "2025-01-09 14:44:40",
            "2025-01-09 14:44:41",
            "2025-01-09 14:44:42",
            "2025-01-09 14:44:43",
            "2025-01-09 14:44:44",
            "2025-01-09 14:44:45"
           ],
           "type": "scatter",
           "x": [
            74.05276584,
            87.13825267,
            96.14701585,
            108.2505623,
            112.7455582,
            117.6360986,
            125.795539,
            130.0730637,
            126.9739371,
            132.4691139,
            130.8954086,
            129.9114421,
            126.9035985,
            120.0271193,
            114.1841258,
            108.5299902,
            100.3782574,
            84.34148807,
            68.87984912,
            52.48503054,
            47.06937061,
            47.12509769,
            null
           ],
           "y": [
            132.8970804,
            128.6567371,
            114.5052243,
            121.7846509,
            122.6648195,
            117.0363673,
            106.1069251,
            97.00907745,
            88.3605384,
            78.57480316,
            70.40838551,
            60.39347846,
            55.44546708,
            43.60712934,
            36.37874293,
            33.82592306,
            34.38583847,
            36.64467032,
            36.10426183,
            41.4307655,
            41.61411986,
            41.65051415,
            null
           ]
          },
          {
           "type": "scatter",
           "x": [
            null,
            null
           ],
           "y": [
            null,
            null
           ]
          },
          {
           "hovertemplate": "Detection<br>(%{x}, %{y})<br>Time: %{meta}",
           "meta": [
            "2025-01-09 14:44:24",
            "2025-01-09 14:44:25",
            "2025-01-09 14:44:26",
            "2025-01-09 14:44:27",
            "2025-01-09 14:44:28",
            "2025-01-09 14:44:29",
            "2025-01-09 14:44:30",
            "2025-01-09 14:44:31",
            "2025-01-09 14:44:32",
            "2025-01-09 14:44:33",
            "2025-01-09 14:44:34",
            "2025-01-09 14:44:35",
            "2025-01-09 14:44:36",
            "2025-01-09 14:44:37",
            "2025-01-09 14:44:38",
            "2025-01-09 14:44:39",
            "2025-01-09 14:44:40",
            "2025-01-09 14:44:41",
            "2025-01-09 14:44:42",
            "2025-01-09 14:44:43",
            "2025-01-09 14:44:44",
            "2025-01-09 14:44:45"
           ],
           "type": "scatter",
           "x": [
            77.99730680145169,
            89.32677733462154,
            100.3230024678982,
            110.37502458622242,
            112.51475383083013,
            117.95818981683755,
            127.49727108687048,
            131.06557206113158,
            130.31479947134028,
            133.16915456245104,
            125.18674982593032,
            131.84438020286137,
            131.97892413148077,
            120.12943845523563,
            117.61152431780424,
            108.8764631767969,
            98.39310811884359,
            83.56353285390867,
            71.63086271419168,
            51.61894144676717,
            44.72473490210102,
            43.309761555780945,
            null
           ],
           "y": [
            133.79185911959564,
            133.66752662373142,
            112.31996452768946,
            121.44620589336175,
            123.58294566179377,
            120.28822171944623,
            106.37899870804137,
            97.75519592835539,
            87.90179057607384,
            76.66498702762841,
            71.86992112076258,
            58.73394702384867,
            52.19340656745482,
            43.188573527052114,
            39.66432902283251,
            34.671520160373056,
            29.9566429174598,
            36.994277243128515,
            38.79286490665786,
            40.75479599992838,
            38.43886322319879,
            46.0125805425723,
            null
           ]
          },
          {
           "type": "scatter",
           "x": [
            null,
            null
           ],
           "y": [
            null,
            null
           ]
          },
          {
           "customdata": [
            "2025-01-09 14:44:24",
            "2025-01-09 14:44:25",
            "2025-01-09 14:44:26",
            "2025-01-09 14:44:27",
            "2025-01-09 14:44:28",
            "2025-01-09 14:44:29",
            "2025-01-09 14:44:30",
            "2025-01-09 14:44:31",
            "2025-01-09 14:44:32",
            "2025-01-09 14:44:33",
            "2025-01-09 14:44:34",
            "2025-01-09 14:44:35",
            "2025-01-09 14:44:36",
            "2025-01-09 14:44:37",
            "2025-01-09 14:44:38",
            "2025-01-09 14:44:39",
            "2025-01-09 14:44:40",
            "2025-01-09 14:44:41",
            "2025-01-09 14:44:42",
            "2025-01-09 14:44:43",
            "2025-01-09 14:44:44",
            "2025-01-09 14:44:45"
           ],
           "hovertemplate": "%{meta}<br>(%{x}, %{y})<br>Time: %{customdata}",
           "meta": [
            "GaussianState",
            "GaussianStateUpdate",
            "GaussianStateUpdate",
            "GaussianStateUpdate",
            "GaussianStateUpdate",
            "GaussianStateUpdate",
            "GaussianStateUpdate",
            "GaussianStateUpdate",
            "GaussianStateUpdate",
            "GaussianStateUpdate",
            "GaussianStateUpdate",
            "GaussianStateUpdate",
            "GaussianStateUpdate",
            "GaussianStateUpdate",
            "GaussianStateUpdate",
            "GaussianStateUpdate",
            "GaussianStateUpdate",
            "GaussianStateUpdate",
            "GaussianStateUpdate",
            "GaussianStateUpdate",
            "GaussianStateUpdate",
            "GaussianStateUpdate"
           ],
           "type": "scatter",
           "x": [
            74.22014502,
            89.22992315256701,
            100.77107487718641,
            110.19651238288311,
            111.90587167496986,
            117.02210478270644,
            127.25365431551246,
            132.20295551989798,
            131.7673489167498,
            133.88777504563453,
            126.6191258457489,
            131.08148094981053,
            132.516111057558,
            121.8925776961243,
            116.22562071431086,
            107.38275445100885,
            95.64458980760368,
            69.74471675666138,
            75.19927001089755,
            54.19203036846665,
            45.51363648487457,
            45.072259760018326,
            null
           ],
           "y": [
            131.1193202,
            133.65116665735812,
            112.5795863318055,
            120.62217559225633,
            124.46905075207951,
            121.1429694947251,
            106.43224124468414,
            96.32056275288147,
            86.85309014734673,
            76.36511888941192,
            71.75005913157042,
            60.23221901786741,
            52.79028295813589,
            44.12040575226839,
            39.803591413697,
            35.40793902756456,
            31.102194231631856,
            34.25564863195609,
            39.04404228034326,
            41.056373855401205,
            38.86390603690417,
            44.092185485392896,
            null
           ]
          }
         ],
         "name": "2025-01-09 14:44:45",
         "traces": [
          0,
          1,
          2,
          3,
          4,
          5
         ]
        },
        {
         "data": [
          {
           "type": "scatter",
           "x": [
            0,
            0
           ],
           "y": [
            0,
            0
           ]
          },
          {
           "hovertemplate": "GroundTruthState<br>(%{x}, %{y})<br>Time: %{meta}",
           "meta": [
            "2025-01-09 14:44:24",
            "2025-01-09 14:44:25",
            "2025-01-09 14:44:26",
            "2025-01-09 14:44:27",
            "2025-01-09 14:44:28",
            "2025-01-09 14:44:29",
            "2025-01-09 14:44:30",
            "2025-01-09 14:44:31",
            "2025-01-09 14:44:32",
            "2025-01-09 14:44:33",
            "2025-01-09 14:44:34",
            "2025-01-09 14:44:35",
            "2025-01-09 14:44:36",
            "2025-01-09 14:44:37",
            "2025-01-09 14:44:38",
            "2025-01-09 14:44:39",
            "2025-01-09 14:44:40",
            "2025-01-09 14:44:41",
            "2025-01-09 14:44:42",
            "2025-01-09 14:44:43",
            "2025-01-09 14:44:44",
            "2025-01-09 14:44:45",
            "2025-01-09 14:44:46"
           ],
           "type": "scatter",
           "x": [
            74.05276584,
            87.13825267,
            96.14701585,
            108.2505623,
            112.7455582,
            117.6360986,
            125.795539,
            130.0730637,
            126.9739371,
            132.4691139,
            130.8954086,
            129.9114421,
            126.9035985,
            120.0271193,
            114.1841258,
            108.5299902,
            100.3782574,
            84.34148807,
            68.87984912,
            52.48503054,
            47.06937061,
            47.12509769,
            40.59271857,
            null
           ],
           "y": [
            132.8970804,
            128.6567371,
            114.5052243,
            121.7846509,
            122.6648195,
            117.0363673,
            106.1069251,
            97.00907745,
            88.3605384,
            78.57480316,
            70.40838551,
            60.39347846,
            55.44546708,
            43.60712934,
            36.37874293,
            33.82592306,
            34.38583847,
            36.64467032,
            36.10426183,
            41.4307655,
            41.61411986,
            41.65051415,
            36.14508385,
            null
           ]
          },
          {
           "type": "scatter",
           "x": [
            null,
            null
           ],
           "y": [
            null,
            null
           ]
          },
          {
           "hovertemplate": "Detection<br>(%{x}, %{y})<br>Time: %{meta}",
           "meta": [
            "2025-01-09 14:44:24",
            "2025-01-09 14:44:25",
            "2025-01-09 14:44:26",
            "2025-01-09 14:44:27",
            "2025-01-09 14:44:28",
            "2025-01-09 14:44:29",
            "2025-01-09 14:44:30",
            "2025-01-09 14:44:31",
            "2025-01-09 14:44:32",
            "2025-01-09 14:44:33",
            "2025-01-09 14:44:34",
            "2025-01-09 14:44:35",
            "2025-01-09 14:44:36",
            "2025-01-09 14:44:37",
            "2025-01-09 14:44:38",
            "2025-01-09 14:44:39",
            "2025-01-09 14:44:40",
            "2025-01-09 14:44:41",
            "2025-01-09 14:44:42",
            "2025-01-09 14:44:43",
            "2025-01-09 14:44:44",
            "2025-01-09 14:44:45",
            "2025-01-09 14:44:46"
           ],
           "type": "scatter",
           "x": [
            77.99730680145169,
            89.32677733462154,
            100.3230024678982,
            110.37502458622242,
            112.51475383083013,
            117.95818981683755,
            127.49727108687048,
            131.06557206113158,
            130.31479947134028,
            133.16915456245104,
            125.18674982593032,
            131.84438020286137,
            131.97892413148077,
            120.12943845523563,
            117.61152431780424,
            108.8764631767969,
            98.39310811884359,
            83.56353285390867,
            71.63086271419168,
            51.61894144676717,
            44.72473490210102,
            43.309761555780945,
            39.453101646722224,
            null
           ],
           "y": [
            133.79185911959564,
            133.66752662373142,
            112.31996452768946,
            121.44620589336175,
            123.58294566179377,
            120.28822171944623,
            106.37899870804137,
            97.75519592835539,
            87.90179057607384,
            76.66498702762841,
            71.86992112076258,
            58.73394702384867,
            52.19340656745482,
            43.188573527052114,
            39.66432902283251,
            34.671520160373056,
            29.9566429174598,
            36.994277243128515,
            38.79286490665786,
            40.75479599992838,
            38.43886322319879,
            46.0125805425723,
            35.165519932401644,
            null
           ]
          },
          {
           "type": "scatter",
           "x": [
            null,
            null
           ],
           "y": [
            null,
            null
           ]
          },
          {
           "customdata": [
            "2025-01-09 14:44:24",
            "2025-01-09 14:44:25",
            "2025-01-09 14:44:26",
            "2025-01-09 14:44:27",
            "2025-01-09 14:44:28",
            "2025-01-09 14:44:29",
            "2025-01-09 14:44:30",
            "2025-01-09 14:44:31",
            "2025-01-09 14:44:32",
            "2025-01-09 14:44:33",
            "2025-01-09 14:44:34",
            "2025-01-09 14:44:35",
            "2025-01-09 14:44:36",
            "2025-01-09 14:44:37",
            "2025-01-09 14:44:38",
            "2025-01-09 14:44:39",
            "2025-01-09 14:44:40",
            "2025-01-09 14:44:41",
            "2025-01-09 14:44:42",
            "2025-01-09 14:44:43",
            "2025-01-09 14:44:44",
            "2025-01-09 14:44:45",
            "2025-01-09 14:44:46"
           ],
           "hovertemplate": "%{meta}<br>(%{x}, %{y})<br>Time: %{customdata}",
           "meta": [
            "GaussianState",
            "GaussianStateUpdate",
            "GaussianStateUpdate",
            "GaussianStateUpdate",
            "GaussianStateUpdate",
            "GaussianStateUpdate",
            "GaussianStateUpdate",
            "GaussianStateUpdate",
            "GaussianStateUpdate",
            "GaussianStateUpdate",
            "GaussianStateUpdate",
            "GaussianStateUpdate",
            "GaussianStateUpdate",
            "GaussianStateUpdate",
            "GaussianStateUpdate",
            "GaussianStateUpdate",
            "GaussianStateUpdate",
            "GaussianStateUpdate",
            "GaussianStateUpdate",
            "GaussianStateUpdate",
            "GaussianStateUpdate",
            "GaussianStateUpdate",
            "GaussianStateUpdate"
           ],
           "type": "scatter",
           "x": [
            74.22014502,
            89.22992315256701,
            100.77107487718641,
            110.19651238288311,
            111.90587167496986,
            117.02210478270644,
            127.25365431551246,
            132.20295551989798,
            131.7673489167498,
            133.88777504563453,
            126.6191258457489,
            131.08148094981053,
            132.516111057558,
            121.8925776961243,
            116.22562071431086,
            107.38275445100885,
            95.64458980760368,
            69.74471675666138,
            75.19927001089755,
            54.19203036846665,
            45.51363648487457,
            45.072259760018326,
            47.482090538063524,
            null
           ],
           "y": [
            131.1193202,
            133.65116665735812,
            112.5795863318055,
            120.62217559225633,
            124.46905075207951,
            121.1429694947251,
            106.43224124468414,
            96.32056275288147,
            86.85309014734673,
            76.36511888941192,
            71.75005913157042,
            60.23221901786741,
            52.79028295813589,
            44.12040575226839,
            39.803591413697,
            35.40793902756456,
            31.102194231631856,
            34.25564863195609,
            39.04404228034326,
            41.056373855401205,
            38.86390603690417,
            44.092185485392896,
            36.81592985718771,
            null
           ]
          }
         ],
         "name": "2025-01-09 14:44:46",
         "traces": [
          0,
          1,
          2,
          3,
          4,
          5
         ]
        },
        {
         "data": [
          {
           "type": "scatter",
           "x": [
            0,
            0
           ],
           "y": [
            0,
            0
           ]
          },
          {
           "hovertemplate": "GroundTruthState<br>(%{x}, %{y})<br>Time: %{meta}",
           "meta": [
            "2025-01-09 14:44:24",
            "2025-01-09 14:44:25",
            "2025-01-09 14:44:26",
            "2025-01-09 14:44:27",
            "2025-01-09 14:44:28",
            "2025-01-09 14:44:29",
            "2025-01-09 14:44:30",
            "2025-01-09 14:44:31",
            "2025-01-09 14:44:32",
            "2025-01-09 14:44:33",
            "2025-01-09 14:44:34",
            "2025-01-09 14:44:35",
            "2025-01-09 14:44:36",
            "2025-01-09 14:44:37",
            "2025-01-09 14:44:38",
            "2025-01-09 14:44:39",
            "2025-01-09 14:44:40",
            "2025-01-09 14:44:41",
            "2025-01-09 14:44:42",
            "2025-01-09 14:44:43",
            "2025-01-09 14:44:44",
            "2025-01-09 14:44:45",
            "2025-01-09 14:44:46",
            "2025-01-09 14:44:47"
           ],
           "type": "scatter",
           "x": [
            74.05276584,
            87.13825267,
            96.14701585,
            108.2505623,
            112.7455582,
            117.6360986,
            125.795539,
            130.0730637,
            126.9739371,
            132.4691139,
            130.8954086,
            129.9114421,
            126.9035985,
            120.0271193,
            114.1841258,
            108.5299902,
            100.3782574,
            84.34148807,
            68.87984912,
            52.48503054,
            47.06937061,
            47.12509769,
            40.59271857,
            36.74958975,
            null
           ],
           "y": [
            132.8970804,
            128.6567371,
            114.5052243,
            121.7846509,
            122.6648195,
            117.0363673,
            106.1069251,
            97.00907745,
            88.3605384,
            78.57480316,
            70.40838551,
            60.39347846,
            55.44546708,
            43.60712934,
            36.37874293,
            33.82592306,
            34.38583847,
            36.64467032,
            36.10426183,
            41.4307655,
            41.61411986,
            41.65051415,
            36.14508385,
            40.4275684,
            null
           ]
          },
          {
           "type": "scatter",
           "x": [
            null,
            null
           ],
           "y": [
            null,
            null
           ]
          },
          {
           "hovertemplate": "Detection<br>(%{x}, %{y})<br>Time: %{meta}",
           "meta": [
            "2025-01-09 14:44:24",
            "2025-01-09 14:44:25",
            "2025-01-09 14:44:26",
            "2025-01-09 14:44:27",
            "2025-01-09 14:44:28",
            "2025-01-09 14:44:29",
            "2025-01-09 14:44:30",
            "2025-01-09 14:44:31",
            "2025-01-09 14:44:32",
            "2025-01-09 14:44:33",
            "2025-01-09 14:44:34",
            "2025-01-09 14:44:35",
            "2025-01-09 14:44:36",
            "2025-01-09 14:44:37",
            "2025-01-09 14:44:38",
            "2025-01-09 14:44:39",
            "2025-01-09 14:44:40",
            "2025-01-09 14:44:41",
            "2025-01-09 14:44:42",
            "2025-01-09 14:44:43",
            "2025-01-09 14:44:44",
            "2025-01-09 14:44:45",
            "2025-01-09 14:44:46",
            "2025-01-09 14:44:47"
           ],
           "type": "scatter",
           "x": [
            77.99730680145169,
            89.32677733462154,
            100.3230024678982,
            110.37502458622242,
            112.51475383083013,
            117.95818981683755,
            127.49727108687048,
            131.06557206113158,
            130.31479947134028,
            133.16915456245104,
            125.18674982593032,
            131.84438020286137,
            131.97892413148077,
            120.12943845523563,
            117.61152431780424,
            108.8764631767969,
            98.39310811884359,
            83.56353285390867,
            71.63086271419168,
            51.61894144676717,
            44.72473490210102,
            43.309761555780945,
            39.453101646722224,
            33.94825416303204,
            null
           ],
           "y": [
            133.79185911959564,
            133.66752662373142,
            112.31996452768946,
            121.44620589336175,
            123.58294566179377,
            120.28822171944623,
            106.37899870804137,
            97.75519592835539,
            87.90179057607384,
            76.66498702762841,
            71.86992112076258,
            58.73394702384867,
            52.19340656745482,
            43.188573527052114,
            39.66432902283251,
            34.671520160373056,
            29.9566429174598,
            36.994277243128515,
            38.79286490665786,
            40.75479599992838,
            38.43886322319879,
            46.0125805425723,
            35.165519932401644,
            42.16608968749065,
            null
           ]
          },
          {
           "type": "scatter",
           "x": [
            null,
            null
           ],
           "y": [
            null,
            null
           ]
          },
          {
           "customdata": [
            "2025-01-09 14:44:24",
            "2025-01-09 14:44:25",
            "2025-01-09 14:44:26",
            "2025-01-09 14:44:27",
            "2025-01-09 14:44:28",
            "2025-01-09 14:44:29",
            "2025-01-09 14:44:30",
            "2025-01-09 14:44:31",
            "2025-01-09 14:44:32",
            "2025-01-09 14:44:33",
            "2025-01-09 14:44:34",
            "2025-01-09 14:44:35",
            "2025-01-09 14:44:36",
            "2025-01-09 14:44:37",
            "2025-01-09 14:44:38",
            "2025-01-09 14:44:39",
            "2025-01-09 14:44:40",
            "2025-01-09 14:44:41",
            "2025-01-09 14:44:42",
            "2025-01-09 14:44:43",
            "2025-01-09 14:44:44",
            "2025-01-09 14:44:45",
            "2025-01-09 14:44:46",
            "2025-01-09 14:44:47"
           ],
           "hovertemplate": "%{meta}<br>(%{x}, %{y})<br>Time: %{customdata}",
           "meta": [
            "GaussianState",
            "GaussianStateUpdate",
            "GaussianStateUpdate",
            "GaussianStateUpdate",
            "GaussianStateUpdate",
            "GaussianStateUpdate",
            "GaussianStateUpdate",
            "GaussianStateUpdate",
            "GaussianStateUpdate",
            "GaussianStateUpdate",
            "GaussianStateUpdate",
            "GaussianStateUpdate",
            "GaussianStateUpdate",
            "GaussianStateUpdate",
            "GaussianStateUpdate",
            "GaussianStateUpdate",
            "GaussianStateUpdate",
            "GaussianStateUpdate",
            "GaussianStateUpdate",
            "GaussianStateUpdate",
            "GaussianStateUpdate",
            "GaussianStateUpdate",
            "GaussianStateUpdate",
            "GaussianStateUpdate"
           ],
           "type": "scatter",
           "x": [
            74.22014502,
            89.22992315256701,
            100.77107487718641,
            110.19651238288311,
            111.90587167496986,
            117.02210478270644,
            127.25365431551246,
            132.20295551989798,
            131.7673489167498,
            133.88777504563453,
            126.6191258457489,
            131.08148094981053,
            132.516111057558,
            121.8925776961243,
            116.22562071431086,
            107.38275445100885,
            95.64458980760368,
            69.74471675666138,
            75.19927001089755,
            54.19203036846665,
            45.51363648487457,
            45.072259760018326,
            47.482090538063524,
            6.77233631771179,
            null
           ],
           "y": [
            131.1193202,
            133.65116665735812,
            112.5795863318055,
            120.62217559225633,
            124.46905075207951,
            121.1429694947251,
            106.43224124468414,
            96.32056275288147,
            86.85309014734673,
            76.36511888941192,
            71.75005913157042,
            60.23221901786741,
            52.79028295813589,
            44.12040575226839,
            39.803591413697,
            35.40793902756456,
            31.102194231631856,
            34.25564863195609,
            39.04404228034326,
            41.056373855401205,
            38.86390603690417,
            44.092185485392896,
            36.81592985718771,
            47.342101819234,
            null
           ]
          }
         ],
         "name": "2025-01-09 14:44:47",
         "traces": [
          0,
          1,
          2,
          3,
          4,
          5
         ]
        },
        {
         "data": [
          {
           "type": "scatter",
           "x": [
            0,
            0
           ],
           "y": [
            0,
            0
           ]
          },
          {
           "hovertemplate": "GroundTruthState<br>(%{x}, %{y})<br>Time: %{meta}",
           "meta": [
            "2025-01-09 14:44:24",
            "2025-01-09 14:44:25",
            "2025-01-09 14:44:26",
            "2025-01-09 14:44:27",
            "2025-01-09 14:44:28",
            "2025-01-09 14:44:29",
            "2025-01-09 14:44:30",
            "2025-01-09 14:44:31",
            "2025-01-09 14:44:32",
            "2025-01-09 14:44:33",
            "2025-01-09 14:44:34",
            "2025-01-09 14:44:35",
            "2025-01-09 14:44:36",
            "2025-01-09 14:44:37",
            "2025-01-09 14:44:38",
            "2025-01-09 14:44:39",
            "2025-01-09 14:44:40",
            "2025-01-09 14:44:41",
            "2025-01-09 14:44:42",
            "2025-01-09 14:44:43",
            "2025-01-09 14:44:44",
            "2025-01-09 14:44:45",
            "2025-01-09 14:44:46",
            "2025-01-09 14:44:47",
            "2025-01-09 14:44:48"
           ],
           "type": "scatter",
           "x": [
            74.05276584,
            87.13825267,
            96.14701585,
            108.2505623,
            112.7455582,
            117.6360986,
            125.795539,
            130.0730637,
            126.9739371,
            132.4691139,
            130.8954086,
            129.9114421,
            126.9035985,
            120.0271193,
            114.1841258,
            108.5299902,
            100.3782574,
            84.34148807,
            68.87984912,
            52.48503054,
            47.06937061,
            47.12509769,
            40.59271857,
            36.74958975,
            30.20109178,
            null
           ],
           "y": [
            132.8970804,
            128.6567371,
            114.5052243,
            121.7846509,
            122.6648195,
            117.0363673,
            106.1069251,
            97.00907745,
            88.3605384,
            78.57480316,
            70.40838551,
            60.39347846,
            55.44546708,
            43.60712934,
            36.37874293,
            33.82592306,
            34.38583847,
            36.64467032,
            36.10426183,
            41.4307655,
            41.61411986,
            41.65051415,
            36.14508385,
            40.4275684,
            54.67701478,
            null
           ]
          },
          {
           "type": "scatter",
           "x": [
            null,
            null
           ],
           "y": [
            null,
            null
           ]
          },
          {
           "hovertemplate": "Detection<br>(%{x}, %{y})<br>Time: %{meta}",
           "meta": [
            "2025-01-09 14:44:24",
            "2025-01-09 14:44:25",
            "2025-01-09 14:44:26",
            "2025-01-09 14:44:27",
            "2025-01-09 14:44:28",
            "2025-01-09 14:44:29",
            "2025-01-09 14:44:30",
            "2025-01-09 14:44:31",
            "2025-01-09 14:44:32",
            "2025-01-09 14:44:33",
            "2025-01-09 14:44:34",
            "2025-01-09 14:44:35",
            "2025-01-09 14:44:36",
            "2025-01-09 14:44:37",
            "2025-01-09 14:44:38",
            "2025-01-09 14:44:39",
            "2025-01-09 14:44:40",
            "2025-01-09 14:44:41",
            "2025-01-09 14:44:42",
            "2025-01-09 14:44:43",
            "2025-01-09 14:44:44",
            "2025-01-09 14:44:45",
            "2025-01-09 14:44:46",
            "2025-01-09 14:44:47",
            "2025-01-09 14:44:48"
           ],
           "type": "scatter",
           "x": [
            77.99730680145169,
            89.32677733462154,
            100.3230024678982,
            110.37502458622242,
            112.51475383083013,
            117.95818981683755,
            127.49727108687048,
            131.06557206113158,
            130.31479947134028,
            133.16915456245104,
            125.18674982593032,
            131.84438020286137,
            131.97892413148077,
            120.12943845523563,
            117.61152431780424,
            108.8764631767969,
            98.39310811884359,
            83.56353285390867,
            71.63086271419168,
            51.61894144676717,
            44.72473490210102,
            43.309761555780945,
            39.453101646722224,
            33.94825416303204,
            26.592306484119824,
            null
           ],
           "y": [
            133.79185911959564,
            133.66752662373142,
            112.31996452768946,
            121.44620589336175,
            123.58294566179377,
            120.28822171944623,
            106.37899870804137,
            97.75519592835539,
            87.90179057607384,
            76.66498702762841,
            71.86992112076258,
            58.73394702384867,
            52.19340656745482,
            43.188573527052114,
            39.66432902283251,
            34.671520160373056,
            29.9566429174598,
            36.994277243128515,
            38.79286490665786,
            40.75479599992838,
            38.43886322319879,
            46.0125805425723,
            35.165519932401644,
            42.16608968749065,
            54.201313051889215,
            null
           ]
          },
          {
           "type": "scatter",
           "x": [
            null,
            null
           ],
           "y": [
            null,
            null
           ]
          },
          {
           "customdata": [
            "2025-01-09 14:44:24",
            "2025-01-09 14:44:25",
            "2025-01-09 14:44:26",
            "2025-01-09 14:44:27",
            "2025-01-09 14:44:28",
            "2025-01-09 14:44:29",
            "2025-01-09 14:44:30",
            "2025-01-09 14:44:31",
            "2025-01-09 14:44:32",
            "2025-01-09 14:44:33",
            "2025-01-09 14:44:34",
            "2025-01-09 14:44:35",
            "2025-01-09 14:44:36",
            "2025-01-09 14:44:37",
            "2025-01-09 14:44:38",
            "2025-01-09 14:44:39",
            "2025-01-09 14:44:40",
            "2025-01-09 14:44:41",
            "2025-01-09 14:44:42",
            "2025-01-09 14:44:43",
            "2025-01-09 14:44:44",
            "2025-01-09 14:44:45",
            "2025-01-09 14:44:46",
            "2025-01-09 14:44:47",
            "2025-01-09 14:44:48"
           ],
           "hovertemplate": "%{meta}<br>(%{x}, %{y})<br>Time: %{customdata}",
           "meta": [
            "GaussianState",
            "GaussianStateUpdate",
            "GaussianStateUpdate",
            "GaussianStateUpdate",
            "GaussianStateUpdate",
            "GaussianStateUpdate",
            "GaussianStateUpdate",
            "GaussianStateUpdate",
            "GaussianStateUpdate",
            "GaussianStateUpdate",
            "GaussianStateUpdate",
            "GaussianStateUpdate",
            "GaussianStateUpdate",
            "GaussianStateUpdate",
            "GaussianStateUpdate",
            "GaussianStateUpdate",
            "GaussianStateUpdate",
            "GaussianStateUpdate",
            "GaussianStateUpdate",
            "GaussianStateUpdate",
            "GaussianStateUpdate",
            "GaussianStateUpdate",
            "GaussianStateUpdate",
            "GaussianStateUpdate",
            "GaussianStateUpdate"
           ],
           "type": "scatter",
           "x": [
            74.22014502,
            89.22992315256701,
            100.77107487718641,
            110.19651238288311,
            111.90587167496986,
            117.02210478270644,
            127.25365431551246,
            132.20295551989798,
            131.7673489167498,
            133.88777504563453,
            126.6191258457489,
            131.08148094981053,
            132.516111057558,
            121.8925776961243,
            116.22562071431086,
            107.38275445100885,
            95.64458980760368,
            69.74471675666138,
            75.19927001089755,
            54.19203036846665,
            45.51363648487457,
            45.072259760018326,
            47.482090538063524,
            6.77233631771179,
            20.79524834411984,
            null
           ],
           "y": [
            131.1193202,
            133.65116665735812,
            112.5795863318055,
            120.62217559225633,
            124.46905075207951,
            121.1429694947251,
            106.43224124468414,
            96.32056275288147,
            86.85309014734673,
            76.36511888941192,
            71.75005913157042,
            60.23221901786741,
            52.79028295813589,
            44.12040575226839,
            39.803591413697,
            35.40793902756456,
            31.102194231631856,
            34.25564863195609,
            39.04404228034326,
            41.056373855401205,
            38.86390603690417,
            44.092185485392896,
            36.81592985718771,
            47.342101819234,
            55.33353342909058,
            null
           ]
          }
         ],
         "name": "2025-01-09 14:44:48",
         "traces": [
          0,
          1,
          2,
          3,
          4,
          5
         ]
        },
        {
         "data": [
          {
           "type": "scatter",
           "x": [
            0,
            0
           ],
           "y": [
            0,
            0
           ]
          },
          {
           "hovertemplate": "GroundTruthState<br>(%{x}, %{y})<br>Time: %{meta}",
           "meta": [
            "2025-01-09 14:44:24",
            "2025-01-09 14:44:25",
            "2025-01-09 14:44:26",
            "2025-01-09 14:44:27",
            "2025-01-09 14:44:28",
            "2025-01-09 14:44:29",
            "2025-01-09 14:44:30",
            "2025-01-09 14:44:31",
            "2025-01-09 14:44:32",
            "2025-01-09 14:44:33",
            "2025-01-09 14:44:34",
            "2025-01-09 14:44:35",
            "2025-01-09 14:44:36",
            "2025-01-09 14:44:37",
            "2025-01-09 14:44:38",
            "2025-01-09 14:44:39",
            "2025-01-09 14:44:40",
            "2025-01-09 14:44:41",
            "2025-01-09 14:44:42",
            "2025-01-09 14:44:43",
            "2025-01-09 14:44:44",
            "2025-01-09 14:44:45",
            "2025-01-09 14:44:46",
            "2025-01-09 14:44:47",
            "2025-01-09 14:44:48",
            "2025-01-09 14:44:49"
           ],
           "type": "scatter",
           "x": [
            74.05276584,
            87.13825267,
            96.14701585,
            108.2505623,
            112.7455582,
            117.6360986,
            125.795539,
            130.0730637,
            126.9739371,
            132.4691139,
            130.8954086,
            129.9114421,
            126.9035985,
            120.0271193,
            114.1841258,
            108.5299902,
            100.3782574,
            84.34148807,
            68.87984912,
            52.48503054,
            47.06937061,
            47.12509769,
            40.59271857,
            36.74958975,
            30.20109178,
            22.12000086,
            null
           ],
           "y": [
            132.8970804,
            128.6567371,
            114.5052243,
            121.7846509,
            122.6648195,
            117.0363673,
            106.1069251,
            97.00907745,
            88.3605384,
            78.57480316,
            70.40838551,
            60.39347846,
            55.44546708,
            43.60712934,
            36.37874293,
            33.82592306,
            34.38583847,
            36.64467032,
            36.10426183,
            41.4307655,
            41.61411986,
            41.65051415,
            36.14508385,
            40.4275684,
            54.67701478,
            70.09919795,
            null
           ]
          },
          {
           "type": "scatter",
           "x": [
            null,
            null
           ],
           "y": [
            null,
            null
           ]
          },
          {
           "hovertemplate": "Detection<br>(%{x}, %{y})<br>Time: %{meta}",
           "meta": [
            "2025-01-09 14:44:24",
            "2025-01-09 14:44:25",
            "2025-01-09 14:44:26",
            "2025-01-09 14:44:27",
            "2025-01-09 14:44:28",
            "2025-01-09 14:44:29",
            "2025-01-09 14:44:30",
            "2025-01-09 14:44:31",
            "2025-01-09 14:44:32",
            "2025-01-09 14:44:33",
            "2025-01-09 14:44:34",
            "2025-01-09 14:44:35",
            "2025-01-09 14:44:36",
            "2025-01-09 14:44:37",
            "2025-01-09 14:44:38",
            "2025-01-09 14:44:39",
            "2025-01-09 14:44:40",
            "2025-01-09 14:44:41",
            "2025-01-09 14:44:42",
            "2025-01-09 14:44:43",
            "2025-01-09 14:44:44",
            "2025-01-09 14:44:45",
            "2025-01-09 14:44:46",
            "2025-01-09 14:44:47",
            "2025-01-09 14:44:48",
            "2025-01-09 14:44:49"
           ],
           "type": "scatter",
           "x": [
            77.99730680145169,
            89.32677733462154,
            100.3230024678982,
            110.37502458622242,
            112.51475383083013,
            117.95818981683755,
            127.49727108687048,
            131.06557206113158,
            130.31479947134028,
            133.16915456245104,
            125.18674982593032,
            131.84438020286137,
            131.97892413148077,
            120.12943845523563,
            117.61152431780424,
            108.8764631767969,
            98.39310811884359,
            83.56353285390867,
            71.63086271419168,
            51.61894144676717,
            44.72473490210102,
            43.309761555780945,
            39.453101646722224,
            33.94825416303204,
            26.592306484119824,
            20.117676757592967,
            null
           ],
           "y": [
            133.79185911959564,
            133.66752662373142,
            112.31996452768946,
            121.44620589336175,
            123.58294566179377,
            120.28822171944623,
            106.37899870804137,
            97.75519592835539,
            87.90179057607384,
            76.66498702762841,
            71.86992112076258,
            58.73394702384867,
            52.19340656745482,
            43.188573527052114,
            39.66432902283251,
            34.671520160373056,
            29.9566429174598,
            36.994277243128515,
            38.79286490665786,
            40.75479599992838,
            38.43886322319879,
            46.0125805425723,
            35.165519932401644,
            42.16608968749065,
            54.201313051889215,
            70.96433823587778,
            null
           ]
          },
          {
           "type": "scatter",
           "x": [
            null,
            null
           ],
           "y": [
            null,
            null
           ]
          },
          {
           "customdata": [
            "2025-01-09 14:44:24",
            "2025-01-09 14:44:25",
            "2025-01-09 14:44:26",
            "2025-01-09 14:44:27",
            "2025-01-09 14:44:28",
            "2025-01-09 14:44:29",
            "2025-01-09 14:44:30",
            "2025-01-09 14:44:31",
            "2025-01-09 14:44:32",
            "2025-01-09 14:44:33",
            "2025-01-09 14:44:34",
            "2025-01-09 14:44:35",
            "2025-01-09 14:44:36",
            "2025-01-09 14:44:37",
            "2025-01-09 14:44:38",
            "2025-01-09 14:44:39",
            "2025-01-09 14:44:40",
            "2025-01-09 14:44:41",
            "2025-01-09 14:44:42",
            "2025-01-09 14:44:43",
            "2025-01-09 14:44:44",
            "2025-01-09 14:44:45",
            "2025-01-09 14:44:46",
            "2025-01-09 14:44:47",
            "2025-01-09 14:44:48",
            "2025-01-09 14:44:49"
           ],
           "hovertemplate": "%{meta}<br>(%{x}, %{y})<br>Time: %{customdata}",
           "meta": [
            "GaussianState",
            "GaussianStateUpdate",
            "GaussianStateUpdate",
            "GaussianStateUpdate",
            "GaussianStateUpdate",
            "GaussianStateUpdate",
            "GaussianStateUpdate",
            "GaussianStateUpdate",
            "GaussianStateUpdate",
            "GaussianStateUpdate",
            "GaussianStateUpdate",
            "GaussianStateUpdate",
            "GaussianStateUpdate",
            "GaussianStateUpdate",
            "GaussianStateUpdate",
            "GaussianStateUpdate",
            "GaussianStateUpdate",
            "GaussianStateUpdate",
            "GaussianStateUpdate",
            "GaussianStateUpdate",
            "GaussianStateUpdate",
            "GaussianStateUpdate",
            "GaussianStateUpdate",
            "GaussianStateUpdate",
            "GaussianStateUpdate",
            "GaussianStateUpdate"
           ],
           "type": "scatter",
           "x": [
            74.22014502,
            89.22992315256701,
            100.77107487718641,
            110.19651238288311,
            111.90587167496986,
            117.02210478270644,
            127.25365431551246,
            132.20295551989798,
            131.7673489167498,
            133.88777504563453,
            126.6191258457489,
            131.08148094981053,
            132.516111057558,
            121.8925776961243,
            116.22562071431086,
            107.38275445100885,
            95.64458980760368,
            69.74471675666138,
            75.19927001089755,
            54.19203036846665,
            45.51363648487457,
            45.072259760018326,
            47.482090538063524,
            6.77233631771179,
            20.79524834411984,
            15.445157612356503,
            null
           ],
           "y": [
            131.1193202,
            133.65116665735812,
            112.5795863318055,
            120.62217559225633,
            124.46905075207951,
            121.1429694947251,
            106.43224124468414,
            96.32056275288147,
            86.85309014734673,
            76.36511888941192,
            71.75005913157042,
            60.23221901786741,
            52.79028295813589,
            44.12040575226839,
            39.803591413697,
            35.40793902756456,
            31.102194231631856,
            34.25564863195609,
            39.04404228034326,
            41.056373855401205,
            38.86390603690417,
            44.092185485392896,
            36.81592985718771,
            47.342101819234,
            55.33353342909058,
            72.58448252621204,
            null
           ]
          }
         ],
         "name": "2025-01-09 14:44:49",
         "traces": [
          0,
          1,
          2,
          3,
          4,
          5
         ]
        },
        {
         "data": [
          {
           "type": "scatter",
           "x": [
            0,
            0
           ],
           "y": [
            0,
            0
           ]
          },
          {
           "hovertemplate": "GroundTruthState<br>(%{x}, %{y})<br>Time: %{meta}",
           "meta": [
            "2025-01-09 14:44:24",
            "2025-01-09 14:44:25",
            "2025-01-09 14:44:26",
            "2025-01-09 14:44:27",
            "2025-01-09 14:44:28",
            "2025-01-09 14:44:29",
            "2025-01-09 14:44:30",
            "2025-01-09 14:44:31",
            "2025-01-09 14:44:32",
            "2025-01-09 14:44:33",
            "2025-01-09 14:44:34",
            "2025-01-09 14:44:35",
            "2025-01-09 14:44:36",
            "2025-01-09 14:44:37",
            "2025-01-09 14:44:38",
            "2025-01-09 14:44:39",
            "2025-01-09 14:44:40",
            "2025-01-09 14:44:41",
            "2025-01-09 14:44:42",
            "2025-01-09 14:44:43",
            "2025-01-09 14:44:44",
            "2025-01-09 14:44:45",
            "2025-01-09 14:44:46",
            "2025-01-09 14:44:47",
            "2025-01-09 14:44:48",
            "2025-01-09 14:44:49",
            "2025-01-09 14:44:50"
           ],
           "type": "scatter",
           "x": [
            74.05276584,
            87.13825267,
            96.14701585,
            108.2505623,
            112.7455582,
            117.6360986,
            125.795539,
            130.0730637,
            126.9739371,
            132.4691139,
            130.8954086,
            129.9114421,
            126.9035985,
            120.0271193,
            114.1841258,
            108.5299902,
            100.3782574,
            84.34148807,
            68.87984912,
            52.48503054,
            47.06937061,
            47.12509769,
            40.59271857,
            36.74958975,
            30.20109178,
            22.12000086,
            29.00547817,
            null
           ],
           "y": [
            132.8970804,
            128.6567371,
            114.5052243,
            121.7846509,
            122.6648195,
            117.0363673,
            106.1069251,
            97.00907745,
            88.3605384,
            78.57480316,
            70.40838551,
            60.39347846,
            55.44546708,
            43.60712934,
            36.37874293,
            33.82592306,
            34.38583847,
            36.64467032,
            36.10426183,
            41.4307655,
            41.61411986,
            41.65051415,
            36.14508385,
            40.4275684,
            54.67701478,
            70.09919795,
            77.77602635,
            null
           ]
          },
          {
           "type": "scatter",
           "x": [
            null,
            null
           ],
           "y": [
            null,
            null
           ]
          },
          {
           "hovertemplate": "Detection<br>(%{x}, %{y})<br>Time: %{meta}",
           "meta": [
            "2025-01-09 14:44:24",
            "2025-01-09 14:44:25",
            "2025-01-09 14:44:26",
            "2025-01-09 14:44:27",
            "2025-01-09 14:44:28",
            "2025-01-09 14:44:29",
            "2025-01-09 14:44:30",
            "2025-01-09 14:44:31",
            "2025-01-09 14:44:32",
            "2025-01-09 14:44:33",
            "2025-01-09 14:44:34",
            "2025-01-09 14:44:35",
            "2025-01-09 14:44:36",
            "2025-01-09 14:44:37",
            "2025-01-09 14:44:38",
            "2025-01-09 14:44:39",
            "2025-01-09 14:44:40",
            "2025-01-09 14:44:41",
            "2025-01-09 14:44:42",
            "2025-01-09 14:44:43",
            "2025-01-09 14:44:44",
            "2025-01-09 14:44:45",
            "2025-01-09 14:44:46",
            "2025-01-09 14:44:47",
            "2025-01-09 14:44:48",
            "2025-01-09 14:44:49",
            "2025-01-09 14:44:50"
           ],
           "type": "scatter",
           "x": [
            77.99730680145169,
            89.32677733462154,
            100.3230024678982,
            110.37502458622242,
            112.51475383083013,
            117.95818981683755,
            127.49727108687048,
            131.06557206113158,
            130.31479947134028,
            133.16915456245104,
            125.18674982593032,
            131.84438020286137,
            131.97892413148077,
            120.12943845523563,
            117.61152431780424,
            108.8764631767969,
            98.39310811884359,
            83.56353285390867,
            71.63086271419168,
            51.61894144676717,
            44.72473490210102,
            43.309761555780945,
            39.453101646722224,
            33.94825416303204,
            26.592306484119824,
            20.117676757592967,
            27.86328315913987,
            null
           ],
           "y": [
            133.79185911959564,
            133.66752662373142,
            112.31996452768946,
            121.44620589336175,
            123.58294566179377,
            120.28822171944623,
            106.37899870804137,
            97.75519592835539,
            87.90179057607384,
            76.66498702762841,
            71.86992112076258,
            58.73394702384867,
            52.19340656745482,
            43.188573527052114,
            39.66432902283251,
            34.671520160373056,
            29.9566429174598,
            36.994277243128515,
            38.79286490665786,
            40.75479599992838,
            38.43886322319879,
            46.0125805425723,
            35.165519932401644,
            42.16608968749065,
            54.201313051889215,
            70.96433823587778,
            75.13605252987823,
            null
           ]
          },
          {
           "type": "scatter",
           "x": [
            null,
            null
           ],
           "y": [
            null,
            null
           ]
          },
          {
           "customdata": [
            "2025-01-09 14:44:24",
            "2025-01-09 14:44:25",
            "2025-01-09 14:44:26",
            "2025-01-09 14:44:27",
            "2025-01-09 14:44:28",
            "2025-01-09 14:44:29",
            "2025-01-09 14:44:30",
            "2025-01-09 14:44:31",
            "2025-01-09 14:44:32",
            "2025-01-09 14:44:33",
            "2025-01-09 14:44:34",
            "2025-01-09 14:44:35",
            "2025-01-09 14:44:36",
            "2025-01-09 14:44:37",
            "2025-01-09 14:44:38",
            "2025-01-09 14:44:39",
            "2025-01-09 14:44:40",
            "2025-01-09 14:44:41",
            "2025-01-09 14:44:42",
            "2025-01-09 14:44:43",
            "2025-01-09 14:44:44",
            "2025-01-09 14:44:45",
            "2025-01-09 14:44:46",
            "2025-01-09 14:44:47",
            "2025-01-09 14:44:48",
            "2025-01-09 14:44:49",
            "2025-01-09 14:44:50"
           ],
           "hovertemplate": "%{meta}<br>(%{x}, %{y})<br>Time: %{customdata}",
           "meta": [
            "GaussianState",
            "GaussianStateUpdate",
            "GaussianStateUpdate",
            "GaussianStateUpdate",
            "GaussianStateUpdate",
            "GaussianStateUpdate",
            "GaussianStateUpdate",
            "GaussianStateUpdate",
            "GaussianStateUpdate",
            "GaussianStateUpdate",
            "GaussianStateUpdate",
            "GaussianStateUpdate",
            "GaussianStateUpdate",
            "GaussianStateUpdate",
            "GaussianStateUpdate",
            "GaussianStateUpdate",
            "GaussianStateUpdate",
            "GaussianStateUpdate",
            "GaussianStateUpdate",
            "GaussianStateUpdate",
            "GaussianStateUpdate",
            "GaussianStateUpdate",
            "GaussianStateUpdate",
            "GaussianStateUpdate",
            "GaussianStateUpdate",
            "GaussianStateUpdate",
            "GaussianStateUpdate"
           ],
           "type": "scatter",
           "x": [
            74.22014502,
            89.22992315256701,
            100.77107487718641,
            110.19651238288311,
            111.90587167496986,
            117.02210478270644,
            127.25365431551246,
            132.20295551989798,
            131.7673489167498,
            133.88777504563453,
            126.6191258457489,
            131.08148094981053,
            132.516111057558,
            121.8925776961243,
            116.22562071431086,
            107.38275445100885,
            95.64458980760368,
            69.74471675666138,
            75.19927001089755,
            54.19203036846665,
            45.51363648487457,
            45.072259760018326,
            47.482090538063524,
            6.77233631771179,
            20.79524834411984,
            15.445157612356503,
            21.53231896314162,
            null
           ],
           "y": [
            131.1193202,
            133.65116665735812,
            112.5795863318055,
            120.62217559225633,
            124.46905075207951,
            121.1429694947251,
            106.43224124468414,
            96.32056275288147,
            86.85309014734673,
            76.36511888941192,
            71.75005913157042,
            60.23221901786741,
            52.79028295813589,
            44.12040575226839,
            39.803591413697,
            35.40793902756456,
            31.102194231631856,
            34.25564863195609,
            39.04404228034326,
            41.056373855401205,
            38.86390603690417,
            44.092185485392896,
            36.81592985718771,
            47.342101819234,
            55.33353342909058,
            72.58448252621204,
            79.44521697812957,
            null
           ]
          }
         ],
         "name": "2025-01-09 14:44:50",
         "traces": [
          0,
          1,
          2,
          3,
          4,
          5
         ]
        },
        {
         "data": [
          {
           "type": "scatter",
           "x": [
            0,
            0
           ],
           "y": [
            0,
            0
           ]
          },
          {
           "hovertemplate": "GroundTruthState<br>(%{x}, %{y})<br>Time: %{meta}",
           "meta": [
            "2025-01-09 14:44:24",
            "2025-01-09 14:44:25",
            "2025-01-09 14:44:26",
            "2025-01-09 14:44:27",
            "2025-01-09 14:44:28",
            "2025-01-09 14:44:29",
            "2025-01-09 14:44:30",
            "2025-01-09 14:44:31",
            "2025-01-09 14:44:32",
            "2025-01-09 14:44:33",
            "2025-01-09 14:44:34",
            "2025-01-09 14:44:35",
            "2025-01-09 14:44:36",
            "2025-01-09 14:44:37",
            "2025-01-09 14:44:38",
            "2025-01-09 14:44:39",
            "2025-01-09 14:44:40",
            "2025-01-09 14:44:41",
            "2025-01-09 14:44:42",
            "2025-01-09 14:44:43",
            "2025-01-09 14:44:44",
            "2025-01-09 14:44:45",
            "2025-01-09 14:44:46",
            "2025-01-09 14:44:47",
            "2025-01-09 14:44:48",
            "2025-01-09 14:44:49",
            "2025-01-09 14:44:50",
            "2025-01-09 14:44:51"
           ],
           "type": "scatter",
           "x": [
            74.05276584,
            87.13825267,
            96.14701585,
            108.2505623,
            112.7455582,
            117.6360986,
            125.795539,
            130.0730637,
            126.9739371,
            132.4691139,
            130.8954086,
            129.9114421,
            126.9035985,
            120.0271193,
            114.1841258,
            108.5299902,
            100.3782574,
            84.34148807,
            68.87984912,
            52.48503054,
            47.06937061,
            47.12509769,
            40.59271857,
            36.74958975,
            30.20109178,
            22.12000086,
            29.00547817,
            29.88142975,
            null
           ],
           "y": [
            132.8970804,
            128.6567371,
            114.5052243,
            121.7846509,
            122.6648195,
            117.0363673,
            106.1069251,
            97.00907745,
            88.3605384,
            78.57480316,
            70.40838551,
            60.39347846,
            55.44546708,
            43.60712934,
            36.37874293,
            33.82592306,
            34.38583847,
            36.64467032,
            36.10426183,
            41.4307655,
            41.61411986,
            41.65051415,
            36.14508385,
            40.4275684,
            54.67701478,
            70.09919795,
            77.77602635,
            78.17718237,
            null
           ]
          },
          {
           "type": "scatter",
           "x": [
            null,
            null
           ],
           "y": [
            null,
            null
           ]
          },
          {
           "hovertemplate": "Detection<br>(%{x}, %{y})<br>Time: %{meta}",
           "meta": [
            "2025-01-09 14:44:24",
            "2025-01-09 14:44:25",
            "2025-01-09 14:44:26",
            "2025-01-09 14:44:27",
            "2025-01-09 14:44:28",
            "2025-01-09 14:44:29",
            "2025-01-09 14:44:30",
            "2025-01-09 14:44:31",
            "2025-01-09 14:44:32",
            "2025-01-09 14:44:33",
            "2025-01-09 14:44:34",
            "2025-01-09 14:44:35",
            "2025-01-09 14:44:36",
            "2025-01-09 14:44:37",
            "2025-01-09 14:44:38",
            "2025-01-09 14:44:39",
            "2025-01-09 14:44:40",
            "2025-01-09 14:44:41",
            "2025-01-09 14:44:42",
            "2025-01-09 14:44:43",
            "2025-01-09 14:44:44",
            "2025-01-09 14:44:45",
            "2025-01-09 14:44:46",
            "2025-01-09 14:44:47",
            "2025-01-09 14:44:48",
            "2025-01-09 14:44:49",
            "2025-01-09 14:44:50",
            "2025-01-09 14:44:51"
           ],
           "type": "scatter",
           "x": [
            77.99730680145169,
            89.32677733462154,
            100.3230024678982,
            110.37502458622242,
            112.51475383083013,
            117.95818981683755,
            127.49727108687048,
            131.06557206113158,
            130.31479947134028,
            133.16915456245104,
            125.18674982593032,
            131.84438020286137,
            131.97892413148077,
            120.12943845523563,
            117.61152431780424,
            108.8764631767969,
            98.39310811884359,
            83.56353285390867,
            71.63086271419168,
            51.61894144676717,
            44.72473490210102,
            43.309761555780945,
            39.453101646722224,
            33.94825416303204,
            26.592306484119824,
            20.117676757592967,
            27.86328315913987,
            29.818412371677347,
            null
           ],
           "y": [
            133.79185911959564,
            133.66752662373142,
            112.31996452768946,
            121.44620589336175,
            123.58294566179377,
            120.28822171944623,
            106.37899870804137,
            97.75519592835539,
            87.90179057607384,
            76.66498702762841,
            71.86992112076258,
            58.73394702384867,
            52.19340656745482,
            43.188573527052114,
            39.66432902283251,
            34.671520160373056,
            29.9566429174598,
            36.994277243128515,
            38.79286490665786,
            40.75479599992838,
            38.43886322319879,
            46.0125805425723,
            35.165519932401644,
            42.16608968749065,
            54.201313051889215,
            70.96433823587778,
            75.13605252987823,
            79.13496154943564,
            null
           ]
          },
          {
           "type": "scatter",
           "x": [
            null,
            null
           ],
           "y": [
            null,
            null
           ]
          },
          {
           "customdata": [
            "2025-01-09 14:44:24",
            "2025-01-09 14:44:25",
            "2025-01-09 14:44:26",
            "2025-01-09 14:44:27",
            "2025-01-09 14:44:28",
            "2025-01-09 14:44:29",
            "2025-01-09 14:44:30",
            "2025-01-09 14:44:31",
            "2025-01-09 14:44:32",
            "2025-01-09 14:44:33",
            "2025-01-09 14:44:34",
            "2025-01-09 14:44:35",
            "2025-01-09 14:44:36",
            "2025-01-09 14:44:37",
            "2025-01-09 14:44:38",
            "2025-01-09 14:44:39",
            "2025-01-09 14:44:40",
            "2025-01-09 14:44:41",
            "2025-01-09 14:44:42",
            "2025-01-09 14:44:43",
            "2025-01-09 14:44:44",
            "2025-01-09 14:44:45",
            "2025-01-09 14:44:46",
            "2025-01-09 14:44:47",
            "2025-01-09 14:44:48",
            "2025-01-09 14:44:49",
            "2025-01-09 14:44:50",
            "2025-01-09 14:44:51"
           ],
           "hovertemplate": "%{meta}<br>(%{x}, %{y})<br>Time: %{customdata}",
           "meta": [
            "GaussianState",
            "GaussianStateUpdate",
            "GaussianStateUpdate",
            "GaussianStateUpdate",
            "GaussianStateUpdate",
            "GaussianStateUpdate",
            "GaussianStateUpdate",
            "GaussianStateUpdate",
            "GaussianStateUpdate",
            "GaussianStateUpdate",
            "GaussianStateUpdate",
            "GaussianStateUpdate",
            "GaussianStateUpdate",
            "GaussianStateUpdate",
            "GaussianStateUpdate",
            "GaussianStateUpdate",
            "GaussianStateUpdate",
            "GaussianStateUpdate",
            "GaussianStateUpdate",
            "GaussianStateUpdate",
            "GaussianStateUpdate",
            "GaussianStateUpdate",
            "GaussianStateUpdate",
            "GaussianStateUpdate",
            "GaussianStateUpdate",
            "GaussianStateUpdate",
            "GaussianStateUpdate",
            "GaussianStateUpdate"
           ],
           "type": "scatter",
           "x": [
            74.22014502,
            89.22992315256701,
            100.77107487718641,
            110.19651238288311,
            111.90587167496986,
            117.02210478270644,
            127.25365431551246,
            132.20295551989798,
            131.7673489167498,
            133.88777504563453,
            126.6191258457489,
            131.08148094981053,
            132.516111057558,
            121.8925776961243,
            116.22562071431086,
            107.38275445100885,
            95.64458980760368,
            69.74471675666138,
            75.19927001089755,
            54.19203036846665,
            45.51363648487457,
            45.072259760018326,
            47.482090538063524,
            6.77233631771179,
            20.79524834411984,
            15.445157612356503,
            21.53231896314162,
            26.025575840940434,
            null
           ],
           "y": [
            131.1193202,
            133.65116665735812,
            112.5795863318055,
            120.62217559225633,
            124.46905075207951,
            121.1429694947251,
            106.43224124468414,
            96.32056275288147,
            86.85309014734673,
            76.36511888941192,
            71.75005913157042,
            60.23221901786741,
            52.79028295813589,
            44.12040575226839,
            39.803591413697,
            35.40793902756456,
            31.102194231631856,
            34.25564863195609,
            39.04404228034326,
            41.056373855401205,
            38.86390603690417,
            44.092185485392896,
            36.81592985718771,
            47.342101819234,
            55.33353342909058,
            72.58448252621204,
            79.44521697812957,
            82.34176023182467,
            null
           ]
          }
         ],
         "name": "2025-01-09 14:44:51",
         "traces": [
          0,
          1,
          2,
          3,
          4,
          5
         ]
        },
        {
         "data": [
          {
           "type": "scatter",
           "x": [
            0,
            0
           ],
           "y": [
            0,
            0
           ]
          },
          {
           "hovertemplate": "GroundTruthState<br>(%{x}, %{y})<br>Time: %{meta}",
           "meta": [
            "2025-01-09 14:44:24",
            "2025-01-09 14:44:25",
            "2025-01-09 14:44:26",
            "2025-01-09 14:44:27",
            "2025-01-09 14:44:28",
            "2025-01-09 14:44:29",
            "2025-01-09 14:44:30",
            "2025-01-09 14:44:31",
            "2025-01-09 14:44:32",
            "2025-01-09 14:44:33",
            "2025-01-09 14:44:34",
            "2025-01-09 14:44:35",
            "2025-01-09 14:44:36",
            "2025-01-09 14:44:37",
            "2025-01-09 14:44:38",
            "2025-01-09 14:44:39",
            "2025-01-09 14:44:40",
            "2025-01-09 14:44:41",
            "2025-01-09 14:44:42",
            "2025-01-09 14:44:43",
            "2025-01-09 14:44:44",
            "2025-01-09 14:44:45",
            "2025-01-09 14:44:46",
            "2025-01-09 14:44:47",
            "2025-01-09 14:44:48",
            "2025-01-09 14:44:49",
            "2025-01-09 14:44:50",
            "2025-01-09 14:44:51",
            "2025-01-09 14:44:52"
           ],
           "type": "scatter",
           "x": [
            74.05276584,
            87.13825267,
            96.14701585,
            108.2505623,
            112.7455582,
            117.6360986,
            125.795539,
            130.0730637,
            126.9739371,
            132.4691139,
            130.8954086,
            129.9114421,
            126.9035985,
            120.0271193,
            114.1841258,
            108.5299902,
            100.3782574,
            84.34148807,
            68.87984912,
            52.48503054,
            47.06937061,
            47.12509769,
            40.59271857,
            36.74958975,
            30.20109178,
            22.12000086,
            29.00547817,
            29.88142975,
            28.19049856,
            null
           ],
           "y": [
            132.8970804,
            128.6567371,
            114.5052243,
            121.7846509,
            122.6648195,
            117.0363673,
            106.1069251,
            97.00907745,
            88.3605384,
            78.57480316,
            70.40838551,
            60.39347846,
            55.44546708,
            43.60712934,
            36.37874293,
            33.82592306,
            34.38583847,
            36.64467032,
            36.10426183,
            41.4307655,
            41.61411986,
            41.65051415,
            36.14508385,
            40.4275684,
            54.67701478,
            70.09919795,
            77.77602635,
            78.17718237,
            83.34510835,
            null
           ]
          },
          {
           "type": "scatter",
           "x": [
            null,
            null
           ],
           "y": [
            null,
            null
           ]
          },
          {
           "hovertemplate": "Detection<br>(%{x}, %{y})<br>Time: %{meta}",
           "meta": [
            "2025-01-09 14:44:24",
            "2025-01-09 14:44:25",
            "2025-01-09 14:44:26",
            "2025-01-09 14:44:27",
            "2025-01-09 14:44:28",
            "2025-01-09 14:44:29",
            "2025-01-09 14:44:30",
            "2025-01-09 14:44:31",
            "2025-01-09 14:44:32",
            "2025-01-09 14:44:33",
            "2025-01-09 14:44:34",
            "2025-01-09 14:44:35",
            "2025-01-09 14:44:36",
            "2025-01-09 14:44:37",
            "2025-01-09 14:44:38",
            "2025-01-09 14:44:39",
            "2025-01-09 14:44:40",
            "2025-01-09 14:44:41",
            "2025-01-09 14:44:42",
            "2025-01-09 14:44:43",
            "2025-01-09 14:44:44",
            "2025-01-09 14:44:45",
            "2025-01-09 14:44:46",
            "2025-01-09 14:44:47",
            "2025-01-09 14:44:48",
            "2025-01-09 14:44:49",
            "2025-01-09 14:44:50",
            "2025-01-09 14:44:51",
            "2025-01-09 14:44:52"
           ],
           "type": "scatter",
           "x": [
            77.99730680145169,
            89.32677733462154,
            100.3230024678982,
            110.37502458622242,
            112.51475383083013,
            117.95818981683755,
            127.49727108687048,
            131.06557206113158,
            130.31479947134028,
            133.16915456245104,
            125.18674982593032,
            131.84438020286137,
            131.97892413148077,
            120.12943845523563,
            117.61152431780424,
            108.8764631767969,
            98.39310811884359,
            83.56353285390867,
            71.63086271419168,
            51.61894144676717,
            44.72473490210102,
            43.309761555780945,
            39.453101646722224,
            33.94825416303204,
            26.592306484119824,
            20.117676757592967,
            27.86328315913987,
            29.818412371677347,
            28.339235590923234,
            null
           ],
           "y": [
            133.79185911959564,
            133.66752662373142,
            112.31996452768946,
            121.44620589336175,
            123.58294566179377,
            120.28822171944623,
            106.37899870804137,
            97.75519592835539,
            87.90179057607384,
            76.66498702762841,
            71.86992112076258,
            58.73394702384867,
            52.19340656745482,
            43.188573527052114,
            39.66432902283251,
            34.671520160373056,
            29.9566429174598,
            36.994277243128515,
            38.79286490665786,
            40.75479599992838,
            38.43886322319879,
            46.0125805425723,
            35.165519932401644,
            42.16608968749065,
            54.201313051889215,
            70.96433823587778,
            75.13605252987823,
            79.13496154943564,
            84.02145607462953,
            null
           ]
          },
          {
           "type": "scatter",
           "x": [
            null,
            null
           ],
           "y": [
            null,
            null
           ]
          },
          {
           "customdata": [
            "2025-01-09 14:44:24",
            "2025-01-09 14:44:25",
            "2025-01-09 14:44:26",
            "2025-01-09 14:44:27",
            "2025-01-09 14:44:28",
            "2025-01-09 14:44:29",
            "2025-01-09 14:44:30",
            "2025-01-09 14:44:31",
            "2025-01-09 14:44:32",
            "2025-01-09 14:44:33",
            "2025-01-09 14:44:34",
            "2025-01-09 14:44:35",
            "2025-01-09 14:44:36",
            "2025-01-09 14:44:37",
            "2025-01-09 14:44:38",
            "2025-01-09 14:44:39",
            "2025-01-09 14:44:40",
            "2025-01-09 14:44:41",
            "2025-01-09 14:44:42",
            "2025-01-09 14:44:43",
            "2025-01-09 14:44:44",
            "2025-01-09 14:44:45",
            "2025-01-09 14:44:46",
            "2025-01-09 14:44:47",
            "2025-01-09 14:44:48",
            "2025-01-09 14:44:49",
            "2025-01-09 14:44:50",
            "2025-01-09 14:44:51",
            "2025-01-09 14:44:52"
           ],
           "hovertemplate": "%{meta}<br>(%{x}, %{y})<br>Time: %{customdata}",
           "meta": [
            "GaussianState",
            "GaussianStateUpdate",
            "GaussianStateUpdate",
            "GaussianStateUpdate",
            "GaussianStateUpdate",
            "GaussianStateUpdate",
            "GaussianStateUpdate",
            "GaussianStateUpdate",
            "GaussianStateUpdate",
            "GaussianStateUpdate",
            "GaussianStateUpdate",
            "GaussianStateUpdate",
            "GaussianStateUpdate",
            "GaussianStateUpdate",
            "GaussianStateUpdate",
            "GaussianStateUpdate",
            "GaussianStateUpdate",
            "GaussianStateUpdate",
            "GaussianStateUpdate",
            "GaussianStateUpdate",
            "GaussianStateUpdate",
            "GaussianStateUpdate",
            "GaussianStateUpdate",
            "GaussianStateUpdate",
            "GaussianStateUpdate",
            "GaussianStateUpdate",
            "GaussianStateUpdate",
            "GaussianStateUpdate",
            "GaussianStateUpdate"
           ],
           "type": "scatter",
           "x": [
            74.22014502,
            89.22992315256701,
            100.77107487718641,
            110.19651238288311,
            111.90587167496986,
            117.02210478270644,
            127.25365431551246,
            132.20295551989798,
            131.7673489167498,
            133.88777504563453,
            126.6191258457489,
            131.08148094981053,
            132.516111057558,
            121.8925776961243,
            116.22562071431086,
            107.38275445100885,
            95.64458980760368,
            69.74471675666138,
            75.19927001089755,
            54.19203036846665,
            45.51363648487457,
            45.072259760018326,
            47.482090538063524,
            6.77233631771179,
            20.79524834411984,
            15.445157612356503,
            21.53231896314162,
            26.025575840940434,
            26.757285025078122,
            null
           ],
           "y": [
            131.1193202,
            133.65116665735812,
            112.5795863318055,
            120.62217559225633,
            124.46905075207951,
            121.1429694947251,
            106.43224124468414,
            96.32056275288147,
            86.85309014734673,
            76.36511888941192,
            71.75005913157042,
            60.23221901786741,
            52.79028295813589,
            44.12040575226839,
            39.803591413697,
            35.40793902756456,
            31.102194231631856,
            34.25564863195609,
            39.04404228034326,
            41.056373855401205,
            38.86390603690417,
            44.092185485392896,
            36.81592985718771,
            47.342101819234,
            55.33353342909058,
            72.58448252621204,
            79.44521697812957,
            82.34176023182467,
            84.73037917594036,
            null
           ]
          }
         ],
         "name": "2025-01-09 14:44:52",
         "traces": [
          0,
          1,
          2,
          3,
          4,
          5
         ]
        },
        {
         "data": [
          {
           "type": "scatter",
           "x": [
            0,
            0
           ],
           "y": [
            0,
            0
           ]
          },
          {
           "hovertemplate": "GroundTruthState<br>(%{x}, %{y})<br>Time: %{meta}",
           "meta": [
            "2025-01-09 14:44:24",
            "2025-01-09 14:44:25",
            "2025-01-09 14:44:26",
            "2025-01-09 14:44:27",
            "2025-01-09 14:44:28",
            "2025-01-09 14:44:29",
            "2025-01-09 14:44:30",
            "2025-01-09 14:44:31",
            "2025-01-09 14:44:32",
            "2025-01-09 14:44:33",
            "2025-01-09 14:44:34",
            "2025-01-09 14:44:35",
            "2025-01-09 14:44:36",
            "2025-01-09 14:44:37",
            "2025-01-09 14:44:38",
            "2025-01-09 14:44:39",
            "2025-01-09 14:44:40",
            "2025-01-09 14:44:41",
            "2025-01-09 14:44:42",
            "2025-01-09 14:44:43",
            "2025-01-09 14:44:44",
            "2025-01-09 14:44:45",
            "2025-01-09 14:44:46",
            "2025-01-09 14:44:47",
            "2025-01-09 14:44:48",
            "2025-01-09 14:44:49",
            "2025-01-09 14:44:50",
            "2025-01-09 14:44:51",
            "2025-01-09 14:44:52",
            "2025-01-09 14:44:53"
           ],
           "type": "scatter",
           "x": [
            74.05276584,
            87.13825267,
            96.14701585,
            108.2505623,
            112.7455582,
            117.6360986,
            125.795539,
            130.0730637,
            126.9739371,
            132.4691139,
            130.8954086,
            129.9114421,
            126.9035985,
            120.0271193,
            114.1841258,
            108.5299902,
            100.3782574,
            84.34148807,
            68.87984912,
            52.48503054,
            47.06937061,
            47.12509769,
            40.59271857,
            36.74958975,
            30.20109178,
            22.12000086,
            29.00547817,
            29.88142975,
            28.19049856,
            25.30487882,
            null
           ],
           "y": [
            132.8970804,
            128.6567371,
            114.5052243,
            121.7846509,
            122.6648195,
            117.0363673,
            106.1069251,
            97.00907745,
            88.3605384,
            78.57480316,
            70.40838551,
            60.39347846,
            55.44546708,
            43.60712934,
            36.37874293,
            33.82592306,
            34.38583847,
            36.64467032,
            36.10426183,
            41.4307655,
            41.61411986,
            41.65051415,
            36.14508385,
            40.4275684,
            54.67701478,
            70.09919795,
            77.77602635,
            78.17718237,
            83.34510835,
            99.35497826,
            null
           ]
          },
          {
           "type": "scatter",
           "x": [
            null,
            null
           ],
           "y": [
            null,
            null
           ]
          },
          {
           "hovertemplate": "Detection<br>(%{x}, %{y})<br>Time: %{meta}",
           "meta": [
            "2025-01-09 14:44:24",
            "2025-01-09 14:44:25",
            "2025-01-09 14:44:26",
            "2025-01-09 14:44:27",
            "2025-01-09 14:44:28",
            "2025-01-09 14:44:29",
            "2025-01-09 14:44:30",
            "2025-01-09 14:44:31",
            "2025-01-09 14:44:32",
            "2025-01-09 14:44:33",
            "2025-01-09 14:44:34",
            "2025-01-09 14:44:35",
            "2025-01-09 14:44:36",
            "2025-01-09 14:44:37",
            "2025-01-09 14:44:38",
            "2025-01-09 14:44:39",
            "2025-01-09 14:44:40",
            "2025-01-09 14:44:41",
            "2025-01-09 14:44:42",
            "2025-01-09 14:44:43",
            "2025-01-09 14:44:44",
            "2025-01-09 14:44:45",
            "2025-01-09 14:44:46",
            "2025-01-09 14:44:47",
            "2025-01-09 14:44:48",
            "2025-01-09 14:44:49",
            "2025-01-09 14:44:50",
            "2025-01-09 14:44:51",
            "2025-01-09 14:44:52",
            "2025-01-09 14:44:53"
           ],
           "type": "scatter",
           "x": [
            77.99730680145169,
            89.32677733462154,
            100.3230024678982,
            110.37502458622242,
            112.51475383083013,
            117.95818981683755,
            127.49727108687048,
            131.06557206113158,
            130.31479947134028,
            133.16915456245104,
            125.18674982593032,
            131.84438020286137,
            131.97892413148077,
            120.12943845523563,
            117.61152431780424,
            108.8764631767969,
            98.39310811884359,
            83.56353285390867,
            71.63086271419168,
            51.61894144676717,
            44.72473490210102,
            43.309761555780945,
            39.453101646722224,
            33.94825416303204,
            26.592306484119824,
            20.117676757592967,
            27.86328315913987,
            29.818412371677347,
            28.339235590923234,
            23.886491498899375,
            null
           ],
           "y": [
            133.79185911959564,
            133.66752662373142,
            112.31996452768946,
            121.44620589336175,
            123.58294566179377,
            120.28822171944623,
            106.37899870804137,
            97.75519592835539,
            87.90179057607384,
            76.66498702762841,
            71.86992112076258,
            58.73394702384867,
            52.19340656745482,
            43.188573527052114,
            39.66432902283251,
            34.671520160373056,
            29.9566429174598,
            36.994277243128515,
            38.79286490665786,
            40.75479599992838,
            38.43886322319879,
            46.0125805425723,
            35.165519932401644,
            42.16608968749065,
            54.201313051889215,
            70.96433823587778,
            75.13605252987823,
            79.13496154943564,
            84.02145607462953,
            98.54386435461522,
            null
           ]
          },
          {
           "type": "scatter",
           "x": [
            null,
            null
           ],
           "y": [
            null,
            null
           ]
          },
          {
           "customdata": [
            "2025-01-09 14:44:24",
            "2025-01-09 14:44:25",
            "2025-01-09 14:44:26",
            "2025-01-09 14:44:27",
            "2025-01-09 14:44:28",
            "2025-01-09 14:44:29",
            "2025-01-09 14:44:30",
            "2025-01-09 14:44:31",
            "2025-01-09 14:44:32",
            "2025-01-09 14:44:33",
            "2025-01-09 14:44:34",
            "2025-01-09 14:44:35",
            "2025-01-09 14:44:36",
            "2025-01-09 14:44:37",
            "2025-01-09 14:44:38",
            "2025-01-09 14:44:39",
            "2025-01-09 14:44:40",
            "2025-01-09 14:44:41",
            "2025-01-09 14:44:42",
            "2025-01-09 14:44:43",
            "2025-01-09 14:44:44",
            "2025-01-09 14:44:45",
            "2025-01-09 14:44:46",
            "2025-01-09 14:44:47",
            "2025-01-09 14:44:48",
            "2025-01-09 14:44:49",
            "2025-01-09 14:44:50",
            "2025-01-09 14:44:51",
            "2025-01-09 14:44:52",
            "2025-01-09 14:44:53"
           ],
           "hovertemplate": "%{meta}<br>(%{x}, %{y})<br>Time: %{customdata}",
           "meta": [
            "GaussianState",
            "GaussianStateUpdate",
            "GaussianStateUpdate",
            "GaussianStateUpdate",
            "GaussianStateUpdate",
            "GaussianStateUpdate",
            "GaussianStateUpdate",
            "GaussianStateUpdate",
            "GaussianStateUpdate",
            "GaussianStateUpdate",
            "GaussianStateUpdate",
            "GaussianStateUpdate",
            "GaussianStateUpdate",
            "GaussianStateUpdate",
            "GaussianStateUpdate",
            "GaussianStateUpdate",
            "GaussianStateUpdate",
            "GaussianStateUpdate",
            "GaussianStateUpdate",
            "GaussianStateUpdate",
            "GaussianStateUpdate",
            "GaussianStateUpdate",
            "GaussianStateUpdate",
            "GaussianStateUpdate",
            "GaussianStateUpdate",
            "GaussianStateUpdate",
            "GaussianStateUpdate",
            "GaussianStateUpdate",
            "GaussianStateUpdate",
            "GaussianStateUpdate"
           ],
           "type": "scatter",
           "x": [
            74.22014502,
            89.22992315256701,
            100.77107487718641,
            110.19651238288311,
            111.90587167496986,
            117.02210478270644,
            127.25365431551246,
            132.20295551989798,
            131.7673489167498,
            133.88777504563453,
            126.6191258457489,
            131.08148094981053,
            132.516111057558,
            121.8925776961243,
            116.22562071431086,
            107.38275445100885,
            95.64458980760368,
            69.74471675666138,
            75.19927001089755,
            54.19203036846665,
            45.51363648487457,
            45.072259760018326,
            47.482090538063524,
            6.77233631771179,
            20.79524834411984,
            15.445157612356503,
            21.53231896314162,
            26.025575840940434,
            26.757285025078122,
            23.66041685761451,
            null
           ],
           "y": [
            131.1193202,
            133.65116665735812,
            112.5795863318055,
            120.62217559225633,
            124.46905075207951,
            121.1429694947251,
            106.43224124468414,
            96.32056275288147,
            86.85309014734673,
            76.36511888941192,
            71.75005913157042,
            60.23221901786741,
            52.79028295813589,
            44.12040575226839,
            39.803591413697,
            35.40793902756456,
            31.102194231631856,
            34.25564863195609,
            39.04404228034326,
            41.056373855401205,
            38.86390603690417,
            44.092185485392896,
            36.81592985718771,
            47.342101819234,
            55.33353342909058,
            72.58448252621204,
            79.44521697812957,
            82.34176023182467,
            84.73037917594036,
            96.01043950531638,
            null
           ]
          }
         ],
         "name": "2025-01-09 14:44:53",
         "traces": [
          0,
          1,
          2,
          3,
          4,
          5
         ]
        },
        {
         "data": [
          {
           "type": "scatter",
           "x": [
            0,
            0
           ],
           "y": [
            0,
            0
           ]
          },
          {
           "hovertemplate": "GroundTruthState<br>(%{x}, %{y})<br>Time: %{meta}",
           "meta": [
            "2025-01-09 14:44:24",
            "2025-01-09 14:44:25",
            "2025-01-09 14:44:26",
            "2025-01-09 14:44:27",
            "2025-01-09 14:44:28",
            "2025-01-09 14:44:29",
            "2025-01-09 14:44:30",
            "2025-01-09 14:44:31",
            "2025-01-09 14:44:32",
            "2025-01-09 14:44:33",
            "2025-01-09 14:44:34",
            "2025-01-09 14:44:35",
            "2025-01-09 14:44:36",
            "2025-01-09 14:44:37",
            "2025-01-09 14:44:38",
            "2025-01-09 14:44:39",
            "2025-01-09 14:44:40",
            "2025-01-09 14:44:41",
            "2025-01-09 14:44:42",
            "2025-01-09 14:44:43",
            "2025-01-09 14:44:44",
            "2025-01-09 14:44:45",
            "2025-01-09 14:44:46",
            "2025-01-09 14:44:47",
            "2025-01-09 14:44:48",
            "2025-01-09 14:44:49",
            "2025-01-09 14:44:50",
            "2025-01-09 14:44:51",
            "2025-01-09 14:44:52",
            "2025-01-09 14:44:53",
            "2025-01-09 14:44:54"
           ],
           "type": "scatter",
           "x": [
            74.05276584,
            87.13825267,
            96.14701585,
            108.2505623,
            112.7455582,
            117.6360986,
            125.795539,
            130.0730637,
            126.9739371,
            132.4691139,
            130.8954086,
            129.9114421,
            126.9035985,
            120.0271193,
            114.1841258,
            108.5299902,
            100.3782574,
            84.34148807,
            68.87984912,
            52.48503054,
            47.06937061,
            47.12509769,
            40.59271857,
            36.74958975,
            30.20109178,
            22.12000086,
            29.00547817,
            29.88142975,
            28.19049856,
            25.30487882,
            39.32487529,
            null
           ],
           "y": [
            132.8970804,
            128.6567371,
            114.5052243,
            121.7846509,
            122.6648195,
            117.0363673,
            106.1069251,
            97.00907745,
            88.3605384,
            78.57480316,
            70.40838551,
            60.39347846,
            55.44546708,
            43.60712934,
            36.37874293,
            33.82592306,
            34.38583847,
            36.64467032,
            36.10426183,
            41.4307655,
            41.61411986,
            41.65051415,
            36.14508385,
            40.4275684,
            54.67701478,
            70.09919795,
            77.77602635,
            78.17718237,
            83.34510835,
            99.35497826,
            116.3818392,
            null
           ]
          },
          {
           "type": "scatter",
           "x": [
            null,
            null
           ],
           "y": [
            null,
            null
           ]
          },
          {
           "hovertemplate": "Detection<br>(%{x}, %{y})<br>Time: %{meta}",
           "meta": [
            "2025-01-09 14:44:24",
            "2025-01-09 14:44:25",
            "2025-01-09 14:44:26",
            "2025-01-09 14:44:27",
            "2025-01-09 14:44:28",
            "2025-01-09 14:44:29",
            "2025-01-09 14:44:30",
            "2025-01-09 14:44:31",
            "2025-01-09 14:44:32",
            "2025-01-09 14:44:33",
            "2025-01-09 14:44:34",
            "2025-01-09 14:44:35",
            "2025-01-09 14:44:36",
            "2025-01-09 14:44:37",
            "2025-01-09 14:44:38",
            "2025-01-09 14:44:39",
            "2025-01-09 14:44:40",
            "2025-01-09 14:44:41",
            "2025-01-09 14:44:42",
            "2025-01-09 14:44:43",
            "2025-01-09 14:44:44",
            "2025-01-09 14:44:45",
            "2025-01-09 14:44:46",
            "2025-01-09 14:44:47",
            "2025-01-09 14:44:48",
            "2025-01-09 14:44:49",
            "2025-01-09 14:44:50",
            "2025-01-09 14:44:51",
            "2025-01-09 14:44:52",
            "2025-01-09 14:44:53",
            "2025-01-09 14:44:54"
           ],
           "type": "scatter",
           "x": [
            77.99730680145169,
            89.32677733462154,
            100.3230024678982,
            110.37502458622242,
            112.51475383083013,
            117.95818981683755,
            127.49727108687048,
            131.06557206113158,
            130.31479947134028,
            133.16915456245104,
            125.18674982593032,
            131.84438020286137,
            131.97892413148077,
            120.12943845523563,
            117.61152431780424,
            108.8764631767969,
            98.39310811884359,
            83.56353285390867,
            71.63086271419168,
            51.61894144676717,
            44.72473490210102,
            43.309761555780945,
            39.453101646722224,
            33.94825416303204,
            26.592306484119824,
            20.117676757592967,
            27.86328315913987,
            29.818412371677347,
            28.339235590923234,
            23.886491498899375,
            37.821208016593026,
            null
           ],
           "y": [
            133.79185911959564,
            133.66752662373142,
            112.31996452768946,
            121.44620589336175,
            123.58294566179377,
            120.28822171944623,
            106.37899870804137,
            97.75519592835539,
            87.90179057607384,
            76.66498702762841,
            71.86992112076258,
            58.73394702384867,
            52.19340656745482,
            43.188573527052114,
            39.66432902283251,
            34.671520160373056,
            29.9566429174598,
            36.994277243128515,
            38.79286490665786,
            40.75479599992838,
            38.43886322319879,
            46.0125805425723,
            35.165519932401644,
            42.16608968749065,
            54.201313051889215,
            70.96433823587778,
            75.13605252987823,
            79.13496154943564,
            84.02145607462953,
            98.54386435461522,
            115.57785388927039,
            null
           ]
          },
          {
           "type": "scatter",
           "x": [
            null,
            null
           ],
           "y": [
            null,
            null
           ]
          },
          {
           "customdata": [
            "2025-01-09 14:44:24",
            "2025-01-09 14:44:25",
            "2025-01-09 14:44:26",
            "2025-01-09 14:44:27",
            "2025-01-09 14:44:28",
            "2025-01-09 14:44:29",
            "2025-01-09 14:44:30",
            "2025-01-09 14:44:31",
            "2025-01-09 14:44:32",
            "2025-01-09 14:44:33",
            "2025-01-09 14:44:34",
            "2025-01-09 14:44:35",
            "2025-01-09 14:44:36",
            "2025-01-09 14:44:37",
            "2025-01-09 14:44:38",
            "2025-01-09 14:44:39",
            "2025-01-09 14:44:40",
            "2025-01-09 14:44:41",
            "2025-01-09 14:44:42",
            "2025-01-09 14:44:43",
            "2025-01-09 14:44:44",
            "2025-01-09 14:44:45",
            "2025-01-09 14:44:46",
            "2025-01-09 14:44:47",
            "2025-01-09 14:44:48",
            "2025-01-09 14:44:49",
            "2025-01-09 14:44:50",
            "2025-01-09 14:44:51",
            "2025-01-09 14:44:52",
            "2025-01-09 14:44:53",
            "2025-01-09 14:44:54"
           ],
           "hovertemplate": "%{meta}<br>(%{x}, %{y})<br>Time: %{customdata}",
           "meta": [
            "GaussianState",
            "GaussianStateUpdate",
            "GaussianStateUpdate",
            "GaussianStateUpdate",
            "GaussianStateUpdate",
            "GaussianStateUpdate",
            "GaussianStateUpdate",
            "GaussianStateUpdate",
            "GaussianStateUpdate",
            "GaussianStateUpdate",
            "GaussianStateUpdate",
            "GaussianStateUpdate",
            "GaussianStateUpdate",
            "GaussianStateUpdate",
            "GaussianStateUpdate",
            "GaussianStateUpdate",
            "GaussianStateUpdate",
            "GaussianStateUpdate",
            "GaussianStateUpdate",
            "GaussianStateUpdate",
            "GaussianStateUpdate",
            "GaussianStateUpdate",
            "GaussianStateUpdate",
            "GaussianStateUpdate",
            "GaussianStateUpdate",
            "GaussianStateUpdate",
            "GaussianStateUpdate",
            "GaussianStateUpdate",
            "GaussianStateUpdate",
            "GaussianStateUpdate",
            "GaussianStateUpdate"
           ],
           "type": "scatter",
           "x": [
            74.22014502,
            89.22992315256701,
            100.77107487718641,
            110.19651238288311,
            111.90587167496986,
            117.02210478270644,
            127.25365431551246,
            132.20295551989798,
            131.7673489167498,
            133.88777504563453,
            126.6191258457489,
            131.08148094981053,
            132.516111057558,
            121.8925776961243,
            116.22562071431086,
            107.38275445100885,
            95.64458980760368,
            69.74471675666138,
            75.19927001089755,
            54.19203036846665,
            45.51363648487457,
            45.072259760018326,
            47.482090538063524,
            6.77233631771179,
            20.79524834411984,
            15.445157612356503,
            21.53231896314162,
            26.025575840940434,
            26.757285025078122,
            23.66041685761451,
            35.53474288071501,
            null
           ],
           "y": [
            131.1193202,
            133.65116665735812,
            112.5795863318055,
            120.62217559225633,
            124.46905075207951,
            121.1429694947251,
            106.43224124468414,
            96.32056275288147,
            86.85309014734673,
            76.36511888941192,
            71.75005913157042,
            60.23221901786741,
            52.79028295813589,
            44.12040575226839,
            39.803591413697,
            35.40793902756456,
            31.102194231631856,
            34.25564863195609,
            39.04404228034326,
            41.056373855401205,
            38.86390603690417,
            44.092185485392896,
            36.81592985718771,
            47.342101819234,
            55.33353342909058,
            72.58448252621204,
            79.44521697812957,
            82.34176023182467,
            84.73037917594036,
            96.01043950531638,
            113.37986062141945,
            null
           ]
          }
         ],
         "name": "2025-01-09 14:44:54",
         "traces": [
          0,
          1,
          2,
          3,
          4,
          5
         ]
        },
        {
         "data": [
          {
           "type": "scatter",
           "x": [
            0,
            0
           ],
           "y": [
            0,
            0
           ]
          },
          {
           "hovertemplate": "GroundTruthState<br>(%{x}, %{y})<br>Time: %{meta}",
           "meta": [
            "2025-01-09 14:44:24",
            "2025-01-09 14:44:25",
            "2025-01-09 14:44:26",
            "2025-01-09 14:44:27",
            "2025-01-09 14:44:28",
            "2025-01-09 14:44:29",
            "2025-01-09 14:44:30",
            "2025-01-09 14:44:31",
            "2025-01-09 14:44:32",
            "2025-01-09 14:44:33",
            "2025-01-09 14:44:34",
            "2025-01-09 14:44:35",
            "2025-01-09 14:44:36",
            "2025-01-09 14:44:37",
            "2025-01-09 14:44:38",
            "2025-01-09 14:44:39",
            "2025-01-09 14:44:40",
            "2025-01-09 14:44:41",
            "2025-01-09 14:44:42",
            "2025-01-09 14:44:43",
            "2025-01-09 14:44:44",
            "2025-01-09 14:44:45",
            "2025-01-09 14:44:46",
            "2025-01-09 14:44:47",
            "2025-01-09 14:44:48",
            "2025-01-09 14:44:49",
            "2025-01-09 14:44:50",
            "2025-01-09 14:44:51",
            "2025-01-09 14:44:52",
            "2025-01-09 14:44:53",
            "2025-01-09 14:44:54",
            "2025-01-09 14:44:55"
           ],
           "type": "scatter",
           "x": [
            74.05276584,
            87.13825267,
            96.14701585,
            108.2505623,
            112.7455582,
            117.6360986,
            125.795539,
            130.0730637,
            126.9739371,
            132.4691139,
            130.8954086,
            129.9114421,
            126.9035985,
            120.0271193,
            114.1841258,
            108.5299902,
            100.3782574,
            84.34148807,
            68.87984912,
            52.48503054,
            47.06937061,
            47.12509769,
            40.59271857,
            36.74958975,
            30.20109178,
            22.12000086,
            29.00547817,
            29.88142975,
            28.19049856,
            25.30487882,
            39.32487529,
            48.63966392,
            null
           ],
           "y": [
            132.8970804,
            128.6567371,
            114.5052243,
            121.7846509,
            122.6648195,
            117.0363673,
            106.1069251,
            97.00907745,
            88.3605384,
            78.57480316,
            70.40838551,
            60.39347846,
            55.44546708,
            43.60712934,
            36.37874293,
            33.82592306,
            34.38583847,
            36.64467032,
            36.10426183,
            41.4307655,
            41.61411986,
            41.65051415,
            36.14508385,
            40.4275684,
            54.67701478,
            70.09919795,
            77.77602635,
            78.17718237,
            83.34510835,
            99.35497826,
            116.3818392,
            123.6971236,
            null
           ]
          },
          {
           "type": "scatter",
           "x": [
            null,
            null
           ],
           "y": [
            null,
            null
           ]
          },
          {
           "hovertemplate": "Detection<br>(%{x}, %{y})<br>Time: %{meta}",
           "meta": [
            "2025-01-09 14:44:24",
            "2025-01-09 14:44:25",
            "2025-01-09 14:44:26",
            "2025-01-09 14:44:27",
            "2025-01-09 14:44:28",
            "2025-01-09 14:44:29",
            "2025-01-09 14:44:30",
            "2025-01-09 14:44:31",
            "2025-01-09 14:44:32",
            "2025-01-09 14:44:33",
            "2025-01-09 14:44:34",
            "2025-01-09 14:44:35",
            "2025-01-09 14:44:36",
            "2025-01-09 14:44:37",
            "2025-01-09 14:44:38",
            "2025-01-09 14:44:39",
            "2025-01-09 14:44:40",
            "2025-01-09 14:44:41",
            "2025-01-09 14:44:42",
            "2025-01-09 14:44:43",
            "2025-01-09 14:44:44",
            "2025-01-09 14:44:45",
            "2025-01-09 14:44:46",
            "2025-01-09 14:44:47",
            "2025-01-09 14:44:48",
            "2025-01-09 14:44:49",
            "2025-01-09 14:44:50",
            "2025-01-09 14:44:51",
            "2025-01-09 14:44:52",
            "2025-01-09 14:44:53",
            "2025-01-09 14:44:54",
            "2025-01-09 14:44:55"
           ],
           "type": "scatter",
           "x": [
            77.99730680145169,
            89.32677733462154,
            100.3230024678982,
            110.37502458622242,
            112.51475383083013,
            117.95818981683755,
            127.49727108687048,
            131.06557206113158,
            130.31479947134028,
            133.16915456245104,
            125.18674982593032,
            131.84438020286137,
            131.97892413148077,
            120.12943845523563,
            117.61152431780424,
            108.8764631767969,
            98.39310811884359,
            83.56353285390867,
            71.63086271419168,
            51.61894144676717,
            44.72473490210102,
            43.309761555780945,
            39.453101646722224,
            33.94825416303204,
            26.592306484119824,
            20.117676757592967,
            27.86328315913987,
            29.818412371677347,
            28.339235590923234,
            23.886491498899375,
            37.821208016593026,
            46.82141355769738,
            null
           ],
           "y": [
            133.79185911959564,
            133.66752662373142,
            112.31996452768946,
            121.44620589336175,
            123.58294566179377,
            120.28822171944623,
            106.37899870804137,
            97.75519592835539,
            87.90179057607384,
            76.66498702762841,
            71.86992112076258,
            58.73394702384867,
            52.19340656745482,
            43.188573527052114,
            39.66432902283251,
            34.671520160373056,
            29.9566429174598,
            36.994277243128515,
            38.79286490665786,
            40.75479599992838,
            38.43886322319879,
            46.0125805425723,
            35.165519932401644,
            42.16608968749065,
            54.201313051889215,
            70.96433823587778,
            75.13605252987823,
            79.13496154943564,
            84.02145607462953,
            98.54386435461522,
            115.57785388927039,
            119.83703835281113,
            null
           ]
          },
          {
           "type": "scatter",
           "x": [
            null,
            null
           ],
           "y": [
            null,
            null
           ]
          },
          {
           "customdata": [
            "2025-01-09 14:44:24",
            "2025-01-09 14:44:25",
            "2025-01-09 14:44:26",
            "2025-01-09 14:44:27",
            "2025-01-09 14:44:28",
            "2025-01-09 14:44:29",
            "2025-01-09 14:44:30",
            "2025-01-09 14:44:31",
            "2025-01-09 14:44:32",
            "2025-01-09 14:44:33",
            "2025-01-09 14:44:34",
            "2025-01-09 14:44:35",
            "2025-01-09 14:44:36",
            "2025-01-09 14:44:37",
            "2025-01-09 14:44:38",
            "2025-01-09 14:44:39",
            "2025-01-09 14:44:40",
            "2025-01-09 14:44:41",
            "2025-01-09 14:44:42",
            "2025-01-09 14:44:43",
            "2025-01-09 14:44:44",
            "2025-01-09 14:44:45",
            "2025-01-09 14:44:46",
            "2025-01-09 14:44:47",
            "2025-01-09 14:44:48",
            "2025-01-09 14:44:49",
            "2025-01-09 14:44:50",
            "2025-01-09 14:44:51",
            "2025-01-09 14:44:52",
            "2025-01-09 14:44:53",
            "2025-01-09 14:44:54",
            "2025-01-09 14:44:55"
           ],
           "hovertemplate": "%{meta}<br>(%{x}, %{y})<br>Time: %{customdata}",
           "meta": [
            "GaussianState",
            "GaussianStateUpdate",
            "GaussianStateUpdate",
            "GaussianStateUpdate",
            "GaussianStateUpdate",
            "GaussianStateUpdate",
            "GaussianStateUpdate",
            "GaussianStateUpdate",
            "GaussianStateUpdate",
            "GaussianStateUpdate",
            "GaussianStateUpdate",
            "GaussianStateUpdate",
            "GaussianStateUpdate",
            "GaussianStateUpdate",
            "GaussianStateUpdate",
            "GaussianStateUpdate",
            "GaussianStateUpdate",
            "GaussianStateUpdate",
            "GaussianStateUpdate",
            "GaussianStateUpdate",
            "GaussianStateUpdate",
            "GaussianStateUpdate",
            "GaussianStateUpdate",
            "GaussianStateUpdate",
            "GaussianStateUpdate",
            "GaussianStateUpdate",
            "GaussianStateUpdate",
            "GaussianStateUpdate",
            "GaussianStateUpdate",
            "GaussianStateUpdate",
            "GaussianStateUpdate",
            "GaussianStateUpdate"
           ],
           "type": "scatter",
           "x": [
            74.22014502,
            89.22992315256701,
            100.77107487718641,
            110.19651238288311,
            111.90587167496986,
            117.02210478270644,
            127.25365431551246,
            132.20295551989798,
            131.7673489167498,
            133.88777504563453,
            126.6191258457489,
            131.08148094981053,
            132.516111057558,
            121.8925776961243,
            116.22562071431086,
            107.38275445100885,
            95.64458980760368,
            69.74471675666138,
            75.19927001089755,
            54.19203036846665,
            45.51363648487457,
            45.072259760018326,
            47.482090538063524,
            6.77233631771179,
            20.79524834411984,
            15.445157612356503,
            21.53231896314162,
            26.025575840940434,
            26.757285025078122,
            23.66041685761451,
            35.53474288071501,
            47.871194426039786,
            null
           ],
           "y": [
            131.1193202,
            133.65116665735812,
            112.5795863318055,
            120.62217559225633,
            124.46905075207951,
            121.1429694947251,
            106.43224124468414,
            96.32056275288147,
            86.85309014734673,
            76.36511888941192,
            71.75005913157042,
            60.23221901786741,
            52.79028295813589,
            44.12040575226839,
            39.803591413697,
            35.40793902756456,
            31.102194231631856,
            34.25564863195609,
            39.04404228034326,
            41.056373855401205,
            38.86390603690417,
            44.092185485392896,
            36.81592985718771,
            47.342101819234,
            55.33353342909058,
            72.58448252621204,
            79.44521697812957,
            82.34176023182467,
            84.73037917594036,
            96.01043950531638,
            113.37986062141945,
            121.00037436635544,
            null
           ]
          }
         ],
         "name": "2025-01-09 14:44:55",
         "traces": [
          0,
          1,
          2,
          3,
          4,
          5
         ]
        },
        {
         "data": [
          {
           "type": "scatter",
           "x": [
            0,
            0
           ],
           "y": [
            0,
            0
           ]
          },
          {
           "hovertemplate": "GroundTruthState<br>(%{x}, %{y})<br>Time: %{meta}",
           "meta": [
            "2025-01-09 14:44:24",
            "2025-01-09 14:44:25",
            "2025-01-09 14:44:26",
            "2025-01-09 14:44:27",
            "2025-01-09 14:44:28",
            "2025-01-09 14:44:29",
            "2025-01-09 14:44:30",
            "2025-01-09 14:44:31",
            "2025-01-09 14:44:32",
            "2025-01-09 14:44:33",
            "2025-01-09 14:44:34",
            "2025-01-09 14:44:35",
            "2025-01-09 14:44:36",
            "2025-01-09 14:44:37",
            "2025-01-09 14:44:38",
            "2025-01-09 14:44:39",
            "2025-01-09 14:44:40",
            "2025-01-09 14:44:41",
            "2025-01-09 14:44:42",
            "2025-01-09 14:44:43",
            "2025-01-09 14:44:44",
            "2025-01-09 14:44:45",
            "2025-01-09 14:44:46",
            "2025-01-09 14:44:47",
            "2025-01-09 14:44:48",
            "2025-01-09 14:44:49",
            "2025-01-09 14:44:50",
            "2025-01-09 14:44:51",
            "2025-01-09 14:44:52",
            "2025-01-09 14:44:53",
            "2025-01-09 14:44:54",
            "2025-01-09 14:44:55",
            "2025-01-09 14:44:56"
           ],
           "type": "scatter",
           "x": [
            74.05276584,
            87.13825267,
            96.14701585,
            108.2505623,
            112.7455582,
            117.6360986,
            125.795539,
            130.0730637,
            126.9739371,
            132.4691139,
            130.8954086,
            129.9114421,
            126.9035985,
            120.0271193,
            114.1841258,
            108.5299902,
            100.3782574,
            84.34148807,
            68.87984912,
            52.48503054,
            47.06937061,
            47.12509769,
            40.59271857,
            36.74958975,
            30.20109178,
            22.12000086,
            29.00547817,
            29.88142975,
            28.19049856,
            25.30487882,
            39.32487529,
            48.63966392,
            49.31356593,
            null
           ],
           "y": [
            132.8970804,
            128.6567371,
            114.5052243,
            121.7846509,
            122.6648195,
            117.0363673,
            106.1069251,
            97.00907745,
            88.3605384,
            78.57480316,
            70.40838551,
            60.39347846,
            55.44546708,
            43.60712934,
            36.37874293,
            33.82592306,
            34.38583847,
            36.64467032,
            36.10426183,
            41.4307655,
            41.61411986,
            41.65051415,
            36.14508385,
            40.4275684,
            54.67701478,
            70.09919795,
            77.77602635,
            78.17718237,
            83.34510835,
            99.35497826,
            116.3818392,
            123.6971236,
            123.6238135,
            null
           ]
          },
          {
           "type": "scatter",
           "x": [
            null,
            null
           ],
           "y": [
            null,
            null
           ]
          },
          {
           "hovertemplate": "Detection<br>(%{x}, %{y})<br>Time: %{meta}",
           "meta": [
            "2025-01-09 14:44:24",
            "2025-01-09 14:44:25",
            "2025-01-09 14:44:26",
            "2025-01-09 14:44:27",
            "2025-01-09 14:44:28",
            "2025-01-09 14:44:29",
            "2025-01-09 14:44:30",
            "2025-01-09 14:44:31",
            "2025-01-09 14:44:32",
            "2025-01-09 14:44:33",
            "2025-01-09 14:44:34",
            "2025-01-09 14:44:35",
            "2025-01-09 14:44:36",
            "2025-01-09 14:44:37",
            "2025-01-09 14:44:38",
            "2025-01-09 14:44:39",
            "2025-01-09 14:44:40",
            "2025-01-09 14:44:41",
            "2025-01-09 14:44:42",
            "2025-01-09 14:44:43",
            "2025-01-09 14:44:44",
            "2025-01-09 14:44:45",
            "2025-01-09 14:44:46",
            "2025-01-09 14:44:47",
            "2025-01-09 14:44:48",
            "2025-01-09 14:44:49",
            "2025-01-09 14:44:50",
            "2025-01-09 14:44:51",
            "2025-01-09 14:44:52",
            "2025-01-09 14:44:53",
            "2025-01-09 14:44:54",
            "2025-01-09 14:44:55",
            "2025-01-09 14:44:56"
           ],
           "type": "scatter",
           "x": [
            77.99730680145169,
            89.32677733462154,
            100.3230024678982,
            110.37502458622242,
            112.51475383083013,
            117.95818981683755,
            127.49727108687048,
            131.06557206113158,
            130.31479947134028,
            133.16915456245104,
            125.18674982593032,
            131.84438020286137,
            131.97892413148077,
            120.12943845523563,
            117.61152431780424,
            108.8764631767969,
            98.39310811884359,
            83.56353285390867,
            71.63086271419168,
            51.61894144676717,
            44.72473490210102,
            43.309761555780945,
            39.453101646722224,
            33.94825416303204,
            26.592306484119824,
            20.117676757592967,
            27.86328315913987,
            29.818412371677347,
            28.339235590923234,
            23.886491498899375,
            37.821208016593026,
            46.82141355769738,
            49.710302845064945,
            null
           ],
           "y": [
            133.79185911959564,
            133.66752662373142,
            112.31996452768946,
            121.44620589336175,
            123.58294566179377,
            120.28822171944623,
            106.37899870804137,
            97.75519592835539,
            87.90179057607384,
            76.66498702762841,
            71.86992112076258,
            58.73394702384867,
            52.19340656745482,
            43.188573527052114,
            39.66432902283251,
            34.671520160373056,
            29.9566429174598,
            36.994277243128515,
            38.79286490665786,
            40.75479599992838,
            38.43886322319879,
            46.0125805425723,
            35.165519932401644,
            42.16608968749065,
            54.201313051889215,
            70.96433823587778,
            75.13605252987823,
            79.13496154943564,
            84.02145607462953,
            98.54386435461522,
            115.57785388927039,
            119.83703835281113,
            122.72540401457482,
            null
           ]
          },
          {
           "type": "scatter",
           "x": [
            null,
            null
           ],
           "y": [
            null,
            null
           ]
          },
          {
           "customdata": [
            "2025-01-09 14:44:24",
            "2025-01-09 14:44:25",
            "2025-01-09 14:44:26",
            "2025-01-09 14:44:27",
            "2025-01-09 14:44:28",
            "2025-01-09 14:44:29",
            "2025-01-09 14:44:30",
            "2025-01-09 14:44:31",
            "2025-01-09 14:44:32",
            "2025-01-09 14:44:33",
            "2025-01-09 14:44:34",
            "2025-01-09 14:44:35",
            "2025-01-09 14:44:36",
            "2025-01-09 14:44:37",
            "2025-01-09 14:44:38",
            "2025-01-09 14:44:39",
            "2025-01-09 14:44:40",
            "2025-01-09 14:44:41",
            "2025-01-09 14:44:42",
            "2025-01-09 14:44:43",
            "2025-01-09 14:44:44",
            "2025-01-09 14:44:45",
            "2025-01-09 14:44:46",
            "2025-01-09 14:44:47",
            "2025-01-09 14:44:48",
            "2025-01-09 14:44:49",
            "2025-01-09 14:44:50",
            "2025-01-09 14:44:51",
            "2025-01-09 14:44:52",
            "2025-01-09 14:44:53",
            "2025-01-09 14:44:54",
            "2025-01-09 14:44:55",
            "2025-01-09 14:44:56"
           ],
           "hovertemplate": "%{meta}<br>(%{x}, %{y})<br>Time: %{customdata}",
           "meta": [
            "GaussianState",
            "GaussianStateUpdate",
            "GaussianStateUpdate",
            "GaussianStateUpdate",
            "GaussianStateUpdate",
            "GaussianStateUpdate",
            "GaussianStateUpdate",
            "GaussianStateUpdate",
            "GaussianStateUpdate",
            "GaussianStateUpdate",
            "GaussianStateUpdate",
            "GaussianStateUpdate",
            "GaussianStateUpdate",
            "GaussianStateUpdate",
            "GaussianStateUpdate",
            "GaussianStateUpdate",
            "GaussianStateUpdate",
            "GaussianStateUpdate",
            "GaussianStateUpdate",
            "GaussianStateUpdate",
            "GaussianStateUpdate",
            "GaussianStateUpdate",
            "GaussianStateUpdate",
            "GaussianStateUpdate",
            "GaussianStateUpdate",
            "GaussianStateUpdate",
            "GaussianStateUpdate",
            "GaussianStateUpdate",
            "GaussianStateUpdate",
            "GaussianStateUpdate",
            "GaussianStateUpdate",
            "GaussianStateUpdate",
            "GaussianStateUpdate"
           ],
           "type": "scatter",
           "x": [
            74.22014502,
            89.22992315256701,
            100.77107487718641,
            110.19651238288311,
            111.90587167496986,
            117.02210478270644,
            127.25365431551246,
            132.20295551989798,
            131.7673489167498,
            133.88777504563453,
            126.6191258457489,
            131.08148094981053,
            132.516111057558,
            121.8925776961243,
            116.22562071431086,
            107.38275445100885,
            95.64458980760368,
            69.74471675666138,
            75.19927001089755,
            54.19203036846665,
            45.51363648487457,
            45.072259760018326,
            47.482090538063524,
            6.77233631771179,
            20.79524834411984,
            15.445157612356503,
            21.53231896314162,
            26.025575840940434,
            26.757285025078122,
            23.66041685761451,
            35.53474288071501,
            47.871194426039786,
            53.287893936954404,
            null
           ],
           "y": [
            131.1193202,
            133.65116665735812,
            112.5795863318055,
            120.62217559225633,
            124.46905075207951,
            121.1429694947251,
            106.43224124468414,
            96.32056275288147,
            86.85309014734673,
            76.36511888941192,
            71.75005913157042,
            60.23221901786741,
            52.79028295813589,
            44.12040575226839,
            39.803591413697,
            35.40793902756456,
            31.102194231631856,
            34.25564863195609,
            39.04404228034326,
            41.056373855401205,
            38.86390603690417,
            44.092185485392896,
            36.81592985718771,
            47.342101819234,
            55.33353342909058,
            72.58448252621204,
            79.44521697812957,
            82.34176023182467,
            84.73037917594036,
            96.01043950531638,
            113.37986062141945,
            121.00037436635544,
            123.66206080149924,
            null
           ]
          }
         ],
         "name": "2025-01-09 14:44:56",
         "traces": [
          0,
          1,
          2,
          3,
          4,
          5
         ]
        },
        {
         "data": [
          {
           "type": "scatter",
           "x": [
            0,
            0
           ],
           "y": [
            0,
            0
           ]
          },
          {
           "hovertemplate": "GroundTruthState<br>(%{x}, %{y})<br>Time: %{meta}",
           "meta": [
            "2025-01-09 14:44:24",
            "2025-01-09 14:44:25",
            "2025-01-09 14:44:26",
            "2025-01-09 14:44:27",
            "2025-01-09 14:44:28",
            "2025-01-09 14:44:29",
            "2025-01-09 14:44:30",
            "2025-01-09 14:44:31",
            "2025-01-09 14:44:32",
            "2025-01-09 14:44:33",
            "2025-01-09 14:44:34",
            "2025-01-09 14:44:35",
            "2025-01-09 14:44:36",
            "2025-01-09 14:44:37",
            "2025-01-09 14:44:38",
            "2025-01-09 14:44:39",
            "2025-01-09 14:44:40",
            "2025-01-09 14:44:41",
            "2025-01-09 14:44:42",
            "2025-01-09 14:44:43",
            "2025-01-09 14:44:44",
            "2025-01-09 14:44:45",
            "2025-01-09 14:44:46",
            "2025-01-09 14:44:47",
            "2025-01-09 14:44:48",
            "2025-01-09 14:44:49",
            "2025-01-09 14:44:50",
            "2025-01-09 14:44:51",
            "2025-01-09 14:44:52",
            "2025-01-09 14:44:53",
            "2025-01-09 14:44:54",
            "2025-01-09 14:44:55",
            "2025-01-09 14:44:56",
            "2025-01-09 14:44:57"
           ],
           "type": "scatter",
           "x": [
            74.05276584,
            87.13825267,
            96.14701585,
            108.2505623,
            112.7455582,
            117.6360986,
            125.795539,
            130.0730637,
            126.9739371,
            132.4691139,
            130.8954086,
            129.9114421,
            126.9035985,
            120.0271193,
            114.1841258,
            108.5299902,
            100.3782574,
            84.34148807,
            68.87984912,
            52.48503054,
            47.06937061,
            47.12509769,
            40.59271857,
            36.74958975,
            30.20109178,
            22.12000086,
            29.00547817,
            29.88142975,
            28.19049856,
            25.30487882,
            39.32487529,
            48.63966392,
            49.31356593,
            49.40035937,
            null
           ],
           "y": [
            132.8970804,
            128.6567371,
            114.5052243,
            121.7846509,
            122.6648195,
            117.0363673,
            106.1069251,
            97.00907745,
            88.3605384,
            78.57480316,
            70.40838551,
            60.39347846,
            55.44546708,
            43.60712934,
            36.37874293,
            33.82592306,
            34.38583847,
            36.64467032,
            36.10426183,
            41.4307655,
            41.61411986,
            41.65051415,
            36.14508385,
            40.4275684,
            54.67701478,
            70.09919795,
            77.77602635,
            78.17718237,
            83.34510835,
            99.35497826,
            116.3818392,
            123.6971236,
            123.6238135,
            123.6091074,
            null
           ]
          },
          {
           "type": "scatter",
           "x": [
            null,
            null
           ],
           "y": [
            null,
            null
           ]
          },
          {
           "hovertemplate": "Detection<br>(%{x}, %{y})<br>Time: %{meta}",
           "meta": [
            "2025-01-09 14:44:24",
            "2025-01-09 14:44:25",
            "2025-01-09 14:44:26",
            "2025-01-09 14:44:27",
            "2025-01-09 14:44:28",
            "2025-01-09 14:44:29",
            "2025-01-09 14:44:30",
            "2025-01-09 14:44:31",
            "2025-01-09 14:44:32",
            "2025-01-09 14:44:33",
            "2025-01-09 14:44:34",
            "2025-01-09 14:44:35",
            "2025-01-09 14:44:36",
            "2025-01-09 14:44:37",
            "2025-01-09 14:44:38",
            "2025-01-09 14:44:39",
            "2025-01-09 14:44:40",
            "2025-01-09 14:44:41",
            "2025-01-09 14:44:42",
            "2025-01-09 14:44:43",
            "2025-01-09 14:44:44",
            "2025-01-09 14:44:45",
            "2025-01-09 14:44:46",
            "2025-01-09 14:44:47",
            "2025-01-09 14:44:48",
            "2025-01-09 14:44:49",
            "2025-01-09 14:44:50",
            "2025-01-09 14:44:51",
            "2025-01-09 14:44:52",
            "2025-01-09 14:44:53",
            "2025-01-09 14:44:54",
            "2025-01-09 14:44:55",
            "2025-01-09 14:44:56",
            "2025-01-09 14:44:57"
           ],
           "type": "scatter",
           "x": [
            77.99730680145169,
            89.32677733462154,
            100.3230024678982,
            110.37502458622242,
            112.51475383083013,
            117.95818981683755,
            127.49727108687048,
            131.06557206113158,
            130.31479947134028,
            133.16915456245104,
            125.18674982593032,
            131.84438020286137,
            131.97892413148077,
            120.12943845523563,
            117.61152431780424,
            108.8764631767969,
            98.39310811884359,
            83.56353285390867,
            71.63086271419168,
            51.61894144676717,
            44.72473490210102,
            43.309761555780945,
            39.453101646722224,
            33.94825416303204,
            26.592306484119824,
            20.117676757592967,
            27.86328315913987,
            29.818412371677347,
            28.339235590923234,
            23.886491498899375,
            37.821208016593026,
            46.82141355769738,
            49.710302845064945,
            45.75512504937613,
            null
           ],
           "y": [
            133.79185911959564,
            133.66752662373142,
            112.31996452768946,
            121.44620589336175,
            123.58294566179377,
            120.28822171944623,
            106.37899870804137,
            97.75519592835539,
            87.90179057607384,
            76.66498702762841,
            71.86992112076258,
            58.73394702384867,
            52.19340656745482,
            43.188573527052114,
            39.66432902283251,
            34.671520160373056,
            29.9566429174598,
            36.994277243128515,
            38.79286490665786,
            40.75479599992838,
            38.43886322319879,
            46.0125805425723,
            35.165519932401644,
            42.16608968749065,
            54.201313051889215,
            70.96433823587778,
            75.13605252987823,
            79.13496154943564,
            84.02145607462953,
            98.54386435461522,
            115.57785388927039,
            119.83703835281113,
            122.72540401457482,
            124.64391998213631,
            null
           ]
          },
          {
           "type": "scatter",
           "x": [
            null,
            null
           ],
           "y": [
            null,
            null
           ]
          },
          {
           "customdata": [
            "2025-01-09 14:44:24",
            "2025-01-09 14:44:25",
            "2025-01-09 14:44:26",
            "2025-01-09 14:44:27",
            "2025-01-09 14:44:28",
            "2025-01-09 14:44:29",
            "2025-01-09 14:44:30",
            "2025-01-09 14:44:31",
            "2025-01-09 14:44:32",
            "2025-01-09 14:44:33",
            "2025-01-09 14:44:34",
            "2025-01-09 14:44:35",
            "2025-01-09 14:44:36",
            "2025-01-09 14:44:37",
            "2025-01-09 14:44:38",
            "2025-01-09 14:44:39",
            "2025-01-09 14:44:40",
            "2025-01-09 14:44:41",
            "2025-01-09 14:44:42",
            "2025-01-09 14:44:43",
            "2025-01-09 14:44:44",
            "2025-01-09 14:44:45",
            "2025-01-09 14:44:46",
            "2025-01-09 14:44:47",
            "2025-01-09 14:44:48",
            "2025-01-09 14:44:49",
            "2025-01-09 14:44:50",
            "2025-01-09 14:44:51",
            "2025-01-09 14:44:52",
            "2025-01-09 14:44:53",
            "2025-01-09 14:44:54",
            "2025-01-09 14:44:55",
            "2025-01-09 14:44:56",
            "2025-01-09 14:44:57"
           ],
           "hovertemplate": "%{meta}<br>(%{x}, %{y})<br>Time: %{customdata}",
           "meta": [
            "GaussianState",
            "GaussianStateUpdate",
            "GaussianStateUpdate",
            "GaussianStateUpdate",
            "GaussianStateUpdate",
            "GaussianStateUpdate",
            "GaussianStateUpdate",
            "GaussianStateUpdate",
            "GaussianStateUpdate",
            "GaussianStateUpdate",
            "GaussianStateUpdate",
            "GaussianStateUpdate",
            "GaussianStateUpdate",
            "GaussianStateUpdate",
            "GaussianStateUpdate",
            "GaussianStateUpdate",
            "GaussianStateUpdate",
            "GaussianStateUpdate",
            "GaussianStateUpdate",
            "GaussianStateUpdate",
            "GaussianStateUpdate",
            "GaussianStateUpdate",
            "GaussianStateUpdate",
            "GaussianStateUpdate",
            "GaussianStateUpdate",
            "GaussianStateUpdate",
            "GaussianStateUpdate",
            "GaussianStateUpdate",
            "GaussianStateUpdate",
            "GaussianStateUpdate",
            "GaussianStateUpdate",
            "GaussianStateUpdate",
            "GaussianStateUpdate",
            "GaussianStateUpdate"
           ],
           "type": "scatter",
           "x": [
            74.22014502,
            89.22992315256701,
            100.77107487718641,
            110.19651238288311,
            111.90587167496986,
            117.02210478270644,
            127.25365431551246,
            132.20295551989798,
            131.7673489167498,
            133.88777504563453,
            126.6191258457489,
            131.08148094981053,
            132.516111057558,
            121.8925776961243,
            116.22562071431086,
            107.38275445100885,
            95.64458980760368,
            69.74471675666138,
            75.19927001089755,
            54.19203036846665,
            45.51363648487457,
            45.072259760018326,
            47.482090538063524,
            6.77233631771179,
            20.79524834411984,
            15.445157612356503,
            21.53231896314162,
            26.025575840940434,
            26.757285025078122,
            23.66041685761451,
            35.53474288071501,
            47.871194426039786,
            53.287893936954404,
            49.63620707117352,
            null
           ],
           "y": [
            131.1193202,
            133.65116665735812,
            112.5795863318055,
            120.62217559225633,
            124.46905075207951,
            121.1429694947251,
            106.43224124468414,
            96.32056275288147,
            86.85309014734673,
            76.36511888941192,
            71.75005913157042,
            60.23221901786741,
            52.79028295813589,
            44.12040575226839,
            39.803591413697,
            35.40793902756456,
            31.102194231631856,
            34.25564863195609,
            39.04404228034326,
            41.056373855401205,
            38.86390603690417,
            44.092185485392896,
            36.81592985718771,
            47.342101819234,
            55.33353342909058,
            72.58448252621204,
            79.44521697812957,
            82.34176023182467,
            84.73037917594036,
            96.01043950531638,
            113.37986062141945,
            121.00037436635544,
            123.66206080149924,
            124.52583539135296,
            null
           ]
          }
         ],
         "name": "2025-01-09 14:44:57",
         "traces": [
          0,
          1,
          2,
          3,
          4,
          5
         ]
        },
        {
         "data": [
          {
           "type": "scatter",
           "x": [
            0,
            0
           ],
           "y": [
            0,
            0
           ]
          },
          {
           "hovertemplate": "GroundTruthState<br>(%{x}, %{y})<br>Time: %{meta}",
           "meta": [
            "2025-01-09 14:44:24",
            "2025-01-09 14:44:25",
            "2025-01-09 14:44:26",
            "2025-01-09 14:44:27",
            "2025-01-09 14:44:28",
            "2025-01-09 14:44:29",
            "2025-01-09 14:44:30",
            "2025-01-09 14:44:31",
            "2025-01-09 14:44:32",
            "2025-01-09 14:44:33",
            "2025-01-09 14:44:34",
            "2025-01-09 14:44:35",
            "2025-01-09 14:44:36",
            "2025-01-09 14:44:37",
            "2025-01-09 14:44:38",
            "2025-01-09 14:44:39",
            "2025-01-09 14:44:40",
            "2025-01-09 14:44:41",
            "2025-01-09 14:44:42",
            "2025-01-09 14:44:43",
            "2025-01-09 14:44:44",
            "2025-01-09 14:44:45",
            "2025-01-09 14:44:46",
            "2025-01-09 14:44:47",
            "2025-01-09 14:44:48",
            "2025-01-09 14:44:49",
            "2025-01-09 14:44:50",
            "2025-01-09 14:44:51",
            "2025-01-09 14:44:52",
            "2025-01-09 14:44:53",
            "2025-01-09 14:44:54",
            "2025-01-09 14:44:55",
            "2025-01-09 14:44:56",
            "2025-01-09 14:44:57",
            "2025-01-09 14:44:58"
           ],
           "type": "scatter",
           "x": [
            74.05276584,
            87.13825267,
            96.14701585,
            108.2505623,
            112.7455582,
            117.6360986,
            125.795539,
            130.0730637,
            126.9739371,
            132.4691139,
            130.8954086,
            129.9114421,
            126.9035985,
            120.0271193,
            114.1841258,
            108.5299902,
            100.3782574,
            84.34148807,
            68.87984912,
            52.48503054,
            47.06937061,
            47.12509769,
            40.59271857,
            36.74958975,
            30.20109178,
            22.12000086,
            29.00547817,
            29.88142975,
            28.19049856,
            25.30487882,
            39.32487529,
            48.63966392,
            49.31356593,
            49.40035937,
            54.37511668,
            null
           ],
           "y": [
            132.8970804,
            128.6567371,
            114.5052243,
            121.7846509,
            122.6648195,
            117.0363673,
            106.1069251,
            97.00907745,
            88.3605384,
            78.57480316,
            70.40838551,
            60.39347846,
            55.44546708,
            43.60712934,
            36.37874293,
            33.82592306,
            34.38583847,
            36.64467032,
            36.10426183,
            41.4307655,
            41.61411986,
            41.65051415,
            36.14508385,
            40.4275684,
            54.67701478,
            70.09919795,
            77.77602635,
            78.17718237,
            83.34510835,
            99.35497826,
            116.3818392,
            123.6971236,
            123.6238135,
            123.6091074,
            128.9042947,
            null
           ]
          },
          {
           "type": "scatter",
           "x": [
            null,
            null
           ],
           "y": [
            null,
            null
           ]
          },
          {
           "hovertemplate": "Detection<br>(%{x}, %{y})<br>Time: %{meta}",
           "meta": [
            "2025-01-09 14:44:24",
            "2025-01-09 14:44:25",
            "2025-01-09 14:44:26",
            "2025-01-09 14:44:27",
            "2025-01-09 14:44:28",
            "2025-01-09 14:44:29",
            "2025-01-09 14:44:30",
            "2025-01-09 14:44:31",
            "2025-01-09 14:44:32",
            "2025-01-09 14:44:33",
            "2025-01-09 14:44:34",
            "2025-01-09 14:44:35",
            "2025-01-09 14:44:36",
            "2025-01-09 14:44:37",
            "2025-01-09 14:44:38",
            "2025-01-09 14:44:39",
            "2025-01-09 14:44:40",
            "2025-01-09 14:44:41",
            "2025-01-09 14:44:42",
            "2025-01-09 14:44:43",
            "2025-01-09 14:44:44",
            "2025-01-09 14:44:45",
            "2025-01-09 14:44:46",
            "2025-01-09 14:44:47",
            "2025-01-09 14:44:48",
            "2025-01-09 14:44:49",
            "2025-01-09 14:44:50",
            "2025-01-09 14:44:51",
            "2025-01-09 14:44:52",
            "2025-01-09 14:44:53",
            "2025-01-09 14:44:54",
            "2025-01-09 14:44:55",
            "2025-01-09 14:44:56",
            "2025-01-09 14:44:57",
            "2025-01-09 14:44:58"
           ],
           "type": "scatter",
           "x": [
            77.99730680145169,
            89.32677733462154,
            100.3230024678982,
            110.37502458622242,
            112.51475383083013,
            117.95818981683755,
            127.49727108687048,
            131.06557206113158,
            130.31479947134028,
            133.16915456245104,
            125.18674982593032,
            131.84438020286137,
            131.97892413148077,
            120.12943845523563,
            117.61152431780424,
            108.8764631767969,
            98.39310811884359,
            83.56353285390867,
            71.63086271419168,
            51.61894144676717,
            44.72473490210102,
            43.309761555780945,
            39.453101646722224,
            33.94825416303204,
            26.592306484119824,
            20.117676757592967,
            27.86328315913987,
            29.818412371677347,
            28.339235590923234,
            23.886491498899375,
            37.821208016593026,
            46.82141355769738,
            49.710302845064945,
            45.75512504937613,
            52.34633586136469,
            null
           ],
           "y": [
            133.79185911959564,
            133.66752662373142,
            112.31996452768946,
            121.44620589336175,
            123.58294566179377,
            120.28822171944623,
            106.37899870804137,
            97.75519592835539,
            87.90179057607384,
            76.66498702762841,
            71.86992112076258,
            58.73394702384867,
            52.19340656745482,
            43.188573527052114,
            39.66432902283251,
            34.671520160373056,
            29.9566429174598,
            36.994277243128515,
            38.79286490665786,
            40.75479599992838,
            38.43886322319879,
            46.0125805425723,
            35.165519932401644,
            42.16608968749065,
            54.201313051889215,
            70.96433823587778,
            75.13605252987823,
            79.13496154943564,
            84.02145607462953,
            98.54386435461522,
            115.57785388927039,
            119.83703835281113,
            122.72540401457482,
            124.64391998213631,
            129.02044813611832,
            null
           ]
          },
          {
           "type": "scatter",
           "x": [
            null,
            null
           ],
           "y": [
            null,
            null
           ]
          },
          {
           "customdata": [
            "2025-01-09 14:44:24",
            "2025-01-09 14:44:25",
            "2025-01-09 14:44:26",
            "2025-01-09 14:44:27",
            "2025-01-09 14:44:28",
            "2025-01-09 14:44:29",
            "2025-01-09 14:44:30",
            "2025-01-09 14:44:31",
            "2025-01-09 14:44:32",
            "2025-01-09 14:44:33",
            "2025-01-09 14:44:34",
            "2025-01-09 14:44:35",
            "2025-01-09 14:44:36",
            "2025-01-09 14:44:37",
            "2025-01-09 14:44:38",
            "2025-01-09 14:44:39",
            "2025-01-09 14:44:40",
            "2025-01-09 14:44:41",
            "2025-01-09 14:44:42",
            "2025-01-09 14:44:43",
            "2025-01-09 14:44:44",
            "2025-01-09 14:44:45",
            "2025-01-09 14:44:46",
            "2025-01-09 14:44:47",
            "2025-01-09 14:44:48",
            "2025-01-09 14:44:49",
            "2025-01-09 14:44:50",
            "2025-01-09 14:44:51",
            "2025-01-09 14:44:52",
            "2025-01-09 14:44:53",
            "2025-01-09 14:44:54",
            "2025-01-09 14:44:55",
            "2025-01-09 14:44:56",
            "2025-01-09 14:44:57",
            "2025-01-09 14:44:58"
           ],
           "hovertemplate": "%{meta}<br>(%{x}, %{y})<br>Time: %{customdata}",
           "meta": [
            "GaussianState",
            "GaussianStateUpdate",
            "GaussianStateUpdate",
            "GaussianStateUpdate",
            "GaussianStateUpdate",
            "GaussianStateUpdate",
            "GaussianStateUpdate",
            "GaussianStateUpdate",
            "GaussianStateUpdate",
            "GaussianStateUpdate",
            "GaussianStateUpdate",
            "GaussianStateUpdate",
            "GaussianStateUpdate",
            "GaussianStateUpdate",
            "GaussianStateUpdate",
            "GaussianStateUpdate",
            "GaussianStateUpdate",
            "GaussianStateUpdate",
            "GaussianStateUpdate",
            "GaussianStateUpdate",
            "GaussianStateUpdate",
            "GaussianStateUpdate",
            "GaussianStateUpdate",
            "GaussianStateUpdate",
            "GaussianStateUpdate",
            "GaussianStateUpdate",
            "GaussianStateUpdate",
            "GaussianStateUpdate",
            "GaussianStateUpdate",
            "GaussianStateUpdate",
            "GaussianStateUpdate",
            "GaussianStateUpdate",
            "GaussianStateUpdate",
            "GaussianStateUpdate",
            "GaussianStateUpdate"
           ],
           "type": "scatter",
           "x": [
            74.22014502,
            89.22992315256701,
            100.77107487718641,
            110.19651238288311,
            111.90587167496986,
            117.02210478270644,
            127.25365431551246,
            132.20295551989798,
            131.7673489167498,
            133.88777504563453,
            126.6191258457489,
            131.08148094981053,
            132.516111057558,
            121.8925776961243,
            116.22562071431086,
            107.38275445100885,
            95.64458980760368,
            69.74471675666138,
            75.19927001089755,
            54.19203036846665,
            45.51363648487457,
            45.072259760018326,
            47.482090538063524,
            6.77233631771179,
            20.79524834411984,
            15.445157612356503,
            21.53231896314162,
            26.025575840940434,
            26.757285025078122,
            23.66041685761451,
            35.53474288071501,
            47.871194426039786,
            53.287893936954404,
            49.63620707117352,
            52.36086817191487,
            null
           ],
           "y": [
            131.1193202,
            133.65116665735812,
            112.5795863318055,
            120.62217559225633,
            124.46905075207951,
            121.1429694947251,
            106.43224124468414,
            96.32056275288147,
            86.85309014734673,
            76.36511888941192,
            71.75005913157042,
            60.23221901786741,
            52.79028295813589,
            44.12040575226839,
            39.803591413697,
            35.40793902756456,
            31.102194231631856,
            34.25564863195609,
            39.04404228034326,
            41.056373855401205,
            38.86390603690417,
            44.092185485392896,
            36.81592985718771,
            47.342101819234,
            55.33353342909058,
            72.58448252621204,
            79.44521697812957,
            82.34176023182467,
            84.73037917594036,
            96.01043950531638,
            113.37986062141945,
            121.00037436635544,
            123.66206080149924,
            124.52583539135296,
            127.8326057899675,
            null
           ]
          }
         ],
         "name": "2025-01-09 14:44:58",
         "traces": [
          0,
          1,
          2,
          3,
          4,
          5
         ]
        },
        {
         "data": [
          {
           "type": "scatter",
           "x": [
            0,
            0
           ],
           "y": [
            0,
            0
           ]
          },
          {
           "hovertemplate": "GroundTruthState<br>(%{x}, %{y})<br>Time: %{meta}",
           "meta": [
            "2025-01-09 14:44:24",
            "2025-01-09 14:44:25",
            "2025-01-09 14:44:26",
            "2025-01-09 14:44:27",
            "2025-01-09 14:44:28",
            "2025-01-09 14:44:29",
            "2025-01-09 14:44:30",
            "2025-01-09 14:44:31",
            "2025-01-09 14:44:32",
            "2025-01-09 14:44:33",
            "2025-01-09 14:44:34",
            "2025-01-09 14:44:35",
            "2025-01-09 14:44:36",
            "2025-01-09 14:44:37",
            "2025-01-09 14:44:38",
            "2025-01-09 14:44:39",
            "2025-01-09 14:44:40",
            "2025-01-09 14:44:41",
            "2025-01-09 14:44:42",
            "2025-01-09 14:44:43",
            "2025-01-09 14:44:44",
            "2025-01-09 14:44:45",
            "2025-01-09 14:44:46",
            "2025-01-09 14:44:47",
            "2025-01-09 14:44:48",
            "2025-01-09 14:44:49",
            "2025-01-09 14:44:50",
            "2025-01-09 14:44:51",
            "2025-01-09 14:44:52",
            "2025-01-09 14:44:53",
            "2025-01-09 14:44:54",
            "2025-01-09 14:44:55",
            "2025-01-09 14:44:56",
            "2025-01-09 14:44:57",
            "2025-01-09 14:44:58",
            "2025-01-09 14:44:59"
           ],
           "type": "scatter",
           "x": [
            74.05276584,
            87.13825267,
            96.14701585,
            108.2505623,
            112.7455582,
            117.6360986,
            125.795539,
            130.0730637,
            126.9739371,
            132.4691139,
            130.8954086,
            129.9114421,
            126.9035985,
            120.0271193,
            114.1841258,
            108.5299902,
            100.3782574,
            84.34148807,
            68.87984912,
            52.48503054,
            47.06937061,
            47.12509769,
            40.59271857,
            36.74958975,
            30.20109178,
            22.12000086,
            29.00547817,
            29.88142975,
            28.19049856,
            25.30487882,
            39.32487529,
            48.63966392,
            49.31356593,
            49.40035937,
            54.37511668,
            69.77685527,
            null
           ],
           "y": [
            132.8970804,
            128.6567371,
            114.5052243,
            121.7846509,
            122.6648195,
            117.0363673,
            106.1069251,
            97.00907745,
            88.3605384,
            78.57480316,
            70.40838551,
            60.39347846,
            55.44546708,
            43.60712934,
            36.37874293,
            33.82592306,
            34.38583847,
            36.64467032,
            36.10426183,
            41.4307655,
            41.61411986,
            41.65051415,
            36.14508385,
            40.4275684,
            54.67701478,
            70.09919795,
            77.77602635,
            78.17718237,
            83.34510835,
            99.35497826,
            116.3818392,
            123.6971236,
            123.6238135,
            123.6091074,
            128.9042947,
            132.4448089,
            null
           ]
          },
          {
           "type": "scatter",
           "x": [
            null,
            null
           ],
           "y": [
            null,
            null
           ]
          },
          {
           "hovertemplate": "Detection<br>(%{x}, %{y})<br>Time: %{meta}",
           "meta": [
            "2025-01-09 14:44:24",
            "2025-01-09 14:44:25",
            "2025-01-09 14:44:26",
            "2025-01-09 14:44:27",
            "2025-01-09 14:44:28",
            "2025-01-09 14:44:29",
            "2025-01-09 14:44:30",
            "2025-01-09 14:44:31",
            "2025-01-09 14:44:32",
            "2025-01-09 14:44:33",
            "2025-01-09 14:44:34",
            "2025-01-09 14:44:35",
            "2025-01-09 14:44:36",
            "2025-01-09 14:44:37",
            "2025-01-09 14:44:38",
            "2025-01-09 14:44:39",
            "2025-01-09 14:44:40",
            "2025-01-09 14:44:41",
            "2025-01-09 14:44:42",
            "2025-01-09 14:44:43",
            "2025-01-09 14:44:44",
            "2025-01-09 14:44:45",
            "2025-01-09 14:44:46",
            "2025-01-09 14:44:47",
            "2025-01-09 14:44:48",
            "2025-01-09 14:44:49",
            "2025-01-09 14:44:50",
            "2025-01-09 14:44:51",
            "2025-01-09 14:44:52",
            "2025-01-09 14:44:53",
            "2025-01-09 14:44:54",
            "2025-01-09 14:44:55",
            "2025-01-09 14:44:56",
            "2025-01-09 14:44:57",
            "2025-01-09 14:44:58",
            "2025-01-09 14:44:59"
           ],
           "type": "scatter",
           "x": [
            77.99730680145169,
            89.32677733462154,
            100.3230024678982,
            110.37502458622242,
            112.51475383083013,
            117.95818981683755,
            127.49727108687048,
            131.06557206113158,
            130.31479947134028,
            133.16915456245104,
            125.18674982593032,
            131.84438020286137,
            131.97892413148077,
            120.12943845523563,
            117.61152431780424,
            108.8764631767969,
            98.39310811884359,
            83.56353285390867,
            71.63086271419168,
            51.61894144676717,
            44.72473490210102,
            43.309761555780945,
            39.453101646722224,
            33.94825416303204,
            26.592306484119824,
            20.117676757592967,
            27.86328315913987,
            29.818412371677347,
            28.339235590923234,
            23.886491498899375,
            37.821208016593026,
            46.82141355769738,
            49.710302845064945,
            45.75512504937613,
            52.34633586136469,
            71.4071513287825,
            null
           ],
           "y": [
            133.79185911959564,
            133.66752662373142,
            112.31996452768946,
            121.44620589336175,
            123.58294566179377,
            120.28822171944623,
            106.37899870804137,
            97.75519592835539,
            87.90179057607384,
            76.66498702762841,
            71.86992112076258,
            58.73394702384867,
            52.19340656745482,
            43.188573527052114,
            39.66432902283251,
            34.671520160373056,
            29.9566429174598,
            36.994277243128515,
            38.79286490665786,
            40.75479599992838,
            38.43886322319879,
            46.0125805425723,
            35.165519932401644,
            42.16608968749065,
            54.201313051889215,
            70.96433823587778,
            75.13605252987823,
            79.13496154943564,
            84.02145607462953,
            98.54386435461522,
            115.57785388927039,
            119.83703835281113,
            122.72540401457482,
            124.64391998213631,
            129.02044813611832,
            132.73322345638937,
            null
           ]
          },
          {
           "type": "scatter",
           "x": [
            null,
            null
           ],
           "y": [
            null,
            null
           ]
          },
          {
           "customdata": [
            "2025-01-09 14:44:24",
            "2025-01-09 14:44:25",
            "2025-01-09 14:44:26",
            "2025-01-09 14:44:27",
            "2025-01-09 14:44:28",
            "2025-01-09 14:44:29",
            "2025-01-09 14:44:30",
            "2025-01-09 14:44:31",
            "2025-01-09 14:44:32",
            "2025-01-09 14:44:33",
            "2025-01-09 14:44:34",
            "2025-01-09 14:44:35",
            "2025-01-09 14:44:36",
            "2025-01-09 14:44:37",
            "2025-01-09 14:44:38",
            "2025-01-09 14:44:39",
            "2025-01-09 14:44:40",
            "2025-01-09 14:44:41",
            "2025-01-09 14:44:42",
            "2025-01-09 14:44:43",
            "2025-01-09 14:44:44",
            "2025-01-09 14:44:45",
            "2025-01-09 14:44:46",
            "2025-01-09 14:44:47",
            "2025-01-09 14:44:48",
            "2025-01-09 14:44:49",
            "2025-01-09 14:44:50",
            "2025-01-09 14:44:51",
            "2025-01-09 14:44:52",
            "2025-01-09 14:44:53",
            "2025-01-09 14:44:54",
            "2025-01-09 14:44:55",
            "2025-01-09 14:44:56",
            "2025-01-09 14:44:57",
            "2025-01-09 14:44:58",
            "2025-01-09 14:44:59"
           ],
           "hovertemplate": "%{meta}<br>(%{x}, %{y})<br>Time: %{customdata}",
           "meta": [
            "GaussianState",
            "GaussianStateUpdate",
            "GaussianStateUpdate",
            "GaussianStateUpdate",
            "GaussianStateUpdate",
            "GaussianStateUpdate",
            "GaussianStateUpdate",
            "GaussianStateUpdate",
            "GaussianStateUpdate",
            "GaussianStateUpdate",
            "GaussianStateUpdate",
            "GaussianStateUpdate",
            "GaussianStateUpdate",
            "GaussianStateUpdate",
            "GaussianStateUpdate",
            "GaussianStateUpdate",
            "GaussianStateUpdate",
            "GaussianStateUpdate",
            "GaussianStateUpdate",
            "GaussianStateUpdate",
            "GaussianStateUpdate",
            "GaussianStateUpdate",
            "GaussianStateUpdate",
            "GaussianStateUpdate",
            "GaussianStateUpdate",
            "GaussianStateUpdate",
            "GaussianStateUpdate",
            "GaussianStateUpdate",
            "GaussianStateUpdate",
            "GaussianStateUpdate",
            "GaussianStateUpdate",
            "GaussianStateUpdate",
            "GaussianStateUpdate",
            "GaussianStateUpdate",
            "GaussianStateUpdate",
            "GaussianStateUpdate"
           ],
           "type": "scatter",
           "x": [
            74.22014502,
            89.22992315256701,
            100.77107487718641,
            110.19651238288311,
            111.90587167496986,
            117.02210478270644,
            127.25365431551246,
            132.20295551989798,
            131.7673489167498,
            133.88777504563453,
            126.6191258457489,
            131.08148094981053,
            132.516111057558,
            121.8925776961243,
            116.22562071431086,
            107.38275445100885,
            95.64458980760368,
            69.74471675666138,
            75.19927001089755,
            54.19203036846665,
            45.51363648487457,
            45.072259760018326,
            47.482090538063524,
            6.77233631771179,
            20.79524834411984,
            15.445157612356503,
            21.53231896314162,
            26.025575840940434,
            26.757285025078122,
            23.66041685761451,
            35.53474288071501,
            47.871194426039786,
            53.287893936954404,
            49.63620707117352,
            52.36086817191487,
            68.84857818548352,
            null
           ],
           "y": [
            131.1193202,
            133.65116665735812,
            112.5795863318055,
            120.62217559225633,
            124.46905075207951,
            121.1429694947251,
            106.43224124468414,
            96.32056275288147,
            86.85309014734673,
            76.36511888941192,
            71.75005913157042,
            60.23221901786741,
            52.79028295813589,
            44.12040575226839,
            39.803591413697,
            35.40793902756456,
            31.102194231631856,
            34.25564863195609,
            39.04404228034326,
            41.056373855401205,
            38.86390603690417,
            44.092185485392896,
            36.81592985718771,
            47.342101819234,
            55.33353342909058,
            72.58448252621204,
            79.44521697812957,
            82.34176023182467,
            84.73037917594036,
            96.01043950531638,
            113.37986062141945,
            121.00037436635544,
            123.66206080149924,
            124.52583539135296,
            127.8326057899675,
            132.0400577115504,
            null
           ]
          }
         ],
         "name": "2025-01-09 14:44:59",
         "traces": [
          0,
          1,
          2,
          3,
          4,
          5
         ]
        },
        {
         "data": [
          {
           "type": "scatter",
           "x": [
            0,
            0
           ],
           "y": [
            0,
            0
           ]
          },
          {
           "hovertemplate": "GroundTruthState<br>(%{x}, %{y})<br>Time: %{meta}",
           "meta": [
            "2025-01-09 14:44:24",
            "2025-01-09 14:44:25",
            "2025-01-09 14:44:26",
            "2025-01-09 14:44:27",
            "2025-01-09 14:44:28",
            "2025-01-09 14:44:29",
            "2025-01-09 14:44:30",
            "2025-01-09 14:44:31",
            "2025-01-09 14:44:32",
            "2025-01-09 14:44:33",
            "2025-01-09 14:44:34",
            "2025-01-09 14:44:35",
            "2025-01-09 14:44:36",
            "2025-01-09 14:44:37",
            "2025-01-09 14:44:38",
            "2025-01-09 14:44:39",
            "2025-01-09 14:44:40",
            "2025-01-09 14:44:41",
            "2025-01-09 14:44:42",
            "2025-01-09 14:44:43",
            "2025-01-09 14:44:44",
            "2025-01-09 14:44:45",
            "2025-01-09 14:44:46",
            "2025-01-09 14:44:47",
            "2025-01-09 14:44:48",
            "2025-01-09 14:44:49",
            "2025-01-09 14:44:50",
            "2025-01-09 14:44:51",
            "2025-01-09 14:44:52",
            "2025-01-09 14:44:53",
            "2025-01-09 14:44:54",
            "2025-01-09 14:44:55",
            "2025-01-09 14:44:56",
            "2025-01-09 14:44:57",
            "2025-01-09 14:44:58",
            "2025-01-09 14:44:59",
            "2025-01-09 14:45:00"
           ],
           "type": "scatter",
           "x": [
            74.05276584,
            87.13825267,
            96.14701585,
            108.2505623,
            112.7455582,
            117.6360986,
            125.795539,
            130.0730637,
            126.9739371,
            132.4691139,
            130.8954086,
            129.9114421,
            126.9035985,
            120.0271193,
            114.1841258,
            108.5299902,
            100.3782574,
            84.34148807,
            68.87984912,
            52.48503054,
            47.06937061,
            47.12509769,
            40.59271857,
            36.74958975,
            30.20109178,
            22.12000086,
            29.00547817,
            29.88142975,
            28.19049856,
            25.30487882,
            39.32487529,
            48.63966392,
            49.31356593,
            49.40035937,
            54.37511668,
            69.77685527,
            85.72253517,
            null
           ],
           "y": [
            132.8970804,
            128.6567371,
            114.5052243,
            121.7846509,
            122.6648195,
            117.0363673,
            106.1069251,
            97.00907745,
            88.3605384,
            78.57480316,
            70.40838551,
            60.39347846,
            55.44546708,
            43.60712934,
            36.37874293,
            33.82592306,
            34.38583847,
            36.64467032,
            36.10426183,
            41.4307655,
            41.61411986,
            41.65051415,
            36.14508385,
            40.4275684,
            54.67701478,
            70.09919795,
            77.77602635,
            78.17718237,
            83.34510835,
            99.35497826,
            116.3818392,
            123.6971236,
            123.6238135,
            123.6091074,
            128.9042947,
            132.4448089,
            125.8094665,
            null
           ]
          },
          {
           "type": "scatter",
           "x": [
            null,
            null
           ],
           "y": [
            null,
            null
           ]
          },
          {
           "hovertemplate": "Detection<br>(%{x}, %{y})<br>Time: %{meta}",
           "meta": [
            "2025-01-09 14:44:24",
            "2025-01-09 14:44:25",
            "2025-01-09 14:44:26",
            "2025-01-09 14:44:27",
            "2025-01-09 14:44:28",
            "2025-01-09 14:44:29",
            "2025-01-09 14:44:30",
            "2025-01-09 14:44:31",
            "2025-01-09 14:44:32",
            "2025-01-09 14:44:33",
            "2025-01-09 14:44:34",
            "2025-01-09 14:44:35",
            "2025-01-09 14:44:36",
            "2025-01-09 14:44:37",
            "2025-01-09 14:44:38",
            "2025-01-09 14:44:39",
            "2025-01-09 14:44:40",
            "2025-01-09 14:44:41",
            "2025-01-09 14:44:42",
            "2025-01-09 14:44:43",
            "2025-01-09 14:44:44",
            "2025-01-09 14:44:45",
            "2025-01-09 14:44:46",
            "2025-01-09 14:44:47",
            "2025-01-09 14:44:48",
            "2025-01-09 14:44:49",
            "2025-01-09 14:44:50",
            "2025-01-09 14:44:51",
            "2025-01-09 14:44:52",
            "2025-01-09 14:44:53",
            "2025-01-09 14:44:54",
            "2025-01-09 14:44:55",
            "2025-01-09 14:44:56",
            "2025-01-09 14:44:57",
            "2025-01-09 14:44:58",
            "2025-01-09 14:44:59",
            "2025-01-09 14:45:00"
           ],
           "type": "scatter",
           "x": [
            77.99730680145169,
            89.32677733462154,
            100.3230024678982,
            110.37502458622242,
            112.51475383083013,
            117.95818981683755,
            127.49727108687048,
            131.06557206113158,
            130.31479947134028,
            133.16915456245104,
            125.18674982593032,
            131.84438020286137,
            131.97892413148077,
            120.12943845523563,
            117.61152431780424,
            108.8764631767969,
            98.39310811884359,
            83.56353285390867,
            71.63086271419168,
            51.61894144676717,
            44.72473490210102,
            43.309761555780945,
            39.453101646722224,
            33.94825416303204,
            26.592306484119824,
            20.117676757592967,
            27.86328315913987,
            29.818412371677347,
            28.339235590923234,
            23.886491498899375,
            37.821208016593026,
            46.82141355769738,
            49.710302845064945,
            45.75512504937613,
            52.34633586136469,
            71.4071513287825,
            88.27031255424862,
            null
           ],
           "y": [
            133.79185911959564,
            133.66752662373142,
            112.31996452768946,
            121.44620589336175,
            123.58294566179377,
            120.28822171944623,
            106.37899870804137,
            97.75519592835539,
            87.90179057607384,
            76.66498702762841,
            71.86992112076258,
            58.73394702384867,
            52.19340656745482,
            43.188573527052114,
            39.66432902283251,
            34.671520160373056,
            29.9566429174598,
            36.994277243128515,
            38.79286490665786,
            40.75479599992838,
            38.43886322319879,
            46.0125805425723,
            35.165519932401644,
            42.16608968749065,
            54.201313051889215,
            70.96433823587778,
            75.13605252987823,
            79.13496154943564,
            84.02145607462953,
            98.54386435461522,
            115.57785388927039,
            119.83703835281113,
            122.72540401457482,
            124.64391998213631,
            129.02044813611832,
            132.73322345638937,
            123.04831202531729,
            null
           ]
          },
          {
           "type": "scatter",
           "x": [
            null,
            null
           ],
           "y": [
            null,
            null
           ]
          },
          {
           "customdata": [
            "2025-01-09 14:44:24",
            "2025-01-09 14:44:25",
            "2025-01-09 14:44:26",
            "2025-01-09 14:44:27",
            "2025-01-09 14:44:28",
            "2025-01-09 14:44:29",
            "2025-01-09 14:44:30",
            "2025-01-09 14:44:31",
            "2025-01-09 14:44:32",
            "2025-01-09 14:44:33",
            "2025-01-09 14:44:34",
            "2025-01-09 14:44:35",
            "2025-01-09 14:44:36",
            "2025-01-09 14:44:37",
            "2025-01-09 14:44:38",
            "2025-01-09 14:44:39",
            "2025-01-09 14:44:40",
            "2025-01-09 14:44:41",
            "2025-01-09 14:44:42",
            "2025-01-09 14:44:43",
            "2025-01-09 14:44:44",
            "2025-01-09 14:44:45",
            "2025-01-09 14:44:46",
            "2025-01-09 14:44:47",
            "2025-01-09 14:44:48",
            "2025-01-09 14:44:49",
            "2025-01-09 14:44:50",
            "2025-01-09 14:44:51",
            "2025-01-09 14:44:52",
            "2025-01-09 14:44:53",
            "2025-01-09 14:44:54",
            "2025-01-09 14:44:55",
            "2025-01-09 14:44:56",
            "2025-01-09 14:44:57",
            "2025-01-09 14:44:58",
            "2025-01-09 14:44:59",
            "2025-01-09 14:45:00"
           ],
           "hovertemplate": "%{meta}<br>(%{x}, %{y})<br>Time: %{customdata}",
           "meta": [
            "GaussianState",
            "GaussianStateUpdate",
            "GaussianStateUpdate",
            "GaussianStateUpdate",
            "GaussianStateUpdate",
            "GaussianStateUpdate",
            "GaussianStateUpdate",
            "GaussianStateUpdate",
            "GaussianStateUpdate",
            "GaussianStateUpdate",
            "GaussianStateUpdate",
            "GaussianStateUpdate",
            "GaussianStateUpdate",
            "GaussianStateUpdate",
            "GaussianStateUpdate",
            "GaussianStateUpdate",
            "GaussianStateUpdate",
            "GaussianStateUpdate",
            "GaussianStateUpdate",
            "GaussianStateUpdate",
            "GaussianStateUpdate",
            "GaussianStateUpdate",
            "GaussianStateUpdate",
            "GaussianStateUpdate",
            "GaussianStateUpdate",
            "GaussianStateUpdate",
            "GaussianStateUpdate",
            "GaussianStateUpdate",
            "GaussianStateUpdate",
            "GaussianStateUpdate",
            "GaussianStateUpdate",
            "GaussianStateUpdate",
            "GaussianStateUpdate",
            "GaussianStateUpdate",
            "GaussianStateUpdate",
            "GaussianStateUpdate",
            "GaussianStateUpdate"
           ],
           "type": "scatter",
           "x": [
            74.22014502,
            89.22992315256701,
            100.77107487718641,
            110.19651238288311,
            111.90587167496986,
            117.02210478270644,
            127.25365431551246,
            132.20295551989798,
            131.7673489167498,
            133.88777504563453,
            126.6191258457489,
            131.08148094981053,
            132.516111057558,
            121.8925776961243,
            116.22562071431086,
            107.38275445100885,
            95.64458980760368,
            69.74471675666138,
            75.19927001089755,
            54.19203036846665,
            45.51363648487457,
            45.072259760018326,
            47.482090538063524,
            6.77233631771179,
            20.79524834411984,
            15.445157612356503,
            21.53231896314162,
            26.025575840940434,
            26.757285025078122,
            23.66041685761451,
            35.53474288071501,
            47.871194426039786,
            53.287893936954404,
            49.63620707117352,
            52.36086817191487,
            68.84857818548352,
            87.748145553877,
            null
           ],
           "y": [
            131.1193202,
            133.65116665735812,
            112.5795863318055,
            120.62217559225633,
            124.46905075207951,
            121.1429694947251,
            106.43224124468414,
            96.32056275288147,
            86.85309014734673,
            76.36511888941192,
            71.75005913157042,
            60.23221901786741,
            52.79028295813589,
            44.12040575226839,
            39.803591413697,
            35.40793902756456,
            31.102194231631856,
            34.25564863195609,
            39.04404228034326,
            41.056373855401205,
            38.86390603690417,
            44.092185485392896,
            36.81592985718771,
            47.342101819234,
            55.33353342909058,
            72.58448252621204,
            79.44521697812957,
            82.34176023182467,
            84.73037917594036,
            96.01043950531638,
            113.37986062141945,
            121.00037436635544,
            123.66206080149924,
            124.52583539135296,
            127.8326057899675,
            132.0400577115504,
            124.8778340648076,
            null
           ]
          }
         ],
         "name": "2025-01-09 14:45:00",
         "traces": [
          0,
          1,
          2,
          3,
          4,
          5
         ]
        },
        {
         "data": [
          {
           "type": "scatter",
           "x": [
            0,
            0
           ],
           "y": [
            0,
            0
           ]
          },
          {
           "hovertemplate": "GroundTruthState<br>(%{x}, %{y})<br>Time: %{meta}",
           "meta": [
            "2025-01-09 14:44:24",
            "2025-01-09 14:44:25",
            "2025-01-09 14:44:26",
            "2025-01-09 14:44:27",
            "2025-01-09 14:44:28",
            "2025-01-09 14:44:29",
            "2025-01-09 14:44:30",
            "2025-01-09 14:44:31",
            "2025-01-09 14:44:32",
            "2025-01-09 14:44:33",
            "2025-01-09 14:44:34",
            "2025-01-09 14:44:35",
            "2025-01-09 14:44:36",
            "2025-01-09 14:44:37",
            "2025-01-09 14:44:38",
            "2025-01-09 14:44:39",
            "2025-01-09 14:44:40",
            "2025-01-09 14:44:41",
            "2025-01-09 14:44:42",
            "2025-01-09 14:44:43",
            "2025-01-09 14:44:44",
            "2025-01-09 14:44:45",
            "2025-01-09 14:44:46",
            "2025-01-09 14:44:47",
            "2025-01-09 14:44:48",
            "2025-01-09 14:44:49",
            "2025-01-09 14:44:50",
            "2025-01-09 14:44:51",
            "2025-01-09 14:44:52",
            "2025-01-09 14:44:53",
            "2025-01-09 14:44:54",
            "2025-01-09 14:44:55",
            "2025-01-09 14:44:56",
            "2025-01-09 14:44:57",
            "2025-01-09 14:44:58",
            "2025-01-09 14:44:59",
            "2025-01-09 14:45:00",
            "2025-01-09 14:45:01"
           ],
           "type": "scatter",
           "x": [
            74.05276584,
            87.13825267,
            96.14701585,
            108.2505623,
            112.7455582,
            117.6360986,
            125.795539,
            130.0730637,
            126.9739371,
            132.4691139,
            130.8954086,
            129.9114421,
            126.9035985,
            120.0271193,
            114.1841258,
            108.5299902,
            100.3782574,
            84.34148807,
            68.87984912,
            52.48503054,
            47.06937061,
            47.12509769,
            40.59271857,
            36.74958975,
            30.20109178,
            22.12000086,
            29.00547817,
            29.88142975,
            28.19049856,
            25.30487882,
            39.32487529,
            48.63966392,
            49.31356593,
            49.40035937,
            54.37511668,
            69.77685527,
            85.72253517,
            99.71336332,
            null
           ],
           "y": [
            132.8970804,
            128.6567371,
            114.5052243,
            121.7846509,
            122.6648195,
            117.0363673,
            106.1069251,
            97.00907745,
            88.3605384,
            78.57480316,
            70.40838551,
            60.39347846,
            55.44546708,
            43.60712934,
            36.37874293,
            33.82592306,
            34.38583847,
            36.64467032,
            36.10426183,
            41.4307655,
            41.61411986,
            41.65051415,
            36.14508385,
            40.4275684,
            54.67701478,
            70.09919795,
            77.77602635,
            78.17718237,
            83.34510835,
            99.35497826,
            116.3818392,
            123.6971236,
            123.6238135,
            123.6091074,
            128.9042947,
            132.4448089,
            125.8094665,
            121.044838,
            null
           ]
          },
          {
           "type": "scatter",
           "x": [
            null,
            null
           ],
           "y": [
            null,
            null
           ]
          },
          {
           "hovertemplate": "Detection<br>(%{x}, %{y})<br>Time: %{meta}",
           "meta": [
            "2025-01-09 14:44:24",
            "2025-01-09 14:44:25",
            "2025-01-09 14:44:26",
            "2025-01-09 14:44:27",
            "2025-01-09 14:44:28",
            "2025-01-09 14:44:29",
            "2025-01-09 14:44:30",
            "2025-01-09 14:44:31",
            "2025-01-09 14:44:32",
            "2025-01-09 14:44:33",
            "2025-01-09 14:44:34",
            "2025-01-09 14:44:35",
            "2025-01-09 14:44:36",
            "2025-01-09 14:44:37",
            "2025-01-09 14:44:38",
            "2025-01-09 14:44:39",
            "2025-01-09 14:44:40",
            "2025-01-09 14:44:41",
            "2025-01-09 14:44:42",
            "2025-01-09 14:44:43",
            "2025-01-09 14:44:44",
            "2025-01-09 14:44:45",
            "2025-01-09 14:44:46",
            "2025-01-09 14:44:47",
            "2025-01-09 14:44:48",
            "2025-01-09 14:44:49",
            "2025-01-09 14:44:50",
            "2025-01-09 14:44:51",
            "2025-01-09 14:44:52",
            "2025-01-09 14:44:53",
            "2025-01-09 14:44:54",
            "2025-01-09 14:44:55",
            "2025-01-09 14:44:56",
            "2025-01-09 14:44:57",
            "2025-01-09 14:44:58",
            "2025-01-09 14:44:59",
            "2025-01-09 14:45:00",
            "2025-01-09 14:45:01"
           ],
           "type": "scatter",
           "x": [
            77.99730680145169,
            89.32677733462154,
            100.3230024678982,
            110.37502458622242,
            112.51475383083013,
            117.95818981683755,
            127.49727108687048,
            131.06557206113158,
            130.31479947134028,
            133.16915456245104,
            125.18674982593032,
            131.84438020286137,
            131.97892413148077,
            120.12943845523563,
            117.61152431780424,
            108.8764631767969,
            98.39310811884359,
            83.56353285390867,
            71.63086271419168,
            51.61894144676717,
            44.72473490210102,
            43.309761555780945,
            39.453101646722224,
            33.94825416303204,
            26.592306484119824,
            20.117676757592967,
            27.86328315913987,
            29.818412371677347,
            28.339235590923234,
            23.886491498899375,
            37.821208016593026,
            46.82141355769738,
            49.710302845064945,
            45.75512504937613,
            52.34633586136469,
            71.4071513287825,
            88.27031255424862,
            100.61302657985183,
            null
           ],
           "y": [
            133.79185911959564,
            133.66752662373142,
            112.31996452768946,
            121.44620589336175,
            123.58294566179377,
            120.28822171944623,
            106.37899870804137,
            97.75519592835539,
            87.90179057607384,
            76.66498702762841,
            71.86992112076258,
            58.73394702384867,
            52.19340656745482,
            43.188573527052114,
            39.66432902283251,
            34.671520160373056,
            29.9566429174598,
            36.994277243128515,
            38.79286490665786,
            40.75479599992838,
            38.43886322319879,
            46.0125805425723,
            35.165519932401644,
            42.16608968749065,
            54.201313051889215,
            70.96433823587778,
            75.13605252987823,
            79.13496154943564,
            84.02145607462953,
            98.54386435461522,
            115.57785388927039,
            119.83703835281113,
            122.72540401457482,
            124.64391998213631,
            129.02044813611832,
            132.73322345638937,
            123.04831202531729,
            119.51355608497964,
            null
           ]
          },
          {
           "type": "scatter",
           "x": [
            null,
            null
           ],
           "y": [
            null,
            null
           ]
          },
          {
           "customdata": [
            "2025-01-09 14:44:24",
            "2025-01-09 14:44:25",
            "2025-01-09 14:44:26",
            "2025-01-09 14:44:27",
            "2025-01-09 14:44:28",
            "2025-01-09 14:44:29",
            "2025-01-09 14:44:30",
            "2025-01-09 14:44:31",
            "2025-01-09 14:44:32",
            "2025-01-09 14:44:33",
            "2025-01-09 14:44:34",
            "2025-01-09 14:44:35",
            "2025-01-09 14:44:36",
            "2025-01-09 14:44:37",
            "2025-01-09 14:44:38",
            "2025-01-09 14:44:39",
            "2025-01-09 14:44:40",
            "2025-01-09 14:44:41",
            "2025-01-09 14:44:42",
            "2025-01-09 14:44:43",
            "2025-01-09 14:44:44",
            "2025-01-09 14:44:45",
            "2025-01-09 14:44:46",
            "2025-01-09 14:44:47",
            "2025-01-09 14:44:48",
            "2025-01-09 14:44:49",
            "2025-01-09 14:44:50",
            "2025-01-09 14:44:51",
            "2025-01-09 14:44:52",
            "2025-01-09 14:44:53",
            "2025-01-09 14:44:54",
            "2025-01-09 14:44:55",
            "2025-01-09 14:44:56",
            "2025-01-09 14:44:57",
            "2025-01-09 14:44:58",
            "2025-01-09 14:44:59",
            "2025-01-09 14:45:00",
            "2025-01-09 14:45:01"
           ],
           "hovertemplate": "%{meta}<br>(%{x}, %{y})<br>Time: %{customdata}",
           "meta": [
            "GaussianState",
            "GaussianStateUpdate",
            "GaussianStateUpdate",
            "GaussianStateUpdate",
            "GaussianStateUpdate",
            "GaussianStateUpdate",
            "GaussianStateUpdate",
            "GaussianStateUpdate",
            "GaussianStateUpdate",
            "GaussianStateUpdate",
            "GaussianStateUpdate",
            "GaussianStateUpdate",
            "GaussianStateUpdate",
            "GaussianStateUpdate",
            "GaussianStateUpdate",
            "GaussianStateUpdate",
            "GaussianStateUpdate",
            "GaussianStateUpdate",
            "GaussianStateUpdate",
            "GaussianStateUpdate",
            "GaussianStateUpdate",
            "GaussianStateUpdate",
            "GaussianStateUpdate",
            "GaussianStateUpdate",
            "GaussianStateUpdate",
            "GaussianStateUpdate",
            "GaussianStateUpdate",
            "GaussianStateUpdate",
            "GaussianStateUpdate",
            "GaussianStateUpdate",
            "GaussianStateUpdate",
            "GaussianStateUpdate",
            "GaussianStateUpdate",
            "GaussianStateUpdate",
            "GaussianStateUpdate",
            "GaussianStateUpdate",
            "GaussianStateUpdate",
            "GaussianStateUpdate"
           ],
           "type": "scatter",
           "x": [
            74.22014502,
            89.22992315256701,
            100.77107487718641,
            110.19651238288311,
            111.90587167496986,
            117.02210478270644,
            127.25365431551246,
            132.20295551989798,
            131.7673489167498,
            133.88777504563453,
            126.6191258457489,
            131.08148094981053,
            132.516111057558,
            121.8925776961243,
            116.22562071431086,
            107.38275445100885,
            95.64458980760368,
            69.74471675666138,
            75.19927001089755,
            54.19203036846665,
            45.51363648487457,
            45.072259760018326,
            47.482090538063524,
            6.77233631771179,
            20.79524834411984,
            15.445157612356503,
            21.53231896314162,
            26.025575840940434,
            26.757285025078122,
            23.66041685761451,
            35.53474288071501,
            47.871194426039786,
            53.287893936954404,
            49.63620707117352,
            52.36086817191487,
            68.84857818548352,
            87.748145553877,
            101.96591077299826,
            null
           ],
           "y": [
            131.1193202,
            133.65116665735812,
            112.5795863318055,
            120.62217559225633,
            124.46905075207951,
            121.1429694947251,
            106.43224124468414,
            96.32056275288147,
            86.85309014734673,
            76.36511888941192,
            71.75005913157042,
            60.23221901786741,
            52.79028295813589,
            44.12040575226839,
            39.803591413697,
            35.40793902756456,
            31.102194231631856,
            34.25564863195609,
            39.04404228034326,
            41.056373855401205,
            38.86390603690417,
            44.092185485392896,
            36.81592985718771,
            47.342101819234,
            55.33353342909058,
            72.58448252621204,
            79.44521697812957,
            82.34176023182467,
            84.73037917594036,
            96.01043950531638,
            113.37986062141945,
            121.00037436635544,
            123.66206080149924,
            124.52583539135296,
            127.8326057899675,
            132.0400577115504,
            124.8778340648076,
            119.46567942978787,
            null
           ]
          }
         ],
         "name": "2025-01-09 14:45:01",
         "traces": [
          0,
          1,
          2,
          3,
          4,
          5
         ]
        },
        {
         "data": [
          {
           "type": "scatter",
           "x": [
            0,
            0
           ],
           "y": [
            0,
            0
           ]
          },
          {
           "hovertemplate": "GroundTruthState<br>(%{x}, %{y})<br>Time: %{meta}",
           "meta": [
            "2025-01-09 14:44:24",
            "2025-01-09 14:44:25",
            "2025-01-09 14:44:26",
            "2025-01-09 14:44:27",
            "2025-01-09 14:44:28",
            "2025-01-09 14:44:29",
            "2025-01-09 14:44:30",
            "2025-01-09 14:44:31",
            "2025-01-09 14:44:32",
            "2025-01-09 14:44:33",
            "2025-01-09 14:44:34",
            "2025-01-09 14:44:35",
            "2025-01-09 14:44:36",
            "2025-01-09 14:44:37",
            "2025-01-09 14:44:38",
            "2025-01-09 14:44:39",
            "2025-01-09 14:44:40",
            "2025-01-09 14:44:41",
            "2025-01-09 14:44:42",
            "2025-01-09 14:44:43",
            "2025-01-09 14:44:44",
            "2025-01-09 14:44:45",
            "2025-01-09 14:44:46",
            "2025-01-09 14:44:47",
            "2025-01-09 14:44:48",
            "2025-01-09 14:44:49",
            "2025-01-09 14:44:50",
            "2025-01-09 14:44:51",
            "2025-01-09 14:44:52",
            "2025-01-09 14:44:53",
            "2025-01-09 14:44:54",
            "2025-01-09 14:44:55",
            "2025-01-09 14:44:56",
            "2025-01-09 14:44:57",
            "2025-01-09 14:44:58",
            "2025-01-09 14:44:59",
            "2025-01-09 14:45:00",
            "2025-01-09 14:45:01",
            "2025-01-09 14:45:02"
           ],
           "type": "scatter",
           "x": [
            74.05276584,
            87.13825267,
            96.14701585,
            108.2505623,
            112.7455582,
            117.6360986,
            125.795539,
            130.0730637,
            126.9739371,
            132.4691139,
            130.8954086,
            129.9114421,
            126.9035985,
            120.0271193,
            114.1841258,
            108.5299902,
            100.3782574,
            84.34148807,
            68.87984912,
            52.48503054,
            47.06937061,
            47.12509769,
            40.59271857,
            36.74958975,
            30.20109178,
            22.12000086,
            29.00547817,
            29.88142975,
            28.19049856,
            25.30487882,
            39.32487529,
            48.63966392,
            49.31356593,
            49.40035937,
            54.37511668,
            69.77685527,
            85.72253517,
            99.71336332,
            109.3859885,
            null
           ],
           "y": [
            132.8970804,
            128.6567371,
            114.5052243,
            121.7846509,
            122.6648195,
            117.0363673,
            106.1069251,
            97.00907745,
            88.3605384,
            78.57480316,
            70.40838551,
            60.39347846,
            55.44546708,
            43.60712934,
            36.37874293,
            33.82592306,
            34.38583847,
            36.64467032,
            36.10426183,
            41.4307655,
            41.61411986,
            41.65051415,
            36.14508385,
            40.4275684,
            54.67701478,
            70.09919795,
            77.77602635,
            78.17718237,
            83.34510835,
            99.35497826,
            116.3818392,
            123.6971236,
            123.6238135,
            123.6091074,
            128.9042947,
            132.4448089,
            125.8094665,
            121.044838,
            124.31573,
            null
           ]
          },
          {
           "type": "scatter",
           "x": [
            null,
            null
           ],
           "y": [
            null,
            null
           ]
          },
          {
           "hovertemplate": "Detection<br>(%{x}, %{y})<br>Time: %{meta}",
           "meta": [
            "2025-01-09 14:44:24",
            "2025-01-09 14:44:25",
            "2025-01-09 14:44:26",
            "2025-01-09 14:44:27",
            "2025-01-09 14:44:28",
            "2025-01-09 14:44:29",
            "2025-01-09 14:44:30",
            "2025-01-09 14:44:31",
            "2025-01-09 14:44:32",
            "2025-01-09 14:44:33",
            "2025-01-09 14:44:34",
            "2025-01-09 14:44:35",
            "2025-01-09 14:44:36",
            "2025-01-09 14:44:37",
            "2025-01-09 14:44:38",
            "2025-01-09 14:44:39",
            "2025-01-09 14:44:40",
            "2025-01-09 14:44:41",
            "2025-01-09 14:44:42",
            "2025-01-09 14:44:43",
            "2025-01-09 14:44:44",
            "2025-01-09 14:44:45",
            "2025-01-09 14:44:46",
            "2025-01-09 14:44:47",
            "2025-01-09 14:44:48",
            "2025-01-09 14:44:49",
            "2025-01-09 14:44:50",
            "2025-01-09 14:44:51",
            "2025-01-09 14:44:52",
            "2025-01-09 14:44:53",
            "2025-01-09 14:44:54",
            "2025-01-09 14:44:55",
            "2025-01-09 14:44:56",
            "2025-01-09 14:44:57",
            "2025-01-09 14:44:58",
            "2025-01-09 14:44:59",
            "2025-01-09 14:45:00",
            "2025-01-09 14:45:01",
            "2025-01-09 14:45:02"
           ],
           "type": "scatter",
           "x": [
            77.99730680145169,
            89.32677733462154,
            100.3230024678982,
            110.37502458622242,
            112.51475383083013,
            117.95818981683755,
            127.49727108687048,
            131.06557206113158,
            130.31479947134028,
            133.16915456245104,
            125.18674982593032,
            131.84438020286137,
            131.97892413148077,
            120.12943845523563,
            117.61152431780424,
            108.8764631767969,
            98.39310811884359,
            83.56353285390867,
            71.63086271419168,
            51.61894144676717,
            44.72473490210102,
            43.309761555780945,
            39.453101646722224,
            33.94825416303204,
            26.592306484119824,
            20.117676757592967,
            27.86328315913987,
            29.818412371677347,
            28.339235590923234,
            23.886491498899375,
            37.821208016593026,
            46.82141355769738,
            49.710302845064945,
            45.75512504937613,
            52.34633586136469,
            71.4071513287825,
            88.27031255424862,
            100.61302657985183,
            107.43882687981629,
            null
           ],
           "y": [
            133.79185911959564,
            133.66752662373142,
            112.31996452768946,
            121.44620589336175,
            123.58294566179377,
            120.28822171944623,
            106.37899870804137,
            97.75519592835539,
            87.90179057607384,
            76.66498702762841,
            71.86992112076258,
            58.73394702384867,
            52.19340656745482,
            43.188573527052114,
            39.66432902283251,
            34.671520160373056,
            29.9566429174598,
            36.994277243128515,
            38.79286490665786,
            40.75479599992838,
            38.43886322319879,
            46.0125805425723,
            35.165519932401644,
            42.16608968749065,
            54.201313051889215,
            70.96433823587778,
            75.13605252987823,
            79.13496154943564,
            84.02145607462953,
            98.54386435461522,
            115.57785388927039,
            119.83703835281113,
            122.72540401457482,
            124.64391998213631,
            129.02044813611832,
            132.73322345638937,
            123.04831202531729,
            119.51355608497964,
            123.0213828008338,
            null
           ]
          },
          {
           "type": "scatter",
           "x": [
            null,
            null
           ],
           "y": [
            null,
            null
           ]
          },
          {
           "customdata": [
            "2025-01-09 14:44:24",
            "2025-01-09 14:44:25",
            "2025-01-09 14:44:26",
            "2025-01-09 14:44:27",
            "2025-01-09 14:44:28",
            "2025-01-09 14:44:29",
            "2025-01-09 14:44:30",
            "2025-01-09 14:44:31",
            "2025-01-09 14:44:32",
            "2025-01-09 14:44:33",
            "2025-01-09 14:44:34",
            "2025-01-09 14:44:35",
            "2025-01-09 14:44:36",
            "2025-01-09 14:44:37",
            "2025-01-09 14:44:38",
            "2025-01-09 14:44:39",
            "2025-01-09 14:44:40",
            "2025-01-09 14:44:41",
            "2025-01-09 14:44:42",
            "2025-01-09 14:44:43",
            "2025-01-09 14:44:44",
            "2025-01-09 14:44:45",
            "2025-01-09 14:44:46",
            "2025-01-09 14:44:47",
            "2025-01-09 14:44:48",
            "2025-01-09 14:44:49",
            "2025-01-09 14:44:50",
            "2025-01-09 14:44:51",
            "2025-01-09 14:44:52",
            "2025-01-09 14:44:53",
            "2025-01-09 14:44:54",
            "2025-01-09 14:44:55",
            "2025-01-09 14:44:56",
            "2025-01-09 14:44:57",
            "2025-01-09 14:44:58",
            "2025-01-09 14:44:59",
            "2025-01-09 14:45:00",
            "2025-01-09 14:45:01",
            "2025-01-09 14:45:02"
           ],
           "hovertemplate": "%{meta}<br>(%{x}, %{y})<br>Time: %{customdata}",
           "meta": [
            "GaussianState",
            "GaussianStateUpdate",
            "GaussianStateUpdate",
            "GaussianStateUpdate",
            "GaussianStateUpdate",
            "GaussianStateUpdate",
            "GaussianStateUpdate",
            "GaussianStateUpdate",
            "GaussianStateUpdate",
            "GaussianStateUpdate",
            "GaussianStateUpdate",
            "GaussianStateUpdate",
            "GaussianStateUpdate",
            "GaussianStateUpdate",
            "GaussianStateUpdate",
            "GaussianStateUpdate",
            "GaussianStateUpdate",
            "GaussianStateUpdate",
            "GaussianStateUpdate",
            "GaussianStateUpdate",
            "GaussianStateUpdate",
            "GaussianStateUpdate",
            "GaussianStateUpdate",
            "GaussianStateUpdate",
            "GaussianStateUpdate",
            "GaussianStateUpdate",
            "GaussianStateUpdate",
            "GaussianStateUpdate",
            "GaussianStateUpdate",
            "GaussianStateUpdate",
            "GaussianStateUpdate",
            "GaussianStateUpdate",
            "GaussianStateUpdate",
            "GaussianStateUpdate",
            "GaussianStateUpdate",
            "GaussianStateUpdate",
            "GaussianStateUpdate",
            "GaussianStateUpdate",
            "GaussianStateUpdate"
           ],
           "type": "scatter",
           "x": [
            74.22014502,
            89.22992315256701,
            100.77107487718641,
            110.19651238288311,
            111.90587167496986,
            117.02210478270644,
            127.25365431551246,
            132.20295551989798,
            131.7673489167498,
            133.88777504563453,
            126.6191258457489,
            131.08148094981053,
            132.516111057558,
            121.8925776961243,
            116.22562071431086,
            107.38275445100885,
            95.64458980760368,
            69.74471675666138,
            75.19927001089755,
            54.19203036846665,
            45.51363648487457,
            45.072259760018326,
            47.482090538063524,
            6.77233631771179,
            20.79524834411984,
            15.445157612356503,
            21.53231896314162,
            26.025575840940434,
            26.757285025078122,
            23.66041685761451,
            35.53474288071501,
            47.871194426039786,
            53.287893936954404,
            49.63620707117352,
            52.36086817191487,
            68.84857818548352,
            87.748145553877,
            101.96591077299826,
            109.00354594240281,
            null
           ],
           "y": [
            131.1193202,
            133.65116665735812,
            112.5795863318055,
            120.62217559225633,
            124.46905075207951,
            121.1429694947251,
            106.43224124468414,
            96.32056275288147,
            86.85309014734673,
            76.36511888941192,
            71.75005913157042,
            60.23221901786741,
            52.79028295813589,
            44.12040575226839,
            39.803591413697,
            35.40793902756456,
            31.102194231631856,
            34.25564863195609,
            39.04404228034326,
            41.056373855401205,
            38.86390603690417,
            44.092185485392896,
            36.81592985718771,
            47.342101819234,
            55.33353342909058,
            72.58448252621204,
            79.44521697812957,
            82.34176023182467,
            84.73037917594036,
            96.01043950531638,
            113.37986062141945,
            121.00037436635544,
            123.66206080149924,
            124.52583539135296,
            127.8326057899675,
            132.0400577115504,
            124.8778340648076,
            119.46567942978787,
            121.60296019794413,
            null
           ]
          }
         ],
         "name": "2025-01-09 14:45:02",
         "traces": [
          0,
          1,
          2,
          3,
          4,
          5
         ]
        },
        {
         "data": [
          {
           "type": "scatter",
           "x": [
            0,
            0
           ],
           "y": [
            0,
            0
           ]
          },
          {
           "hovertemplate": "GroundTruthState<br>(%{x}, %{y})<br>Time: %{meta}",
           "meta": [
            "2025-01-09 14:44:24",
            "2025-01-09 14:44:25",
            "2025-01-09 14:44:26",
            "2025-01-09 14:44:27",
            "2025-01-09 14:44:28",
            "2025-01-09 14:44:29",
            "2025-01-09 14:44:30",
            "2025-01-09 14:44:31",
            "2025-01-09 14:44:32",
            "2025-01-09 14:44:33",
            "2025-01-09 14:44:34",
            "2025-01-09 14:44:35",
            "2025-01-09 14:44:36",
            "2025-01-09 14:44:37",
            "2025-01-09 14:44:38",
            "2025-01-09 14:44:39",
            "2025-01-09 14:44:40",
            "2025-01-09 14:44:41",
            "2025-01-09 14:44:42",
            "2025-01-09 14:44:43",
            "2025-01-09 14:44:44",
            "2025-01-09 14:44:45",
            "2025-01-09 14:44:46",
            "2025-01-09 14:44:47",
            "2025-01-09 14:44:48",
            "2025-01-09 14:44:49",
            "2025-01-09 14:44:50",
            "2025-01-09 14:44:51",
            "2025-01-09 14:44:52",
            "2025-01-09 14:44:53",
            "2025-01-09 14:44:54",
            "2025-01-09 14:44:55",
            "2025-01-09 14:44:56",
            "2025-01-09 14:44:57",
            "2025-01-09 14:44:58",
            "2025-01-09 14:44:59",
            "2025-01-09 14:45:00",
            "2025-01-09 14:45:01",
            "2025-01-09 14:45:02",
            "2025-01-09 14:45:03"
           ],
           "type": "scatter",
           "x": [
            74.05276584,
            87.13825267,
            96.14701585,
            108.2505623,
            112.7455582,
            117.6360986,
            125.795539,
            130.0730637,
            126.9739371,
            132.4691139,
            130.8954086,
            129.9114421,
            126.9035985,
            120.0271193,
            114.1841258,
            108.5299902,
            100.3782574,
            84.34148807,
            68.87984912,
            52.48503054,
            47.06937061,
            47.12509769,
            40.59271857,
            36.74958975,
            30.20109178,
            22.12000086,
            29.00547817,
            29.88142975,
            28.19049856,
            25.30487882,
            39.32487529,
            48.63966392,
            49.31356593,
            49.40035937,
            54.37511668,
            69.77685527,
            85.72253517,
            99.71336332,
            109.3859885,
            115.0053909,
            null
           ],
           "y": [
            132.8970804,
            128.6567371,
            114.5052243,
            121.7846509,
            122.6648195,
            117.0363673,
            106.1069251,
            97.00907745,
            88.3605384,
            78.57480316,
            70.40838551,
            60.39347846,
            55.44546708,
            43.60712934,
            36.37874293,
            33.82592306,
            34.38583847,
            36.64467032,
            36.10426183,
            41.4307655,
            41.61411986,
            41.65051415,
            36.14508385,
            40.4275684,
            54.67701478,
            70.09919795,
            77.77602635,
            78.17718237,
            83.34510835,
            99.35497826,
            116.3818392,
            123.6971236,
            123.6238135,
            123.6091074,
            128.9042947,
            132.4448089,
            125.8094665,
            121.044838,
            124.31573,
            117.4327358,
            null
           ]
          },
          {
           "type": "scatter",
           "x": [
            null,
            null
           ],
           "y": [
            null,
            null
           ]
          },
          {
           "hovertemplate": "Detection<br>(%{x}, %{y})<br>Time: %{meta}",
           "meta": [
            "2025-01-09 14:44:24",
            "2025-01-09 14:44:25",
            "2025-01-09 14:44:26",
            "2025-01-09 14:44:27",
            "2025-01-09 14:44:28",
            "2025-01-09 14:44:29",
            "2025-01-09 14:44:30",
            "2025-01-09 14:44:31",
            "2025-01-09 14:44:32",
            "2025-01-09 14:44:33",
            "2025-01-09 14:44:34",
            "2025-01-09 14:44:35",
            "2025-01-09 14:44:36",
            "2025-01-09 14:44:37",
            "2025-01-09 14:44:38",
            "2025-01-09 14:44:39",
            "2025-01-09 14:44:40",
            "2025-01-09 14:44:41",
            "2025-01-09 14:44:42",
            "2025-01-09 14:44:43",
            "2025-01-09 14:44:44",
            "2025-01-09 14:44:45",
            "2025-01-09 14:44:46",
            "2025-01-09 14:44:47",
            "2025-01-09 14:44:48",
            "2025-01-09 14:44:49",
            "2025-01-09 14:44:50",
            "2025-01-09 14:44:51",
            "2025-01-09 14:44:52",
            "2025-01-09 14:44:53",
            "2025-01-09 14:44:54",
            "2025-01-09 14:44:55",
            "2025-01-09 14:44:56",
            "2025-01-09 14:44:57",
            "2025-01-09 14:44:58",
            "2025-01-09 14:44:59",
            "2025-01-09 14:45:00",
            "2025-01-09 14:45:01",
            "2025-01-09 14:45:02",
            "2025-01-09 14:45:03"
           ],
           "type": "scatter",
           "x": [
            77.99730680145169,
            89.32677733462154,
            100.3230024678982,
            110.37502458622242,
            112.51475383083013,
            117.95818981683755,
            127.49727108687048,
            131.06557206113158,
            130.31479947134028,
            133.16915456245104,
            125.18674982593032,
            131.84438020286137,
            131.97892413148077,
            120.12943845523563,
            117.61152431780424,
            108.8764631767969,
            98.39310811884359,
            83.56353285390867,
            71.63086271419168,
            51.61894144676717,
            44.72473490210102,
            43.309761555780945,
            39.453101646722224,
            33.94825416303204,
            26.592306484119824,
            20.117676757592967,
            27.86328315913987,
            29.818412371677347,
            28.339235590923234,
            23.886491498899375,
            37.821208016593026,
            46.82141355769738,
            49.710302845064945,
            45.75512504937613,
            52.34633586136469,
            71.4071513287825,
            88.27031255424862,
            100.61302657985183,
            107.43882687981629,
            114.308738259601,
            null
           ],
           "y": [
            133.79185911959564,
            133.66752662373142,
            112.31996452768946,
            121.44620589336175,
            123.58294566179377,
            120.28822171944623,
            106.37899870804137,
            97.75519592835539,
            87.90179057607384,
            76.66498702762841,
            71.86992112076258,
            58.73394702384867,
            52.19340656745482,
            43.188573527052114,
            39.66432902283251,
            34.671520160373056,
            29.9566429174598,
            36.994277243128515,
            38.79286490665786,
            40.75479599992838,
            38.43886322319879,
            46.0125805425723,
            35.165519932401644,
            42.16608968749065,
            54.201313051889215,
            70.96433823587778,
            75.13605252987823,
            79.13496154943564,
            84.02145607462953,
            98.54386435461522,
            115.57785388927039,
            119.83703835281113,
            122.72540401457482,
            124.64391998213631,
            129.02044813611832,
            132.73322345638937,
            123.04831202531729,
            119.51355608497964,
            123.0213828008338,
            117.55832532320525,
            null
           ]
          },
          {
           "type": "scatter",
           "x": [
            null,
            null
           ],
           "y": [
            null,
            null
           ]
          },
          {
           "customdata": [
            "2025-01-09 14:44:24",
            "2025-01-09 14:44:25",
            "2025-01-09 14:44:26",
            "2025-01-09 14:44:27",
            "2025-01-09 14:44:28",
            "2025-01-09 14:44:29",
            "2025-01-09 14:44:30",
            "2025-01-09 14:44:31",
            "2025-01-09 14:44:32",
            "2025-01-09 14:44:33",
            "2025-01-09 14:44:34",
            "2025-01-09 14:44:35",
            "2025-01-09 14:44:36",
            "2025-01-09 14:44:37",
            "2025-01-09 14:44:38",
            "2025-01-09 14:44:39",
            "2025-01-09 14:44:40",
            "2025-01-09 14:44:41",
            "2025-01-09 14:44:42",
            "2025-01-09 14:44:43",
            "2025-01-09 14:44:44",
            "2025-01-09 14:44:45",
            "2025-01-09 14:44:46",
            "2025-01-09 14:44:47",
            "2025-01-09 14:44:48",
            "2025-01-09 14:44:49",
            "2025-01-09 14:44:50",
            "2025-01-09 14:44:51",
            "2025-01-09 14:44:52",
            "2025-01-09 14:44:53",
            "2025-01-09 14:44:54",
            "2025-01-09 14:44:55",
            "2025-01-09 14:44:56",
            "2025-01-09 14:44:57",
            "2025-01-09 14:44:58",
            "2025-01-09 14:44:59",
            "2025-01-09 14:45:00",
            "2025-01-09 14:45:01",
            "2025-01-09 14:45:02",
            "2025-01-09 14:45:03"
           ],
           "hovertemplate": "%{meta}<br>(%{x}, %{y})<br>Time: %{customdata}",
           "meta": [
            "GaussianState",
            "GaussianStateUpdate",
            "GaussianStateUpdate",
            "GaussianStateUpdate",
            "GaussianStateUpdate",
            "GaussianStateUpdate",
            "GaussianStateUpdate",
            "GaussianStateUpdate",
            "GaussianStateUpdate",
            "GaussianStateUpdate",
            "GaussianStateUpdate",
            "GaussianStateUpdate",
            "GaussianStateUpdate",
            "GaussianStateUpdate",
            "GaussianStateUpdate",
            "GaussianStateUpdate",
            "GaussianStateUpdate",
            "GaussianStateUpdate",
            "GaussianStateUpdate",
            "GaussianStateUpdate",
            "GaussianStateUpdate",
            "GaussianStateUpdate",
            "GaussianStateUpdate",
            "GaussianStateUpdate",
            "GaussianStateUpdate",
            "GaussianStateUpdate",
            "GaussianStateUpdate",
            "GaussianStateUpdate",
            "GaussianStateUpdate",
            "GaussianStateUpdate",
            "GaussianStateUpdate",
            "GaussianStateUpdate",
            "GaussianStateUpdate",
            "GaussianStateUpdate",
            "GaussianStateUpdate",
            "GaussianStateUpdate",
            "GaussianStateUpdate",
            "GaussianStateUpdate",
            "GaussianStateUpdate",
            "GaussianStateUpdate"
           ],
           "type": "scatter",
           "x": [
            74.22014502,
            89.22992315256701,
            100.77107487718641,
            110.19651238288311,
            111.90587167496986,
            117.02210478270644,
            127.25365431551246,
            132.20295551989798,
            131.7673489167498,
            133.88777504563453,
            126.6191258457489,
            131.08148094981053,
            132.516111057558,
            121.8925776961243,
            116.22562071431086,
            107.38275445100885,
            95.64458980760368,
            69.74471675666138,
            75.19927001089755,
            54.19203036846665,
            45.51363648487457,
            45.072259760018326,
            47.482090538063524,
            6.77233631771179,
            20.79524834411984,
            15.445157612356503,
            21.53231896314162,
            26.025575840940434,
            26.757285025078122,
            23.66041685761451,
            35.53474288071501,
            47.871194426039786,
            53.287893936954404,
            49.63620707117352,
            52.36086817191487,
            68.84857818548352,
            87.748145553877,
            101.96591077299826,
            109.00354594240281,
            113.95634612885209,
            null
           ],
           "y": [
            131.1193202,
            133.65116665735812,
            112.5795863318055,
            120.62217559225633,
            124.46905075207951,
            121.1429694947251,
            106.43224124468414,
            96.32056275288147,
            86.85309014734673,
            76.36511888941192,
            71.75005913157042,
            60.23221901786741,
            52.79028295813589,
            44.12040575226839,
            39.803591413697,
            35.40793902756456,
            31.102194231631856,
            34.25564863195609,
            39.04404228034326,
            41.056373855401205,
            38.86390603690417,
            44.092185485392896,
            36.81592985718771,
            47.342101819234,
            55.33353342909058,
            72.58448252621204,
            79.44521697812957,
            82.34176023182467,
            84.73037917594036,
            96.01043950531638,
            113.37986062141945,
            121.00037436635544,
            123.66206080149924,
            124.52583539135296,
            127.8326057899675,
            132.0400577115504,
            124.8778340648076,
            119.46567942978787,
            121.60296019794413,
            118.54642149740445,
            null
           ]
          }
         ],
         "name": "2025-01-09 14:45:03",
         "traces": [
          0,
          1,
          2,
          3,
          4,
          5
         ]
        },
        {
         "data": [
          {
           "type": "scatter",
           "x": [
            0,
            0
           ],
           "y": [
            0,
            0
           ]
          },
          {
           "hovertemplate": "GroundTruthState<br>(%{x}, %{y})<br>Time: %{meta}",
           "meta": [
            "2025-01-09 14:44:24",
            "2025-01-09 14:44:25",
            "2025-01-09 14:44:26",
            "2025-01-09 14:44:27",
            "2025-01-09 14:44:28",
            "2025-01-09 14:44:29",
            "2025-01-09 14:44:30",
            "2025-01-09 14:44:31",
            "2025-01-09 14:44:32",
            "2025-01-09 14:44:33",
            "2025-01-09 14:44:34",
            "2025-01-09 14:44:35",
            "2025-01-09 14:44:36",
            "2025-01-09 14:44:37",
            "2025-01-09 14:44:38",
            "2025-01-09 14:44:39",
            "2025-01-09 14:44:40",
            "2025-01-09 14:44:41",
            "2025-01-09 14:44:42",
            "2025-01-09 14:44:43",
            "2025-01-09 14:44:44",
            "2025-01-09 14:44:45",
            "2025-01-09 14:44:46",
            "2025-01-09 14:44:47",
            "2025-01-09 14:44:48",
            "2025-01-09 14:44:49",
            "2025-01-09 14:44:50",
            "2025-01-09 14:44:51",
            "2025-01-09 14:44:52",
            "2025-01-09 14:44:53",
            "2025-01-09 14:44:54",
            "2025-01-09 14:44:55",
            "2025-01-09 14:44:56",
            "2025-01-09 14:44:57",
            "2025-01-09 14:44:58",
            "2025-01-09 14:44:59",
            "2025-01-09 14:45:00",
            "2025-01-09 14:45:01",
            "2025-01-09 14:45:02",
            "2025-01-09 14:45:03",
            "2025-01-09 14:45:04"
           ],
           "type": "scatter",
           "x": [
            74.05276584,
            87.13825267,
            96.14701585,
            108.2505623,
            112.7455582,
            117.6360986,
            125.795539,
            130.0730637,
            126.9739371,
            132.4691139,
            130.8954086,
            129.9114421,
            126.9035985,
            120.0271193,
            114.1841258,
            108.5299902,
            100.3782574,
            84.34148807,
            68.87984912,
            52.48503054,
            47.06937061,
            47.12509769,
            40.59271857,
            36.74958975,
            30.20109178,
            22.12000086,
            29.00547817,
            29.88142975,
            28.19049856,
            25.30487882,
            39.32487529,
            48.63966392,
            49.31356593,
            49.40035937,
            54.37511668,
            69.77685527,
            85.72253517,
            99.71336332,
            109.3859885,
            115.0053909,
            115.2764287,
            null
           ],
           "y": [
            132.8970804,
            128.6567371,
            114.5052243,
            121.7846509,
            122.6648195,
            117.0363673,
            106.1069251,
            97.00907745,
            88.3605384,
            78.57480316,
            70.40838551,
            60.39347846,
            55.44546708,
            43.60712934,
            36.37874293,
            33.82592306,
            34.38583847,
            36.64467032,
            36.10426183,
            41.4307655,
            41.61411986,
            41.65051415,
            36.14508385,
            40.4275684,
            54.67701478,
            70.09919795,
            77.77602635,
            78.17718237,
            83.34510835,
            99.35497826,
            116.3818392,
            123.6971236,
            123.6238135,
            123.6091074,
            128.9042947,
            132.4448089,
            125.8094665,
            121.044838,
            124.31573,
            117.4327358,
            119.7933835,
            null
           ]
          },
          {
           "type": "scatter",
           "x": [
            null,
            null
           ],
           "y": [
            null,
            null
           ]
          },
          {
           "hovertemplate": "Detection<br>(%{x}, %{y})<br>Time: %{meta}",
           "meta": [
            "2025-01-09 14:44:24",
            "2025-01-09 14:44:25",
            "2025-01-09 14:44:26",
            "2025-01-09 14:44:27",
            "2025-01-09 14:44:28",
            "2025-01-09 14:44:29",
            "2025-01-09 14:44:30",
            "2025-01-09 14:44:31",
            "2025-01-09 14:44:32",
            "2025-01-09 14:44:33",
            "2025-01-09 14:44:34",
            "2025-01-09 14:44:35",
            "2025-01-09 14:44:36",
            "2025-01-09 14:44:37",
            "2025-01-09 14:44:38",
            "2025-01-09 14:44:39",
            "2025-01-09 14:44:40",
            "2025-01-09 14:44:41",
            "2025-01-09 14:44:42",
            "2025-01-09 14:44:43",
            "2025-01-09 14:44:44",
            "2025-01-09 14:44:45",
            "2025-01-09 14:44:46",
            "2025-01-09 14:44:47",
            "2025-01-09 14:44:48",
            "2025-01-09 14:44:49",
            "2025-01-09 14:44:50",
            "2025-01-09 14:44:51",
            "2025-01-09 14:44:52",
            "2025-01-09 14:44:53",
            "2025-01-09 14:44:54",
            "2025-01-09 14:44:55",
            "2025-01-09 14:44:56",
            "2025-01-09 14:44:57",
            "2025-01-09 14:44:58",
            "2025-01-09 14:44:59",
            "2025-01-09 14:45:00",
            "2025-01-09 14:45:01",
            "2025-01-09 14:45:02",
            "2025-01-09 14:45:03",
            "2025-01-09 14:45:04"
           ],
           "type": "scatter",
           "x": [
            77.99730680145169,
            89.32677733462154,
            100.3230024678982,
            110.37502458622242,
            112.51475383083013,
            117.95818981683755,
            127.49727108687048,
            131.06557206113158,
            130.31479947134028,
            133.16915456245104,
            125.18674982593032,
            131.84438020286137,
            131.97892413148077,
            120.12943845523563,
            117.61152431780424,
            108.8764631767969,
            98.39310811884359,
            83.56353285390867,
            71.63086271419168,
            51.61894144676717,
            44.72473490210102,
            43.309761555780945,
            39.453101646722224,
            33.94825416303204,
            26.592306484119824,
            20.117676757592967,
            27.86328315913987,
            29.818412371677347,
            28.339235590923234,
            23.886491498899375,
            37.821208016593026,
            46.82141355769738,
            49.710302845064945,
            45.75512504937613,
            52.34633586136469,
            71.4071513287825,
            88.27031255424862,
            100.61302657985183,
            107.43882687981629,
            114.308738259601,
            112.67107445203536,
            null
           ],
           "y": [
            133.79185911959564,
            133.66752662373142,
            112.31996452768946,
            121.44620589336175,
            123.58294566179377,
            120.28822171944623,
            106.37899870804137,
            97.75519592835539,
            87.90179057607384,
            76.66498702762841,
            71.86992112076258,
            58.73394702384867,
            52.19340656745482,
            43.188573527052114,
            39.66432902283251,
            34.671520160373056,
            29.9566429174598,
            36.994277243128515,
            38.79286490665786,
            40.75479599992838,
            38.43886322319879,
            46.0125805425723,
            35.165519932401644,
            42.16608968749065,
            54.201313051889215,
            70.96433823587778,
            75.13605252987823,
            79.13496154943564,
            84.02145607462953,
            98.54386435461522,
            115.57785388927039,
            119.83703835281113,
            122.72540401457482,
            124.64391998213631,
            129.02044813611832,
            132.73322345638937,
            123.04831202531729,
            119.51355608497964,
            123.0213828008338,
            117.55832532320525,
            121.8076927607619,
            null
           ]
          },
          {
           "type": "scatter",
           "x": [
            null,
            null
           ],
           "y": [
            null,
            null
           ]
          },
          {
           "customdata": [
            "2025-01-09 14:44:24",
            "2025-01-09 14:44:25",
            "2025-01-09 14:44:26",
            "2025-01-09 14:44:27",
            "2025-01-09 14:44:28",
            "2025-01-09 14:44:29",
            "2025-01-09 14:44:30",
            "2025-01-09 14:44:31",
            "2025-01-09 14:44:32",
            "2025-01-09 14:44:33",
            "2025-01-09 14:44:34",
            "2025-01-09 14:44:35",
            "2025-01-09 14:44:36",
            "2025-01-09 14:44:37",
            "2025-01-09 14:44:38",
            "2025-01-09 14:44:39",
            "2025-01-09 14:44:40",
            "2025-01-09 14:44:41",
            "2025-01-09 14:44:42",
            "2025-01-09 14:44:43",
            "2025-01-09 14:44:44",
            "2025-01-09 14:44:45",
            "2025-01-09 14:44:46",
            "2025-01-09 14:44:47",
            "2025-01-09 14:44:48",
            "2025-01-09 14:44:49",
            "2025-01-09 14:44:50",
            "2025-01-09 14:44:51",
            "2025-01-09 14:44:52",
            "2025-01-09 14:44:53",
            "2025-01-09 14:44:54",
            "2025-01-09 14:44:55",
            "2025-01-09 14:44:56",
            "2025-01-09 14:44:57",
            "2025-01-09 14:44:58",
            "2025-01-09 14:44:59",
            "2025-01-09 14:45:00",
            "2025-01-09 14:45:01",
            "2025-01-09 14:45:02",
            "2025-01-09 14:45:03",
            "2025-01-09 14:45:04"
           ],
           "hovertemplate": "%{meta}<br>(%{x}, %{y})<br>Time: %{customdata}",
           "meta": [
            "GaussianState",
            "GaussianStateUpdate",
            "GaussianStateUpdate",
            "GaussianStateUpdate",
            "GaussianStateUpdate",
            "GaussianStateUpdate",
            "GaussianStateUpdate",
            "GaussianStateUpdate",
            "GaussianStateUpdate",
            "GaussianStateUpdate",
            "GaussianStateUpdate",
            "GaussianStateUpdate",
            "GaussianStateUpdate",
            "GaussianStateUpdate",
            "GaussianStateUpdate",
            "GaussianStateUpdate",
            "GaussianStateUpdate",
            "GaussianStateUpdate",
            "GaussianStateUpdate",
            "GaussianStateUpdate",
            "GaussianStateUpdate",
            "GaussianStateUpdate",
            "GaussianStateUpdate",
            "GaussianStateUpdate",
            "GaussianStateUpdate",
            "GaussianStateUpdate",
            "GaussianStateUpdate",
            "GaussianStateUpdate",
            "GaussianStateUpdate",
            "GaussianStateUpdate",
            "GaussianStateUpdate",
            "GaussianStateUpdate",
            "GaussianStateUpdate",
            "GaussianStateUpdate",
            "GaussianStateUpdate",
            "GaussianStateUpdate",
            "GaussianStateUpdate",
            "GaussianStateUpdate",
            "GaussianStateUpdate",
            "GaussianStateUpdate",
            "GaussianStateUpdate"
           ],
           "type": "scatter",
           "x": [
            74.22014502,
            89.22992315256701,
            100.77107487718641,
            110.19651238288311,
            111.90587167496986,
            117.02210478270644,
            127.25365431551246,
            132.20295551989798,
            131.7673489167498,
            133.88777504563453,
            126.6191258457489,
            131.08148094981053,
            132.516111057558,
            121.8925776961243,
            116.22562071431086,
            107.38275445100885,
            95.64458980760368,
            69.74471675666138,
            75.19927001089755,
            54.19203036846665,
            45.51363648487457,
            45.072259760018326,
            47.482090538063524,
            6.77233631771179,
            20.79524834411984,
            15.445157612356503,
            21.53231896314162,
            26.025575840940434,
            26.757285025078122,
            23.66041685761451,
            35.53474288071501,
            47.871194426039786,
            53.287893936954404,
            49.63620707117352,
            52.36086817191487,
            68.84857818548352,
            87.748145553877,
            101.96591077299826,
            109.00354594240281,
            113.95634612885209,
            111.73781347931958,
            null
           ],
           "y": [
            131.1193202,
            133.65116665735812,
            112.5795863318055,
            120.62217559225633,
            124.46905075207951,
            121.1429694947251,
            106.43224124468414,
            96.32056275288147,
            86.85309014734673,
            76.36511888941192,
            71.75005913157042,
            60.23221901786741,
            52.79028295813589,
            44.12040575226839,
            39.803591413697,
            35.40793902756456,
            31.102194231631856,
            34.25564863195609,
            39.04404228034326,
            41.056373855401205,
            38.86390603690417,
            44.092185485392896,
            36.81592985718771,
            47.342101819234,
            55.33353342909058,
            72.58448252621204,
            79.44521697812957,
            82.34176023182467,
            84.73037917594036,
            96.01043950531638,
            113.37986062141945,
            121.00037436635544,
            123.66206080149924,
            124.52583539135296,
            127.8326057899675,
            132.0400577115504,
            124.8778340648076,
            119.46567942978787,
            121.60296019794413,
            118.54642149740445,
            121.4466916933425,
            null
           ]
          }
         ],
         "name": "2025-01-09 14:45:04",
         "traces": [
          0,
          1,
          2,
          3,
          4,
          5
         ]
        },
        {
         "data": [
          {
           "type": "scatter",
           "x": [
            0,
            0
           ],
           "y": [
            0,
            0
           ]
          },
          {
           "hovertemplate": "GroundTruthState<br>(%{x}, %{y})<br>Time: %{meta}",
           "meta": [
            "2025-01-09 14:44:24",
            "2025-01-09 14:44:25",
            "2025-01-09 14:44:26",
            "2025-01-09 14:44:27",
            "2025-01-09 14:44:28",
            "2025-01-09 14:44:29",
            "2025-01-09 14:44:30",
            "2025-01-09 14:44:31",
            "2025-01-09 14:44:32",
            "2025-01-09 14:44:33",
            "2025-01-09 14:44:34",
            "2025-01-09 14:44:35",
            "2025-01-09 14:44:36",
            "2025-01-09 14:44:37",
            "2025-01-09 14:44:38",
            "2025-01-09 14:44:39",
            "2025-01-09 14:44:40",
            "2025-01-09 14:44:41",
            "2025-01-09 14:44:42",
            "2025-01-09 14:44:43",
            "2025-01-09 14:44:44",
            "2025-01-09 14:44:45",
            "2025-01-09 14:44:46",
            "2025-01-09 14:44:47",
            "2025-01-09 14:44:48",
            "2025-01-09 14:44:49",
            "2025-01-09 14:44:50",
            "2025-01-09 14:44:51",
            "2025-01-09 14:44:52",
            "2025-01-09 14:44:53",
            "2025-01-09 14:44:54",
            "2025-01-09 14:44:55",
            "2025-01-09 14:44:56",
            "2025-01-09 14:44:57",
            "2025-01-09 14:44:58",
            "2025-01-09 14:44:59",
            "2025-01-09 14:45:00",
            "2025-01-09 14:45:01",
            "2025-01-09 14:45:02",
            "2025-01-09 14:45:03",
            "2025-01-09 14:45:04",
            "2025-01-09 14:45:05"
           ],
           "type": "scatter",
           "x": [
            74.05276584,
            87.13825267,
            96.14701585,
            108.2505623,
            112.7455582,
            117.6360986,
            125.795539,
            130.0730637,
            126.9739371,
            132.4691139,
            130.8954086,
            129.9114421,
            126.9035985,
            120.0271193,
            114.1841258,
            108.5299902,
            100.3782574,
            84.34148807,
            68.87984912,
            52.48503054,
            47.06937061,
            47.12509769,
            40.59271857,
            36.74958975,
            30.20109178,
            22.12000086,
            29.00547817,
            29.88142975,
            28.19049856,
            25.30487882,
            39.32487529,
            48.63966392,
            49.31356593,
            49.40035937,
            54.37511668,
            69.77685527,
            85.72253517,
            99.71336332,
            109.3859885,
            115.0053909,
            115.2764287,
            112.4255818,
            null
           ],
           "y": [
            132.8970804,
            128.6567371,
            114.5052243,
            121.7846509,
            122.6648195,
            117.0363673,
            106.1069251,
            97.00907745,
            88.3605384,
            78.57480316,
            70.40838551,
            60.39347846,
            55.44546708,
            43.60712934,
            36.37874293,
            33.82592306,
            34.38583847,
            36.64467032,
            36.10426183,
            41.4307655,
            41.61411986,
            41.65051415,
            36.14508385,
            40.4275684,
            54.67701478,
            70.09919795,
            77.77602635,
            78.17718237,
            83.34510835,
            99.35497826,
            116.3818392,
            123.6971236,
            123.6238135,
            123.6091074,
            128.9042947,
            132.4448089,
            125.8094665,
            121.044838,
            124.31573,
            117.4327358,
            119.7933835,
            122.8188661,
            null
           ]
          },
          {
           "type": "scatter",
           "x": [
            null,
            null
           ],
           "y": [
            null,
            null
           ]
          },
          {
           "hovertemplate": "Detection<br>(%{x}, %{y})<br>Time: %{meta}",
           "meta": [
            "2025-01-09 14:44:24",
            "2025-01-09 14:44:25",
            "2025-01-09 14:44:26",
            "2025-01-09 14:44:27",
            "2025-01-09 14:44:28",
            "2025-01-09 14:44:29",
            "2025-01-09 14:44:30",
            "2025-01-09 14:44:31",
            "2025-01-09 14:44:32",
            "2025-01-09 14:44:33",
            "2025-01-09 14:44:34",
            "2025-01-09 14:44:35",
            "2025-01-09 14:44:36",
            "2025-01-09 14:44:37",
            "2025-01-09 14:44:38",
            "2025-01-09 14:44:39",
            "2025-01-09 14:44:40",
            "2025-01-09 14:44:41",
            "2025-01-09 14:44:42",
            "2025-01-09 14:44:43",
            "2025-01-09 14:44:44",
            "2025-01-09 14:44:45",
            "2025-01-09 14:44:46",
            "2025-01-09 14:44:47",
            "2025-01-09 14:44:48",
            "2025-01-09 14:44:49",
            "2025-01-09 14:44:50",
            "2025-01-09 14:44:51",
            "2025-01-09 14:44:52",
            "2025-01-09 14:44:53",
            "2025-01-09 14:44:54",
            "2025-01-09 14:44:55",
            "2025-01-09 14:44:56",
            "2025-01-09 14:44:57",
            "2025-01-09 14:44:58",
            "2025-01-09 14:44:59",
            "2025-01-09 14:45:00",
            "2025-01-09 14:45:01",
            "2025-01-09 14:45:02",
            "2025-01-09 14:45:03",
            "2025-01-09 14:45:04",
            "2025-01-09 14:45:05"
           ],
           "type": "scatter",
           "x": [
            77.99730680145169,
            89.32677733462154,
            100.3230024678982,
            110.37502458622242,
            112.51475383083013,
            117.95818981683755,
            127.49727108687048,
            131.06557206113158,
            130.31479947134028,
            133.16915456245104,
            125.18674982593032,
            131.84438020286137,
            131.97892413148077,
            120.12943845523563,
            117.61152431780424,
            108.8764631767969,
            98.39310811884359,
            83.56353285390867,
            71.63086271419168,
            51.61894144676717,
            44.72473490210102,
            43.309761555780945,
            39.453101646722224,
            33.94825416303204,
            26.592306484119824,
            20.117676757592967,
            27.86328315913987,
            29.818412371677347,
            28.339235590923234,
            23.886491498899375,
            37.821208016593026,
            46.82141355769738,
            49.710302845064945,
            45.75512504937613,
            52.34633586136469,
            71.4071513287825,
            88.27031255424862,
            100.61302657985183,
            107.43882687981629,
            114.308738259601,
            112.67107445203536,
            113.4668346698057,
            null
           ],
           "y": [
            133.79185911959564,
            133.66752662373142,
            112.31996452768946,
            121.44620589336175,
            123.58294566179377,
            120.28822171944623,
            106.37899870804137,
            97.75519592835539,
            87.90179057607384,
            76.66498702762841,
            71.86992112076258,
            58.73394702384867,
            52.19340656745482,
            43.188573527052114,
            39.66432902283251,
            34.671520160373056,
            29.9566429174598,
            36.994277243128515,
            38.79286490665786,
            40.75479599992838,
            38.43886322319879,
            46.0125805425723,
            35.165519932401644,
            42.16608968749065,
            54.201313051889215,
            70.96433823587778,
            75.13605252987823,
            79.13496154943564,
            84.02145607462953,
            98.54386435461522,
            115.57785388927039,
            119.83703835281113,
            122.72540401457482,
            124.64391998213631,
            129.02044813611832,
            132.73322345638937,
            123.04831202531729,
            119.51355608497964,
            123.0213828008338,
            117.55832532320525,
            121.8076927607619,
            119.38372078747926,
            null
           ]
          },
          {
           "type": "scatter",
           "x": [
            null,
            null
           ],
           "y": [
            null,
            null
           ]
          },
          {
           "customdata": [
            "2025-01-09 14:44:24",
            "2025-01-09 14:44:25",
            "2025-01-09 14:44:26",
            "2025-01-09 14:44:27",
            "2025-01-09 14:44:28",
            "2025-01-09 14:44:29",
            "2025-01-09 14:44:30",
            "2025-01-09 14:44:31",
            "2025-01-09 14:44:32",
            "2025-01-09 14:44:33",
            "2025-01-09 14:44:34",
            "2025-01-09 14:44:35",
            "2025-01-09 14:44:36",
            "2025-01-09 14:44:37",
            "2025-01-09 14:44:38",
            "2025-01-09 14:44:39",
            "2025-01-09 14:44:40",
            "2025-01-09 14:44:41",
            "2025-01-09 14:44:42",
            "2025-01-09 14:44:43",
            "2025-01-09 14:44:44",
            "2025-01-09 14:44:45",
            "2025-01-09 14:44:46",
            "2025-01-09 14:44:47",
            "2025-01-09 14:44:48",
            "2025-01-09 14:44:49",
            "2025-01-09 14:44:50",
            "2025-01-09 14:44:51",
            "2025-01-09 14:44:52",
            "2025-01-09 14:44:53",
            "2025-01-09 14:44:54",
            "2025-01-09 14:44:55",
            "2025-01-09 14:44:56",
            "2025-01-09 14:44:57",
            "2025-01-09 14:44:58",
            "2025-01-09 14:44:59",
            "2025-01-09 14:45:00",
            "2025-01-09 14:45:01",
            "2025-01-09 14:45:02",
            "2025-01-09 14:45:03",
            "2025-01-09 14:45:04",
            "2025-01-09 14:45:05"
           ],
           "hovertemplate": "%{meta}<br>(%{x}, %{y})<br>Time: %{customdata}",
           "meta": [
            "GaussianState",
            "GaussianStateUpdate",
            "GaussianStateUpdate",
            "GaussianStateUpdate",
            "GaussianStateUpdate",
            "GaussianStateUpdate",
            "GaussianStateUpdate",
            "GaussianStateUpdate",
            "GaussianStateUpdate",
            "GaussianStateUpdate",
            "GaussianStateUpdate",
            "GaussianStateUpdate",
            "GaussianStateUpdate",
            "GaussianStateUpdate",
            "GaussianStateUpdate",
            "GaussianStateUpdate",
            "GaussianStateUpdate",
            "GaussianStateUpdate",
            "GaussianStateUpdate",
            "GaussianStateUpdate",
            "GaussianStateUpdate",
            "GaussianStateUpdate",
            "GaussianStateUpdate",
            "GaussianStateUpdate",
            "GaussianStateUpdate",
            "GaussianStateUpdate",
            "GaussianStateUpdate",
            "GaussianStateUpdate",
            "GaussianStateUpdate",
            "GaussianStateUpdate",
            "GaussianStateUpdate",
            "GaussianStateUpdate",
            "GaussianStateUpdate",
            "GaussianStateUpdate",
            "GaussianStateUpdate",
            "GaussianStateUpdate",
            "GaussianStateUpdate",
            "GaussianStateUpdate",
            "GaussianStateUpdate",
            "GaussianStateUpdate",
            "GaussianStateUpdate",
            "GaussianStateUpdate"
           ],
           "type": "scatter",
           "x": [
            74.22014502,
            89.22992315256701,
            100.77107487718641,
            110.19651238288311,
            111.90587167496986,
            117.02210478270644,
            127.25365431551246,
            132.20295551989798,
            131.7673489167498,
            133.88777504563453,
            126.6191258457489,
            131.08148094981053,
            132.516111057558,
            121.8925776961243,
            116.22562071431086,
            107.38275445100885,
            95.64458980760368,
            69.74471675666138,
            75.19927001089755,
            54.19203036846665,
            45.51363648487457,
            45.072259760018326,
            47.482090538063524,
            6.77233631771179,
            20.79524834411984,
            15.445157612356503,
            21.53231896314162,
            26.025575840940434,
            26.757285025078122,
            23.66041685761451,
            35.53474288071501,
            47.871194426039786,
            53.287893936954404,
            49.63620707117352,
            52.36086817191487,
            68.84857818548352,
            87.748145553877,
            101.96591077299826,
            109.00354594240281,
            113.95634612885209,
            111.73781347931958,
            107.24816611181213,
            null
           ],
           "y": [
            131.1193202,
            133.65116665735812,
            112.5795863318055,
            120.62217559225633,
            124.46905075207951,
            121.1429694947251,
            106.43224124468414,
            96.32056275288147,
            86.85309014734673,
            76.36511888941192,
            71.75005913157042,
            60.23221901786741,
            52.79028295813589,
            44.12040575226839,
            39.803591413697,
            35.40793902756456,
            31.102194231631856,
            34.25564863195609,
            39.04404228034326,
            41.056373855401205,
            38.86390603690417,
            44.092185485392896,
            36.81592985718771,
            47.342101819234,
            55.33353342909058,
            72.58448252621204,
            79.44521697812957,
            82.34176023182467,
            84.73037917594036,
            96.01043950531638,
            113.37986062141945,
            121.00037436635544,
            123.66206080149924,
            124.52583539135296,
            127.8326057899675,
            132.0400577115504,
            124.8778340648076,
            119.46567942978787,
            121.60296019794413,
            118.54642149740445,
            121.4466916933425,
            121.90628394268086,
            null
           ]
          }
         ],
         "name": "2025-01-09 14:45:05",
         "traces": [
          0,
          1,
          2,
          3,
          4,
          5
         ]
        },
        {
         "data": [
          {
           "type": "scatter",
           "x": [
            0,
            0
           ],
           "y": [
            0,
            0
           ]
          },
          {
           "hovertemplate": "GroundTruthState<br>(%{x}, %{y})<br>Time: %{meta}",
           "meta": [
            "2025-01-09 14:44:24",
            "2025-01-09 14:44:25",
            "2025-01-09 14:44:26",
            "2025-01-09 14:44:27",
            "2025-01-09 14:44:28",
            "2025-01-09 14:44:29",
            "2025-01-09 14:44:30",
            "2025-01-09 14:44:31",
            "2025-01-09 14:44:32",
            "2025-01-09 14:44:33",
            "2025-01-09 14:44:34",
            "2025-01-09 14:44:35",
            "2025-01-09 14:44:36",
            "2025-01-09 14:44:37",
            "2025-01-09 14:44:38",
            "2025-01-09 14:44:39",
            "2025-01-09 14:44:40",
            "2025-01-09 14:44:41",
            "2025-01-09 14:44:42",
            "2025-01-09 14:44:43",
            "2025-01-09 14:44:44",
            "2025-01-09 14:44:45",
            "2025-01-09 14:44:46",
            "2025-01-09 14:44:47",
            "2025-01-09 14:44:48",
            "2025-01-09 14:44:49",
            "2025-01-09 14:44:50",
            "2025-01-09 14:44:51",
            "2025-01-09 14:44:52",
            "2025-01-09 14:44:53",
            "2025-01-09 14:44:54",
            "2025-01-09 14:44:55",
            "2025-01-09 14:44:56",
            "2025-01-09 14:44:57",
            "2025-01-09 14:44:58",
            "2025-01-09 14:44:59",
            "2025-01-09 14:45:00",
            "2025-01-09 14:45:01",
            "2025-01-09 14:45:02",
            "2025-01-09 14:45:03",
            "2025-01-09 14:45:04",
            "2025-01-09 14:45:05",
            "2025-01-09 14:45:06"
           ],
           "type": "scatter",
           "x": [
            74.05276584,
            87.13825267,
            96.14701585,
            108.2505623,
            112.7455582,
            117.6360986,
            125.795539,
            130.0730637,
            126.9739371,
            132.4691139,
            130.8954086,
            129.9114421,
            126.9035985,
            120.0271193,
            114.1841258,
            108.5299902,
            100.3782574,
            84.34148807,
            68.87984912,
            52.48503054,
            47.06937061,
            47.12509769,
            40.59271857,
            36.74958975,
            30.20109178,
            22.12000086,
            29.00547817,
            29.88142975,
            28.19049856,
            25.30487882,
            39.32487529,
            48.63966392,
            49.31356593,
            49.40035937,
            54.37511668,
            69.77685527,
            85.72253517,
            99.71336332,
            109.3859885,
            115.0053909,
            115.2764287,
            112.4255818,
            109.4035053,
            null
           ],
           "y": [
            132.8970804,
            128.6567371,
            114.5052243,
            121.7846509,
            122.6648195,
            117.0363673,
            106.1069251,
            97.00907745,
            88.3605384,
            78.57480316,
            70.40838551,
            60.39347846,
            55.44546708,
            43.60712934,
            36.37874293,
            33.82592306,
            34.38583847,
            36.64467032,
            36.10426183,
            41.4307655,
            41.61411986,
            41.65051415,
            36.14508385,
            40.4275684,
            54.67701478,
            70.09919795,
            77.77602635,
            78.17718237,
            83.34510835,
            99.35497826,
            116.3818392,
            123.6971236,
            123.6238135,
            123.6091074,
            128.9042947,
            132.4448089,
            125.8094665,
            121.044838,
            124.31573,
            117.4327358,
            119.7933835,
            122.8188661,
            125.6874438,
            null
           ]
          },
          {
           "type": "scatter",
           "x": [
            null,
            null
           ],
           "y": [
            null,
            null
           ]
          },
          {
           "hovertemplate": "Detection<br>(%{x}, %{y})<br>Time: %{meta}",
           "meta": [
            "2025-01-09 14:44:24",
            "2025-01-09 14:44:25",
            "2025-01-09 14:44:26",
            "2025-01-09 14:44:27",
            "2025-01-09 14:44:28",
            "2025-01-09 14:44:29",
            "2025-01-09 14:44:30",
            "2025-01-09 14:44:31",
            "2025-01-09 14:44:32",
            "2025-01-09 14:44:33",
            "2025-01-09 14:44:34",
            "2025-01-09 14:44:35",
            "2025-01-09 14:44:36",
            "2025-01-09 14:44:37",
            "2025-01-09 14:44:38",
            "2025-01-09 14:44:39",
            "2025-01-09 14:44:40",
            "2025-01-09 14:44:41",
            "2025-01-09 14:44:42",
            "2025-01-09 14:44:43",
            "2025-01-09 14:44:44",
            "2025-01-09 14:44:45",
            "2025-01-09 14:44:46",
            "2025-01-09 14:44:47",
            "2025-01-09 14:44:48",
            "2025-01-09 14:44:49",
            "2025-01-09 14:44:50",
            "2025-01-09 14:44:51",
            "2025-01-09 14:44:52",
            "2025-01-09 14:44:53",
            "2025-01-09 14:44:54",
            "2025-01-09 14:44:55",
            "2025-01-09 14:44:56",
            "2025-01-09 14:44:57",
            "2025-01-09 14:44:58",
            "2025-01-09 14:44:59",
            "2025-01-09 14:45:00",
            "2025-01-09 14:45:01",
            "2025-01-09 14:45:02",
            "2025-01-09 14:45:03",
            "2025-01-09 14:45:04",
            "2025-01-09 14:45:05",
            "2025-01-09 14:45:06"
           ],
           "type": "scatter",
           "x": [
            77.99730680145169,
            89.32677733462154,
            100.3230024678982,
            110.37502458622242,
            112.51475383083013,
            117.95818981683755,
            127.49727108687048,
            131.06557206113158,
            130.31479947134028,
            133.16915456245104,
            125.18674982593032,
            131.84438020286137,
            131.97892413148077,
            120.12943845523563,
            117.61152431780424,
            108.8764631767969,
            98.39310811884359,
            83.56353285390867,
            71.63086271419168,
            51.61894144676717,
            44.72473490210102,
            43.309761555780945,
            39.453101646722224,
            33.94825416303204,
            26.592306484119824,
            20.117676757592967,
            27.86328315913987,
            29.818412371677347,
            28.339235590923234,
            23.886491498899375,
            37.821208016593026,
            46.82141355769738,
            49.710302845064945,
            45.75512504937613,
            52.34633586136469,
            71.4071513287825,
            88.27031255424862,
            100.61302657985183,
            107.43882687981629,
            114.308738259601,
            112.67107445203536,
            113.4668346698057,
            112.73133837299015,
            null
           ],
           "y": [
            133.79185911959564,
            133.66752662373142,
            112.31996452768946,
            121.44620589336175,
            123.58294566179377,
            120.28822171944623,
            106.37899870804137,
            97.75519592835539,
            87.90179057607384,
            76.66498702762841,
            71.86992112076258,
            58.73394702384867,
            52.19340656745482,
            43.188573527052114,
            39.66432902283251,
            34.671520160373056,
            29.9566429174598,
            36.994277243128515,
            38.79286490665786,
            40.75479599992838,
            38.43886322319879,
            46.0125805425723,
            35.165519932401644,
            42.16608968749065,
            54.201313051889215,
            70.96433823587778,
            75.13605252987823,
            79.13496154943564,
            84.02145607462953,
            98.54386435461522,
            115.57785388927039,
            119.83703835281113,
            122.72540401457482,
            124.64391998213631,
            129.02044813611832,
            132.73322345638937,
            123.04831202531729,
            119.51355608497964,
            123.0213828008338,
            117.55832532320525,
            121.8076927607619,
            119.38372078747926,
            129.92678087541046,
            null
           ]
          },
          {
           "type": "scatter",
           "x": [
            null,
            null
           ],
           "y": [
            null,
            null
           ]
          },
          {
           "customdata": [
            "2025-01-09 14:44:24",
            "2025-01-09 14:44:25",
            "2025-01-09 14:44:26",
            "2025-01-09 14:44:27",
            "2025-01-09 14:44:28",
            "2025-01-09 14:44:29",
            "2025-01-09 14:44:30",
            "2025-01-09 14:44:31",
            "2025-01-09 14:44:32",
            "2025-01-09 14:44:33",
            "2025-01-09 14:44:34",
            "2025-01-09 14:44:35",
            "2025-01-09 14:44:36",
            "2025-01-09 14:44:37",
            "2025-01-09 14:44:38",
            "2025-01-09 14:44:39",
            "2025-01-09 14:44:40",
            "2025-01-09 14:44:41",
            "2025-01-09 14:44:42",
            "2025-01-09 14:44:43",
            "2025-01-09 14:44:44",
            "2025-01-09 14:44:45",
            "2025-01-09 14:44:46",
            "2025-01-09 14:44:47",
            "2025-01-09 14:44:48",
            "2025-01-09 14:44:49",
            "2025-01-09 14:44:50",
            "2025-01-09 14:44:51",
            "2025-01-09 14:44:52",
            "2025-01-09 14:44:53",
            "2025-01-09 14:44:54",
            "2025-01-09 14:44:55",
            "2025-01-09 14:44:56",
            "2025-01-09 14:44:57",
            "2025-01-09 14:44:58",
            "2025-01-09 14:44:59",
            "2025-01-09 14:45:00",
            "2025-01-09 14:45:01",
            "2025-01-09 14:45:02",
            "2025-01-09 14:45:03",
            "2025-01-09 14:45:04",
            "2025-01-09 14:45:05",
            "2025-01-09 14:45:06"
           ],
           "hovertemplate": "%{meta}<br>(%{x}, %{y})<br>Time: %{customdata}",
           "meta": [
            "GaussianState",
            "GaussianStateUpdate",
            "GaussianStateUpdate",
            "GaussianStateUpdate",
            "GaussianStateUpdate",
            "GaussianStateUpdate",
            "GaussianStateUpdate",
            "GaussianStateUpdate",
            "GaussianStateUpdate",
            "GaussianStateUpdate",
            "GaussianStateUpdate",
            "GaussianStateUpdate",
            "GaussianStateUpdate",
            "GaussianStateUpdate",
            "GaussianStateUpdate",
            "GaussianStateUpdate",
            "GaussianStateUpdate",
            "GaussianStateUpdate",
            "GaussianStateUpdate",
            "GaussianStateUpdate",
            "GaussianStateUpdate",
            "GaussianStateUpdate",
            "GaussianStateUpdate",
            "GaussianStateUpdate",
            "GaussianStateUpdate",
            "GaussianStateUpdate",
            "GaussianStateUpdate",
            "GaussianStateUpdate",
            "GaussianStateUpdate",
            "GaussianStateUpdate",
            "GaussianStateUpdate",
            "GaussianStateUpdate",
            "GaussianStateUpdate",
            "GaussianStateUpdate",
            "GaussianStateUpdate",
            "GaussianStateUpdate",
            "GaussianStateUpdate",
            "GaussianStateUpdate",
            "GaussianStateUpdate",
            "GaussianStateUpdate",
            "GaussianStateUpdate",
            "GaussianStateUpdate",
            "GaussianStateUpdate"
           ],
           "type": "scatter",
           "x": [
            74.22014502,
            89.22992315256701,
            100.77107487718641,
            110.19651238288311,
            111.90587167496986,
            117.02210478270644,
            127.25365431551246,
            132.20295551989798,
            131.7673489167498,
            133.88777504563453,
            126.6191258457489,
            131.08148094981053,
            132.516111057558,
            121.8925776961243,
            116.22562071431086,
            107.38275445100885,
            95.64458980760368,
            69.74471675666138,
            75.19927001089755,
            54.19203036846665,
            45.51363648487457,
            45.072259760018326,
            47.482090538063524,
            6.77233631771179,
            20.79524834411984,
            15.445157612356503,
            21.53231896314162,
            26.025575840940434,
            26.757285025078122,
            23.66041685761451,
            35.53474288071501,
            47.871194426039786,
            53.287893936954404,
            49.63620707117352,
            52.36086817191487,
            68.84857818548352,
            87.748145553877,
            101.96591077299826,
            109.00354594240281,
            113.95634612885209,
            111.73781347931958,
            107.24816611181213,
            123.16337151707178,
            null
           ],
           "y": [
            131.1193202,
            133.65116665735812,
            112.5795863318055,
            120.62217559225633,
            124.46905075207951,
            121.1429694947251,
            106.43224124468414,
            96.32056275288147,
            86.85309014734673,
            76.36511888941192,
            71.75005913157042,
            60.23221901786741,
            52.79028295813589,
            44.12040575226839,
            39.803591413697,
            35.40793902756456,
            31.102194231631856,
            34.25564863195609,
            39.04404228034326,
            41.056373855401205,
            38.86390603690417,
            44.092185485392896,
            36.81592985718771,
            47.342101819234,
            55.33353342909058,
            72.58448252621204,
            79.44521697812957,
            82.34176023182467,
            84.73037917594036,
            96.01043950531638,
            113.37986062141945,
            121.00037436635544,
            123.66206080149924,
            124.52583539135296,
            127.8326057899675,
            132.0400577115504,
            124.8778340648076,
            119.46567942978787,
            121.60296019794413,
            118.54642149740445,
            121.4466916933425,
            121.90628394268086,
            129.1794782393062,
            null
           ]
          }
         ],
         "name": "2025-01-09 14:45:06",
         "traces": [
          0,
          1,
          2,
          3,
          4,
          5
         ]
        },
        {
         "data": [
          {
           "type": "scatter",
           "x": [
            0,
            0
           ],
           "y": [
            0,
            0
           ]
          },
          {
           "hovertemplate": "GroundTruthState<br>(%{x}, %{y})<br>Time: %{meta}",
           "meta": [
            "2025-01-09 14:44:24",
            "2025-01-09 14:44:25",
            "2025-01-09 14:44:26",
            "2025-01-09 14:44:27",
            "2025-01-09 14:44:28",
            "2025-01-09 14:44:29",
            "2025-01-09 14:44:30",
            "2025-01-09 14:44:31",
            "2025-01-09 14:44:32",
            "2025-01-09 14:44:33",
            "2025-01-09 14:44:34",
            "2025-01-09 14:44:35",
            "2025-01-09 14:44:36",
            "2025-01-09 14:44:37",
            "2025-01-09 14:44:38",
            "2025-01-09 14:44:39",
            "2025-01-09 14:44:40",
            "2025-01-09 14:44:41",
            "2025-01-09 14:44:42",
            "2025-01-09 14:44:43",
            "2025-01-09 14:44:44",
            "2025-01-09 14:44:45",
            "2025-01-09 14:44:46",
            "2025-01-09 14:44:47",
            "2025-01-09 14:44:48",
            "2025-01-09 14:44:49",
            "2025-01-09 14:44:50",
            "2025-01-09 14:44:51",
            "2025-01-09 14:44:52",
            "2025-01-09 14:44:53",
            "2025-01-09 14:44:54",
            "2025-01-09 14:44:55",
            "2025-01-09 14:44:56",
            "2025-01-09 14:44:57",
            "2025-01-09 14:44:58",
            "2025-01-09 14:44:59",
            "2025-01-09 14:45:00",
            "2025-01-09 14:45:01",
            "2025-01-09 14:45:02",
            "2025-01-09 14:45:03",
            "2025-01-09 14:45:04",
            "2025-01-09 14:45:05",
            "2025-01-09 14:45:06",
            "2025-01-09 14:45:07"
           ],
           "type": "scatter",
           "x": [
            74.05276584,
            87.13825267,
            96.14701585,
            108.2505623,
            112.7455582,
            117.6360986,
            125.795539,
            130.0730637,
            126.9739371,
            132.4691139,
            130.8954086,
            129.9114421,
            126.9035985,
            120.0271193,
            114.1841258,
            108.5299902,
            100.3782574,
            84.34148807,
            68.87984912,
            52.48503054,
            47.06937061,
            47.12509769,
            40.59271857,
            36.74958975,
            30.20109178,
            22.12000086,
            29.00547817,
            29.88142975,
            28.19049856,
            25.30487882,
            39.32487529,
            48.63966392,
            49.31356593,
            49.40035937,
            54.37511668,
            69.77685527,
            85.72253517,
            99.71336332,
            109.3859885,
            115.0053909,
            115.2764287,
            112.4255818,
            109.4035053,
            107.3416123,
            null
           ],
           "y": [
            132.8970804,
            128.6567371,
            114.5052243,
            121.7846509,
            122.6648195,
            117.0363673,
            106.1069251,
            97.00907745,
            88.3605384,
            78.57480316,
            70.40838551,
            60.39347846,
            55.44546708,
            43.60712934,
            36.37874293,
            33.82592306,
            34.38583847,
            36.64467032,
            36.10426183,
            41.4307655,
            41.61411986,
            41.65051415,
            36.14508385,
            40.4275684,
            54.67701478,
            70.09919795,
            77.77602635,
            78.17718237,
            83.34510835,
            99.35497826,
            116.3818392,
            123.6971236,
            123.6238135,
            123.6091074,
            128.9042947,
            132.4448089,
            125.8094665,
            121.044838,
            124.31573,
            117.4327358,
            119.7933835,
            122.8188661,
            125.6874438,
            119.5411869,
            null
           ]
          },
          {
           "type": "scatter",
           "x": [
            null,
            null
           ],
           "y": [
            null,
            null
           ]
          },
          {
           "hovertemplate": "Detection<br>(%{x}, %{y})<br>Time: %{meta}",
           "meta": [
            "2025-01-09 14:44:24",
            "2025-01-09 14:44:25",
            "2025-01-09 14:44:26",
            "2025-01-09 14:44:27",
            "2025-01-09 14:44:28",
            "2025-01-09 14:44:29",
            "2025-01-09 14:44:30",
            "2025-01-09 14:44:31",
            "2025-01-09 14:44:32",
            "2025-01-09 14:44:33",
            "2025-01-09 14:44:34",
            "2025-01-09 14:44:35",
            "2025-01-09 14:44:36",
            "2025-01-09 14:44:37",
            "2025-01-09 14:44:38",
            "2025-01-09 14:44:39",
            "2025-01-09 14:44:40",
            "2025-01-09 14:44:41",
            "2025-01-09 14:44:42",
            "2025-01-09 14:44:43",
            "2025-01-09 14:44:44",
            "2025-01-09 14:44:45",
            "2025-01-09 14:44:46",
            "2025-01-09 14:44:47",
            "2025-01-09 14:44:48",
            "2025-01-09 14:44:49",
            "2025-01-09 14:44:50",
            "2025-01-09 14:44:51",
            "2025-01-09 14:44:52",
            "2025-01-09 14:44:53",
            "2025-01-09 14:44:54",
            "2025-01-09 14:44:55",
            "2025-01-09 14:44:56",
            "2025-01-09 14:44:57",
            "2025-01-09 14:44:58",
            "2025-01-09 14:44:59",
            "2025-01-09 14:45:00",
            "2025-01-09 14:45:01",
            "2025-01-09 14:45:02",
            "2025-01-09 14:45:03",
            "2025-01-09 14:45:04",
            "2025-01-09 14:45:05",
            "2025-01-09 14:45:06",
            "2025-01-09 14:45:07"
           ],
           "type": "scatter",
           "x": [
            77.99730680145169,
            89.32677733462154,
            100.3230024678982,
            110.37502458622242,
            112.51475383083013,
            117.95818981683755,
            127.49727108687048,
            131.06557206113158,
            130.31479947134028,
            133.16915456245104,
            125.18674982593032,
            131.84438020286137,
            131.97892413148077,
            120.12943845523563,
            117.61152431780424,
            108.8764631767969,
            98.39310811884359,
            83.56353285390867,
            71.63086271419168,
            51.61894144676717,
            44.72473490210102,
            43.309761555780945,
            39.453101646722224,
            33.94825416303204,
            26.592306484119824,
            20.117676757592967,
            27.86328315913987,
            29.818412371677347,
            28.339235590923234,
            23.886491498899375,
            37.821208016593026,
            46.82141355769738,
            49.710302845064945,
            45.75512504937613,
            52.34633586136469,
            71.4071513287825,
            88.27031255424862,
            100.61302657985183,
            107.43882687981629,
            114.308738259601,
            112.67107445203536,
            113.4668346698057,
            112.73133837299015,
            109.97744355160103,
            null
           ],
           "y": [
            133.79185911959564,
            133.66752662373142,
            112.31996452768946,
            121.44620589336175,
            123.58294566179377,
            120.28822171944623,
            106.37899870804137,
            97.75519592835539,
            87.90179057607384,
            76.66498702762841,
            71.86992112076258,
            58.73394702384867,
            52.19340656745482,
            43.188573527052114,
            39.66432902283251,
            34.671520160373056,
            29.9566429174598,
            36.994277243128515,
            38.79286490665786,
            40.75479599992838,
            38.43886322319879,
            46.0125805425723,
            35.165519932401644,
            42.16608968749065,
            54.201313051889215,
            70.96433823587778,
            75.13605252987823,
            79.13496154943564,
            84.02145607462953,
            98.54386435461522,
            115.57785388927039,
            119.83703835281113,
            122.72540401457482,
            124.64391998213631,
            129.02044813611832,
            132.73322345638937,
            123.04831202531729,
            119.51355608497964,
            123.0213828008338,
            117.55832532320525,
            121.8076927607619,
            119.38372078747926,
            129.92678087541046,
            119.13886273628309,
            null
           ]
          },
          {
           "type": "scatter",
           "x": [
            null,
            null
           ],
           "y": [
            null,
            null
           ]
          },
          {
           "customdata": [
            "2025-01-09 14:44:24",
            "2025-01-09 14:44:25",
            "2025-01-09 14:44:26",
            "2025-01-09 14:44:27",
            "2025-01-09 14:44:28",
            "2025-01-09 14:44:29",
            "2025-01-09 14:44:30",
            "2025-01-09 14:44:31",
            "2025-01-09 14:44:32",
            "2025-01-09 14:44:33",
            "2025-01-09 14:44:34",
            "2025-01-09 14:44:35",
            "2025-01-09 14:44:36",
            "2025-01-09 14:44:37",
            "2025-01-09 14:44:38",
            "2025-01-09 14:44:39",
            "2025-01-09 14:44:40",
            "2025-01-09 14:44:41",
            "2025-01-09 14:44:42",
            "2025-01-09 14:44:43",
            "2025-01-09 14:44:44",
            "2025-01-09 14:44:45",
            "2025-01-09 14:44:46",
            "2025-01-09 14:44:47",
            "2025-01-09 14:44:48",
            "2025-01-09 14:44:49",
            "2025-01-09 14:44:50",
            "2025-01-09 14:44:51",
            "2025-01-09 14:44:52",
            "2025-01-09 14:44:53",
            "2025-01-09 14:44:54",
            "2025-01-09 14:44:55",
            "2025-01-09 14:44:56",
            "2025-01-09 14:44:57",
            "2025-01-09 14:44:58",
            "2025-01-09 14:44:59",
            "2025-01-09 14:45:00",
            "2025-01-09 14:45:01",
            "2025-01-09 14:45:02",
            "2025-01-09 14:45:03",
            "2025-01-09 14:45:04",
            "2025-01-09 14:45:05",
            "2025-01-09 14:45:06",
            "2025-01-09 14:45:07"
           ],
           "hovertemplate": "%{meta}<br>(%{x}, %{y})<br>Time: %{customdata}",
           "meta": [
            "GaussianState",
            "GaussianStateUpdate",
            "GaussianStateUpdate",
            "GaussianStateUpdate",
            "GaussianStateUpdate",
            "GaussianStateUpdate",
            "GaussianStateUpdate",
            "GaussianStateUpdate",
            "GaussianStateUpdate",
            "GaussianStateUpdate",
            "GaussianStateUpdate",
            "GaussianStateUpdate",
            "GaussianStateUpdate",
            "GaussianStateUpdate",
            "GaussianStateUpdate",
            "GaussianStateUpdate",
            "GaussianStateUpdate",
            "GaussianStateUpdate",
            "GaussianStateUpdate",
            "GaussianStateUpdate",
            "GaussianStateUpdate",
            "GaussianStateUpdate",
            "GaussianStateUpdate",
            "GaussianStateUpdate",
            "GaussianStateUpdate",
            "GaussianStateUpdate",
            "GaussianStateUpdate",
            "GaussianStateUpdate",
            "GaussianStateUpdate",
            "GaussianStateUpdate",
            "GaussianStateUpdate",
            "GaussianStateUpdate",
            "GaussianStateUpdate",
            "GaussianStateUpdate",
            "GaussianStateUpdate",
            "GaussianStateUpdate",
            "GaussianStateUpdate",
            "GaussianStateUpdate",
            "GaussianStateUpdate",
            "GaussianStateUpdate",
            "GaussianStateUpdate",
            "GaussianStateUpdate",
            "GaussianStateUpdate",
            "GaussianStateUpdate"
           ],
           "type": "scatter",
           "x": [
            74.22014502,
            89.22992315256701,
            100.77107487718641,
            110.19651238288311,
            111.90587167496986,
            117.02210478270644,
            127.25365431551246,
            132.20295551989798,
            131.7673489167498,
            133.88777504563453,
            126.6191258457489,
            131.08148094981053,
            132.516111057558,
            121.8925776961243,
            116.22562071431086,
            107.38275445100885,
            95.64458980760368,
            69.74471675666138,
            75.19927001089755,
            54.19203036846665,
            45.51363648487457,
            45.072259760018326,
            47.482090538063524,
            6.77233631771179,
            20.79524834411984,
            15.445157612356503,
            21.53231896314162,
            26.025575840940434,
            26.757285025078122,
            23.66041685761451,
            35.53474288071501,
            47.871194426039786,
            53.287893936954404,
            49.63620707117352,
            52.36086817191487,
            68.84857818548352,
            87.748145553877,
            101.96591077299826,
            109.00354594240281,
            113.95634612885209,
            111.73781347931958,
            107.24816611181213,
            123.16337151707178,
            113.28644628551535,
            null
           ],
           "y": [
            131.1193202,
            133.65116665735812,
            112.5795863318055,
            120.62217559225633,
            124.46905075207951,
            121.1429694947251,
            106.43224124468414,
            96.32056275288147,
            86.85309014734673,
            76.36511888941192,
            71.75005913157042,
            60.23221901786741,
            52.79028295813589,
            44.12040575226839,
            39.803591413697,
            35.40793902756456,
            31.102194231631856,
            34.25564863195609,
            39.04404228034326,
            41.056373855401205,
            38.86390603690417,
            44.092185485392896,
            36.81592985718771,
            47.342101819234,
            55.33353342909058,
            72.58448252621204,
            79.44521697812957,
            82.34176023182467,
            84.73037917594036,
            96.01043950531638,
            113.37986062141945,
            121.00037436635544,
            123.66206080149924,
            124.52583539135296,
            127.8326057899675,
            132.0400577115504,
            124.8778340648076,
            119.46567942978787,
            121.60296019794413,
            118.54642149740445,
            121.4466916933425,
            121.90628394268086,
            129.1794782393062,
            119.98515418894266,
            null
           ]
          }
         ],
         "name": "2025-01-09 14:45:07",
         "traces": [
          0,
          1,
          2,
          3,
          4,
          5
         ]
        },
        {
         "data": [
          {
           "type": "scatter",
           "x": [
            0,
            0
           ],
           "y": [
            0,
            0
           ]
          },
          {
           "hovertemplate": "GroundTruthState<br>(%{x}, %{y})<br>Time: %{meta}",
           "meta": [
            "2025-01-09 14:44:24",
            "2025-01-09 14:44:25",
            "2025-01-09 14:44:26",
            "2025-01-09 14:44:27",
            "2025-01-09 14:44:28",
            "2025-01-09 14:44:29",
            "2025-01-09 14:44:30",
            "2025-01-09 14:44:31",
            "2025-01-09 14:44:32",
            "2025-01-09 14:44:33",
            "2025-01-09 14:44:34",
            "2025-01-09 14:44:35",
            "2025-01-09 14:44:36",
            "2025-01-09 14:44:37",
            "2025-01-09 14:44:38",
            "2025-01-09 14:44:39",
            "2025-01-09 14:44:40",
            "2025-01-09 14:44:41",
            "2025-01-09 14:44:42",
            "2025-01-09 14:44:43",
            "2025-01-09 14:44:44",
            "2025-01-09 14:44:45",
            "2025-01-09 14:44:46",
            "2025-01-09 14:44:47",
            "2025-01-09 14:44:48",
            "2025-01-09 14:44:49",
            "2025-01-09 14:44:50",
            "2025-01-09 14:44:51",
            "2025-01-09 14:44:52",
            "2025-01-09 14:44:53",
            "2025-01-09 14:44:54",
            "2025-01-09 14:44:55",
            "2025-01-09 14:44:56",
            "2025-01-09 14:44:57",
            "2025-01-09 14:44:58",
            "2025-01-09 14:44:59",
            "2025-01-09 14:45:00",
            "2025-01-09 14:45:01",
            "2025-01-09 14:45:02",
            "2025-01-09 14:45:03",
            "2025-01-09 14:45:04",
            "2025-01-09 14:45:05",
            "2025-01-09 14:45:06",
            "2025-01-09 14:45:07",
            "2025-01-09 14:45:08"
           ],
           "type": "scatter",
           "x": [
            74.05276584,
            87.13825267,
            96.14701585,
            108.2505623,
            112.7455582,
            117.6360986,
            125.795539,
            130.0730637,
            126.9739371,
            132.4691139,
            130.8954086,
            129.9114421,
            126.9035985,
            120.0271193,
            114.1841258,
            108.5299902,
            100.3782574,
            84.34148807,
            68.87984912,
            52.48503054,
            47.06937061,
            47.12509769,
            40.59271857,
            36.74958975,
            30.20109178,
            22.12000086,
            29.00547817,
            29.88142975,
            28.19049856,
            25.30487882,
            39.32487529,
            48.63966392,
            49.31356593,
            49.40035937,
            54.37511668,
            69.77685527,
            85.72253517,
            99.71336332,
            109.3859885,
            115.0053909,
            115.2764287,
            112.4255818,
            109.4035053,
            107.3416123,
            111.0755005,
            null
           ],
           "y": [
            132.8970804,
            128.6567371,
            114.5052243,
            121.7846509,
            122.6648195,
            117.0363673,
            106.1069251,
            97.00907745,
            88.3605384,
            78.57480316,
            70.40838551,
            60.39347846,
            55.44546708,
            43.60712934,
            36.37874293,
            33.82592306,
            34.38583847,
            36.64467032,
            36.10426183,
            41.4307655,
            41.61411986,
            41.65051415,
            36.14508385,
            40.4275684,
            54.67701478,
            70.09919795,
            77.77602635,
            78.17718237,
            83.34510835,
            99.35497826,
            116.3818392,
            123.6971236,
            123.6238135,
            123.6091074,
            128.9042947,
            132.4448089,
            125.8094665,
            121.044838,
            124.31573,
            117.4327358,
            119.7933835,
            122.8188661,
            125.6874438,
            119.5411869,
            114.596615,
            null
           ]
          },
          {
           "type": "scatter",
           "x": [
            null,
            null
           ],
           "y": [
            null,
            null
           ]
          },
          {
           "hovertemplate": "Detection<br>(%{x}, %{y})<br>Time: %{meta}",
           "meta": [
            "2025-01-09 14:44:24",
            "2025-01-09 14:44:25",
            "2025-01-09 14:44:26",
            "2025-01-09 14:44:27",
            "2025-01-09 14:44:28",
            "2025-01-09 14:44:29",
            "2025-01-09 14:44:30",
            "2025-01-09 14:44:31",
            "2025-01-09 14:44:32",
            "2025-01-09 14:44:33",
            "2025-01-09 14:44:34",
            "2025-01-09 14:44:35",
            "2025-01-09 14:44:36",
            "2025-01-09 14:44:37",
            "2025-01-09 14:44:38",
            "2025-01-09 14:44:39",
            "2025-01-09 14:44:40",
            "2025-01-09 14:44:41",
            "2025-01-09 14:44:42",
            "2025-01-09 14:44:43",
            "2025-01-09 14:44:44",
            "2025-01-09 14:44:45",
            "2025-01-09 14:44:46",
            "2025-01-09 14:44:47",
            "2025-01-09 14:44:48",
            "2025-01-09 14:44:49",
            "2025-01-09 14:44:50",
            "2025-01-09 14:44:51",
            "2025-01-09 14:44:52",
            "2025-01-09 14:44:53",
            "2025-01-09 14:44:54",
            "2025-01-09 14:44:55",
            "2025-01-09 14:44:56",
            "2025-01-09 14:44:57",
            "2025-01-09 14:44:58",
            "2025-01-09 14:44:59",
            "2025-01-09 14:45:00",
            "2025-01-09 14:45:01",
            "2025-01-09 14:45:02",
            "2025-01-09 14:45:03",
            "2025-01-09 14:45:04",
            "2025-01-09 14:45:05",
            "2025-01-09 14:45:06",
            "2025-01-09 14:45:07",
            "2025-01-09 14:45:08"
           ],
           "type": "scatter",
           "x": [
            77.99730680145169,
            89.32677733462154,
            100.3230024678982,
            110.37502458622242,
            112.51475383083013,
            117.95818981683755,
            127.49727108687048,
            131.06557206113158,
            130.31479947134028,
            133.16915456245104,
            125.18674982593032,
            131.84438020286137,
            131.97892413148077,
            120.12943845523563,
            117.61152431780424,
            108.8764631767969,
            98.39310811884359,
            83.56353285390867,
            71.63086271419168,
            51.61894144676717,
            44.72473490210102,
            43.309761555780945,
            39.453101646722224,
            33.94825416303204,
            26.592306484119824,
            20.117676757592967,
            27.86328315913987,
            29.818412371677347,
            28.339235590923234,
            23.886491498899375,
            37.821208016593026,
            46.82141355769738,
            49.710302845064945,
            45.75512504937613,
            52.34633586136469,
            71.4071513287825,
            88.27031255424862,
            100.61302657985183,
            107.43882687981629,
            114.308738259601,
            112.67107445203536,
            113.4668346698057,
            112.73133837299015,
            109.97744355160103,
            108.68122485121633,
            null
           ],
           "y": [
            133.79185911959564,
            133.66752662373142,
            112.31996452768946,
            121.44620589336175,
            123.58294566179377,
            120.28822171944623,
            106.37899870804137,
            97.75519592835539,
            87.90179057607384,
            76.66498702762841,
            71.86992112076258,
            58.73394702384867,
            52.19340656745482,
            43.188573527052114,
            39.66432902283251,
            34.671520160373056,
            29.9566429174598,
            36.994277243128515,
            38.79286490665786,
            40.75479599992838,
            38.43886322319879,
            46.0125805425723,
            35.165519932401644,
            42.16608968749065,
            54.201313051889215,
            70.96433823587778,
            75.13605252987823,
            79.13496154943564,
            84.02145607462953,
            98.54386435461522,
            115.57785388927039,
            119.83703835281113,
            122.72540401457482,
            124.64391998213631,
            129.02044813611832,
            132.73322345638937,
            123.04831202531729,
            119.51355608497964,
            123.0213828008338,
            117.55832532320525,
            121.8076927607619,
            119.38372078747926,
            129.92678087541046,
            119.13886273628309,
            116.95444074041006,
            null
           ]
          },
          {
           "type": "scatter",
           "x": [
            null,
            null
           ],
           "y": [
            null,
            null
           ]
          },
          {
           "customdata": [
            "2025-01-09 14:44:24",
            "2025-01-09 14:44:25",
            "2025-01-09 14:44:26",
            "2025-01-09 14:44:27",
            "2025-01-09 14:44:28",
            "2025-01-09 14:44:29",
            "2025-01-09 14:44:30",
            "2025-01-09 14:44:31",
            "2025-01-09 14:44:32",
            "2025-01-09 14:44:33",
            "2025-01-09 14:44:34",
            "2025-01-09 14:44:35",
            "2025-01-09 14:44:36",
            "2025-01-09 14:44:37",
            "2025-01-09 14:44:38",
            "2025-01-09 14:44:39",
            "2025-01-09 14:44:40",
            "2025-01-09 14:44:41",
            "2025-01-09 14:44:42",
            "2025-01-09 14:44:43",
            "2025-01-09 14:44:44",
            "2025-01-09 14:44:45",
            "2025-01-09 14:44:46",
            "2025-01-09 14:44:47",
            "2025-01-09 14:44:48",
            "2025-01-09 14:44:49",
            "2025-01-09 14:44:50",
            "2025-01-09 14:44:51",
            "2025-01-09 14:44:52",
            "2025-01-09 14:44:53",
            "2025-01-09 14:44:54",
            "2025-01-09 14:44:55",
            "2025-01-09 14:44:56",
            "2025-01-09 14:44:57",
            "2025-01-09 14:44:58",
            "2025-01-09 14:44:59",
            "2025-01-09 14:45:00",
            "2025-01-09 14:45:01",
            "2025-01-09 14:45:02",
            "2025-01-09 14:45:03",
            "2025-01-09 14:45:04",
            "2025-01-09 14:45:05",
            "2025-01-09 14:45:06",
            "2025-01-09 14:45:07",
            "2025-01-09 14:45:08"
           ],
           "hovertemplate": "%{meta}<br>(%{x}, %{y})<br>Time: %{customdata}",
           "meta": [
            "GaussianState",
            "GaussianStateUpdate",
            "GaussianStateUpdate",
            "GaussianStateUpdate",
            "GaussianStateUpdate",
            "GaussianStateUpdate",
            "GaussianStateUpdate",
            "GaussianStateUpdate",
            "GaussianStateUpdate",
            "GaussianStateUpdate",
            "GaussianStateUpdate",
            "GaussianStateUpdate",
            "GaussianStateUpdate",
            "GaussianStateUpdate",
            "GaussianStateUpdate",
            "GaussianStateUpdate",
            "GaussianStateUpdate",
            "GaussianStateUpdate",
            "GaussianStateUpdate",
            "GaussianStateUpdate",
            "GaussianStateUpdate",
            "GaussianStateUpdate",
            "GaussianStateUpdate",
            "GaussianStateUpdate",
            "GaussianStateUpdate",
            "GaussianStateUpdate",
            "GaussianStateUpdate",
            "GaussianStateUpdate",
            "GaussianStateUpdate",
            "GaussianStateUpdate",
            "GaussianStateUpdate",
            "GaussianStateUpdate",
            "GaussianStateUpdate",
            "GaussianStateUpdate",
            "GaussianStateUpdate",
            "GaussianStateUpdate",
            "GaussianStateUpdate",
            "GaussianStateUpdate",
            "GaussianStateUpdate",
            "GaussianStateUpdate",
            "GaussianStateUpdate",
            "GaussianStateUpdate",
            "GaussianStateUpdate",
            "GaussianStateUpdate",
            "GaussianStateUpdate"
           ],
           "type": "scatter",
           "x": [
            74.22014502,
            89.22992315256701,
            100.77107487718641,
            110.19651238288311,
            111.90587167496986,
            117.02210478270644,
            127.25365431551246,
            132.20295551989798,
            131.7673489167498,
            133.88777504563453,
            126.6191258457489,
            131.08148094981053,
            132.516111057558,
            121.8925776961243,
            116.22562071431086,
            107.38275445100885,
            95.64458980760368,
            69.74471675666138,
            75.19927001089755,
            54.19203036846665,
            45.51363648487457,
            45.072259760018326,
            47.482090538063524,
            6.77233631771179,
            20.79524834411984,
            15.445157612356503,
            21.53231896314162,
            26.025575840940434,
            26.757285025078122,
            23.66041685761451,
            35.53474288071501,
            47.871194426039786,
            53.287893936954404,
            49.63620707117352,
            52.36086817191487,
            68.84857818548352,
            87.748145553877,
            101.96591077299826,
            109.00354594240281,
            113.95634612885209,
            111.73781347931958,
            107.24816611181213,
            123.16337151707178,
            113.28644628551535,
            111.15108024962765,
            null
           ],
           "y": [
            131.1193202,
            133.65116665735812,
            112.5795863318055,
            120.62217559225633,
            124.46905075207951,
            121.1429694947251,
            106.43224124468414,
            96.32056275288147,
            86.85309014734673,
            76.36511888941192,
            71.75005913157042,
            60.23221901786741,
            52.79028295813589,
            44.12040575226839,
            39.803591413697,
            35.40793902756456,
            31.102194231631856,
            34.25564863195609,
            39.04404228034326,
            41.056373855401205,
            38.86390603690417,
            44.092185485392896,
            36.81592985718771,
            47.342101819234,
            55.33353342909058,
            72.58448252621204,
            79.44521697812957,
            82.34176023182467,
            84.73037917594036,
            96.01043950531638,
            113.37986062141945,
            121.00037436635544,
            123.66206080149924,
            124.52583539135296,
            127.8326057899675,
            132.0400577115504,
            124.8778340648076,
            119.46567942978787,
            121.60296019794413,
            118.54642149740445,
            121.4466916933425,
            121.90628394268086,
            129.1794782393062,
            119.98515418894266,
            115.63683431884036,
            null
           ]
          }
         ],
         "name": "2025-01-09 14:45:08",
         "traces": [
          0,
          1,
          2,
          3,
          4,
          5
         ]
        },
        {
         "data": [
          {
           "type": "scatter",
           "x": [
            0,
            0
           ],
           "y": [
            0,
            0
           ]
          },
          {
           "hovertemplate": "GroundTruthState<br>(%{x}, %{y})<br>Time: %{meta}",
           "meta": [
            "2025-01-09 14:44:24",
            "2025-01-09 14:44:25",
            "2025-01-09 14:44:26",
            "2025-01-09 14:44:27",
            "2025-01-09 14:44:28",
            "2025-01-09 14:44:29",
            "2025-01-09 14:44:30",
            "2025-01-09 14:44:31",
            "2025-01-09 14:44:32",
            "2025-01-09 14:44:33",
            "2025-01-09 14:44:34",
            "2025-01-09 14:44:35",
            "2025-01-09 14:44:36",
            "2025-01-09 14:44:37",
            "2025-01-09 14:44:38",
            "2025-01-09 14:44:39",
            "2025-01-09 14:44:40",
            "2025-01-09 14:44:41",
            "2025-01-09 14:44:42",
            "2025-01-09 14:44:43",
            "2025-01-09 14:44:44",
            "2025-01-09 14:44:45",
            "2025-01-09 14:44:46",
            "2025-01-09 14:44:47",
            "2025-01-09 14:44:48",
            "2025-01-09 14:44:49",
            "2025-01-09 14:44:50",
            "2025-01-09 14:44:51",
            "2025-01-09 14:44:52",
            "2025-01-09 14:44:53",
            "2025-01-09 14:44:54",
            "2025-01-09 14:44:55",
            "2025-01-09 14:44:56",
            "2025-01-09 14:44:57",
            "2025-01-09 14:44:58",
            "2025-01-09 14:44:59",
            "2025-01-09 14:45:00",
            "2025-01-09 14:45:01",
            "2025-01-09 14:45:02",
            "2025-01-09 14:45:03",
            "2025-01-09 14:45:04",
            "2025-01-09 14:45:05",
            "2025-01-09 14:45:06",
            "2025-01-09 14:45:07",
            "2025-01-09 14:45:08",
            "2025-01-09 14:45:09"
           ],
           "type": "scatter",
           "x": [
            74.05276584,
            87.13825267,
            96.14701585,
            108.2505623,
            112.7455582,
            117.6360986,
            125.795539,
            130.0730637,
            126.9739371,
            132.4691139,
            130.8954086,
            129.9114421,
            126.9035985,
            120.0271193,
            114.1841258,
            108.5299902,
            100.3782574,
            84.34148807,
            68.87984912,
            52.48503054,
            47.06937061,
            47.12509769,
            40.59271857,
            36.74958975,
            30.20109178,
            22.12000086,
            29.00547817,
            29.88142975,
            28.19049856,
            25.30487882,
            39.32487529,
            48.63966392,
            49.31356593,
            49.40035937,
            54.37511668,
            69.77685527,
            85.72253517,
            99.71336332,
            109.3859885,
            115.0053909,
            115.2764287,
            112.4255818,
            109.4035053,
            107.3416123,
            111.0755005,
            116.9881901,
            null
           ],
           "y": [
            132.8970804,
            128.6567371,
            114.5052243,
            121.7846509,
            122.6648195,
            117.0363673,
            106.1069251,
            97.00907745,
            88.3605384,
            78.57480316,
            70.40838551,
            60.39347846,
            55.44546708,
            43.60712934,
            36.37874293,
            33.82592306,
            34.38583847,
            36.64467032,
            36.10426183,
            41.4307655,
            41.61411986,
            41.65051415,
            36.14508385,
            40.4275684,
            54.67701478,
            70.09919795,
            77.77602635,
            78.17718237,
            83.34510835,
            99.35497826,
            116.3818392,
            123.6971236,
            123.6238135,
            123.6091074,
            128.9042947,
            132.4448089,
            125.8094665,
            121.044838,
            124.31573,
            117.4327358,
            119.7933835,
            122.8188661,
            125.6874438,
            119.5411869,
            114.596615,
            118.6663965,
            null
           ]
          },
          {
           "type": "scatter",
           "x": [
            null,
            null
           ],
           "y": [
            null,
            null
           ]
          },
          {
           "hovertemplate": "Detection<br>(%{x}, %{y})<br>Time: %{meta}",
           "meta": [
            "2025-01-09 14:44:24",
            "2025-01-09 14:44:25",
            "2025-01-09 14:44:26",
            "2025-01-09 14:44:27",
            "2025-01-09 14:44:28",
            "2025-01-09 14:44:29",
            "2025-01-09 14:44:30",
            "2025-01-09 14:44:31",
            "2025-01-09 14:44:32",
            "2025-01-09 14:44:33",
            "2025-01-09 14:44:34",
            "2025-01-09 14:44:35",
            "2025-01-09 14:44:36",
            "2025-01-09 14:44:37",
            "2025-01-09 14:44:38",
            "2025-01-09 14:44:39",
            "2025-01-09 14:44:40",
            "2025-01-09 14:44:41",
            "2025-01-09 14:44:42",
            "2025-01-09 14:44:43",
            "2025-01-09 14:44:44",
            "2025-01-09 14:44:45",
            "2025-01-09 14:44:46",
            "2025-01-09 14:44:47",
            "2025-01-09 14:44:48",
            "2025-01-09 14:44:49",
            "2025-01-09 14:44:50",
            "2025-01-09 14:44:51",
            "2025-01-09 14:44:52",
            "2025-01-09 14:44:53",
            "2025-01-09 14:44:54",
            "2025-01-09 14:44:55",
            "2025-01-09 14:44:56",
            "2025-01-09 14:44:57",
            "2025-01-09 14:44:58",
            "2025-01-09 14:44:59",
            "2025-01-09 14:45:00",
            "2025-01-09 14:45:01",
            "2025-01-09 14:45:02",
            "2025-01-09 14:45:03",
            "2025-01-09 14:45:04",
            "2025-01-09 14:45:05",
            "2025-01-09 14:45:06",
            "2025-01-09 14:45:07",
            "2025-01-09 14:45:08",
            "2025-01-09 14:45:09"
           ],
           "type": "scatter",
           "x": [
            77.99730680145169,
            89.32677733462154,
            100.3230024678982,
            110.37502458622242,
            112.51475383083013,
            117.95818981683755,
            127.49727108687048,
            131.06557206113158,
            130.31479947134028,
            133.16915456245104,
            125.18674982593032,
            131.84438020286137,
            131.97892413148077,
            120.12943845523563,
            117.61152431780424,
            108.8764631767969,
            98.39310811884359,
            83.56353285390867,
            71.63086271419168,
            51.61894144676717,
            44.72473490210102,
            43.309761555780945,
            39.453101646722224,
            33.94825416303204,
            26.592306484119824,
            20.117676757592967,
            27.86328315913987,
            29.818412371677347,
            28.339235590923234,
            23.886491498899375,
            37.821208016593026,
            46.82141355769738,
            49.710302845064945,
            45.75512504937613,
            52.34633586136469,
            71.4071513287825,
            88.27031255424862,
            100.61302657985183,
            107.43882687981629,
            114.308738259601,
            112.67107445203536,
            113.4668346698057,
            112.73133837299015,
            109.97744355160103,
            108.68122485121633,
            116.08665903960714,
            null
           ],
           "y": [
            133.79185911959564,
            133.66752662373142,
            112.31996452768946,
            121.44620589336175,
            123.58294566179377,
            120.28822171944623,
            106.37899870804137,
            97.75519592835539,
            87.90179057607384,
            76.66498702762841,
            71.86992112076258,
            58.73394702384867,
            52.19340656745482,
            43.188573527052114,
            39.66432902283251,
            34.671520160373056,
            29.9566429174598,
            36.994277243128515,
            38.79286490665786,
            40.75479599992838,
            38.43886322319879,
            46.0125805425723,
            35.165519932401644,
            42.16608968749065,
            54.201313051889215,
            70.96433823587778,
            75.13605252987823,
            79.13496154943564,
            84.02145607462953,
            98.54386435461522,
            115.57785388927039,
            119.83703835281113,
            122.72540401457482,
            124.64391998213631,
            129.02044813611832,
            132.73322345638937,
            123.04831202531729,
            119.51355608497964,
            123.0213828008338,
            117.55832532320525,
            121.8076927607619,
            119.38372078747926,
            129.92678087541046,
            119.13886273628309,
            116.95444074041006,
            121.39986677613463,
            null
           ]
          },
          {
           "type": "scatter",
           "x": [
            null,
            null
           ],
           "y": [
            null,
            null
           ]
          },
          {
           "customdata": [
            "2025-01-09 14:44:24",
            "2025-01-09 14:44:25",
            "2025-01-09 14:44:26",
            "2025-01-09 14:44:27",
            "2025-01-09 14:44:28",
            "2025-01-09 14:44:29",
            "2025-01-09 14:44:30",
            "2025-01-09 14:44:31",
            "2025-01-09 14:44:32",
            "2025-01-09 14:44:33",
            "2025-01-09 14:44:34",
            "2025-01-09 14:44:35",
            "2025-01-09 14:44:36",
            "2025-01-09 14:44:37",
            "2025-01-09 14:44:38",
            "2025-01-09 14:44:39",
            "2025-01-09 14:44:40",
            "2025-01-09 14:44:41",
            "2025-01-09 14:44:42",
            "2025-01-09 14:44:43",
            "2025-01-09 14:44:44",
            "2025-01-09 14:44:45",
            "2025-01-09 14:44:46",
            "2025-01-09 14:44:47",
            "2025-01-09 14:44:48",
            "2025-01-09 14:44:49",
            "2025-01-09 14:44:50",
            "2025-01-09 14:44:51",
            "2025-01-09 14:44:52",
            "2025-01-09 14:44:53",
            "2025-01-09 14:44:54",
            "2025-01-09 14:44:55",
            "2025-01-09 14:44:56",
            "2025-01-09 14:44:57",
            "2025-01-09 14:44:58",
            "2025-01-09 14:44:59",
            "2025-01-09 14:45:00",
            "2025-01-09 14:45:01",
            "2025-01-09 14:45:02",
            "2025-01-09 14:45:03",
            "2025-01-09 14:45:04",
            "2025-01-09 14:45:05",
            "2025-01-09 14:45:06",
            "2025-01-09 14:45:07",
            "2025-01-09 14:45:08",
            "2025-01-09 14:45:09"
           ],
           "hovertemplate": "%{meta}<br>(%{x}, %{y})<br>Time: %{customdata}",
           "meta": [
            "GaussianState",
            "GaussianStateUpdate",
            "GaussianStateUpdate",
            "GaussianStateUpdate",
            "GaussianStateUpdate",
            "GaussianStateUpdate",
            "GaussianStateUpdate",
            "GaussianStateUpdate",
            "GaussianStateUpdate",
            "GaussianStateUpdate",
            "GaussianStateUpdate",
            "GaussianStateUpdate",
            "GaussianStateUpdate",
            "GaussianStateUpdate",
            "GaussianStateUpdate",
            "GaussianStateUpdate",
            "GaussianStateUpdate",
            "GaussianStateUpdate",
            "GaussianStateUpdate",
            "GaussianStateUpdate",
            "GaussianStateUpdate",
            "GaussianStateUpdate",
            "GaussianStateUpdate",
            "GaussianStateUpdate",
            "GaussianStateUpdate",
            "GaussianStateUpdate",
            "GaussianStateUpdate",
            "GaussianStateUpdate",
            "GaussianStateUpdate",
            "GaussianStateUpdate",
            "GaussianStateUpdate",
            "GaussianStateUpdate",
            "GaussianStateUpdate",
            "GaussianStateUpdate",
            "GaussianStateUpdate",
            "GaussianStateUpdate",
            "GaussianStateUpdate",
            "GaussianStateUpdate",
            "GaussianStateUpdate",
            "GaussianStateUpdate",
            "GaussianStateUpdate",
            "GaussianStateUpdate",
            "GaussianStateUpdate",
            "GaussianStateUpdate",
            "GaussianStateUpdate",
            "GaussianStateUpdate"
           ],
           "type": "scatter",
           "x": [
            74.22014502,
            89.22992315256701,
            100.77107487718641,
            110.19651238288311,
            111.90587167496986,
            117.02210478270644,
            127.25365431551246,
            132.20295551989798,
            131.7673489167498,
            133.88777504563453,
            126.6191258457489,
            131.08148094981053,
            132.516111057558,
            121.8925776961243,
            116.22562071431086,
            107.38275445100885,
            95.64458980760368,
            69.74471675666138,
            75.19927001089755,
            54.19203036846665,
            45.51363648487457,
            45.072259760018326,
            47.482090538063524,
            6.77233631771179,
            20.79524834411984,
            15.445157612356503,
            21.53231896314162,
            26.025575840940434,
            26.757285025078122,
            23.66041685761451,
            35.53474288071501,
            47.871194426039786,
            53.287893936954404,
            49.63620707117352,
            52.36086817191487,
            68.84857818548352,
            87.748145553877,
            101.96591077299826,
            109.00354594240281,
            113.95634612885209,
            111.73781347931958,
            107.24816611181213,
            123.16337151707178,
            113.28644628551535,
            111.15108024962765,
            117.48012009015532,
            null
           ],
           "y": [
            131.1193202,
            133.65116665735812,
            112.5795863318055,
            120.62217559225633,
            124.46905075207951,
            121.1429694947251,
            106.43224124468414,
            96.32056275288147,
            86.85309014734673,
            76.36511888941192,
            71.75005913157042,
            60.23221901786741,
            52.79028295813589,
            44.12040575226839,
            39.803591413697,
            35.40793902756456,
            31.102194231631856,
            34.25564863195609,
            39.04404228034326,
            41.056373855401205,
            38.86390603690417,
            44.092185485392896,
            36.81592985718771,
            47.342101819234,
            55.33353342909058,
            72.58448252621204,
            79.44521697812957,
            82.34176023182467,
            84.73037917594036,
            96.01043950531638,
            113.37986062141945,
            121.00037436635544,
            123.66206080149924,
            124.52583539135296,
            127.8326057899675,
            132.0400577115504,
            124.8778340648076,
            119.46567942978787,
            121.60296019794413,
            118.54642149740445,
            121.4466916933425,
            121.90628394268086,
            129.1794782393062,
            119.98515418894266,
            115.63683431884036,
            118.63512914788853,
            null
           ]
          }
         ],
         "name": "2025-01-09 14:45:09",
         "traces": [
          0,
          1,
          2,
          3,
          4,
          5
         ]
        },
        {
         "data": [
          {
           "type": "scatter",
           "x": [
            0,
            0
           ],
           "y": [
            0,
            0
           ]
          },
          {
           "hovertemplate": "GroundTruthState<br>(%{x}, %{y})<br>Time: %{meta}",
           "meta": [
            "2025-01-09 14:44:24",
            "2025-01-09 14:44:25",
            "2025-01-09 14:44:26",
            "2025-01-09 14:44:27",
            "2025-01-09 14:44:28",
            "2025-01-09 14:44:29",
            "2025-01-09 14:44:30",
            "2025-01-09 14:44:31",
            "2025-01-09 14:44:32",
            "2025-01-09 14:44:33",
            "2025-01-09 14:44:34",
            "2025-01-09 14:44:35",
            "2025-01-09 14:44:36",
            "2025-01-09 14:44:37",
            "2025-01-09 14:44:38",
            "2025-01-09 14:44:39",
            "2025-01-09 14:44:40",
            "2025-01-09 14:44:41",
            "2025-01-09 14:44:42",
            "2025-01-09 14:44:43",
            "2025-01-09 14:44:44",
            "2025-01-09 14:44:45",
            "2025-01-09 14:44:46",
            "2025-01-09 14:44:47",
            "2025-01-09 14:44:48",
            "2025-01-09 14:44:49",
            "2025-01-09 14:44:50",
            "2025-01-09 14:44:51",
            "2025-01-09 14:44:52",
            "2025-01-09 14:44:53",
            "2025-01-09 14:44:54",
            "2025-01-09 14:44:55",
            "2025-01-09 14:44:56",
            "2025-01-09 14:44:57",
            "2025-01-09 14:44:58",
            "2025-01-09 14:44:59",
            "2025-01-09 14:45:00",
            "2025-01-09 14:45:01",
            "2025-01-09 14:45:02",
            "2025-01-09 14:45:03",
            "2025-01-09 14:45:04",
            "2025-01-09 14:45:05",
            "2025-01-09 14:45:06",
            "2025-01-09 14:45:07",
            "2025-01-09 14:45:08",
            "2025-01-09 14:45:09",
            "2025-01-09 14:45:10"
           ],
           "type": "scatter",
           "x": [
            74.05276584,
            87.13825267,
            96.14701585,
            108.2505623,
            112.7455582,
            117.6360986,
            125.795539,
            130.0730637,
            126.9739371,
            132.4691139,
            130.8954086,
            129.9114421,
            126.9035985,
            120.0271193,
            114.1841258,
            108.5299902,
            100.3782574,
            84.34148807,
            68.87984912,
            52.48503054,
            47.06937061,
            47.12509769,
            40.59271857,
            36.74958975,
            30.20109178,
            22.12000086,
            29.00547817,
            29.88142975,
            28.19049856,
            25.30487882,
            39.32487529,
            48.63966392,
            49.31356593,
            49.40035937,
            54.37511668,
            69.77685527,
            85.72253517,
            99.71336332,
            109.3859885,
            115.0053909,
            115.2764287,
            112.4255818,
            109.4035053,
            107.3416123,
            111.0755005,
            116.9881901,
            120.7725,
            null
           ],
           "y": [
            132.8970804,
            128.6567371,
            114.5052243,
            121.7846509,
            122.6648195,
            117.0363673,
            106.1069251,
            97.00907745,
            88.3605384,
            78.57480316,
            70.40838551,
            60.39347846,
            55.44546708,
            43.60712934,
            36.37874293,
            33.82592306,
            34.38583847,
            36.64467032,
            36.10426183,
            41.4307655,
            41.61411986,
            41.65051415,
            36.14508385,
            40.4275684,
            54.67701478,
            70.09919795,
            77.77602635,
            78.17718237,
            83.34510835,
            99.35497826,
            116.3818392,
            123.6971236,
            123.6238135,
            123.6091074,
            128.9042947,
            132.4448089,
            125.8094665,
            121.044838,
            124.31573,
            117.4327358,
            119.7933835,
            122.8188661,
            125.6874438,
            119.5411869,
            114.596615,
            118.6663965,
            113.1797612,
            null
           ]
          },
          {
           "type": "scatter",
           "x": [
            null,
            null
           ],
           "y": [
            null,
            null
           ]
          },
          {
           "hovertemplate": "Detection<br>(%{x}, %{y})<br>Time: %{meta}",
           "meta": [
            "2025-01-09 14:44:24",
            "2025-01-09 14:44:25",
            "2025-01-09 14:44:26",
            "2025-01-09 14:44:27",
            "2025-01-09 14:44:28",
            "2025-01-09 14:44:29",
            "2025-01-09 14:44:30",
            "2025-01-09 14:44:31",
            "2025-01-09 14:44:32",
            "2025-01-09 14:44:33",
            "2025-01-09 14:44:34",
            "2025-01-09 14:44:35",
            "2025-01-09 14:44:36",
            "2025-01-09 14:44:37",
            "2025-01-09 14:44:38",
            "2025-01-09 14:44:39",
            "2025-01-09 14:44:40",
            "2025-01-09 14:44:41",
            "2025-01-09 14:44:42",
            "2025-01-09 14:44:43",
            "2025-01-09 14:44:44",
            "2025-01-09 14:44:45",
            "2025-01-09 14:44:46",
            "2025-01-09 14:44:47",
            "2025-01-09 14:44:48",
            "2025-01-09 14:44:49",
            "2025-01-09 14:44:50",
            "2025-01-09 14:44:51",
            "2025-01-09 14:44:52",
            "2025-01-09 14:44:53",
            "2025-01-09 14:44:54",
            "2025-01-09 14:44:55",
            "2025-01-09 14:44:56",
            "2025-01-09 14:44:57",
            "2025-01-09 14:44:58",
            "2025-01-09 14:44:59",
            "2025-01-09 14:45:00",
            "2025-01-09 14:45:01",
            "2025-01-09 14:45:02",
            "2025-01-09 14:45:03",
            "2025-01-09 14:45:04",
            "2025-01-09 14:45:05",
            "2025-01-09 14:45:06",
            "2025-01-09 14:45:07",
            "2025-01-09 14:45:08",
            "2025-01-09 14:45:09",
            "2025-01-09 14:45:10"
           ],
           "type": "scatter",
           "x": [
            77.99730680145169,
            89.32677733462154,
            100.3230024678982,
            110.37502458622242,
            112.51475383083013,
            117.95818981683755,
            127.49727108687048,
            131.06557206113158,
            130.31479947134028,
            133.16915456245104,
            125.18674982593032,
            131.84438020286137,
            131.97892413148077,
            120.12943845523563,
            117.61152431780424,
            108.8764631767969,
            98.39310811884359,
            83.56353285390867,
            71.63086271419168,
            51.61894144676717,
            44.72473490210102,
            43.309761555780945,
            39.453101646722224,
            33.94825416303204,
            26.592306484119824,
            20.117676757592967,
            27.86328315913987,
            29.818412371677347,
            28.339235590923234,
            23.886491498899375,
            37.821208016593026,
            46.82141355769738,
            49.710302845064945,
            45.75512504937613,
            52.34633586136469,
            71.4071513287825,
            88.27031255424862,
            100.61302657985183,
            107.43882687981629,
            114.308738259601,
            112.67107445203536,
            113.4668346698057,
            112.73133837299015,
            109.97744355160103,
            108.68122485121633,
            116.08665903960714,
            121.23821700899214,
            null
           ],
           "y": [
            133.79185911959564,
            133.66752662373142,
            112.31996452768946,
            121.44620589336175,
            123.58294566179377,
            120.28822171944623,
            106.37899870804137,
            97.75519592835539,
            87.90179057607384,
            76.66498702762841,
            71.86992112076258,
            58.73394702384867,
            52.19340656745482,
            43.188573527052114,
            39.66432902283251,
            34.671520160373056,
            29.9566429174598,
            36.994277243128515,
            38.79286490665786,
            40.75479599992838,
            38.43886322319879,
            46.0125805425723,
            35.165519932401644,
            42.16608968749065,
            54.201313051889215,
            70.96433823587778,
            75.13605252987823,
            79.13496154943564,
            84.02145607462953,
            98.54386435461522,
            115.57785388927039,
            119.83703835281113,
            122.72540401457482,
            124.64391998213631,
            129.02044813611832,
            132.73322345638937,
            123.04831202531729,
            119.51355608497964,
            123.0213828008338,
            117.55832532320525,
            121.8076927607619,
            119.38372078747926,
            129.92678087541046,
            119.13886273628309,
            116.95444074041006,
            121.39986677613463,
            115.36359247505749,
            null
           ]
          },
          {
           "type": "scatter",
           "x": [
            null,
            null
           ],
           "y": [
            null,
            null
           ]
          },
          {
           "customdata": [
            "2025-01-09 14:44:24",
            "2025-01-09 14:44:25",
            "2025-01-09 14:44:26",
            "2025-01-09 14:44:27",
            "2025-01-09 14:44:28",
            "2025-01-09 14:44:29",
            "2025-01-09 14:44:30",
            "2025-01-09 14:44:31",
            "2025-01-09 14:44:32",
            "2025-01-09 14:44:33",
            "2025-01-09 14:44:34",
            "2025-01-09 14:44:35",
            "2025-01-09 14:44:36",
            "2025-01-09 14:44:37",
            "2025-01-09 14:44:38",
            "2025-01-09 14:44:39",
            "2025-01-09 14:44:40",
            "2025-01-09 14:44:41",
            "2025-01-09 14:44:42",
            "2025-01-09 14:44:43",
            "2025-01-09 14:44:44",
            "2025-01-09 14:44:45",
            "2025-01-09 14:44:46",
            "2025-01-09 14:44:47",
            "2025-01-09 14:44:48",
            "2025-01-09 14:44:49",
            "2025-01-09 14:44:50",
            "2025-01-09 14:44:51",
            "2025-01-09 14:44:52",
            "2025-01-09 14:44:53",
            "2025-01-09 14:44:54",
            "2025-01-09 14:44:55",
            "2025-01-09 14:44:56",
            "2025-01-09 14:44:57",
            "2025-01-09 14:44:58",
            "2025-01-09 14:44:59",
            "2025-01-09 14:45:00",
            "2025-01-09 14:45:01",
            "2025-01-09 14:45:02",
            "2025-01-09 14:45:03",
            "2025-01-09 14:45:04",
            "2025-01-09 14:45:05",
            "2025-01-09 14:45:06",
            "2025-01-09 14:45:07",
            "2025-01-09 14:45:08",
            "2025-01-09 14:45:09",
            "2025-01-09 14:45:10"
           ],
           "hovertemplate": "%{meta}<br>(%{x}, %{y})<br>Time: %{customdata}",
           "meta": [
            "GaussianState",
            "GaussianStateUpdate",
            "GaussianStateUpdate",
            "GaussianStateUpdate",
            "GaussianStateUpdate",
            "GaussianStateUpdate",
            "GaussianStateUpdate",
            "GaussianStateUpdate",
            "GaussianStateUpdate",
            "GaussianStateUpdate",
            "GaussianStateUpdate",
            "GaussianStateUpdate",
            "GaussianStateUpdate",
            "GaussianStateUpdate",
            "GaussianStateUpdate",
            "GaussianStateUpdate",
            "GaussianStateUpdate",
            "GaussianStateUpdate",
            "GaussianStateUpdate",
            "GaussianStateUpdate",
            "GaussianStateUpdate",
            "GaussianStateUpdate",
            "GaussianStateUpdate",
            "GaussianStateUpdate",
            "GaussianStateUpdate",
            "GaussianStateUpdate",
            "GaussianStateUpdate",
            "GaussianStateUpdate",
            "GaussianStateUpdate",
            "GaussianStateUpdate",
            "GaussianStateUpdate",
            "GaussianStateUpdate",
            "GaussianStateUpdate",
            "GaussianStateUpdate",
            "GaussianStateUpdate",
            "GaussianStateUpdate",
            "GaussianStateUpdate",
            "GaussianStateUpdate",
            "GaussianStateUpdate",
            "GaussianStateUpdate",
            "GaussianStateUpdate",
            "GaussianStateUpdate",
            "GaussianStateUpdate",
            "GaussianStateUpdate",
            "GaussianStateUpdate",
            "GaussianStateUpdate",
            "GaussianStateUpdate"
           ],
           "type": "scatter",
           "x": [
            74.22014502,
            89.22992315256701,
            100.77107487718641,
            110.19651238288311,
            111.90587167496986,
            117.02210478270644,
            127.25365431551246,
            132.20295551989798,
            131.7673489167498,
            133.88777504563453,
            126.6191258457489,
            131.08148094981053,
            132.516111057558,
            121.8925776961243,
            116.22562071431086,
            107.38275445100885,
            95.64458980760368,
            69.74471675666138,
            75.19927001089755,
            54.19203036846665,
            45.51363648487457,
            45.072259760018326,
            47.482090538063524,
            6.77233631771179,
            20.79524834411984,
            15.445157612356503,
            21.53231896314162,
            26.025575840940434,
            26.757285025078122,
            23.66041685761451,
            35.53474288071501,
            47.871194426039786,
            53.287893936954404,
            49.63620707117352,
            52.36086817191487,
            68.84857818548352,
            87.748145553877,
            101.96591077299826,
            109.00354594240281,
            113.95634612885209,
            111.73781347931958,
            107.24816611181213,
            123.16337151707178,
            113.28644628551535,
            111.15108024962765,
            117.48012009015532,
            123.59126516561574,
            null
           ],
           "y": [
            131.1193202,
            133.65116665735812,
            112.5795863318055,
            120.62217559225633,
            124.46905075207951,
            121.1429694947251,
            106.43224124468414,
            96.32056275288147,
            86.85309014734673,
            76.36511888941192,
            71.75005913157042,
            60.23221901786741,
            52.79028295813589,
            44.12040575226839,
            39.803591413697,
            35.40793902756456,
            31.102194231631856,
            34.25564863195609,
            39.04404228034326,
            41.056373855401205,
            38.86390603690417,
            44.092185485392896,
            36.81592985718771,
            47.342101819234,
            55.33353342909058,
            72.58448252621204,
            79.44521697812957,
            82.34176023182467,
            84.73037917594036,
            96.01043950531638,
            113.37986062141945,
            121.00037436635544,
            123.66206080149924,
            124.52583539135296,
            127.8326057899675,
            132.0400577115504,
            124.8778340648076,
            119.46567942978787,
            121.60296019794413,
            118.54642149740445,
            121.4466916933425,
            121.90628394268086,
            129.1794782393062,
            119.98515418894266,
            115.63683431884036,
            118.63512914788853,
            115.16906905978105,
            null
           ]
          }
         ],
         "name": "2025-01-09 14:45:10",
         "traces": [
          0,
          1,
          2,
          3,
          4,
          5
         ]
        },
        {
         "data": [
          {
           "type": "scatter",
           "x": [
            0,
            0
           ],
           "y": [
            0,
            0
           ]
          },
          {
           "hovertemplate": "GroundTruthState<br>(%{x}, %{y})<br>Time: %{meta}",
           "meta": [
            "2025-01-09 14:44:24",
            "2025-01-09 14:44:25",
            "2025-01-09 14:44:26",
            "2025-01-09 14:44:27",
            "2025-01-09 14:44:28",
            "2025-01-09 14:44:29",
            "2025-01-09 14:44:30",
            "2025-01-09 14:44:31",
            "2025-01-09 14:44:32",
            "2025-01-09 14:44:33",
            "2025-01-09 14:44:34",
            "2025-01-09 14:44:35",
            "2025-01-09 14:44:36",
            "2025-01-09 14:44:37",
            "2025-01-09 14:44:38",
            "2025-01-09 14:44:39",
            "2025-01-09 14:44:40",
            "2025-01-09 14:44:41",
            "2025-01-09 14:44:42",
            "2025-01-09 14:44:43",
            "2025-01-09 14:44:44",
            "2025-01-09 14:44:45",
            "2025-01-09 14:44:46",
            "2025-01-09 14:44:47",
            "2025-01-09 14:44:48",
            "2025-01-09 14:44:49",
            "2025-01-09 14:44:50",
            "2025-01-09 14:44:51",
            "2025-01-09 14:44:52",
            "2025-01-09 14:44:53",
            "2025-01-09 14:44:54",
            "2025-01-09 14:44:55",
            "2025-01-09 14:44:56",
            "2025-01-09 14:44:57",
            "2025-01-09 14:44:58",
            "2025-01-09 14:44:59",
            "2025-01-09 14:45:00",
            "2025-01-09 14:45:01",
            "2025-01-09 14:45:02",
            "2025-01-09 14:45:03",
            "2025-01-09 14:45:04",
            "2025-01-09 14:45:05",
            "2025-01-09 14:45:06",
            "2025-01-09 14:45:07",
            "2025-01-09 14:45:08",
            "2025-01-09 14:45:09",
            "2025-01-09 14:45:10",
            "2025-01-09 14:45:11"
           ],
           "type": "scatter",
           "x": [
            74.05276584,
            87.13825267,
            96.14701585,
            108.2505623,
            112.7455582,
            117.6360986,
            125.795539,
            130.0730637,
            126.9739371,
            132.4691139,
            130.8954086,
            129.9114421,
            126.9035985,
            120.0271193,
            114.1841258,
            108.5299902,
            100.3782574,
            84.34148807,
            68.87984912,
            52.48503054,
            47.06937061,
            47.12509769,
            40.59271857,
            36.74958975,
            30.20109178,
            22.12000086,
            29.00547817,
            29.88142975,
            28.19049856,
            25.30487882,
            39.32487529,
            48.63966392,
            49.31356593,
            49.40035937,
            54.37511668,
            69.77685527,
            85.72253517,
            99.71336332,
            109.3859885,
            115.0053909,
            115.2764287,
            112.4255818,
            109.4035053,
            107.3416123,
            111.0755005,
            116.9881901,
            120.7725,
            127.0227062,
            null
           ],
           "y": [
            132.8970804,
            128.6567371,
            114.5052243,
            121.7846509,
            122.6648195,
            117.0363673,
            106.1069251,
            97.00907745,
            88.3605384,
            78.57480316,
            70.40838551,
            60.39347846,
            55.44546708,
            43.60712934,
            36.37874293,
            33.82592306,
            34.38583847,
            36.64467032,
            36.10426183,
            41.4307655,
            41.61411986,
            41.65051415,
            36.14508385,
            40.4275684,
            54.67701478,
            70.09919795,
            77.77602635,
            78.17718237,
            83.34510835,
            99.35497826,
            116.3818392,
            123.6971236,
            123.6238135,
            123.6091074,
            128.9042947,
            132.4448089,
            125.8094665,
            121.044838,
            124.31573,
            117.4327358,
            119.7933835,
            122.8188661,
            125.6874438,
            119.5411869,
            114.596615,
            118.6663965,
            113.1797612,
            103.3638665,
            null
           ]
          },
          {
           "type": "scatter",
           "x": [
            null,
            null
           ],
           "y": [
            null,
            null
           ]
          },
          {
           "hovertemplate": "Detection<br>(%{x}, %{y})<br>Time: %{meta}",
           "meta": [
            "2025-01-09 14:44:24",
            "2025-01-09 14:44:25",
            "2025-01-09 14:44:26",
            "2025-01-09 14:44:27",
            "2025-01-09 14:44:28",
            "2025-01-09 14:44:29",
            "2025-01-09 14:44:30",
            "2025-01-09 14:44:31",
            "2025-01-09 14:44:32",
            "2025-01-09 14:44:33",
            "2025-01-09 14:44:34",
            "2025-01-09 14:44:35",
            "2025-01-09 14:44:36",
            "2025-01-09 14:44:37",
            "2025-01-09 14:44:38",
            "2025-01-09 14:44:39",
            "2025-01-09 14:44:40",
            "2025-01-09 14:44:41",
            "2025-01-09 14:44:42",
            "2025-01-09 14:44:43",
            "2025-01-09 14:44:44",
            "2025-01-09 14:44:45",
            "2025-01-09 14:44:46",
            "2025-01-09 14:44:47",
            "2025-01-09 14:44:48",
            "2025-01-09 14:44:49",
            "2025-01-09 14:44:50",
            "2025-01-09 14:44:51",
            "2025-01-09 14:44:52",
            "2025-01-09 14:44:53",
            "2025-01-09 14:44:54",
            "2025-01-09 14:44:55",
            "2025-01-09 14:44:56",
            "2025-01-09 14:44:57",
            "2025-01-09 14:44:58",
            "2025-01-09 14:44:59",
            "2025-01-09 14:45:00",
            "2025-01-09 14:45:01",
            "2025-01-09 14:45:02",
            "2025-01-09 14:45:03",
            "2025-01-09 14:45:04",
            "2025-01-09 14:45:05",
            "2025-01-09 14:45:06",
            "2025-01-09 14:45:07",
            "2025-01-09 14:45:08",
            "2025-01-09 14:45:09",
            "2025-01-09 14:45:10",
            "2025-01-09 14:45:11"
           ],
           "type": "scatter",
           "x": [
            77.99730680145169,
            89.32677733462154,
            100.3230024678982,
            110.37502458622242,
            112.51475383083013,
            117.95818981683755,
            127.49727108687048,
            131.06557206113158,
            130.31479947134028,
            133.16915456245104,
            125.18674982593032,
            131.84438020286137,
            131.97892413148077,
            120.12943845523563,
            117.61152431780424,
            108.8764631767969,
            98.39310811884359,
            83.56353285390867,
            71.63086271419168,
            51.61894144676717,
            44.72473490210102,
            43.309761555780945,
            39.453101646722224,
            33.94825416303204,
            26.592306484119824,
            20.117676757592967,
            27.86328315913987,
            29.818412371677347,
            28.339235590923234,
            23.886491498899375,
            37.821208016593026,
            46.82141355769738,
            49.710302845064945,
            45.75512504937613,
            52.34633586136469,
            71.4071513287825,
            88.27031255424862,
            100.61302657985183,
            107.43882687981629,
            114.308738259601,
            112.67107445203536,
            113.4668346698057,
            112.73133837299015,
            109.97744355160103,
            108.68122485121633,
            116.08665903960714,
            121.23821700899214,
            127.81956568897866,
            null
           ],
           "y": [
            133.79185911959564,
            133.66752662373142,
            112.31996452768946,
            121.44620589336175,
            123.58294566179377,
            120.28822171944623,
            106.37899870804137,
            97.75519592835539,
            87.90179057607384,
            76.66498702762841,
            71.86992112076258,
            58.73394702384867,
            52.19340656745482,
            43.188573527052114,
            39.66432902283251,
            34.671520160373056,
            29.9566429174598,
            36.994277243128515,
            38.79286490665786,
            40.75479599992838,
            38.43886322319879,
            46.0125805425723,
            35.165519932401644,
            42.16608968749065,
            54.201313051889215,
            70.96433823587778,
            75.13605252987823,
            79.13496154943564,
            84.02145607462953,
            98.54386435461522,
            115.57785388927039,
            119.83703835281113,
            122.72540401457482,
            124.64391998213631,
            129.02044813611832,
            132.73322345638937,
            123.04831202531729,
            119.51355608497964,
            123.0213828008338,
            117.55832532320525,
            121.8076927607619,
            119.38372078747926,
            129.92678087541046,
            119.13886273628309,
            116.95444074041006,
            121.39986677613463,
            115.36359247505749,
            104.94381213515459,
            null
           ]
          },
          {
           "type": "scatter",
           "x": [
            null,
            null
           ],
           "y": [
            null,
            null
           ]
          },
          {
           "customdata": [
            "2025-01-09 14:44:24",
            "2025-01-09 14:44:25",
            "2025-01-09 14:44:26",
            "2025-01-09 14:44:27",
            "2025-01-09 14:44:28",
            "2025-01-09 14:44:29",
            "2025-01-09 14:44:30",
            "2025-01-09 14:44:31",
            "2025-01-09 14:44:32",
            "2025-01-09 14:44:33",
            "2025-01-09 14:44:34",
            "2025-01-09 14:44:35",
            "2025-01-09 14:44:36",
            "2025-01-09 14:44:37",
            "2025-01-09 14:44:38",
            "2025-01-09 14:44:39",
            "2025-01-09 14:44:40",
            "2025-01-09 14:44:41",
            "2025-01-09 14:44:42",
            "2025-01-09 14:44:43",
            "2025-01-09 14:44:44",
            "2025-01-09 14:44:45",
            "2025-01-09 14:44:46",
            "2025-01-09 14:44:47",
            "2025-01-09 14:44:48",
            "2025-01-09 14:44:49",
            "2025-01-09 14:44:50",
            "2025-01-09 14:44:51",
            "2025-01-09 14:44:52",
            "2025-01-09 14:44:53",
            "2025-01-09 14:44:54",
            "2025-01-09 14:44:55",
            "2025-01-09 14:44:56",
            "2025-01-09 14:44:57",
            "2025-01-09 14:44:58",
            "2025-01-09 14:44:59",
            "2025-01-09 14:45:00",
            "2025-01-09 14:45:01",
            "2025-01-09 14:45:02",
            "2025-01-09 14:45:03",
            "2025-01-09 14:45:04",
            "2025-01-09 14:45:05",
            "2025-01-09 14:45:06",
            "2025-01-09 14:45:07",
            "2025-01-09 14:45:08",
            "2025-01-09 14:45:09",
            "2025-01-09 14:45:10",
            "2025-01-09 14:45:11"
           ],
           "hovertemplate": "%{meta}<br>(%{x}, %{y})<br>Time: %{customdata}",
           "meta": [
            "GaussianState",
            "GaussianStateUpdate",
            "GaussianStateUpdate",
            "GaussianStateUpdate",
            "GaussianStateUpdate",
            "GaussianStateUpdate",
            "GaussianStateUpdate",
            "GaussianStateUpdate",
            "GaussianStateUpdate",
            "GaussianStateUpdate",
            "GaussianStateUpdate",
            "GaussianStateUpdate",
            "GaussianStateUpdate",
            "GaussianStateUpdate",
            "GaussianStateUpdate",
            "GaussianStateUpdate",
            "GaussianStateUpdate",
            "GaussianStateUpdate",
            "GaussianStateUpdate",
            "GaussianStateUpdate",
            "GaussianStateUpdate",
            "GaussianStateUpdate",
            "GaussianStateUpdate",
            "GaussianStateUpdate",
            "GaussianStateUpdate",
            "GaussianStateUpdate",
            "GaussianStateUpdate",
            "GaussianStateUpdate",
            "GaussianStateUpdate",
            "GaussianStateUpdate",
            "GaussianStateUpdate",
            "GaussianStateUpdate",
            "GaussianStateUpdate",
            "GaussianStateUpdate",
            "GaussianStateUpdate",
            "GaussianStateUpdate",
            "GaussianStateUpdate",
            "GaussianStateUpdate",
            "GaussianStateUpdate",
            "GaussianStateUpdate",
            "GaussianStateUpdate",
            "GaussianStateUpdate",
            "GaussianStateUpdate",
            "GaussianStateUpdate",
            "GaussianStateUpdate",
            "GaussianStateUpdate",
            "GaussianStateUpdate",
            "GaussianStateUpdate"
           ],
           "type": "scatter",
           "x": [
            74.22014502,
            89.22992315256701,
            100.77107487718641,
            110.19651238288311,
            111.90587167496986,
            117.02210478270644,
            127.25365431551246,
            132.20295551989798,
            131.7673489167498,
            133.88777504563453,
            126.6191258457489,
            131.08148094981053,
            132.516111057558,
            121.8925776961243,
            116.22562071431086,
            107.38275445100885,
            95.64458980760368,
            69.74471675666138,
            75.19927001089755,
            54.19203036846665,
            45.51363648487457,
            45.072259760018326,
            47.482090538063524,
            6.77233631771179,
            20.79524834411984,
            15.445157612356503,
            21.53231896314162,
            26.025575840940434,
            26.757285025078122,
            23.66041685761451,
            35.53474288071501,
            47.871194426039786,
            53.287893936954404,
            49.63620707117352,
            52.36086817191487,
            68.84857818548352,
            87.748145553877,
            101.96591077299826,
            109.00354594240281,
            113.95634612885209,
            111.73781347931958,
            107.24816611181213,
            123.16337151707178,
            113.28644628551535,
            111.15108024962765,
            117.48012009015532,
            123.59126516561574,
            129.57656704463218,
            null
           ],
           "y": [
            131.1193202,
            133.65116665735812,
            112.5795863318055,
            120.62217559225633,
            124.46905075207951,
            121.1429694947251,
            106.43224124468414,
            96.32056275288147,
            86.85309014734673,
            76.36511888941192,
            71.75005913157042,
            60.23221901786741,
            52.79028295813589,
            44.12040575226839,
            39.803591413697,
            35.40793902756456,
            31.102194231631856,
            34.25564863195609,
            39.04404228034326,
            41.056373855401205,
            38.86390603690417,
            44.092185485392896,
            36.81592985718771,
            47.342101819234,
            55.33353342909058,
            72.58448252621204,
            79.44521697812957,
            82.34176023182467,
            84.73037917594036,
            96.01043950531638,
            113.37986062141945,
            121.00037436635544,
            123.66206080149924,
            124.52583539135296,
            127.8326057899675,
            132.0400577115504,
            124.8778340648076,
            119.46567942978787,
            121.60296019794413,
            118.54642149740445,
            121.4466916933425,
            121.90628394268086,
            129.1794782393062,
            119.98515418894266,
            115.63683431884036,
            118.63512914788853,
            115.16906905978105,
            105.71652013194397,
            null
           ]
          }
         ],
         "name": "2025-01-09 14:45:11",
         "traces": [
          0,
          1,
          2,
          3,
          4,
          5
         ]
        },
        {
         "data": [
          {
           "type": "scatter",
           "x": [
            0,
            0
           ],
           "y": [
            0,
            0
           ]
          },
          {
           "hovertemplate": "GroundTruthState<br>(%{x}, %{y})<br>Time: %{meta}",
           "meta": [
            "2025-01-09 14:44:24",
            "2025-01-09 14:44:25",
            "2025-01-09 14:44:26",
            "2025-01-09 14:44:27",
            "2025-01-09 14:44:28",
            "2025-01-09 14:44:29",
            "2025-01-09 14:44:30",
            "2025-01-09 14:44:31",
            "2025-01-09 14:44:32",
            "2025-01-09 14:44:33",
            "2025-01-09 14:44:34",
            "2025-01-09 14:44:35",
            "2025-01-09 14:44:36",
            "2025-01-09 14:44:37",
            "2025-01-09 14:44:38",
            "2025-01-09 14:44:39",
            "2025-01-09 14:44:40",
            "2025-01-09 14:44:41",
            "2025-01-09 14:44:42",
            "2025-01-09 14:44:43",
            "2025-01-09 14:44:44",
            "2025-01-09 14:44:45",
            "2025-01-09 14:44:46",
            "2025-01-09 14:44:47",
            "2025-01-09 14:44:48",
            "2025-01-09 14:44:49",
            "2025-01-09 14:44:50",
            "2025-01-09 14:44:51",
            "2025-01-09 14:44:52",
            "2025-01-09 14:44:53",
            "2025-01-09 14:44:54",
            "2025-01-09 14:44:55",
            "2025-01-09 14:44:56",
            "2025-01-09 14:44:57",
            "2025-01-09 14:44:58",
            "2025-01-09 14:44:59",
            "2025-01-09 14:45:00",
            "2025-01-09 14:45:01",
            "2025-01-09 14:45:02",
            "2025-01-09 14:45:03",
            "2025-01-09 14:45:04",
            "2025-01-09 14:45:05",
            "2025-01-09 14:45:06",
            "2025-01-09 14:45:07",
            "2025-01-09 14:45:08",
            "2025-01-09 14:45:09",
            "2025-01-09 14:45:10",
            "2025-01-09 14:45:11",
            "2025-01-09 14:45:12"
           ],
           "type": "scatter",
           "x": [
            74.05276584,
            87.13825267,
            96.14701585,
            108.2505623,
            112.7455582,
            117.6360986,
            125.795539,
            130.0730637,
            126.9739371,
            132.4691139,
            130.8954086,
            129.9114421,
            126.9035985,
            120.0271193,
            114.1841258,
            108.5299902,
            100.3782574,
            84.34148807,
            68.87984912,
            52.48503054,
            47.06937061,
            47.12509769,
            40.59271857,
            36.74958975,
            30.20109178,
            22.12000086,
            29.00547817,
            29.88142975,
            28.19049856,
            25.30487882,
            39.32487529,
            48.63966392,
            49.31356593,
            49.40035937,
            54.37511668,
            69.77685527,
            85.72253517,
            99.71336332,
            109.3859885,
            115.0053909,
            115.2764287,
            112.4255818,
            109.4035053,
            107.3416123,
            111.0755005,
            116.9881901,
            120.7725,
            127.0227062,
            123.8443781,
            null
           ],
           "y": [
            132.8970804,
            128.6567371,
            114.5052243,
            121.7846509,
            122.6648195,
            117.0363673,
            106.1069251,
            97.00907745,
            88.3605384,
            78.57480316,
            70.40838551,
            60.39347846,
            55.44546708,
            43.60712934,
            36.37874293,
            33.82592306,
            34.38583847,
            36.64467032,
            36.10426183,
            41.4307655,
            41.61411986,
            41.65051415,
            36.14508385,
            40.4275684,
            54.67701478,
            70.09919795,
            77.77602635,
            78.17718237,
            83.34510835,
            99.35497826,
            116.3818392,
            123.6971236,
            123.6238135,
            123.6091074,
            128.9042947,
            132.4448089,
            125.8094665,
            121.044838,
            124.31573,
            117.4327358,
            119.7933835,
            122.8188661,
            125.6874438,
            119.5411869,
            114.596615,
            118.6663965,
            113.1797612,
            103.3638665,
            91.8687814,
            null
           ]
          },
          {
           "type": "scatter",
           "x": [
            null,
            null
           ],
           "y": [
            null,
            null
           ]
          },
          {
           "hovertemplate": "Detection<br>(%{x}, %{y})<br>Time: %{meta}",
           "meta": [
            "2025-01-09 14:44:24",
            "2025-01-09 14:44:25",
            "2025-01-09 14:44:26",
            "2025-01-09 14:44:27",
            "2025-01-09 14:44:28",
            "2025-01-09 14:44:29",
            "2025-01-09 14:44:30",
            "2025-01-09 14:44:31",
            "2025-01-09 14:44:32",
            "2025-01-09 14:44:33",
            "2025-01-09 14:44:34",
            "2025-01-09 14:44:35",
            "2025-01-09 14:44:36",
            "2025-01-09 14:44:37",
            "2025-01-09 14:44:38",
            "2025-01-09 14:44:39",
            "2025-01-09 14:44:40",
            "2025-01-09 14:44:41",
            "2025-01-09 14:44:42",
            "2025-01-09 14:44:43",
            "2025-01-09 14:44:44",
            "2025-01-09 14:44:45",
            "2025-01-09 14:44:46",
            "2025-01-09 14:44:47",
            "2025-01-09 14:44:48",
            "2025-01-09 14:44:49",
            "2025-01-09 14:44:50",
            "2025-01-09 14:44:51",
            "2025-01-09 14:44:52",
            "2025-01-09 14:44:53",
            "2025-01-09 14:44:54",
            "2025-01-09 14:44:55",
            "2025-01-09 14:44:56",
            "2025-01-09 14:44:57",
            "2025-01-09 14:44:58",
            "2025-01-09 14:44:59",
            "2025-01-09 14:45:00",
            "2025-01-09 14:45:01",
            "2025-01-09 14:45:02",
            "2025-01-09 14:45:03",
            "2025-01-09 14:45:04",
            "2025-01-09 14:45:05",
            "2025-01-09 14:45:06",
            "2025-01-09 14:45:07",
            "2025-01-09 14:45:08",
            "2025-01-09 14:45:09",
            "2025-01-09 14:45:10",
            "2025-01-09 14:45:11",
            "2025-01-09 14:45:12"
           ],
           "type": "scatter",
           "x": [
            77.99730680145169,
            89.32677733462154,
            100.3230024678982,
            110.37502458622242,
            112.51475383083013,
            117.95818981683755,
            127.49727108687048,
            131.06557206113158,
            130.31479947134028,
            133.16915456245104,
            125.18674982593032,
            131.84438020286137,
            131.97892413148077,
            120.12943845523563,
            117.61152431780424,
            108.8764631767969,
            98.39310811884359,
            83.56353285390867,
            71.63086271419168,
            51.61894144676717,
            44.72473490210102,
            43.309761555780945,
            39.453101646722224,
            33.94825416303204,
            26.592306484119824,
            20.117676757592967,
            27.86328315913987,
            29.818412371677347,
            28.339235590923234,
            23.886491498899375,
            37.821208016593026,
            46.82141355769738,
            49.710302845064945,
            45.75512504937613,
            52.34633586136469,
            71.4071513287825,
            88.27031255424862,
            100.61302657985183,
            107.43882687981629,
            114.308738259601,
            112.67107445203536,
            113.4668346698057,
            112.73133837299015,
            109.97744355160103,
            108.68122485121633,
            116.08665903960714,
            121.23821700899214,
            127.81956568897866,
            123.86785686009691,
            null
           ],
           "y": [
            133.79185911959564,
            133.66752662373142,
            112.31996452768946,
            121.44620589336175,
            123.58294566179377,
            120.28822171944623,
            106.37899870804137,
            97.75519592835539,
            87.90179057607384,
            76.66498702762841,
            71.86992112076258,
            58.73394702384867,
            52.19340656745482,
            43.188573527052114,
            39.66432902283251,
            34.671520160373056,
            29.9566429174598,
            36.994277243128515,
            38.79286490665786,
            40.75479599992838,
            38.43886322319879,
            46.0125805425723,
            35.165519932401644,
            42.16608968749065,
            54.201313051889215,
            70.96433823587778,
            75.13605252987823,
            79.13496154943564,
            84.02145607462953,
            98.54386435461522,
            115.57785388927039,
            119.83703835281113,
            122.72540401457482,
            124.64391998213631,
            129.02044813611832,
            132.73322345638937,
            123.04831202531729,
            119.51355608497964,
            123.0213828008338,
            117.55832532320525,
            121.8076927607619,
            119.38372078747926,
            129.92678087541046,
            119.13886273628309,
            116.95444074041006,
            121.39986677613463,
            115.36359247505749,
            104.94381213515459,
            95.86210922338458,
            null
           ]
          },
          {
           "type": "scatter",
           "x": [
            null,
            null
           ],
           "y": [
            null,
            null
           ]
          },
          {
           "customdata": [
            "2025-01-09 14:44:24",
            "2025-01-09 14:44:25",
            "2025-01-09 14:44:26",
            "2025-01-09 14:44:27",
            "2025-01-09 14:44:28",
            "2025-01-09 14:44:29",
            "2025-01-09 14:44:30",
            "2025-01-09 14:44:31",
            "2025-01-09 14:44:32",
            "2025-01-09 14:44:33",
            "2025-01-09 14:44:34",
            "2025-01-09 14:44:35",
            "2025-01-09 14:44:36",
            "2025-01-09 14:44:37",
            "2025-01-09 14:44:38",
            "2025-01-09 14:44:39",
            "2025-01-09 14:44:40",
            "2025-01-09 14:44:41",
            "2025-01-09 14:44:42",
            "2025-01-09 14:44:43",
            "2025-01-09 14:44:44",
            "2025-01-09 14:44:45",
            "2025-01-09 14:44:46",
            "2025-01-09 14:44:47",
            "2025-01-09 14:44:48",
            "2025-01-09 14:44:49",
            "2025-01-09 14:44:50",
            "2025-01-09 14:44:51",
            "2025-01-09 14:44:52",
            "2025-01-09 14:44:53",
            "2025-01-09 14:44:54",
            "2025-01-09 14:44:55",
            "2025-01-09 14:44:56",
            "2025-01-09 14:44:57",
            "2025-01-09 14:44:58",
            "2025-01-09 14:44:59",
            "2025-01-09 14:45:00",
            "2025-01-09 14:45:01",
            "2025-01-09 14:45:02",
            "2025-01-09 14:45:03",
            "2025-01-09 14:45:04",
            "2025-01-09 14:45:05",
            "2025-01-09 14:45:06",
            "2025-01-09 14:45:07",
            "2025-01-09 14:45:08",
            "2025-01-09 14:45:09",
            "2025-01-09 14:45:10",
            "2025-01-09 14:45:11",
            "2025-01-09 14:45:12"
           ],
           "hovertemplate": "%{meta}<br>(%{x}, %{y})<br>Time: %{customdata}",
           "meta": [
            "GaussianState",
            "GaussianStateUpdate",
            "GaussianStateUpdate",
            "GaussianStateUpdate",
            "GaussianStateUpdate",
            "GaussianStateUpdate",
            "GaussianStateUpdate",
            "GaussianStateUpdate",
            "GaussianStateUpdate",
            "GaussianStateUpdate",
            "GaussianStateUpdate",
            "GaussianStateUpdate",
            "GaussianStateUpdate",
            "GaussianStateUpdate",
            "GaussianStateUpdate",
            "GaussianStateUpdate",
            "GaussianStateUpdate",
            "GaussianStateUpdate",
            "GaussianStateUpdate",
            "GaussianStateUpdate",
            "GaussianStateUpdate",
            "GaussianStateUpdate",
            "GaussianStateUpdate",
            "GaussianStateUpdate",
            "GaussianStateUpdate",
            "GaussianStateUpdate",
            "GaussianStateUpdate",
            "GaussianStateUpdate",
            "GaussianStateUpdate",
            "GaussianStateUpdate",
            "GaussianStateUpdate",
            "GaussianStateUpdate",
            "GaussianStateUpdate",
            "GaussianStateUpdate",
            "GaussianStateUpdate",
            "GaussianStateUpdate",
            "GaussianStateUpdate",
            "GaussianStateUpdate",
            "GaussianStateUpdate",
            "GaussianStateUpdate",
            "GaussianStateUpdate",
            "GaussianStateUpdate",
            "GaussianStateUpdate",
            "GaussianStateUpdate",
            "GaussianStateUpdate",
            "GaussianStateUpdate",
            "GaussianStateUpdate",
            "GaussianStateUpdate",
            "GaussianStateUpdate"
           ],
           "type": "scatter",
           "x": [
            74.22014502,
            89.22992315256701,
            100.77107487718641,
            110.19651238288311,
            111.90587167496986,
            117.02210478270644,
            127.25365431551246,
            132.20295551989798,
            131.7673489167498,
            133.88777504563453,
            126.6191258457489,
            131.08148094981053,
            132.516111057558,
            121.8925776961243,
            116.22562071431086,
            107.38275445100885,
            95.64458980760368,
            69.74471675666138,
            75.19927001089755,
            54.19203036846665,
            45.51363648487457,
            45.072259760018326,
            47.482090538063524,
            6.77233631771179,
            20.79524834411984,
            15.445157612356503,
            21.53231896314162,
            26.025575840940434,
            26.757285025078122,
            23.66041685761451,
            35.53474288071501,
            47.871194426039786,
            53.287893936954404,
            49.63620707117352,
            52.36086817191487,
            68.84857818548352,
            87.748145553877,
            101.96591077299826,
            109.00354594240281,
            113.95634612885209,
            111.73781347931958,
            107.24816611181213,
            123.16337151707178,
            113.28644628551535,
            111.15108024962765,
            117.48012009015532,
            123.59126516561574,
            129.57656704463218,
            125.729485286963,
            null
           ],
           "y": [
            131.1193202,
            133.65116665735812,
            112.5795863318055,
            120.62217559225633,
            124.46905075207951,
            121.1429694947251,
            106.43224124468414,
            96.32056275288147,
            86.85309014734673,
            76.36511888941192,
            71.75005913157042,
            60.23221901786741,
            52.79028295813589,
            44.12040575226839,
            39.803591413697,
            35.40793902756456,
            31.102194231631856,
            34.25564863195609,
            39.04404228034326,
            41.056373855401205,
            38.86390603690417,
            44.092185485392896,
            36.81592985718771,
            47.342101819234,
            55.33353342909058,
            72.58448252621204,
            79.44521697812957,
            82.34176023182467,
            84.73037917594036,
            96.01043950531638,
            113.37986062141945,
            121.00037436635544,
            123.66206080149924,
            124.52583539135296,
            127.8326057899675,
            132.0400577115504,
            124.8778340648076,
            119.46567942978787,
            121.60296019794413,
            118.54642149740445,
            121.4466916933425,
            121.90628394268086,
            129.1794782393062,
            119.98515418894266,
            115.63683431884036,
            118.63512914788853,
            115.16906905978105,
            105.71652013194397,
            95.9089562679534,
            null
           ]
          }
         ],
         "name": "2025-01-09 14:45:12",
         "traces": [
          0,
          1,
          2,
          3,
          4,
          5
         ]
        },
        {
         "data": [
          {
           "type": "scatter",
           "x": [
            0,
            0
           ],
           "y": [
            0,
            0
           ]
          },
          {
           "hovertemplate": "GroundTruthState<br>(%{x}, %{y})<br>Time: %{meta}",
           "meta": [
            "2025-01-09 14:44:24",
            "2025-01-09 14:44:25",
            "2025-01-09 14:44:26",
            "2025-01-09 14:44:27",
            "2025-01-09 14:44:28",
            "2025-01-09 14:44:29",
            "2025-01-09 14:44:30",
            "2025-01-09 14:44:31",
            "2025-01-09 14:44:32",
            "2025-01-09 14:44:33",
            "2025-01-09 14:44:34",
            "2025-01-09 14:44:35",
            "2025-01-09 14:44:36",
            "2025-01-09 14:44:37",
            "2025-01-09 14:44:38",
            "2025-01-09 14:44:39",
            "2025-01-09 14:44:40",
            "2025-01-09 14:44:41",
            "2025-01-09 14:44:42",
            "2025-01-09 14:44:43",
            "2025-01-09 14:44:44",
            "2025-01-09 14:44:45",
            "2025-01-09 14:44:46",
            "2025-01-09 14:44:47",
            "2025-01-09 14:44:48",
            "2025-01-09 14:44:49",
            "2025-01-09 14:44:50",
            "2025-01-09 14:44:51",
            "2025-01-09 14:44:52",
            "2025-01-09 14:44:53",
            "2025-01-09 14:44:54",
            "2025-01-09 14:44:55",
            "2025-01-09 14:44:56",
            "2025-01-09 14:44:57",
            "2025-01-09 14:44:58",
            "2025-01-09 14:44:59",
            "2025-01-09 14:45:00",
            "2025-01-09 14:45:01",
            "2025-01-09 14:45:02",
            "2025-01-09 14:45:03",
            "2025-01-09 14:45:04",
            "2025-01-09 14:45:05",
            "2025-01-09 14:45:06",
            "2025-01-09 14:45:07",
            "2025-01-09 14:45:08",
            "2025-01-09 14:45:09",
            "2025-01-09 14:45:10",
            "2025-01-09 14:45:11",
            "2025-01-09 14:45:12",
            "2025-01-09 14:45:13"
           ],
           "type": "scatter",
           "x": [
            74.05276584,
            87.13825267,
            96.14701585,
            108.2505623,
            112.7455582,
            117.6360986,
            125.795539,
            130.0730637,
            126.9739371,
            132.4691139,
            130.8954086,
            129.9114421,
            126.9035985,
            120.0271193,
            114.1841258,
            108.5299902,
            100.3782574,
            84.34148807,
            68.87984912,
            52.48503054,
            47.06937061,
            47.12509769,
            40.59271857,
            36.74958975,
            30.20109178,
            22.12000086,
            29.00547817,
            29.88142975,
            28.19049856,
            25.30487882,
            39.32487529,
            48.63966392,
            49.31356593,
            49.40035937,
            54.37511668,
            69.77685527,
            85.72253517,
            99.71336332,
            109.3859885,
            115.0053909,
            115.2764287,
            112.4255818,
            109.4035053,
            107.3416123,
            111.0755005,
            116.9881901,
            120.7725,
            127.0227062,
            123.8443781,
            133.4755578,
            null
           ],
           "y": [
            132.8970804,
            128.6567371,
            114.5052243,
            121.7846509,
            122.6648195,
            117.0363673,
            106.1069251,
            97.00907745,
            88.3605384,
            78.57480316,
            70.40838551,
            60.39347846,
            55.44546708,
            43.60712934,
            36.37874293,
            33.82592306,
            34.38583847,
            36.64467032,
            36.10426183,
            41.4307655,
            41.61411986,
            41.65051415,
            36.14508385,
            40.4275684,
            54.67701478,
            70.09919795,
            77.77602635,
            78.17718237,
            83.34510835,
            99.35497826,
            116.3818392,
            123.6971236,
            123.6238135,
            123.6091074,
            128.9042947,
            132.4448089,
            125.8094665,
            121.044838,
            124.31573,
            117.4327358,
            119.7933835,
            122.8188661,
            125.6874438,
            119.5411869,
            114.596615,
            118.6663965,
            113.1797612,
            103.3638665,
            91.8687814,
            84.57683953,
            null
           ]
          },
          {
           "type": "scatter",
           "x": [
            null,
            null
           ],
           "y": [
            null,
            null
           ]
          },
          {
           "hovertemplate": "Detection<br>(%{x}, %{y})<br>Time: %{meta}",
           "meta": [
            "2025-01-09 14:44:24",
            "2025-01-09 14:44:25",
            "2025-01-09 14:44:26",
            "2025-01-09 14:44:27",
            "2025-01-09 14:44:28",
            "2025-01-09 14:44:29",
            "2025-01-09 14:44:30",
            "2025-01-09 14:44:31",
            "2025-01-09 14:44:32",
            "2025-01-09 14:44:33",
            "2025-01-09 14:44:34",
            "2025-01-09 14:44:35",
            "2025-01-09 14:44:36",
            "2025-01-09 14:44:37",
            "2025-01-09 14:44:38",
            "2025-01-09 14:44:39",
            "2025-01-09 14:44:40",
            "2025-01-09 14:44:41",
            "2025-01-09 14:44:42",
            "2025-01-09 14:44:43",
            "2025-01-09 14:44:44",
            "2025-01-09 14:44:45",
            "2025-01-09 14:44:46",
            "2025-01-09 14:44:47",
            "2025-01-09 14:44:48",
            "2025-01-09 14:44:49",
            "2025-01-09 14:44:50",
            "2025-01-09 14:44:51",
            "2025-01-09 14:44:52",
            "2025-01-09 14:44:53",
            "2025-01-09 14:44:54",
            "2025-01-09 14:44:55",
            "2025-01-09 14:44:56",
            "2025-01-09 14:44:57",
            "2025-01-09 14:44:58",
            "2025-01-09 14:44:59",
            "2025-01-09 14:45:00",
            "2025-01-09 14:45:01",
            "2025-01-09 14:45:02",
            "2025-01-09 14:45:03",
            "2025-01-09 14:45:04",
            "2025-01-09 14:45:05",
            "2025-01-09 14:45:06",
            "2025-01-09 14:45:07",
            "2025-01-09 14:45:08",
            "2025-01-09 14:45:09",
            "2025-01-09 14:45:10",
            "2025-01-09 14:45:11",
            "2025-01-09 14:45:12",
            "2025-01-09 14:45:13"
           ],
           "type": "scatter",
           "x": [
            77.99730680145169,
            89.32677733462154,
            100.3230024678982,
            110.37502458622242,
            112.51475383083013,
            117.95818981683755,
            127.49727108687048,
            131.06557206113158,
            130.31479947134028,
            133.16915456245104,
            125.18674982593032,
            131.84438020286137,
            131.97892413148077,
            120.12943845523563,
            117.61152431780424,
            108.8764631767969,
            98.39310811884359,
            83.56353285390867,
            71.63086271419168,
            51.61894144676717,
            44.72473490210102,
            43.309761555780945,
            39.453101646722224,
            33.94825416303204,
            26.592306484119824,
            20.117676757592967,
            27.86328315913987,
            29.818412371677347,
            28.339235590923234,
            23.886491498899375,
            37.821208016593026,
            46.82141355769738,
            49.710302845064945,
            45.75512504937613,
            52.34633586136469,
            71.4071513287825,
            88.27031255424862,
            100.61302657985183,
            107.43882687981629,
            114.308738259601,
            112.67107445203536,
            113.4668346698057,
            112.73133837299015,
            109.97744355160103,
            108.68122485121633,
            116.08665903960714,
            121.23821700899214,
            127.81956568897866,
            123.86785686009691,
            133.75934186645205,
            null
           ],
           "y": [
            133.79185911959564,
            133.66752662373142,
            112.31996452768946,
            121.44620589336175,
            123.58294566179377,
            120.28822171944623,
            106.37899870804137,
            97.75519592835539,
            87.90179057607384,
            76.66498702762841,
            71.86992112076258,
            58.73394702384867,
            52.19340656745482,
            43.188573527052114,
            39.66432902283251,
            34.671520160373056,
            29.9566429174598,
            36.994277243128515,
            38.79286490665786,
            40.75479599992838,
            38.43886322319879,
            46.0125805425723,
            35.165519932401644,
            42.16608968749065,
            54.201313051889215,
            70.96433823587778,
            75.13605252987823,
            79.13496154943564,
            84.02145607462953,
            98.54386435461522,
            115.57785388927039,
            119.83703835281113,
            122.72540401457482,
            124.64391998213631,
            129.02044813611832,
            132.73322345638937,
            123.04831202531729,
            119.51355608497964,
            123.0213828008338,
            117.55832532320525,
            121.8076927607619,
            119.38372078747926,
            129.92678087541046,
            119.13886273628309,
            116.95444074041006,
            121.39986677613463,
            115.36359247505749,
            104.94381213515459,
            95.86210922338458,
            85.47571507289422,
            null
           ]
          },
          {
           "type": "scatter",
           "x": [
            null,
            null
           ],
           "y": [
            null,
            null
           ]
          },
          {
           "customdata": [
            "2025-01-09 14:44:24",
            "2025-01-09 14:44:25",
            "2025-01-09 14:44:26",
            "2025-01-09 14:44:27",
            "2025-01-09 14:44:28",
            "2025-01-09 14:44:29",
            "2025-01-09 14:44:30",
            "2025-01-09 14:44:31",
            "2025-01-09 14:44:32",
            "2025-01-09 14:44:33",
            "2025-01-09 14:44:34",
            "2025-01-09 14:44:35",
            "2025-01-09 14:44:36",
            "2025-01-09 14:44:37",
            "2025-01-09 14:44:38",
            "2025-01-09 14:44:39",
            "2025-01-09 14:44:40",
            "2025-01-09 14:44:41",
            "2025-01-09 14:44:42",
            "2025-01-09 14:44:43",
            "2025-01-09 14:44:44",
            "2025-01-09 14:44:45",
            "2025-01-09 14:44:46",
            "2025-01-09 14:44:47",
            "2025-01-09 14:44:48",
            "2025-01-09 14:44:49",
            "2025-01-09 14:44:50",
            "2025-01-09 14:44:51",
            "2025-01-09 14:44:52",
            "2025-01-09 14:44:53",
            "2025-01-09 14:44:54",
            "2025-01-09 14:44:55",
            "2025-01-09 14:44:56",
            "2025-01-09 14:44:57",
            "2025-01-09 14:44:58",
            "2025-01-09 14:44:59",
            "2025-01-09 14:45:00",
            "2025-01-09 14:45:01",
            "2025-01-09 14:45:02",
            "2025-01-09 14:45:03",
            "2025-01-09 14:45:04",
            "2025-01-09 14:45:05",
            "2025-01-09 14:45:06",
            "2025-01-09 14:45:07",
            "2025-01-09 14:45:08",
            "2025-01-09 14:45:09",
            "2025-01-09 14:45:10",
            "2025-01-09 14:45:11",
            "2025-01-09 14:45:12",
            "2025-01-09 14:45:13"
           ],
           "hovertemplate": "%{meta}<br>(%{x}, %{y})<br>Time: %{customdata}",
           "meta": [
            "GaussianState",
            "GaussianStateUpdate",
            "GaussianStateUpdate",
            "GaussianStateUpdate",
            "GaussianStateUpdate",
            "GaussianStateUpdate",
            "GaussianStateUpdate",
            "GaussianStateUpdate",
            "GaussianStateUpdate",
            "GaussianStateUpdate",
            "GaussianStateUpdate",
            "GaussianStateUpdate",
            "GaussianStateUpdate",
            "GaussianStateUpdate",
            "GaussianStateUpdate",
            "GaussianStateUpdate",
            "GaussianStateUpdate",
            "GaussianStateUpdate",
            "GaussianStateUpdate",
            "GaussianStateUpdate",
            "GaussianStateUpdate",
            "GaussianStateUpdate",
            "GaussianStateUpdate",
            "GaussianStateUpdate",
            "GaussianStateUpdate",
            "GaussianStateUpdate",
            "GaussianStateUpdate",
            "GaussianStateUpdate",
            "GaussianStateUpdate",
            "GaussianStateUpdate",
            "GaussianStateUpdate",
            "GaussianStateUpdate",
            "GaussianStateUpdate",
            "GaussianStateUpdate",
            "GaussianStateUpdate",
            "GaussianStateUpdate",
            "GaussianStateUpdate",
            "GaussianStateUpdate",
            "GaussianStateUpdate",
            "GaussianStateUpdate",
            "GaussianStateUpdate",
            "GaussianStateUpdate",
            "GaussianStateUpdate",
            "GaussianStateUpdate",
            "GaussianStateUpdate",
            "GaussianStateUpdate",
            "GaussianStateUpdate",
            "GaussianStateUpdate",
            "GaussianStateUpdate",
            "GaussianStateUpdate"
           ],
           "type": "scatter",
           "x": [
            74.22014502,
            89.22992315256701,
            100.77107487718641,
            110.19651238288311,
            111.90587167496986,
            117.02210478270644,
            127.25365431551246,
            132.20295551989798,
            131.7673489167498,
            133.88777504563453,
            126.6191258457489,
            131.08148094981053,
            132.516111057558,
            121.8925776961243,
            116.22562071431086,
            107.38275445100885,
            95.64458980760368,
            69.74471675666138,
            75.19927001089755,
            54.19203036846665,
            45.51363648487457,
            45.072259760018326,
            47.482090538063524,
            6.77233631771179,
            20.79524834411984,
            15.445157612356503,
            21.53231896314162,
            26.025575840940434,
            26.757285025078122,
            23.66041685761451,
            35.53474288071501,
            47.871194426039786,
            53.287893936954404,
            49.63620707117352,
            52.36086817191487,
            68.84857818548352,
            87.748145553877,
            101.96591077299826,
            109.00354594240281,
            113.95634612885209,
            111.73781347931958,
            107.24816611181213,
            123.16337151707178,
            113.28644628551535,
            111.15108024962765,
            117.48012009015532,
            123.59126516561574,
            129.57656704463218,
            125.729485286963,
            130.7379466176936,
            null
           ],
           "y": [
            131.1193202,
            133.65116665735812,
            112.5795863318055,
            120.62217559225633,
            124.46905075207951,
            121.1429694947251,
            106.43224124468414,
            96.32056275288147,
            86.85309014734673,
            76.36511888941192,
            71.75005913157042,
            60.23221901786741,
            52.79028295813589,
            44.12040575226839,
            39.803591413697,
            35.40793902756456,
            31.102194231631856,
            34.25564863195609,
            39.04404228034326,
            41.056373855401205,
            38.86390603690417,
            44.092185485392896,
            36.81592985718771,
            47.342101819234,
            55.33353342909058,
            72.58448252621204,
            79.44521697812957,
            82.34176023182467,
            84.73037917594036,
            96.01043950531638,
            113.37986062141945,
            121.00037436635544,
            123.66206080149924,
            124.52583539135296,
            127.8326057899675,
            132.0400577115504,
            124.8778340648076,
            119.46567942978787,
            121.60296019794413,
            118.54642149740445,
            121.4466916933425,
            121.90628394268086,
            129.1794782393062,
            119.98515418894266,
            115.63683431884036,
            118.63512914788853,
            115.16906905978105,
            105.71652013194397,
            95.9089562679534,
            85.55597486702071,
            null
           ]
          }
         ],
         "name": "2025-01-09 14:45:13",
         "traces": [
          0,
          1,
          2,
          3,
          4,
          5
         ]
        },
        {
         "data": [
          {
           "type": "scatter",
           "x": [
            0,
            0
           ],
           "y": [
            0,
            0
           ]
          },
          {
           "hovertemplate": "GroundTruthState<br>(%{x}, %{y})<br>Time: %{meta}",
           "meta": [
            "2025-01-09 14:44:24",
            "2025-01-09 14:44:25",
            "2025-01-09 14:44:26",
            "2025-01-09 14:44:27",
            "2025-01-09 14:44:28",
            "2025-01-09 14:44:29",
            "2025-01-09 14:44:30",
            "2025-01-09 14:44:31",
            "2025-01-09 14:44:32",
            "2025-01-09 14:44:33",
            "2025-01-09 14:44:34",
            "2025-01-09 14:44:35",
            "2025-01-09 14:44:36",
            "2025-01-09 14:44:37",
            "2025-01-09 14:44:38",
            "2025-01-09 14:44:39",
            "2025-01-09 14:44:40",
            "2025-01-09 14:44:41",
            "2025-01-09 14:44:42",
            "2025-01-09 14:44:43",
            "2025-01-09 14:44:44",
            "2025-01-09 14:44:45",
            "2025-01-09 14:44:46",
            "2025-01-09 14:44:47",
            "2025-01-09 14:44:48",
            "2025-01-09 14:44:49",
            "2025-01-09 14:44:50",
            "2025-01-09 14:44:51",
            "2025-01-09 14:44:52",
            "2025-01-09 14:44:53",
            "2025-01-09 14:44:54",
            "2025-01-09 14:44:55",
            "2025-01-09 14:44:56",
            "2025-01-09 14:44:57",
            "2025-01-09 14:44:58",
            "2025-01-09 14:44:59",
            "2025-01-09 14:45:00",
            "2025-01-09 14:45:01",
            "2025-01-09 14:45:02",
            "2025-01-09 14:45:03",
            "2025-01-09 14:45:04",
            "2025-01-09 14:45:05",
            "2025-01-09 14:45:06",
            "2025-01-09 14:45:07",
            "2025-01-09 14:45:08",
            "2025-01-09 14:45:09",
            "2025-01-09 14:45:10",
            "2025-01-09 14:45:11",
            "2025-01-09 14:45:12",
            "2025-01-09 14:45:13",
            "2025-01-09 14:45:14"
           ],
           "type": "scatter",
           "x": [
            74.05276584,
            87.13825267,
            96.14701585,
            108.2505623,
            112.7455582,
            117.6360986,
            125.795539,
            130.0730637,
            126.9739371,
            132.4691139,
            130.8954086,
            129.9114421,
            126.9035985,
            120.0271193,
            114.1841258,
            108.5299902,
            100.3782574,
            84.34148807,
            68.87984912,
            52.48503054,
            47.06937061,
            47.12509769,
            40.59271857,
            36.74958975,
            30.20109178,
            22.12000086,
            29.00547817,
            29.88142975,
            28.19049856,
            25.30487882,
            39.32487529,
            48.63966392,
            49.31356593,
            49.40035937,
            54.37511668,
            69.77685527,
            85.72253517,
            99.71336332,
            109.3859885,
            115.0053909,
            115.2764287,
            112.4255818,
            109.4035053,
            107.3416123,
            111.0755005,
            116.9881901,
            120.7725,
            127.0227062,
            123.8443781,
            133.4755578,
            130.3314501,
            null
           ],
           "y": [
            132.8970804,
            128.6567371,
            114.5052243,
            121.7846509,
            122.6648195,
            117.0363673,
            106.1069251,
            97.00907745,
            88.3605384,
            78.57480316,
            70.40838551,
            60.39347846,
            55.44546708,
            43.60712934,
            36.37874293,
            33.82592306,
            34.38583847,
            36.64467032,
            36.10426183,
            41.4307655,
            41.61411986,
            41.65051415,
            36.14508385,
            40.4275684,
            54.67701478,
            70.09919795,
            77.77602635,
            78.17718237,
            83.34510835,
            99.35497826,
            116.3818392,
            123.6971236,
            123.6238135,
            123.6091074,
            128.9042947,
            132.4448089,
            125.8094665,
            121.044838,
            124.31573,
            117.4327358,
            119.7933835,
            122.8188661,
            125.6874438,
            119.5411869,
            114.596615,
            118.6663965,
            113.1797612,
            103.3638665,
            91.8687814,
            84.57683953,
            76.61135921,
            null
           ]
          },
          {
           "type": "scatter",
           "x": [
            null,
            null
           ],
           "y": [
            null,
            null
           ]
          },
          {
           "hovertemplate": "Detection<br>(%{x}, %{y})<br>Time: %{meta}",
           "meta": [
            "2025-01-09 14:44:24",
            "2025-01-09 14:44:25",
            "2025-01-09 14:44:26",
            "2025-01-09 14:44:27",
            "2025-01-09 14:44:28",
            "2025-01-09 14:44:29",
            "2025-01-09 14:44:30",
            "2025-01-09 14:44:31",
            "2025-01-09 14:44:32",
            "2025-01-09 14:44:33",
            "2025-01-09 14:44:34",
            "2025-01-09 14:44:35",
            "2025-01-09 14:44:36",
            "2025-01-09 14:44:37",
            "2025-01-09 14:44:38",
            "2025-01-09 14:44:39",
            "2025-01-09 14:44:40",
            "2025-01-09 14:44:41",
            "2025-01-09 14:44:42",
            "2025-01-09 14:44:43",
            "2025-01-09 14:44:44",
            "2025-01-09 14:44:45",
            "2025-01-09 14:44:46",
            "2025-01-09 14:44:47",
            "2025-01-09 14:44:48",
            "2025-01-09 14:44:49",
            "2025-01-09 14:44:50",
            "2025-01-09 14:44:51",
            "2025-01-09 14:44:52",
            "2025-01-09 14:44:53",
            "2025-01-09 14:44:54",
            "2025-01-09 14:44:55",
            "2025-01-09 14:44:56",
            "2025-01-09 14:44:57",
            "2025-01-09 14:44:58",
            "2025-01-09 14:44:59",
            "2025-01-09 14:45:00",
            "2025-01-09 14:45:01",
            "2025-01-09 14:45:02",
            "2025-01-09 14:45:03",
            "2025-01-09 14:45:04",
            "2025-01-09 14:45:05",
            "2025-01-09 14:45:06",
            "2025-01-09 14:45:07",
            "2025-01-09 14:45:08",
            "2025-01-09 14:45:09",
            "2025-01-09 14:45:10",
            "2025-01-09 14:45:11",
            "2025-01-09 14:45:12",
            "2025-01-09 14:45:13",
            "2025-01-09 14:45:14"
           ],
           "type": "scatter",
           "x": [
            77.99730680145169,
            89.32677733462154,
            100.3230024678982,
            110.37502458622242,
            112.51475383083013,
            117.95818981683755,
            127.49727108687048,
            131.06557206113158,
            130.31479947134028,
            133.16915456245104,
            125.18674982593032,
            131.84438020286137,
            131.97892413148077,
            120.12943845523563,
            117.61152431780424,
            108.8764631767969,
            98.39310811884359,
            83.56353285390867,
            71.63086271419168,
            51.61894144676717,
            44.72473490210102,
            43.309761555780945,
            39.453101646722224,
            33.94825416303204,
            26.592306484119824,
            20.117676757592967,
            27.86328315913987,
            29.818412371677347,
            28.339235590923234,
            23.886491498899375,
            37.821208016593026,
            46.82141355769738,
            49.710302845064945,
            45.75512504937613,
            52.34633586136469,
            71.4071513287825,
            88.27031255424862,
            100.61302657985183,
            107.43882687981629,
            114.308738259601,
            112.67107445203536,
            113.4668346698057,
            112.73133837299015,
            109.97744355160103,
            108.68122485121633,
            116.08665903960714,
            121.23821700899214,
            127.81956568897866,
            123.86785686009691,
            133.75934186645205,
            134.54230307049392,
            null
           ],
           "y": [
            133.79185911959564,
            133.66752662373142,
            112.31996452768946,
            121.44620589336175,
            123.58294566179377,
            120.28822171944623,
            106.37899870804137,
            97.75519592835539,
            87.90179057607384,
            76.66498702762841,
            71.86992112076258,
            58.73394702384867,
            52.19340656745482,
            43.188573527052114,
            39.66432902283251,
            34.671520160373056,
            29.9566429174598,
            36.994277243128515,
            38.79286490665786,
            40.75479599992838,
            38.43886322319879,
            46.0125805425723,
            35.165519932401644,
            42.16608968749065,
            54.201313051889215,
            70.96433823587778,
            75.13605252987823,
            79.13496154943564,
            84.02145607462953,
            98.54386435461522,
            115.57785388927039,
            119.83703835281113,
            122.72540401457482,
            124.64391998213631,
            129.02044813611832,
            132.73322345638937,
            123.04831202531729,
            119.51355608497964,
            123.0213828008338,
            117.55832532320525,
            121.8076927607619,
            119.38372078747926,
            129.92678087541046,
            119.13886273628309,
            116.95444074041006,
            121.39986677613463,
            115.36359247505749,
            104.94381213515459,
            95.86210922338458,
            85.47571507289422,
            73.5976783319942,
            null
           ]
          },
          {
           "type": "scatter",
           "x": [
            null,
            null
           ],
           "y": [
            null,
            null
           ]
          },
          {
           "customdata": [
            "2025-01-09 14:44:24",
            "2025-01-09 14:44:25",
            "2025-01-09 14:44:26",
            "2025-01-09 14:44:27",
            "2025-01-09 14:44:28",
            "2025-01-09 14:44:29",
            "2025-01-09 14:44:30",
            "2025-01-09 14:44:31",
            "2025-01-09 14:44:32",
            "2025-01-09 14:44:33",
            "2025-01-09 14:44:34",
            "2025-01-09 14:44:35",
            "2025-01-09 14:44:36",
            "2025-01-09 14:44:37",
            "2025-01-09 14:44:38",
            "2025-01-09 14:44:39",
            "2025-01-09 14:44:40",
            "2025-01-09 14:44:41",
            "2025-01-09 14:44:42",
            "2025-01-09 14:44:43",
            "2025-01-09 14:44:44",
            "2025-01-09 14:44:45",
            "2025-01-09 14:44:46",
            "2025-01-09 14:44:47",
            "2025-01-09 14:44:48",
            "2025-01-09 14:44:49",
            "2025-01-09 14:44:50",
            "2025-01-09 14:44:51",
            "2025-01-09 14:44:52",
            "2025-01-09 14:44:53",
            "2025-01-09 14:44:54",
            "2025-01-09 14:44:55",
            "2025-01-09 14:44:56",
            "2025-01-09 14:44:57",
            "2025-01-09 14:44:58",
            "2025-01-09 14:44:59",
            "2025-01-09 14:45:00",
            "2025-01-09 14:45:01",
            "2025-01-09 14:45:02",
            "2025-01-09 14:45:03",
            "2025-01-09 14:45:04",
            "2025-01-09 14:45:05",
            "2025-01-09 14:45:06",
            "2025-01-09 14:45:07",
            "2025-01-09 14:45:08",
            "2025-01-09 14:45:09",
            "2025-01-09 14:45:10",
            "2025-01-09 14:45:11",
            "2025-01-09 14:45:12",
            "2025-01-09 14:45:13",
            "2025-01-09 14:45:14"
           ],
           "hovertemplate": "%{meta}<br>(%{x}, %{y})<br>Time: %{customdata}",
           "meta": [
            "GaussianState",
            "GaussianStateUpdate",
            "GaussianStateUpdate",
            "GaussianStateUpdate",
            "GaussianStateUpdate",
            "GaussianStateUpdate",
            "GaussianStateUpdate",
            "GaussianStateUpdate",
            "GaussianStateUpdate",
            "GaussianStateUpdate",
            "GaussianStateUpdate",
            "GaussianStateUpdate",
            "GaussianStateUpdate",
            "GaussianStateUpdate",
            "GaussianStateUpdate",
            "GaussianStateUpdate",
            "GaussianStateUpdate",
            "GaussianStateUpdate",
            "GaussianStateUpdate",
            "GaussianStateUpdate",
            "GaussianStateUpdate",
            "GaussianStateUpdate",
            "GaussianStateUpdate",
            "GaussianStateUpdate",
            "GaussianStateUpdate",
            "GaussianStateUpdate",
            "GaussianStateUpdate",
            "GaussianStateUpdate",
            "GaussianStateUpdate",
            "GaussianStateUpdate",
            "GaussianStateUpdate",
            "GaussianStateUpdate",
            "GaussianStateUpdate",
            "GaussianStateUpdate",
            "GaussianStateUpdate",
            "GaussianStateUpdate",
            "GaussianStateUpdate",
            "GaussianStateUpdate",
            "GaussianStateUpdate",
            "GaussianStateUpdate",
            "GaussianStateUpdate",
            "GaussianStateUpdate",
            "GaussianStateUpdate",
            "GaussianStateUpdate",
            "GaussianStateUpdate",
            "GaussianStateUpdate",
            "GaussianStateUpdate",
            "GaussianStateUpdate",
            "GaussianStateUpdate",
            "GaussianStateUpdate",
            "GaussianStateUpdate"
           ],
           "type": "scatter",
           "x": [
            74.22014502,
            89.22992315256701,
            100.77107487718641,
            110.19651238288311,
            111.90587167496986,
            117.02210478270644,
            127.25365431551246,
            132.20295551989798,
            131.7673489167498,
            133.88777504563453,
            126.6191258457489,
            131.08148094981053,
            132.516111057558,
            121.8925776961243,
            116.22562071431086,
            107.38275445100885,
            95.64458980760368,
            69.74471675666138,
            75.19927001089755,
            54.19203036846665,
            45.51363648487457,
            45.072259760018326,
            47.482090538063524,
            6.77233631771179,
            20.79524834411984,
            15.445157612356503,
            21.53231896314162,
            26.025575840940434,
            26.757285025078122,
            23.66041685761451,
            35.53474288071501,
            47.871194426039786,
            53.287893936954404,
            49.63620707117352,
            52.36086817191487,
            68.84857818548352,
            87.748145553877,
            101.96591077299826,
            109.00354594240281,
            113.95634612885209,
            111.73781347931958,
            107.24816611181213,
            123.16337151707178,
            113.28644628551535,
            111.15108024962765,
            117.48012009015532,
            123.59126516561574,
            129.57656704463218,
            125.729485286963,
            130.7379466176936,
            131.35661745250152,
            null
           ],
           "y": [
            131.1193202,
            133.65116665735812,
            112.5795863318055,
            120.62217559225633,
            124.46905075207951,
            121.1429694947251,
            106.43224124468414,
            96.32056275288147,
            86.85309014734673,
            76.36511888941192,
            71.75005913157042,
            60.23221901786741,
            52.79028295813589,
            44.12040575226839,
            39.803591413697,
            35.40793902756456,
            31.102194231631856,
            34.25564863195609,
            39.04404228034326,
            41.056373855401205,
            38.86390603690417,
            44.092185485392896,
            36.81592985718771,
            47.342101819234,
            55.33353342909058,
            72.58448252621204,
            79.44521697812957,
            82.34176023182467,
            84.73037917594036,
            96.01043950531638,
            113.37986062141945,
            121.00037436635544,
            123.66206080149924,
            124.52583539135296,
            127.8326057899675,
            132.0400577115504,
            124.8778340648076,
            119.46567942978787,
            121.60296019794413,
            118.54642149740445,
            121.4466916933425,
            121.90628394268086,
            129.1794782393062,
            119.98515418894266,
            115.63683431884036,
            118.63512914788853,
            115.16906905978105,
            105.71652013194397,
            95.9089562679534,
            85.55597486702071,
            74.21950028661138,
            null
           ]
          }
         ],
         "name": "2025-01-09 14:45:14",
         "traces": [
          0,
          1,
          2,
          3,
          4,
          5
         ]
        }
       ],
       "layout": {
        "autosize": true,
        "colorway": [
         "#EF553B",
         "#00CC96",
         "#AB63FA",
         "#FFA15A",
         "#19D3F3",
         "#FF6692",
         "#B6E880",
         "#FF97FF",
         "#FECB52"
        ],
        "height": 550,
        "sliders": [
         {
          "currentvalue": {
           "font": {
            "size": 16
           },
           "prefix": "Time: ",
           "visible": true,
           "xanchor": "right"
          },
          "len": 0.9,
          "pad": {
           "b": 10,
           "t": 50
          },
          "steps": [
           {
            "args": [
             [
              "2025-01-09 14:44:15"
             ],
             {
              "frame": {
               "duration": 1,
               "easing": "linear",
               "redraw": true
              },
              "transition": {
               "duration": 0,
               "easing": "linear"
              }
             }
            ],
            "label": "14:44:15",
            "method": "animate"
           },
           {
            "args": [
             [
              "2025-01-09 14:44:16"
             ],
             {
              "frame": {
               "duration": 1,
               "easing": "linear",
               "redraw": true
              },
              "transition": {
               "duration": 0,
               "easing": "linear"
              }
             }
            ],
            "label": "14:44:16",
            "method": "animate"
           },
           {
            "args": [
             [
              "2025-01-09 14:44:17"
             ],
             {
              "frame": {
               "duration": 1,
               "easing": "linear",
               "redraw": true
              },
              "transition": {
               "duration": 0,
               "easing": "linear"
              }
             }
            ],
            "label": "14:44:17",
            "method": "animate"
           },
           {
            "args": [
             [
              "2025-01-09 14:44:18"
             ],
             {
              "frame": {
               "duration": 1,
               "easing": "linear",
               "redraw": true
              },
              "transition": {
               "duration": 0,
               "easing": "linear"
              }
             }
            ],
            "label": "14:44:18",
            "method": "animate"
           },
           {
            "args": [
             [
              "2025-01-09 14:44:19"
             ],
             {
              "frame": {
               "duration": 1,
               "easing": "linear",
               "redraw": true
              },
              "transition": {
               "duration": 0,
               "easing": "linear"
              }
             }
            ],
            "label": "14:44:19",
            "method": "animate"
           },
           {
            "args": [
             [
              "2025-01-09 14:44:20"
             ],
             {
              "frame": {
               "duration": 1,
               "easing": "linear",
               "redraw": true
              },
              "transition": {
               "duration": 0,
               "easing": "linear"
              }
             }
            ],
            "label": "14:44:20",
            "method": "animate"
           },
           {
            "args": [
             [
              "2025-01-09 14:44:21"
             ],
             {
              "frame": {
               "duration": 1,
               "easing": "linear",
               "redraw": true
              },
              "transition": {
               "duration": 0,
               "easing": "linear"
              }
             }
            ],
            "label": "14:44:21",
            "method": "animate"
           },
           {
            "args": [
             [
              "2025-01-09 14:44:22"
             ],
             {
              "frame": {
               "duration": 1,
               "easing": "linear",
               "redraw": true
              },
              "transition": {
               "duration": 0,
               "easing": "linear"
              }
             }
            ],
            "label": "14:44:22",
            "method": "animate"
           },
           {
            "args": [
             [
              "2025-01-09 14:44:23"
             ],
             {
              "frame": {
               "duration": 1,
               "easing": "linear",
               "redraw": true
              },
              "transition": {
               "duration": 0,
               "easing": "linear"
              }
             }
            ],
            "label": "14:44:23",
            "method": "animate"
           },
           {
            "args": [
             [
              "2025-01-09 14:44:24"
             ],
             {
              "frame": {
               "duration": 1,
               "easing": "linear",
               "redraw": true
              },
              "transition": {
               "duration": 0,
               "easing": "linear"
              }
             }
            ],
            "label": "14:44:24",
            "method": "animate"
           },
           {
            "args": [
             [
              "2025-01-09 14:44:25"
             ],
             {
              "frame": {
               "duration": 1,
               "easing": "linear",
               "redraw": true
              },
              "transition": {
               "duration": 0,
               "easing": "linear"
              }
             }
            ],
            "label": "14:44:25",
            "method": "animate"
           },
           {
            "args": [
             [
              "2025-01-09 14:44:26"
             ],
             {
              "frame": {
               "duration": 1,
               "easing": "linear",
               "redraw": true
              },
              "transition": {
               "duration": 0,
               "easing": "linear"
              }
             }
            ],
            "label": "14:44:26",
            "method": "animate"
           },
           {
            "args": [
             [
              "2025-01-09 14:44:27"
             ],
             {
              "frame": {
               "duration": 1,
               "easing": "linear",
               "redraw": true
              },
              "transition": {
               "duration": 0,
               "easing": "linear"
              }
             }
            ],
            "label": "14:44:27",
            "method": "animate"
           },
           {
            "args": [
             [
              "2025-01-09 14:44:28"
             ],
             {
              "frame": {
               "duration": 1,
               "easing": "linear",
               "redraw": true
              },
              "transition": {
               "duration": 0,
               "easing": "linear"
              }
             }
            ],
            "label": "14:44:28",
            "method": "animate"
           },
           {
            "args": [
             [
              "2025-01-09 14:44:29"
             ],
             {
              "frame": {
               "duration": 1,
               "easing": "linear",
               "redraw": true
              },
              "transition": {
               "duration": 0,
               "easing": "linear"
              }
             }
            ],
            "label": "14:44:29",
            "method": "animate"
           },
           {
            "args": [
             [
              "2025-01-09 14:44:30"
             ],
             {
              "frame": {
               "duration": 1,
               "easing": "linear",
               "redraw": true
              },
              "transition": {
               "duration": 0,
               "easing": "linear"
              }
             }
            ],
            "label": "14:44:30",
            "method": "animate"
           },
           {
            "args": [
             [
              "2025-01-09 14:44:31"
             ],
             {
              "frame": {
               "duration": 1,
               "easing": "linear",
               "redraw": true
              },
              "transition": {
               "duration": 0,
               "easing": "linear"
              }
             }
            ],
            "label": "14:44:31",
            "method": "animate"
           },
           {
            "args": [
             [
              "2025-01-09 14:44:32"
             ],
             {
              "frame": {
               "duration": 1,
               "easing": "linear",
               "redraw": true
              },
              "transition": {
               "duration": 0,
               "easing": "linear"
              }
             }
            ],
            "label": "14:44:32",
            "method": "animate"
           },
           {
            "args": [
             [
              "2025-01-09 14:44:33"
             ],
             {
              "frame": {
               "duration": 1,
               "easing": "linear",
               "redraw": true
              },
              "transition": {
               "duration": 0,
               "easing": "linear"
              }
             }
            ],
            "label": "14:44:33",
            "method": "animate"
           },
           {
            "args": [
             [
              "2025-01-09 14:44:34"
             ],
             {
              "frame": {
               "duration": 1,
               "easing": "linear",
               "redraw": true
              },
              "transition": {
               "duration": 0,
               "easing": "linear"
              }
             }
            ],
            "label": "14:44:34",
            "method": "animate"
           },
           {
            "args": [
             [
              "2025-01-09 14:44:35"
             ],
             {
              "frame": {
               "duration": 1,
               "easing": "linear",
               "redraw": true
              },
              "transition": {
               "duration": 0,
               "easing": "linear"
              }
             }
            ],
            "label": "14:44:35",
            "method": "animate"
           },
           {
            "args": [
             [
              "2025-01-09 14:44:36"
             ],
             {
              "frame": {
               "duration": 1,
               "easing": "linear",
               "redraw": true
              },
              "transition": {
               "duration": 0,
               "easing": "linear"
              }
             }
            ],
            "label": "14:44:36",
            "method": "animate"
           },
           {
            "args": [
             [
              "2025-01-09 14:44:37"
             ],
             {
              "frame": {
               "duration": 1,
               "easing": "linear",
               "redraw": true
              },
              "transition": {
               "duration": 0,
               "easing": "linear"
              }
             }
            ],
            "label": "14:44:37",
            "method": "animate"
           },
           {
            "args": [
             [
              "2025-01-09 14:44:38"
             ],
             {
              "frame": {
               "duration": 1,
               "easing": "linear",
               "redraw": true
              },
              "transition": {
               "duration": 0,
               "easing": "linear"
              }
             }
            ],
            "label": "14:44:38",
            "method": "animate"
           },
           {
            "args": [
             [
              "2025-01-09 14:44:39"
             ],
             {
              "frame": {
               "duration": 1,
               "easing": "linear",
               "redraw": true
              },
              "transition": {
               "duration": 0,
               "easing": "linear"
              }
             }
            ],
            "label": "14:44:39",
            "method": "animate"
           },
           {
            "args": [
             [
              "2025-01-09 14:44:40"
             ],
             {
              "frame": {
               "duration": 1,
               "easing": "linear",
               "redraw": true
              },
              "transition": {
               "duration": 0,
               "easing": "linear"
              }
             }
            ],
            "label": "14:44:40",
            "method": "animate"
           },
           {
            "args": [
             [
              "2025-01-09 14:44:41"
             ],
             {
              "frame": {
               "duration": 1,
               "easing": "linear",
               "redraw": true
              },
              "transition": {
               "duration": 0,
               "easing": "linear"
              }
             }
            ],
            "label": "14:44:41",
            "method": "animate"
           },
           {
            "args": [
             [
              "2025-01-09 14:44:42"
             ],
             {
              "frame": {
               "duration": 1,
               "easing": "linear",
               "redraw": true
              },
              "transition": {
               "duration": 0,
               "easing": "linear"
              }
             }
            ],
            "label": "14:44:42",
            "method": "animate"
           },
           {
            "args": [
             [
              "2025-01-09 14:44:43"
             ],
             {
              "frame": {
               "duration": 1,
               "easing": "linear",
               "redraw": true
              },
              "transition": {
               "duration": 0,
               "easing": "linear"
              }
             }
            ],
            "label": "14:44:43",
            "method": "animate"
           },
           {
            "args": [
             [
              "2025-01-09 14:44:44"
             ],
             {
              "frame": {
               "duration": 1,
               "easing": "linear",
               "redraw": true
              },
              "transition": {
               "duration": 0,
               "easing": "linear"
              }
             }
            ],
            "label": "14:44:44",
            "method": "animate"
           },
           {
            "args": [
             [
              "2025-01-09 14:44:45"
             ],
             {
              "frame": {
               "duration": 1,
               "easing": "linear",
               "redraw": true
              },
              "transition": {
               "duration": 0,
               "easing": "linear"
              }
             }
            ],
            "label": "14:44:45",
            "method": "animate"
           },
           {
            "args": [
             [
              "2025-01-09 14:44:46"
             ],
             {
              "frame": {
               "duration": 1,
               "easing": "linear",
               "redraw": true
              },
              "transition": {
               "duration": 0,
               "easing": "linear"
              }
             }
            ],
            "label": "14:44:46",
            "method": "animate"
           },
           {
            "args": [
             [
              "2025-01-09 14:44:47"
             ],
             {
              "frame": {
               "duration": 1,
               "easing": "linear",
               "redraw": true
              },
              "transition": {
               "duration": 0,
               "easing": "linear"
              }
             }
            ],
            "label": "14:44:47",
            "method": "animate"
           },
           {
            "args": [
             [
              "2025-01-09 14:44:48"
             ],
             {
              "frame": {
               "duration": 1,
               "easing": "linear",
               "redraw": true
              },
              "transition": {
               "duration": 0,
               "easing": "linear"
              }
             }
            ],
            "label": "14:44:48",
            "method": "animate"
           },
           {
            "args": [
             [
              "2025-01-09 14:44:49"
             ],
             {
              "frame": {
               "duration": 1,
               "easing": "linear",
               "redraw": true
              },
              "transition": {
               "duration": 0,
               "easing": "linear"
              }
             }
            ],
            "label": "14:44:49",
            "method": "animate"
           },
           {
            "args": [
             [
              "2025-01-09 14:44:50"
             ],
             {
              "frame": {
               "duration": 1,
               "easing": "linear",
               "redraw": true
              },
              "transition": {
               "duration": 0,
               "easing": "linear"
              }
             }
            ],
            "label": "14:44:50",
            "method": "animate"
           },
           {
            "args": [
             [
              "2025-01-09 14:44:51"
             ],
             {
              "frame": {
               "duration": 1,
               "easing": "linear",
               "redraw": true
              },
              "transition": {
               "duration": 0,
               "easing": "linear"
              }
             }
            ],
            "label": "14:44:51",
            "method": "animate"
           },
           {
            "args": [
             [
              "2025-01-09 14:44:52"
             ],
             {
              "frame": {
               "duration": 1,
               "easing": "linear",
               "redraw": true
              },
              "transition": {
               "duration": 0,
               "easing": "linear"
              }
             }
            ],
            "label": "14:44:52",
            "method": "animate"
           },
           {
            "args": [
             [
              "2025-01-09 14:44:53"
             ],
             {
              "frame": {
               "duration": 1,
               "easing": "linear",
               "redraw": true
              },
              "transition": {
               "duration": 0,
               "easing": "linear"
              }
             }
            ],
            "label": "14:44:53",
            "method": "animate"
           },
           {
            "args": [
             [
              "2025-01-09 14:44:54"
             ],
             {
              "frame": {
               "duration": 1,
               "easing": "linear",
               "redraw": true
              },
              "transition": {
               "duration": 0,
               "easing": "linear"
              }
             }
            ],
            "label": "14:44:54",
            "method": "animate"
           },
           {
            "args": [
             [
              "2025-01-09 14:44:55"
             ],
             {
              "frame": {
               "duration": 1,
               "easing": "linear",
               "redraw": true
              },
              "transition": {
               "duration": 0,
               "easing": "linear"
              }
             }
            ],
            "label": "14:44:55",
            "method": "animate"
           },
           {
            "args": [
             [
              "2025-01-09 14:44:56"
             ],
             {
              "frame": {
               "duration": 1,
               "easing": "linear",
               "redraw": true
              },
              "transition": {
               "duration": 0,
               "easing": "linear"
              }
             }
            ],
            "label": "14:44:56",
            "method": "animate"
           },
           {
            "args": [
             [
              "2025-01-09 14:44:57"
             ],
             {
              "frame": {
               "duration": 1,
               "easing": "linear",
               "redraw": true
              },
              "transition": {
               "duration": 0,
               "easing": "linear"
              }
             }
            ],
            "label": "14:44:57",
            "method": "animate"
           },
           {
            "args": [
             [
              "2025-01-09 14:44:58"
             ],
             {
              "frame": {
               "duration": 1,
               "easing": "linear",
               "redraw": true
              },
              "transition": {
               "duration": 0,
               "easing": "linear"
              }
             }
            ],
            "label": "14:44:58",
            "method": "animate"
           },
           {
            "args": [
             [
              "2025-01-09 14:44:59"
             ],
             {
              "frame": {
               "duration": 1,
               "easing": "linear",
               "redraw": true
              },
              "transition": {
               "duration": 0,
               "easing": "linear"
              }
             }
            ],
            "label": "14:44:59",
            "method": "animate"
           },
           {
            "args": [
             [
              "2025-01-09 14:45:00"
             ],
             {
              "frame": {
               "duration": 1,
               "easing": "linear",
               "redraw": true
              },
              "transition": {
               "duration": 0,
               "easing": "linear"
              }
             }
            ],
            "label": "14:45:00",
            "method": "animate"
           },
           {
            "args": [
             [
              "2025-01-09 14:45:01"
             ],
             {
              "frame": {
               "duration": 1,
               "easing": "linear",
               "redraw": true
              },
              "transition": {
               "duration": 0,
               "easing": "linear"
              }
             }
            ],
            "label": "14:45:01",
            "method": "animate"
           },
           {
            "args": [
             [
              "2025-01-09 14:45:02"
             ],
             {
              "frame": {
               "duration": 1,
               "easing": "linear",
               "redraw": true
              },
              "transition": {
               "duration": 0,
               "easing": "linear"
              }
             }
            ],
            "label": "14:45:02",
            "method": "animate"
           },
           {
            "args": [
             [
              "2025-01-09 14:45:03"
             ],
             {
              "frame": {
               "duration": 1,
               "easing": "linear",
               "redraw": true
              },
              "transition": {
               "duration": 0,
               "easing": "linear"
              }
             }
            ],
            "label": "14:45:03",
            "method": "animate"
           },
           {
            "args": [
             [
              "2025-01-09 14:45:04"
             ],
             {
              "frame": {
               "duration": 1,
               "easing": "linear",
               "redraw": true
              },
              "transition": {
               "duration": 0,
               "easing": "linear"
              }
             }
            ],
            "label": "14:45:04",
            "method": "animate"
           },
           {
            "args": [
             [
              "2025-01-09 14:45:05"
             ],
             {
              "frame": {
               "duration": 1,
               "easing": "linear",
               "redraw": true
              },
              "transition": {
               "duration": 0,
               "easing": "linear"
              }
             }
            ],
            "label": "14:45:05",
            "method": "animate"
           },
           {
            "args": [
             [
              "2025-01-09 14:45:06"
             ],
             {
              "frame": {
               "duration": 1,
               "easing": "linear",
               "redraw": true
              },
              "transition": {
               "duration": 0,
               "easing": "linear"
              }
             }
            ],
            "label": "14:45:06",
            "method": "animate"
           },
           {
            "args": [
             [
              "2025-01-09 14:45:07"
             ],
             {
              "frame": {
               "duration": 1,
               "easing": "linear",
               "redraw": true
              },
              "transition": {
               "duration": 0,
               "easing": "linear"
              }
             }
            ],
            "label": "14:45:07",
            "method": "animate"
           },
           {
            "args": [
             [
              "2025-01-09 14:45:08"
             ],
             {
              "frame": {
               "duration": 1,
               "easing": "linear",
               "redraw": true
              },
              "transition": {
               "duration": 0,
               "easing": "linear"
              }
             }
            ],
            "label": "14:45:08",
            "method": "animate"
           },
           {
            "args": [
             [
              "2025-01-09 14:45:09"
             ],
             {
              "frame": {
               "duration": 1,
               "easing": "linear",
               "redraw": true
              },
              "transition": {
               "duration": 0,
               "easing": "linear"
              }
             }
            ],
            "label": "14:45:09",
            "method": "animate"
           },
           {
            "args": [
             [
              "2025-01-09 14:45:10"
             ],
             {
              "frame": {
               "duration": 1,
               "easing": "linear",
               "redraw": true
              },
              "transition": {
               "duration": 0,
               "easing": "linear"
              }
             }
            ],
            "label": "14:45:10",
            "method": "animate"
           },
           {
            "args": [
             [
              "2025-01-09 14:45:11"
             ],
             {
              "frame": {
               "duration": 1,
               "easing": "linear",
               "redraw": true
              },
              "transition": {
               "duration": 0,
               "easing": "linear"
              }
             }
            ],
            "label": "14:45:11",
            "method": "animate"
           },
           {
            "args": [
             [
              "2025-01-09 14:45:12"
             ],
             {
              "frame": {
               "duration": 1,
               "easing": "linear",
               "redraw": true
              },
              "transition": {
               "duration": 0,
               "easing": "linear"
              }
             }
            ],
            "label": "14:45:12",
            "method": "animate"
           },
           {
            "args": [
             [
              "2025-01-09 14:45:13"
             ],
             {
              "frame": {
               "duration": 1,
               "easing": "linear",
               "redraw": true
              },
              "transition": {
               "duration": 0,
               "easing": "linear"
              }
             }
            ],
            "label": "14:45:13",
            "method": "animate"
           },
           {
            "args": [
             [
              "2025-01-09 14:45:14"
             ],
             {
              "frame": {
               "duration": 1,
               "easing": "linear",
               "redraw": true
              },
              "transition": {
               "duration": 0,
               "easing": "linear"
              }
             }
            ],
            "label": "14:45:14",
            "method": "animate"
           }
          ],
          "transition": {
           "duration": 100,
           "easing": "linear"
          },
          "x": 0.1,
          "xanchor": "left",
          "y": 0,
          "yanchor": "top"
         }
        ],
        "template": {
         "data": {
          "bar": [
           {
            "error_x": {
             "color": "#2a3f5f"
            },
            "error_y": {
             "color": "#2a3f5f"
            },
            "marker": {
             "line": {
              "color": "#E5ECF6",
              "width": 0.5
             },
             "pattern": {
              "fillmode": "overlay",
              "size": 10,
              "solidity": 0.2
             }
            },
            "type": "bar"
           }
          ],
          "barpolar": [
           {
            "marker": {
             "line": {
              "color": "#E5ECF6",
              "width": 0.5
             },
             "pattern": {
              "fillmode": "overlay",
              "size": 10,
              "solidity": 0.2
             }
            },
            "type": "barpolar"
           }
          ],
          "carpet": [
           {
            "aaxis": {
             "endlinecolor": "#2a3f5f",
             "gridcolor": "white",
             "linecolor": "white",
             "minorgridcolor": "white",
             "startlinecolor": "#2a3f5f"
            },
            "baxis": {
             "endlinecolor": "#2a3f5f",
             "gridcolor": "white",
             "linecolor": "white",
             "minorgridcolor": "white",
             "startlinecolor": "#2a3f5f"
            },
            "type": "carpet"
           }
          ],
          "choropleth": [
           {
            "colorbar": {
             "outlinewidth": 0,
             "ticks": ""
            },
            "type": "choropleth"
           }
          ],
          "contour": [
           {
            "colorbar": {
             "outlinewidth": 0,
             "ticks": ""
            },
            "colorscale": [
             [
              0,
              "#0d0887"
             ],
             [
              0.1111111111111111,
              "#46039f"
             ],
             [
              0.2222222222222222,
              "#7201a8"
             ],
             [
              0.3333333333333333,
              "#9c179e"
             ],
             [
              0.4444444444444444,
              "#bd3786"
             ],
             [
              0.5555555555555556,
              "#d8576b"
             ],
             [
              0.6666666666666666,
              "#ed7953"
             ],
             [
              0.7777777777777778,
              "#fb9f3a"
             ],
             [
              0.8888888888888888,
              "#fdca26"
             ],
             [
              1,
              "#f0f921"
             ]
            ],
            "type": "contour"
           }
          ],
          "contourcarpet": [
           {
            "colorbar": {
             "outlinewidth": 0,
             "ticks": ""
            },
            "type": "contourcarpet"
           }
          ],
          "heatmap": [
           {
            "colorbar": {
             "outlinewidth": 0,
             "ticks": ""
            },
            "colorscale": [
             [
              0,
              "#0d0887"
             ],
             [
              0.1111111111111111,
              "#46039f"
             ],
             [
              0.2222222222222222,
              "#7201a8"
             ],
             [
              0.3333333333333333,
              "#9c179e"
             ],
             [
              0.4444444444444444,
              "#bd3786"
             ],
             [
              0.5555555555555556,
              "#d8576b"
             ],
             [
              0.6666666666666666,
              "#ed7953"
             ],
             [
              0.7777777777777778,
              "#fb9f3a"
             ],
             [
              0.8888888888888888,
              "#fdca26"
             ],
             [
              1,
              "#f0f921"
             ]
            ],
            "type": "heatmap"
           }
          ],
          "heatmapgl": [
           {
            "colorbar": {
             "outlinewidth": 0,
             "ticks": ""
            },
            "colorscale": [
             [
              0,
              "#0d0887"
             ],
             [
              0.1111111111111111,
              "#46039f"
             ],
             [
              0.2222222222222222,
              "#7201a8"
             ],
             [
              0.3333333333333333,
              "#9c179e"
             ],
             [
              0.4444444444444444,
              "#bd3786"
             ],
             [
              0.5555555555555556,
              "#d8576b"
             ],
             [
              0.6666666666666666,
              "#ed7953"
             ],
             [
              0.7777777777777778,
              "#fb9f3a"
             ],
             [
              0.8888888888888888,
              "#fdca26"
             ],
             [
              1,
              "#f0f921"
             ]
            ],
            "type": "heatmapgl"
           }
          ],
          "histogram": [
           {
            "marker": {
             "pattern": {
              "fillmode": "overlay",
              "size": 10,
              "solidity": 0.2
             }
            },
            "type": "histogram"
           }
          ],
          "histogram2d": [
           {
            "colorbar": {
             "outlinewidth": 0,
             "ticks": ""
            },
            "colorscale": [
             [
              0,
              "#0d0887"
             ],
             [
              0.1111111111111111,
              "#46039f"
             ],
             [
              0.2222222222222222,
              "#7201a8"
             ],
             [
              0.3333333333333333,
              "#9c179e"
             ],
             [
              0.4444444444444444,
              "#bd3786"
             ],
             [
              0.5555555555555556,
              "#d8576b"
             ],
             [
              0.6666666666666666,
              "#ed7953"
             ],
             [
              0.7777777777777778,
              "#fb9f3a"
             ],
             [
              0.8888888888888888,
              "#fdca26"
             ],
             [
              1,
              "#f0f921"
             ]
            ],
            "type": "histogram2d"
           }
          ],
          "histogram2dcontour": [
           {
            "colorbar": {
             "outlinewidth": 0,
             "ticks": ""
            },
            "colorscale": [
             [
              0,
              "#0d0887"
             ],
             [
              0.1111111111111111,
              "#46039f"
             ],
             [
              0.2222222222222222,
              "#7201a8"
             ],
             [
              0.3333333333333333,
              "#9c179e"
             ],
             [
              0.4444444444444444,
              "#bd3786"
             ],
             [
              0.5555555555555556,
              "#d8576b"
             ],
             [
              0.6666666666666666,
              "#ed7953"
             ],
             [
              0.7777777777777778,
              "#fb9f3a"
             ],
             [
              0.8888888888888888,
              "#fdca26"
             ],
             [
              1,
              "#f0f921"
             ]
            ],
            "type": "histogram2dcontour"
           }
          ],
          "mesh3d": [
           {
            "colorbar": {
             "outlinewidth": 0,
             "ticks": ""
            },
            "type": "mesh3d"
           }
          ],
          "parcoords": [
           {
            "line": {
             "colorbar": {
              "outlinewidth": 0,
              "ticks": ""
             }
            },
            "type": "parcoords"
           }
          ],
          "pie": [
           {
            "automargin": true,
            "type": "pie"
           }
          ],
          "scatter": [
           {
            "fillpattern": {
             "fillmode": "overlay",
             "size": 10,
             "solidity": 0.2
            },
            "type": "scatter"
           }
          ],
          "scatter3d": [
           {
            "line": {
             "colorbar": {
              "outlinewidth": 0,
              "ticks": ""
             }
            },
            "marker": {
             "colorbar": {
              "outlinewidth": 0,
              "ticks": ""
             }
            },
            "type": "scatter3d"
           }
          ],
          "scattercarpet": [
           {
            "marker": {
             "colorbar": {
              "outlinewidth": 0,
              "ticks": ""
             }
            },
            "type": "scattercarpet"
           }
          ],
          "scattergeo": [
           {
            "marker": {
             "colorbar": {
              "outlinewidth": 0,
              "ticks": ""
             }
            },
            "type": "scattergeo"
           }
          ],
          "scattergl": [
           {
            "marker": {
             "colorbar": {
              "outlinewidth": 0,
              "ticks": ""
             }
            },
            "type": "scattergl"
           }
          ],
          "scattermapbox": [
           {
            "marker": {
             "colorbar": {
              "outlinewidth": 0,
              "ticks": ""
             }
            },
            "type": "scattermapbox"
           }
          ],
          "scatterpolar": [
           {
            "marker": {
             "colorbar": {
              "outlinewidth": 0,
              "ticks": ""
             }
            },
            "type": "scatterpolar"
           }
          ],
          "scatterpolargl": [
           {
            "marker": {
             "colorbar": {
              "outlinewidth": 0,
              "ticks": ""
             }
            },
            "type": "scatterpolargl"
           }
          ],
          "scatterternary": [
           {
            "marker": {
             "colorbar": {
              "outlinewidth": 0,
              "ticks": ""
             }
            },
            "type": "scatterternary"
           }
          ],
          "surface": [
           {
            "colorbar": {
             "outlinewidth": 0,
             "ticks": ""
            },
            "colorscale": [
             [
              0,
              "#0d0887"
             ],
             [
              0.1111111111111111,
              "#46039f"
             ],
             [
              0.2222222222222222,
              "#7201a8"
             ],
             [
              0.3333333333333333,
              "#9c179e"
             ],
             [
              0.4444444444444444,
              "#bd3786"
             ],
             [
              0.5555555555555556,
              "#d8576b"
             ],
             [
              0.6666666666666666,
              "#ed7953"
             ],
             [
              0.7777777777777778,
              "#fb9f3a"
             ],
             [
              0.8888888888888888,
              "#fdca26"
             ],
             [
              1,
              "#f0f921"
             ]
            ],
            "type": "surface"
           }
          ],
          "table": [
           {
            "cells": {
             "fill": {
              "color": "#EBF0F8"
             },
             "line": {
              "color": "white"
             }
            },
            "header": {
             "fill": {
              "color": "#C8D4E3"
             },
             "line": {
              "color": "white"
             }
            },
            "type": "table"
           }
          ]
         },
         "layout": {
          "annotationdefaults": {
           "arrowcolor": "#2a3f5f",
           "arrowhead": 0,
           "arrowwidth": 1
          },
          "autotypenumbers": "strict",
          "coloraxis": {
           "colorbar": {
            "outlinewidth": 0,
            "ticks": ""
           }
          },
          "colorscale": {
           "diverging": [
            [
             0,
             "#8e0152"
            ],
            [
             0.1,
             "#c51b7d"
            ],
            [
             0.2,
             "#de77ae"
            ],
            [
             0.3,
             "#f1b6da"
            ],
            [
             0.4,
             "#fde0ef"
            ],
            [
             0.5,
             "#f7f7f7"
            ],
            [
             0.6,
             "#e6f5d0"
            ],
            [
             0.7,
             "#b8e186"
            ],
            [
             0.8,
             "#7fbc41"
            ],
            [
             0.9,
             "#4d9221"
            ],
            [
             1,
             "#276419"
            ]
           ],
           "sequential": [
            [
             0,
             "#0d0887"
            ],
            [
             0.1111111111111111,
             "#46039f"
            ],
            [
             0.2222222222222222,
             "#7201a8"
            ],
            [
             0.3333333333333333,
             "#9c179e"
            ],
            [
             0.4444444444444444,
             "#bd3786"
            ],
            [
             0.5555555555555556,
             "#d8576b"
            ],
            [
             0.6666666666666666,
             "#ed7953"
            ],
            [
             0.7777777777777778,
             "#fb9f3a"
            ],
            [
             0.8888888888888888,
             "#fdca26"
            ],
            [
             1,
             "#f0f921"
            ]
           ],
           "sequentialminus": [
            [
             0,
             "#0d0887"
            ],
            [
             0.1111111111111111,
             "#46039f"
            ],
            [
             0.2222222222222222,
             "#7201a8"
            ],
            [
             0.3333333333333333,
             "#9c179e"
            ],
            [
             0.4444444444444444,
             "#bd3786"
            ],
            [
             0.5555555555555556,
             "#d8576b"
            ],
            [
             0.6666666666666666,
             "#ed7953"
            ],
            [
             0.7777777777777778,
             "#fb9f3a"
            ],
            [
             0.8888888888888888,
             "#fdca26"
            ],
            [
             1,
             "#f0f921"
            ]
           ]
          },
          "colorway": [
           "#636efa",
           "#EF553B",
           "#00cc96",
           "#ab63fa",
           "#FFA15A",
           "#19d3f3",
           "#FF6692",
           "#B6E880",
           "#FF97FF",
           "#FECB52"
          ],
          "font": {
           "color": "#2a3f5f"
          },
          "geo": {
           "bgcolor": "white",
           "lakecolor": "white",
           "landcolor": "#E5ECF6",
           "showlakes": true,
           "showland": true,
           "subunitcolor": "white"
          },
          "hoverlabel": {
           "align": "left"
          },
          "hovermode": "closest",
          "mapbox": {
           "style": "light"
          },
          "paper_bgcolor": "white",
          "plot_bgcolor": "#E5ECF6",
          "polar": {
           "angularaxis": {
            "gridcolor": "white",
            "linecolor": "white",
            "ticks": ""
           },
           "bgcolor": "#E5ECF6",
           "radialaxis": {
            "gridcolor": "white",
            "linecolor": "white",
            "ticks": ""
           }
          },
          "scene": {
           "xaxis": {
            "backgroundcolor": "#E5ECF6",
            "gridcolor": "white",
            "gridwidth": 2,
            "linecolor": "white",
            "showbackground": true,
            "ticks": "",
            "zerolinecolor": "white"
           },
           "yaxis": {
            "backgroundcolor": "#E5ECF6",
            "gridcolor": "white",
            "gridwidth": 2,
            "linecolor": "white",
            "showbackground": true,
            "ticks": "",
            "zerolinecolor": "white"
           },
           "zaxis": {
            "backgroundcolor": "#E5ECF6",
            "gridcolor": "white",
            "gridwidth": 2,
            "linecolor": "white",
            "showbackground": true,
            "ticks": "",
            "zerolinecolor": "white"
           }
          },
          "shapedefaults": {
           "line": {
            "color": "#2a3f5f"
           }
          },
          "ternary": {
           "aaxis": {
            "gridcolor": "white",
            "linecolor": "white",
            "ticks": ""
           },
           "baxis": {
            "gridcolor": "white",
            "linecolor": "white",
            "ticks": ""
           },
           "bgcolor": "#E5ECF6",
           "caxis": {
            "gridcolor": "white",
            "linecolor": "white",
            "ticks": ""
           }
          },
          "title": {
           "x": 0.05
          },
          "xaxis": {
           "automargin": true,
           "gridcolor": "white",
           "linecolor": "white",
           "ticks": "",
           "title": {
            "standoff": 15
           },
           "zerolinecolor": "white",
           "zerolinewidth": 2
          },
          "yaxis": {
           "automargin": true,
           "gridcolor": "white",
           "linecolor": "white",
           "ticks": "",
           "title": {
            "standoff": 15
           },
           "zerolinecolor": "white",
           "zerolinewidth": 2
          }
         }
        },
        "updatemenus": [
         {
          "buttons": [
           {
            "args": [
             null,
             {
              "frame": {
               "duration": 100,
               "redraw": true
              },
              "fromcurrent": true,
              "transition": {
               "duration": 0
              }
             }
            ],
            "label": "Play",
            "method": "animate"
           },
           {
            "args": [
             [
              null
             ],
             {
              "frame": {
               "duration": 0,
               "redraw": true
              },
              "mode": "immediate",
              "transition": {
               "duration": 0
              }
             }
            ],
            "label": "Stop",
            "method": "animate"
           }
          ],
          "direction": "left",
          "pad": {
           "r": 10,
           "t": 75
          },
          "showactive": true,
          "type": "buttons",
          "x": 0.1,
          "xanchor": "right",
          "y": 0,
          "yanchor": "top"
         }
        ],
        "xaxis": {
         "range": [
          0.1587863512473806,
          145.6568856134644
         ],
         "title": {
          "text": "<i>x</i>"
         }
        },
        "yaxis": {
         "range": [
          28.872365193,
          137.850638267
         ],
         "title": {
          "text": "<i>y</i>"
         }
        }
       }
      }
     },
     "metadata": {},
     "output_type": "display_data"
    }
   ],
   "source": [
    "plotter.plot_tracks(track, [0, WINDOW_SIZE], track_label=\"Sliding window GP\", uncertainty=False)\n",
    "plotter.fig"
   ]
  }
 ],
 "metadata": {
  "kernelspec": {
   "display_name": "venv",
   "language": "python",
   "name": "python3"
  },
  "language_info": {
   "codemirror_mode": {
    "name": "ipython",
    "version": 3
   },
   "file_extension": ".py",
   "mimetype": "text/x-python",
   "name": "python",
   "nbconvert_exporter": "python",
   "pygments_lexer": "ipython3",
   "version": "3.11.9"
  }
 },
 "nbformat": 4,
 "nbformat_minor": 2
}
